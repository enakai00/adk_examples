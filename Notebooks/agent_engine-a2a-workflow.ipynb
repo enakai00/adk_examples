{
 "cells": [
  {
   "cell_type": "markdown",
   "id": "5ff8e11c-aecb-4983-8423-166ff704a52a",
   "metadata": {},
   "source": [
    "# Agent Engine の A2A 対応機能の利用例 (1)\n",
    "\n",
    "Agent Engine に A2A サーバーの機能がデプロイできるようになりました。\n",
    "\n",
    "たとえば、下記の記事では、Agent Engine にデプロイした ADK Agent の前段に Cloud Run を用いて A2A サーバーを用意していましたが、Agent Engine に A2A サーバーの機能も同時にデプロイできるようになります。\n",
    "\n",
    "- [A2A リモートエージェント対応のマルチエージェントシステム](https://zenn.dev/google_cloud_jp/articles/d24a22a87a84f8)\n",
    "\n",
    "このノートブックでは、上記の記事で Cloud Run にデプロイしていた A2A サーバーの機能をそのままの形で Agent Engine に移行する例を紹介します。\n",
    "\n",
    "※ この例では、A2A サーバー、および、A2A クライアントの機能は独自に実装していますが、ADK および Agent Engine が提供する A2A 対応モジュールを利用すると、より簡単に実装することもできます。"
   ]
  },
  {
   "cell_type": "markdown",
   "id": "0e4e0249-b761-4642-8d34-bd1a2d99365c",
   "metadata": {
    "jp-MarkdownHeadingCollapsed": true,
    "tags": []
   },
   "source": [
    "## パッケージインストール"
   ]
  },
  {
   "cell_type": "code",
   "execution_count": null,
   "id": "59e4bc7d-8973-4763-b842-de88f96a5ad4",
   "metadata": {
    "tags": []
   },
   "outputs": [],
   "source": [
    "%pip install --user \\\n",
    "    google-adk==1.13.0 \\\n",
    "    google-genai==1.36.0 \\\n",
    "    google-cloud-aiplatform==1.112.0 \\\n",
    "    a2a-sdk==0.3.5"
   ]
  },
  {
   "cell_type": "markdown",
   "id": "721e5f3b-f438-4064-a72f-b15e771c830d",
   "metadata": {},
   "source": [
    "カーネルを再起動します。"
   ]
  },
  {
   "cell_type": "code",
   "execution_count": 3,
   "id": "4d8c7cfa-611c-4609-aa0c-ed0e00446d91",
   "metadata": {
    "tags": []
   },
   "outputs": [],
   "source": [
    "import IPython\n",
    "app = IPython.Application.instance()\n",
    "_ = app.kernel.do_shutdown(True)"
   ]
  },
  {
   "cell_type": "markdown",
   "id": "76363f69-8a49-4672-b17d-3ce4f93c4813",
   "metadata": {
    "jp-MarkdownHeadingCollapsed": true,
    "tags": []
   },
   "source": [
    "## 事前準備"
   ]
  },
  {
   "cell_type": "code",
   "execution_count": 1,
   "id": "9fe4e2d1-f622-48f9-ab7f-56741b15ff1a",
   "metadata": {
    "tags": []
   },
   "outputs": [],
   "source": [
    "import copy, json, os, uuid\n",
    "from datetime import datetime, timezone\n",
    "import vertexai\n",
    "from vertexai import agent_engines\n",
    "\n",
    "from google.genai.types import Part, Content, HttpOptions\n",
    "from google.adk.agents.llm_agent import LlmAgent\n",
    "from google.adk.artifacts import InMemoryArtifactService\n",
    "from google.adk.memory.in_memory_memory_service import InMemoryMemoryService\n",
    "from google.adk.sessions import InMemorySessionService\n",
    "from google.adk.events import Event\n",
    "from google.adk.runners import Runner\n",
    "from google.adk.agents.callback_context import CallbackContext\n",
    "from google.adk.models import LlmResponse, LlmRequest\n",
    "from google.adk.agents.sequential_agent import SequentialAgent\n",
    "\n",
    "[PROJECT_ID] = !gcloud config list --format 'value(core.project)'\n",
    "[PROJECT_NUMBER] = !gcloud projects describe {PROJECT_ID} --format='value(projectNumber)'\n",
    "LOCATION = 'us-central1'\n",
    "\n",
    "vertexai.init(project=PROJECT_ID, location=LOCATION,\n",
    "              staging_bucket=f'gs://{PROJECT_ID}')\n",
    "\n",
    "os.environ['GOOGLE_CLOUD_PROJECT'] = PROJECT_ID\n",
    "os.environ['GOOGLE_CLOUD_LOCATION'] = LOCATION\n",
    "os.environ['GOOGLE_GENAI_USE_VERTEXAI'] = 'True'"
   ]
  },
  {
   "cell_type": "markdown",
   "id": "7699e451-05c1-4c53-9cb4-0aa00ba45661",
   "metadata": {
    "tags": []
   },
   "source": [
    "root agent をローカルで実行する簡易アプリのクラスを定義します。"
   ]
  },
  {
   "cell_type": "code",
   "execution_count": 2,
   "id": "edfe7674-7053-450d-a8f6-ddea3a325ed3",
   "metadata": {
    "tags": []
   },
   "outputs": [],
   "source": [
    "class LocalApp:\n",
    "    def __init__(self, agent, app_name='default_app', user_id='default_user'):\n",
    "        self._agent = agent\n",
    "        self._app_name = app_name\n",
    "        self._user_id = user_id\n",
    "        self._runner = Runner(\n",
    "            app_name=self._app_name,\n",
    "            agent=self._agent,\n",
    "            artifact_service=InMemoryArtifactService(),\n",
    "            session_service=InMemorySessionService(),\n",
    "            memory_service=InMemoryMemoryService(),\n",
    "        )\n",
    "        self._session = None\n",
    "        \n",
    "    async def stream(self, query):\n",
    "        if not self._session:\n",
    "            self._session = await self._runner.session_service.create_session(\n",
    "                app_name=self._app_name,\n",
    "                user_id=self._user_id,\n",
    "                session_id=uuid.uuid4().hex,\n",
    "            )\n",
    "        content = Content(role='user', parts=[Part(text=query)])\n",
    "        async_events = self._runner.run_async(\n",
    "            user_id=self._user_id,\n",
    "            session_id=self._session.id,\n",
    "            new_message=content,\n",
    "        )\n",
    "        result = []\n",
    "        async for event in async_events:\n",
    "            if DEBUG:\n",
    "                print(f'====\\n{event}\\n====')\n",
    "            if (event.content and event.content.parts):\n",
    "                response = '\\n'.join([p.text for p in event.content.parts if p.text])\n",
    "                if response:\n",
    "                    print(response)\n",
    "                    result.append(response)\n",
    "        return result"
   ]
  },
  {
   "cell_type": "markdown",
   "id": "d7297322-fd21-4c35-a58e-eaa3c80c8322",
   "metadata": {
    "jp-MarkdownHeadingCollapsed": true,
    "tags": []
   },
   "source": [
    "## リモートエージェントの定義"
   ]
  },
  {
   "cell_type": "code",
   "execution_count": 3,
   "id": "cddf19fd-41ce-46de-bbf9-5df934303f7e",
   "metadata": {
    "tags": []
   },
   "outputs": [],
   "source": [
    "instruction = '''\n",
    "あなたの役割は、記事の執筆に必要な情報を収集して調査レポートにまとめる事です。\n",
    "指定されたテーマの記事を執筆する際に参考となるトピックを５項目程度のリストにまとめます。\n",
    "後段のエージェントがこのリストに基づいて、調査レポートを作成します。\n",
    "\n",
    "* 出力形式\n",
    "日本語で出力。\n",
    "'''\n",
    "\n",
    "research_agent1 = LlmAgent(\n",
    "    name='research_agent1',\n",
    "    model='gemini-2.5-flash',\n",
    "    description='記事の執筆に必要な情報を収集してレポートにまとめるエージェント（テーマ選定）',\n",
    "    instruction=instruction,\n",
    ")"
   ]
  },
  {
   "cell_type": "code",
   "execution_count": 4,
   "id": "0dbd3abe-fcdd-4cee-a855-6eee29d76b8f",
   "metadata": {
    "tags": []
   },
   "outputs": [],
   "source": [
    "instruction = '''\n",
    "あなたの役割は、記事の執筆に必要な情報を収集して調査レポートにまとめる事です。\n",
    "前段のエージェントは、５項目程度の調査対象トピックを指定します。\n",
    "\n",
    "* 出力形式\n",
    "日本語で出力。\n",
    "調査レポートは、トピックごとに客観的情報をまとめます。各トピックについて、５文以上の長さで記述すること。\n",
    "'''\n",
    "\n",
    "research_agent2 = LlmAgent(\n",
    "    name='research_agent2',\n",
    "    model='gemini-2.5-flash',\n",
    "    description='記事の執筆に必要な情報を収集してレポートにまとめるエージェント（レポート作成）',\n",
    "    instruction=instruction,\n",
    ")"
   ]
  },
  {
   "cell_type": "code",
   "execution_count": 5,
   "id": "24ede113-b235-485a-a1bf-517c3d24fc64",
   "metadata": {
    "tags": []
   },
   "outputs": [],
   "source": [
    "instruction = '''\n",
    "あなたの役割は、特定のテーマに関する気軽な読み物記事を書くことです。\n",
    "記事の「テーマ」と、その内容に関連する「調査レポート」が与えられるので、\n",
    "調査レポートに記載の客観的事実に基づいて、信頼性のある読み物記事を書いてください。\n",
    "\n",
    "レビュアーによる修正ポイントが指摘された際は、直前に書いた記事を指摘に従って書き直してください。\n",
    "\n",
    "**出力条件**\n",
    "- トピックに関してある程度の基礎知識がある読者を前提として、数分で気軽に読める内容にしてください。\n",
    "- 比較的カジュアルで語りかける口調の文章にします。\n",
    "- 思考過程は出力せずに、最終結果だけを出力します。\n",
    "- 記事タイトルは付けないで、次の構成で出力します。各セクションタイトルは、内容に合わせてアレンジしてください。\n",
    "0. 導入：セクションタイトルを付けないで、この記事を読みたくなる導入を１〜２文にまとめます。\n",
    "1. 概要：トピックの全体像をまとめて簡単に説明します。\n",
    "2. 最新情報：特に注目したい新しい情報を取り上げます。\n",
    "3. 実践：トピックに関して、読者自身がやってみるとよさそうな事を１つ紹介します。\n",
    "4. まとめ\n",
    "\n",
    "- 各セクションのタイトルはマークダウンヘッダ ## 付けます。必要に応じて箇条書きのマークダウンを使用します。\n",
    "- それ以外のマークダウンによる装飾は行いません。\n",
    "'''\n",
    "\n",
    "writer_agent = LlmAgent(\n",
    "    name='writer_agent',\n",
    "    model='gemini-2.5-flash',\n",
    "    description='特定のテーマに関する読み物記事を書くエージェント',\n",
    "    instruction=instruction,\n",
    ")"
   ]
  },
  {
   "cell_type": "code",
   "execution_count": 6,
   "id": "6605ea7a-c43e-4bc9-9c2c-8183af4fc457",
   "metadata": {
    "tags": []
   },
   "outputs": [],
   "source": [
    "instruction = f'''\n",
    "あなたの役割は、読み物記事をレビューして、記事の条件にあった内容にするための改善コメントを与える事です。\n",
    "\n",
    "* 記事の条件\n",
    "- 記事は、はじめに４０文字程度のタイトルがあること。\n",
    "　今日から役立つ生活情報があって「すぐに読まなきゃ」と読者が感じるタイトルにすること。\n",
    "　タイトルはマークダウンヘッダ # をつけること。\n",
    "- タイトルの直後に「なぜいまこのテーマを取り上げるのか」をまとめた導入を加えて、読者にこの記事を読む動機づけを与えます。\n",
    "- 各セクションのサブタイトルには、絵文字を用いて親しみやすさを出すこと。\n",
    "- 読者が今日から実践できる具体例が３つ以上紹介されていること。\n",
    "\n",
    "* 出力形式\n",
    "- 日本語で出力。\n",
    "- はじめに、記事の良い点を説明します。\n",
    "- 次に、修正ポイントを箇条書きで出力します。\n",
    "'''\n",
    "\n",
    "review_agent = LlmAgent(\n",
    "    name='review_agent',\n",
    "    model='gemini-2.5-flash',\n",
    "    description='読み物記事をレビューするエージェント',\n",
    "    instruction=instruction,\n",
    ")"
   ]
  },
  {
   "cell_type": "markdown",
   "id": "99df7840-6847-4a15-a7f3-7bcd56febbc5",
   "metadata": {
    "jp-MarkdownHeadingCollapsed": true,
    "tags": []
   },
   "source": [
    "## Agent Engine にデプロイ"
   ]
  },
  {
   "cell_type": "code",
   "execution_count": 7,
   "id": "859dc266-6105-473a-9505-6aca1981b353",
   "metadata": {
    "tags": []
   },
   "outputs": [],
   "source": [
    "from a2a.client import ClientConfig, ClientFactory\n",
    "from a2a.server.agent_execution import AgentExecutor, RequestContext\n",
    "from a2a.server.events import EventQueue\n",
    "from a2a.server.tasks import TaskUpdater\n",
    "from a2a.types import (\n",
    "    AgentSkill,\n",
    "    Message,\n",
    "    TaskArtifactUpdateEvent,\n",
    "    TaskState,\n",
    "    TextPart,\n",
    "    UnsupportedOperationError,\n",
    ")\n",
    "from a2a.utils import new_agent_text_message\n",
    "from a2a.utils.errors import ServerError\n",
    "\n",
    "from vertexai.preview.reasoning_engines import A2aAgent\n",
    "from vertexai.preview.reasoning_engines.templates.a2a import create_agent_card"
   ]
  },
  {
   "cell_type": "markdown",
   "id": "114849fc-1bc5-428f-a469-c6bccfd3ade6",
   "metadata": {},
   "source": [
    "Agent card を生成する補助関数"
   ]
  },
  {
   "cell_type": "code",
   "execution_count": 8,
   "id": "4bd9aafe-fd21-4c4e-9ead-2c710442fe5e",
   "metadata": {
    "tags": []
   },
   "outputs": [],
   "source": [
    "def get_agent_card(agent):\n",
    "    agent_name = agent.name\n",
    "    agent_description = agent.description\n",
    "    skill = AgentSkill(\n",
    "        id=f\"{agent_name.lower().replace(' ', '_')}_skill\",\n",
    "        name=f'{agent_name}',\n",
    "        description=agent_description,\n",
    "        tags=[tag for tag in agent_name.split('_')[:-1]],\n",
    "        examples=[f'Interact with {agent_name}'],\n",
    "    )\n",
    "    return create_agent_card(\n",
    "        agent_name=agent_name,\n",
    "        description=agent_description,\n",
    "        skills=[skill],\n",
    "    )"
   ]
  },
  {
   "cell_type": "markdown",
   "id": "a8383fe8-6b29-455f-be7c-cbe8bf0d38a4",
   "metadata": {},
   "source": [
    "A2A サーバーモジュール（AgentExecutor）を生成する補助関数"
   ]
  },
  {
   "cell_type": "code",
   "execution_count": 9,
   "id": "bd0a2e2f-b5dd-4d39-b20d-0ac692ca2a5b",
   "metadata": {
    "tags": []
   },
   "outputs": [],
   "source": [
    "class AdkAgent:\n",
    "    def __init__(self, agent):\n",
    "        self.agent = agent\n",
    "        self.runner = Runner(\n",
    "            app_name=self.agent.name,\n",
    "            agent=self.agent,\n",
    "            artifact_service=InMemoryArtifactService(),\n",
    "            session_service=InMemorySessionService(),\n",
    "            memory_service=InMemoryMemoryService(),\n",
    "        )\n",
    "\n",
    "    async def stream(self, updater, user_input):\n",
    "        session_service = self.runner.session_service\n",
    "        session = await session_service.create_session(\n",
    "            app_name=self.runner.app_name,\n",
    "            user_id='default_user',\n",
    "        )\n",
    "        app_name = session.app_name\n",
    "        user_id = session.user_id\n",
    "        session_id = session.id\n",
    "\n",
    "        for event in json.loads(user_input): # past events\n",
    "            await session_service.append_event(session, Event(**event))\n",
    "  \n",
    "        events = self.runner.run_async(\n",
    "            user_id=user_id,\n",
    "            session_id=session_id,\n",
    "            # Sequential agents receive no user messages.\n",
    "            new_message=Content(role='user', parts=[Part(text='')]),\n",
    "        )\n",
    "        \n",
    "        text_parts = []        \n",
    "        async for event in events:\n",
    "            if text_parts: # not a last part\n",
    "                updater.new_agent_message(text_parts)\n",
    "            text_parts = []\n",
    "            if (event.content and event.content.parts):\n",
    "                for part in event.content.parts:\n",
    "                    if part.text:\n",
    "                        text_parts.append(TextPart(text=part.text))\n",
    "        # treat last part as an artifact\n",
    "        await updater.add_artifact(text_parts, name='responseText')\n",
    "        await session_service.delete_session(\n",
    "            app_name=app_name,\n",
    "            user_id=user_id,\n",
    "            session_id=session_id,\n",
    "        )\n",
    "\n",
    "\n",
    "class _AdkAgentExecutor(AgentExecutor):\n",
    "    def __init__(self):\n",
    "        self.adk_agent = None\n",
    "\n",
    "    def _init_agent(self):\n",
    "        pass\n",
    "\n",
    "    async def execute(self, context, event_queue):\n",
    "        if self.adk_agent is None:\n",
    "            self._init_agent()\n",
    "\n",
    "        updater = TaskUpdater(\n",
    "            event_queue,\n",
    "            context.task_id,\n",
    "            context.context_id\n",
    "        )\n",
    "        if not context.current_task:\n",
    "            await updater.submit()        \n",
    "        await updater.start_work()\n",
    "        user_input = context.get_user_input()\n",
    "        try:\n",
    "            await self.adk_agent.stream(updater, user_input)\n",
    "            await updater.complete()\n",
    "        except Exception as e:\n",
    "            await updater.update_status(\n",
    "                TaskState.failed, message=new_agent_text_message(f'Error: {e!s}')\n",
    "            )\n",
    "            raise\n",
    "\n",
    "    async def cancel(self, context, event_queue):\n",
    "        raise ServerError(error=UnsupportedOperationError())\n",
    "        \n",
    "\n",
    "def get_agent_executor_class(agent):\n",
    "    class AdkAgentExecutor(_AdkAgentExecutor):\n",
    "        def __init__(self):\n",
    "            super().__init__()\n",
    "\n",
    "        def _init_agent(self):\n",
    "            self.adk_agent = AdkAgent(agent)\n",
    "            \n",
    "    return AdkAgentExecutor"
   ]
  },
  {
   "cell_type": "markdown",
   "id": "a36eac87-94bd-4bb8-a752-adb242cec558",
   "metadata": {
    "tags": []
   },
   "source": [
    "エージェント毎に Agent card を A2A サーバーモジュールを生成して、Agent Engine にデプロイ"
   ]
  },
  {
   "cell_type": "code",
   "execution_count": 10,
   "id": "0a2cbac6-12ab-447a-b769-4fdfd9fe0dce",
   "metadata": {
    "tags": []
   },
   "outputs": [
    {
     "name": "stderr",
     "output_type": "stream",
     "text": [
      "The following requirements are missing: {'cloudpickle', 'a2a', 'pydantic'}\n",
      "The following requirements are missing: {'cloudpickle', 'a2a', 'pydantic'}\n",
      "The following requirements are missing: {'cloudpickle', 'a2a', 'pydantic'}\n",
      "The following requirements are missing: {'cloudpickle', 'a2a', 'pydantic'}\n"
     ]
    }
   ],
   "source": [
    "agents = {\n",
    "    'research_agent1_a2a': research_agent1,\n",
    "    'research_agent2_a2a': research_agent2,\n",
    "    'writer_agent_a2a': writer_agent,\n",
    "    'review_agent_a2a': review_agent,\n",
    "}\n",
    "\n",
    "deployed_agents = [agent.display_name for agent in agent_engines.list()]\n",
    "\n",
    "client = vertexai.Client(\n",
    "    project=PROJECT_ID,\n",
    "    location=LOCATION,\n",
    "    http_options=HttpOptions(\n",
    "        api_version=\"v1beta1\", base_url=f\"https://{LOCATION}-aiplatform.googleapis.com/\"\n",
    "    ),\n",
    ")\n",
    "\n",
    "for agent_name, agent in agents.items():\n",
    "    a2a_agent = A2aAgent(\n",
    "        agent_card=get_agent_card(agent),\n",
    "        agent_executor_builder=get_agent_executor_class(agent),\n",
    "    )\n",
    "    config={\n",
    "        \"display_name\": agent_name,\n",
    "        \"description\": a2a_agent.agent_card.description,\n",
    "        \"requirements\": [\n",
    "            'google-adk==1.14.1',\n",
    "            'google-genai==1.36.0',\n",
    "            'google-cloud-aiplatform==1.113.0',\n",
    "            'a2a-sdk==0.3.5'\n",
    "        ],\n",
    "        \"http_options\": {\n",
    "            \"base_url\": f\"https://{LOCATION}-aiplatform.googleapis.com\",\n",
    "            \"api_version\": \"v1beta1\",\n",
    "        },\n",
    "        \"staging_bucket\": f'gs://{PROJECT_ID}',\n",
    "    }\n",
    "\n",
    "    if not agent_name in deployed_agents:\n",
    "        remote_a2a_agent = client.agent_engines.create(\n",
    "            agent=a2a_agent,\n",
    "            config=config,\n",
    "        )\n",
    "    else:\n",
    "        resource_name = [\n",
    "            agent.resource_name for agent in agent_engines.list()\n",
    "            if agent.display_name == agent_name\n",
    "        ][0]\n",
    "        remote_a2a_agent = client.agent_engines.update(\n",
    "            name=resource_name,\n",
    "            agent=a2a_agent,\n",
    "            config=config,\n",
    "        )"
   ]
  },
  {
   "cell_type": "markdown",
   "id": "977da882-3a89-4c3f-bb7d-ada7099e94aa",
   "metadata": {
    "tags": []
   },
   "source": [
    "## プロキシーエージェントの定義"
   ]
  },
  {
   "cell_type": "markdown",
   "id": "2096d475-3968-4945-9c44-61b6d789f211",
   "metadata": {
    "tags": []
   },
   "source": [
    "コールバック関数内で A2A クライアントを用いてリモートエージェントを実行する「プロキシーエージェント」を定義します。"
   ]
  },
  {
   "cell_type": "code",
   "execution_count": 12,
   "id": "65f0df28-2691-425d-883a-e10a8997a108",
   "metadata": {
    "tags": []
   },
   "outputs": [],
   "source": [
    "from google.auth import default\n",
    "from google.auth.transport.requests import Request\n",
    "from a2a.client import ClientConfig, ClientFactory\n",
    "from a2a.types import TransportProtocol, TaskQueryParams\n",
    "import httpx\n",
    "\n",
    "def get_call_a2a_agent(agent_name):\n",
    "    remote_a2a_agent = None\n",
    "    client = vertexai.Client(\n",
    "        project=PROJECT_ID,\n",
    "        location=LOCATION,\n",
    "        http_options=HttpOptions(\n",
    "            api_version='v1beta1', base_url=f'https://{LOCATION}-aiplatform.googleapis.com/'\n",
    "        )\n",
    "    )\n",
    "    for agent in agent_engines.list():\n",
    "        if agent.display_name == agent_name:\n",
    "            config = {'http_options': {'base_url': f'https://{LOCATION}-aiplatform.googleapis.com'}}\n",
    "            remote_a2a_agent = client.agent_engines.get(\n",
    "                name=agent.resource_name,\n",
    "                config=config,\n",
    "            )\n",
    "            break\n",
    "\n",
    "    async def call_a2a_agent(\n",
    "        callback_context: CallbackContext, llm_request: LlmRequest\n",
    "    ) -> Content:\n",
    "        \n",
    "        # Prepare A2A client.\n",
    "        credentials, _ = default(scopes=['https://www.googleapis.com/auth/cloud-platform'])\n",
    "        credentials.refresh(Request())\n",
    "        factory = ClientFactory(\n",
    "            ClientConfig(\n",
    "                supported_transports=[TransportProtocol.http_json],\n",
    "                use_client_preference=True,\n",
    "                httpx_client=httpx.AsyncClient(\n",
    "                    timeout=60, # This is important.\n",
    "                    headers={\n",
    "                        'Authorization': f'Bearer {credentials.token}',\n",
    "                        'Content-Type': 'application/json',\n",
    "                    }\n",
    "                ),\n",
    "            )\n",
    "        )\n",
    "        remote_a2a_agent_card = await remote_a2a_agent.handle_authenticated_agent_card()\n",
    "        a2a_client = factory.create(remote_a2a_agent_card)\n",
    "        \n",
    "        # Convert past events into JSON serializable format.\n",
    "        events = callback_context._invocation_context.session.events\n",
    "        events = [event.model_dump() for event in events]\n",
    "        for event in events:\n",
    "            for key, item in event.items():\n",
    "                if isinstance(item, set):\n",
    "                    event[key] = list(item)\n",
    "                    \n",
    "        message_data = {\n",
    "            'messageId': str(uuid.uuid4()),\n",
    "            'role': 'user',\n",
    "            'parts': [{'kind': 'text', 'text': json.dumps(events)}],\n",
    "        }\n",
    "        response = a2a_client.send_message(message_data)\n",
    "\n",
    "        artifacts = None\n",
    "        async for chunk in response:\n",
    "            if isinstance(chunk, tuple) and len(chunk) > 0 and hasattr(chunk[0], 'artifacts'):\n",
    "                artifacts = chunk[0].artifacts\n",
    "                break\n",
    "        result = []\n",
    "        for artifact in artifacts:\n",
    "            text_messages = [part.root.text for part in artifact.parts]\n",
    "            result.append(Part(text='\\n'.join(text_messages)))\n",
    "        return LlmResponse(\n",
    "            content=Content(role='model', parts=result) \n",
    "        )\n",
    "\n",
    "    return call_a2a_agent"
   ]
  },
  {
   "cell_type": "code",
   "execution_count": 13,
   "id": "6459a855-c472-4515-8b75-e61fe74fd953",
   "metadata": {
    "tags": []
   },
   "outputs": [],
   "source": [
    "research_agent1_proxy = LlmAgent(\n",
    "    name='research_agent1',\n",
    "    model='gemini-2.5-flash', # not used\n",
    "    description='記事の執筆に必要な情報を収集してレポートにまとめるエージェント（テーマ選定）',\n",
    "    before_model_callback=get_call_a2a_agent('research_agent1_a2a'),\n",
    ")\n",
    "\n",
    "research_agent2_proxy = LlmAgent(\n",
    "    name='research_agent2',\n",
    "    model='gemini-2.5-flash', # not used\n",
    "    description='記事の執筆に必要な情報を収集してレポートにまとめるエージェント（レポート作成）',\n",
    "    before_model_callback=get_call_a2a_agent('research_agent2_a2a'),\n",
    ")\n",
    "\n",
    "writer_agent_proxy = LlmAgent(\n",
    "    name='writer_agent',\n",
    "    model='gemini-2.5-flash', # not used\n",
    "    description='特定のテーマに関する読み物記事を書くエージェント',\n",
    "    before_model_callback=get_call_a2a_agent('writer_agent_a2a'),\n",
    ")\n",
    "\n",
    "review_agent_proxy = LlmAgent(\n",
    "    name='review_agent',\n",
    "    model='gemini-2.5-flash', # not used\n",
    "    description='読み物記事をレビューするエージェント',\n",
    "    before_model_callback=get_call_a2a_agent('review_agent_a2a'),\n",
    ")"
   ]
  },
  {
   "cell_type": "markdown",
   "id": "8829a963-ba7b-4262-a166-6bf2c0a373eb",
   "metadata": {
    "tags": []
   },
   "source": [
    "## Root agent の定義"
   ]
  },
  {
   "cell_type": "markdown",
   "id": "93be3997-4dca-4388-8ebf-6fb1a1a9b5ad",
   "metadata": {},
   "source": [
    "プロキシーエージェントを取りまとめてサブエージェントにした root agent を定義します。"
   ]
  },
  {
   "cell_type": "code",
   "execution_count": 14,
   "id": "de38d4fa-77f8-4995-8526-85d4e01367c1",
   "metadata": {
    "tags": []
   },
   "outputs": [],
   "source": [
    "def get_print_agent(text):\n",
    "    def before_model_callback(\n",
    "        callback_context: CallbackContext, llm_request: LlmRequest\n",
    "    ) -> LlmResponse:\n",
    "        return LlmResponse(\n",
    "            content=Content(\n",
    "                role='model', parts=[Part(text=text)],\n",
    "            )\n",
    "        )\n",
    "    return LlmAgent(\n",
    "        name='print_agent',\n",
    "        model='gemini-2.0-flash', # not used\n",
    "        description='',\n",
    "        instruction = '',\n",
    "        before_model_callback=before_model_callback,\n",
    "    )\n",
    "\n",
    "research_agent = SequentialAgent(\n",
    "    name='research_agent',\n",
    "    sub_agents=[\n",
    "        get_print_agent('\\n---\\n## リサーチエージェントが調査レポートを作成します。\\n---\\n'),\n",
    "        get_print_agent('\\n## 調査対象のトピックを選定します。\\n'),\n",
    "        copy.deepcopy(research_agent1_proxy),\n",
    "        get_print_agent('\\n## 選定したトピックに基づいて、調査レポートを作成します。\\n'),\n",
    "        copy.deepcopy(research_agent2_proxy),\n",
    "        get_print_agent('\\n#### 調査レポートが準備できました。記事の作成に取り掛かってもよいでしょうか？\\n'),\n",
    "    ],\n",
    "    description='記事の執筆に必要な情報を収集してレポートにまとめるエージェント',\n",
    ")\n",
    "\n",
    "write_and_review_agent = SequentialAgent(\n",
    "    name='write_and_review_agent',\n",
    "    sub_agents=[\n",
    "        get_print_agent('\\n---\\n## ライターエージェントが記事を執筆します。\\n---\\n'),\n",
    "        copy.deepcopy(writer_agent_proxy),\n",
    "        get_print_agent('\\n---\\n## レビューエージェントが記事をレビューします。\\n---\\n'),\n",
    "        copy.deepcopy(review_agent_proxy),\n",
    "       get_print_agent('\\n#### レビューに基づいて記事の修正を依頼しますか？\\n'),\n",
    "    ],\n",
    "    description='記事を作成、レビューする。',\n",
    ")"
   ]
  },
  {
   "cell_type": "code",
   "execution_count": 15,
   "id": "f46502cf-a68d-4fc9-b90a-afeebe1c5847",
   "metadata": {
    "tags": []
   },
   "outputs": [],
   "source": [
    "root_agent = LlmAgent(\n",
    "    name='article_generation_flow',\n",
    "    model='gemini-2.0-flash',\n",
    "    instruction = '''\n",
    "何ができるか聞かれた場合は、以下の処理をすることをわかりやすくフレンドリーな文章にまとめて返答してください。\n",
    "\n",
    "- ユーザーが指定したテーマの記事を作成する業務フローを実行する。\n",
    "- はじめに、テーマに関する調査レポートを作成する。\n",
    "- その後、ライターエージェントとレビューエージェントが協力して、編集方針に則した記事を作成する。\n",
    "\n",
    "ユーザーが記事のテーマを指定した場合は、次のフローを実行します。\n",
    "\n",
    "1. そのテーマの記事の作成に取り掛かる旨を伝えて、research_agent に転送して、調査レポートを依頼します。\n",
    "2. ユーザー記事の作成を支持したら、write_and_review_agent に転送して、記事の作成とレビューを依頼します。\n",
    "3. ユーザーが記事の修正を希望する場合は、write_and_review_agent に転送します。\n",
    "\n",
    "**条件**\n",
    "research_agent のニックネームは、リサーチエージェント\n",
    "write_and_review_agent のネックネームは、ライターエージェントとレビューエージェント\n",
    "\n",
    "''',\n",
    "    sub_agents=[\n",
    "        copy.deepcopy(research_agent),\n",
    "        copy.deepcopy(write_and_review_agent),\n",
    "    ],\n",
    "    description='記事を作成する業務フローを実行するエージェント'\n",
    ")"
   ]
  },
  {
   "cell_type": "markdown",
   "id": "7dfbf692-6775-43e3-8328-f10b85c883ae",
   "metadata": {
    "tags": []
   },
   "source": [
    "## 実行例"
   ]
  },
  {
   "cell_type": "code",
   "execution_count": 27,
   "id": "29f0419a-4a29-4b79-8a36-61b7d6c8563a",
   "metadata": {
    "tags": []
   },
   "outputs": [
    {
     "name": "stdout",
     "output_type": "stream",
     "text": [
      "こんにちは！私は、ユーザーさんが指定したテーマで記事を作成するお手伝いをします。\n",
      "\n",
      "まず、リサーチエージェントがテーマに関する調査レポートを作成します。\n",
      "\n",
      "その後、ライターエージェントとレビューエージェントが協力して、編集方針に沿った記事を作成します。\n",
      "\n",
      "記事のテーマを指定していただければ、すぐに作成に取り掛かります！\n",
      "\n"
     ]
    }
   ],
   "source": [
    "client = LocalApp(root_agent)\n",
    "DEBUG = False\n",
    "\n",
    "query = '''\n",
    "こんにちは。何ができますか？\n",
    "'''\n",
    "result = await client.stream(query)"
   ]
  },
  {
   "cell_type": "code",
   "execution_count": 28,
   "id": "662572d8-e2c3-4843-901d-fe50e57607b4",
   "metadata": {
    "tags": []
   },
   "outputs": [
    {
     "name": "stderr",
     "output_type": "stream",
     "text": [
      "Warning: there are non-text parts in the response: ['function_call'], returning concatenated text result from text parts. Check the full candidates.content.parts accessor to get the full model response.\n"
     ]
    },
    {
     "name": "stdout",
     "output_type": "stream",
     "text": [
      "はい、「夏の節電対策」の記事作成に取り掛かります。\n",
      "\n",
      "まず、リサーチエージェントに調査レポートを依頼します。その後、記事の作成とレビューのためにライターエージェントとレビューエージェントに転送します。\n",
      "\n",
      "\n",
      "---\n",
      "## リサーチエージェントが調査レポートを作成します。\n",
      "---\n",
      "\n",
      "\n",
      "## 調査対象のトピックを選定します。\n",
      "\n",
      "「夏の節電対策」の記事作成に向けた調査レポートのためのトピック案を以下にまとめます。このトピックに基づいて、詳細な情報を収集します。\n",
      "\n",
      "---\n",
      "\n",
      "**【調査レポート トピックリスト：夏の節電対策】**\n",
      "\n",
      "1.  **夏の節電が求められる背景とメリット**:\n",
      "    *   なぜ夏に電力消費が増えるのか（エアコン使用など）。\n",
      "    *   電力需給の逼迫、電気代高騰、地球温暖化といった背景。\n",
      "    *   節電によって得られる具体的なメリット（電気代削減、CO2排出量削減、環境負荷低減など）。\n",
      "2.  **エアコンを賢く使う節電術**:\n",
      "    *   設定温度の目安と快適さを保つ工夫（扇風機・サーキュレーターの併用）。\n",
      "    *   定期的なフィルター掃除の重要性。\n",
      "    *   室外機の効率を高める対策（日よけ、周囲の片付け）。\n",
      "    *   自動運転モードの活用。\n",
      "3.  **家庭で実践できるその他の主要な節電対策**:\n",
      "    *   冷蔵庫：設定温度の見直し、開閉頻度・時間の短縮、詰め込みすぎ防止。\n",
      "    *   照明：LED照明への交換、こまめな消灯、自然光の活用。\n",
      "    *   テレビ・パソコン：画面輝度調整、省エネモードの活用、こまめな電源オフ。\n",
      "    *   待機電力の削減方法（電源タップの利用など）。\n",
      "4.  **節電をサポートする便利グッズ・サービスと住まいの工夫**:\n",
      "    *   遮熱・断熱カーテン、窓用フィルム、打ち水などの活用。\n",
      "    *   スマート家電や電力消費が見える化できるサービスの紹介。\n",
      "    *   電力会社の料金プラン見直しによる節電効果。\n",
      "    *   長期的な視点での住まいの断熱性向上。\n",
      "5.  **節電と健康・快適性の両立の注意点**:\n",
      "    *   熱中症予防の重要性と無理な節電の危険性。\n",
      "    *   高齢者や乳幼児がいる家庭での配慮事項。\n",
      "    *   体調管理と快適さを損なわないための節電のバランス。\n",
      "\n",
      "---\n",
      "\n",
      "## 選定したトピックに基づいて、調査レポートを作成します。\n",
      "\n",
      "## 調査レポート：夏の節電対策\n",
      "\n",
      "### 1. 夏の節電が求められる背景とメリット\n",
      "\n",
      "夏に節電が強く求められる背景には、主に電力需要の増加と地球環境への配慮があります。夏季は気温の上昇に伴い、エアコンの使用が不可欠となるため、家庭やオフィスでの電力消費量が年間で最も多くなる時期です。特に近年は猛暑日が増加傾向にあり、電力供給が需要に追いつかなくなる「電力需給逼迫」のリスクが高まっています。また、燃料費の高騰や為替変動などの影響で電気料金が高止まりしており、家計への負担が深刻化している点も、節電の重要性を高める要因となっています。節電によって得られるメリットは多岐にわたり、まず電気代の直接的な削減は家計を助ける大きな効果です。さらに、電力消費を抑えることは、発電時に排出される二酸化炭素（CO2）の削減に繋がり、地球温暖化対策および持続可能な社会の実現に貢献します。加えて、電力需要のピークを抑えることで、大規模な停電リスクの低減や電力供給の安定化にも寄与するという社会的なメリットも存在します。\n",
      "\n",
      "### 2. エアコンを賢く使う節電術\n",
      "\n",
      "エアコンは夏の電力消費の大部分を占めるため、その賢い使い方が節電の鍵となります。環境省は夏季の室温を28℃を目安に推奨しており、設定温度を1℃上げるだけでも約10%の節電効果が期待できるとされています。冷気を効率良く循環させるために、扇風機やサーキュレーターをエアコンと併用することは、体感温度を下げつつ快適さを保つ有効な手段です。また、エアコンのフィルターにホコリが溜まると吸気効率が低下し、無駄な電力を消費するため、2週間に一度程度の定期的な掃除を心がけることで、消費電力を5%～10%程度削減できると言われています。室外機に直射日光が当たると冷却効率が著しく落ちるため、日よけを設置したり、周囲の障害物を取り除いて通気性を確保したりする対策も有効です。多くのエアコンに搭載されている自動運転モードは、室温や湿度、人の活動量などを感知し、最も効率の良い運転を行うため、積極的に活用することで無駄な電力消費を抑えることができます。\n",
      "\n",
      "### 3. 家庭で実践できるその他の主要な節電対策\n",
      "\n",
      "エアコン以外の家電製品も、使い方を見直すことで大きな節電効果が期待できます。家庭内の消費電力の約10～15%を占める冷蔵庫は、設定温度を「強」から「中」にすることで節電に繋がり、開閉回数を減らし、食品を詰め込みすぎないことも庫内の温度上昇を防ぐ上で重要です。照明においては、不要な場所はこまめに消灯し、昼間は自然光を最大限に活用することが基本であり、白熱電球を消費電力の少ないLED照明に交換することは長期的に見て非常に効果的な節電対策となります。テレビやパソコンに関しては、画面輝度を調整したり、省エネモードを活用したりすることで電力消費を抑えることが可能です。使用しない時は主電源を切るか、コンセントから抜く習慣をつけることで、家電製品の電源を切っていても消費される待機電力の削減にも繋がり、家庭全体の消費電力の数%を節約することができます。\n",
      "\n",
      "### 4. 節電をサポートする便利グッズ・サービスと住まいの工夫\n",
      "\n",
      "節電を効果的にサポートする多様なグッズやサービス、そして住まい自体の工夫も重要です。窓からの熱の出入りは夏の室温上昇の大きな原因となるため、遮熱・断熱カーテンや窓用フィルムを活用して日差しを遮ることは室温上昇の抑制に直結します。日本の伝統的な知恵である打ち水も、気化熱を利用して周囲の温度を効果的に下げる昔ながらの有効な方法です。最近では、スマートフォンと連携して外出先から操作できるスマート家電や、電力使用量をリアルタイムで「見える化」するサービスが普及しており、これらを活用することで無駄な電力消費を抑制し、節電意識を高めることができます。また、各電力会社が提供する多様な料金プランを見直し、家庭の電力使用パターンに最適なプランへ変更することも、電気代削減に繋がる可能性があります。長期的な視点では、窓の二重サッシ化や壁・屋根の断熱材追加など、住宅の断熱性能を向上させるリフォームを行うことが、冷暖房効率を根本的に改善し、年間を通じて大幅な省エネ効果をもたらします。\n",
      "\n",
      "### 5. 節電と健康・快適性の両立の注意点\n",
      "\n",
      "夏の節電は重要ですが、過度な我慢は熱中症のリスクを高めるため、健康と快適性の両立が最優先されるべきです。特に気温や湿度が高い日は、無理せずエアコンを適切に使用し、こまめな水分補給を怠らないことが不可欠であり、室温が上がりすぎないよう注意が必要です。高齢者や乳幼児、基礎疾患を持つ方は体温調節機能が低下している場合が多いため、節電対策を行う際には室温管理に特に配慮が必要です。これらの人々がいる家庭では、快適な室温を保ちつつ、他の家電の節電や遮熱対策などを優先的に検討することが望ましいでしょう。節電目標を設定する際には、個人の健康状態や生活スタイル、住環境を考慮し、快適性を損なわない範囲で実現可能な対策を選ぶことが重要です。我慢しすぎると体調を崩すだけでなく、結果的に医療費の増加など本末転倒になる可能性もあるため、無理のない範囲での節電を心がけ、熱中症予防を最優先することが求められます。\n",
      "\n",
      "#### 調査レポートが準備できました。記事の作成に取り掛かってもよいでしょうか？\n",
      "\n"
     ]
    }
   ],
   "source": [
    "query = '''\n",
    "「夏の節電対策」をテーマに記事を作成してください。\n",
    "'''\n",
    "result = await client.stream(query)"
   ]
  },
  {
   "cell_type": "code",
   "execution_count": 29,
   "id": "db13ab12-b85d-4c1b-8359-99768c0ad721",
   "metadata": {},
   "outputs": [
    {
     "name": "stderr",
     "output_type": "stream",
     "text": [
      "Warning: there are non-text parts in the response: ['function_call'], returning concatenated text result from text parts. Check the full candidates.content.parts accessor to get the full model response.\n"
     ]
    },
    {
     "name": "stdout",
     "output_type": "stream",
     "text": [
      "承知いたしました。それでは、ライターエージェントとレビューエージェントに記事の作成を依頼します。\n",
      "\n",
      "\n",
      "---\n",
      "## ライターエージェントが記事を執筆します。\n",
      "---\n",
      "\n",
      "今年も暑い夏がやってきましたね。電気代の高騰や地球温暖化が気になる中、夏の節電は私たちの暮らしにとってますます重要になっています。\n",
      "\n",
      "## 夏の節電ってなぜ必要？その大きなメリットとは\n",
      "\n",
      "毎年夏になると、私たちの電力消費量はぐっと増えます。その大きな理由はもちろんエアコン！猛暑日が続く日本では、エアコンはもはや生活必需品ですよね。でも、その分電気代はかさむし、発電のために排出されるCO2も気になるところ。さらに、電力需要が高まりすぎると、地域によっては「電力需給逼迫」なんて言葉も耳にするようになります。\n",
      "\n",
      "でも、節電は単に電気代を安くするだけじゃないんです。\n",
      "まず、家計に優しいのは言うまでもありませんが、電力消費を抑えることは、地球温暖化の原因となるCO2の排出量を減らすことにも繋がります。つまり、私たちの未来の環境を守る一歩になるということ。さらに、電力需要のピークを抑えることで、大規模な停電のリスクを減らし、安定した電力供給にも貢献できるんです。\n",
      "\n",
      "## 最新技術で快適に！「見える化」と「最適化」の時代\n",
      "\n",
      "「節電」と聞くと、昔はひたすら「我慢」のイメージだったかもしれません。でも、今はテクノロジーの力で、もっと賢く快適に節電できる時代になっています。\n",
      "\n",
      "例えば、**スマート家電**。スマートフォンと連携して外出先からエアコンを操作したり、電力使用量をリアルタイムで「見える化」できるサービスも増えています。これらを使えば、どこでどれだけの電力が使われているかが一目瞭然！無駄な消費に気づきやすくなり、より効率的な節電に繋がります。\n",
      "\n",
      "また、意外と見落としがちなのが、ご家庭の**電力会社の料金プラン**です。ライフスタイルに合わせて最適なプランを選ぶだけで、電気代を大きく削減できる可能性があります。例えば、夜間の電気代が安いプランを選んで、夜に洗濯を回すなどの工夫もできますよね。\n",
      "\n",
      "## 今日からできる！エアコンの「賢い」使い方\n",
      "\n",
      "夏の節電の主役は何と言ってもエアコン！少しの工夫で大きな節電効果が期待できます。\n",
      "\n",
      "### 1. 設定温度は28℃を目安に、扇風機と併用！\n",
      "環境省も推奨しているように、エアコンの設定温度は28℃を目安にしましょう。たった1℃上げるだけでも約10%の節電効果があると言われています。そして、ここでポイントなのが扇風機やサーキュレーターの併用です。これらを活用して室内の空気を循環させることで、体感温度が下がり、設定温度が高めでも快適に過ごせますよ。\n",
      "\n",
      "### 2. フィルター掃除はこまめに！\n",
      "エアコンのフィルターにホコリが溜まっていると、吸い込む力が弱くなり、余計な電力を消費してしまいます。2週間に1回程度を目安にフィルターを掃除するだけで、消費電力を5～10%削減できるんです。見た目以上に効果があるので、ぜひ試してみてください。\n",
      "\n",
      "### 3. 室外機にも気配りを！\n",
      "意外と忘れがちなのが室外機です。直射日光が当たると冷却効率が落ちてしまうので、よしずや日よけで直射日光を避けてあげましょう。また、室外機の周りに物を置かないで、風通しを良くしておくことも大切です。\n",
      "\n",
      "## 健康第一！無理なく続ける節電を\n",
      "\n",
      "夏の節電はとても大切ですが、最も重要なのは私たちの健康です。特に猛暑日は、無理な節電が熱中症のリスクを高めてしまうことも。高齢の方や小さなお子さんがいるご家庭では、室温管理には特に気を配ってくださいね。\n",
      "\n",
      "節電は、あくまでも快適な生活を送るための工夫の一つです。無理なく、できることから始めて、継続していくことが大切。小さなことからでも、積み重ねれば大きな力になります。私たち一人ひとりの行動が、家計にも地球にも優しい未来へと繋がっていくはずです。\n",
      "\n",
      "---\n",
      "## レビューエージェントが記事をレビューします。\n",
      "---\n",
      "\n",
      "レビューお疲れ様です。記事を拝見いたしました。\n",
      "\n",
      "### 記事の良い点\n",
      "\n",
      "*   **節電の必要性とメリットが明確:** 夏の節電がなぜ重要なのか、そしてそれによって得られる家計や環境へのメリットが具体的に述べられており、読者が節電に取り組む動機付けになっています。\n",
      "*   **実践的なアドバイス:** エアコンの賢い使い方として、「設定温度の目安」「フィルター掃除」「室外機への配慮」という3つの具体的な行動が分かりやすく提示されており、今日からすぐに実践できる内容です。\n",
      "*   **健康への配慮:** 節電と健康の両立という重要な視点が含まれており、無理な節電の危険性についても言及されている点は素晴らしいです。\n",
      "*   **新しい視点の提示:** スマート家電や料金プランの見直しなど、現代的な節電方法にも触れられており、読者の選択肢を広げています。\n",
      "\n",
      "### 修正ポイント\n",
      "\n",
      "1.  **記事全体のタイトルを新規作成する:**\n",
      "    *   現在、記事全体のタイトルが設定されていません。「すぐに読まなきゃ」と読者が感じる、40文字程度のキャッチーなタイトルをマークダウンヘッダ `#` で記事の冒頭に設定してください。\n",
      "    *   **例:** `# 電気代爆上がりはもうイヤ！今日からできる夏の節電術【猛暑を乗り切る快適ワザ】`\n",
      "2.  **導入文を強化する:**\n",
      "    *   タイトルの直後に、「なぜいまこのテーマを取り上げるのか」を明確にし、読者にこの記事を読む強い動機付けを与える導入文を追記または修正してください。現在の冒頭文をさらに踏み込み、「読まないと損をする」と感じさせるような要素を加えることを検討してください。\n",
      "    *   **例:** (タイトル直後) `今年の夏も記録的な暑さが予想され、電気代の高騰は家計に大きな負担となっています。でもご安心ください！この記事を読めば、暑さを我慢することなく、賢く電気代を節約し、快適に夏を過ごすための具体的な方法がすぐに分かります。知っているか知らないかで大きく差が出る節電術を、今日から実践してみませんか？`\n",
      "3.  **サブタイトルに絵文字を追加する:**\n",
      "    *   すべてのサブタイトルに、内容に合った親しみやすい絵文字を追加してください。\n",
      "    *   **例:**\n",
      "        *   `## 夏の節電ってなぜ必要？その大きなメリットとは` → `## 夏の節電ってなぜ必要？その大きなメリットとは💡`\n",
      "        *   `## 最新技術で快適に！「見える化」と「最適化」の時代` → `## 最新技術で快適に！「見える化」と「最適化」の時代📱✨`\n",
      "        *   `## 今日からできる！エアコンの「賢い」使い方` → `## 今日からできる！エアコンの「賢い」使い方🌬️`\n",
      "        *   `### 1. 設定温度は28℃を目安に、扇風機と併用！` → `### 1. 設定温度は28℃を目安に、扇風機と併用！🌡️➕🌀`\n",
      "        *   `### 2. フィルター掃除はこまめに！` → `### 2. フィルター掃除はこまめに！🧼`\n",
      "        *   `### 3. 室外機にも気配りを！` → `### 3. 室外機にも気配りを！☀️`\n",
      "        *   `## 健康第一！無理なく続ける節電を` → `## 健康第一！無理なく続ける節電を💖`\n",
      "4.  **エアコン以外の具体例をさらに追加し、実践例を充実させる:**\n",
      "    *   エアコン以外の家電に関する具体的な節電術も、読者が今日から実践できる形でもう3つ以上紹介してください。調査レポートにあった「冷蔵庫」「照明」「待機電力」などから、より効果的で実践しやすいものをピックアップし、箇条書きなどで分かりやすく提示すると良いでしょう。\n",
      "    *   **例:**\n",
      "        *   冷蔵庫：設定温度を「中」に、開閉回数を減らす、詰め込みすぎない。\n",
      "        *   照明：不要な場所は消灯、LED化、自然光の活用。\n",
      "        *   待機電力：使わない電化製品はコンセントから抜く、電源タップを活用。\n",
      "        *   窓対策：遮熱カーテン、日よけなど。\n",
      "\n",
      "#### レビューに基づいて記事の修正を依頼しますか？\n",
      "\n"
     ]
    }
   ],
   "source": [
    "query = '''\n",
    "お願いします。\n",
    "'''\n",
    "result = await client.stream(query)"
   ]
  },
  {
   "cell_type": "code",
   "execution_count": 30,
   "id": "704ad0aa-f45b-4b58-9dec-1827d10d22fa",
   "metadata": {},
   "outputs": [
    {
     "name": "stderr",
     "output_type": "stream",
     "text": [
      "Warning: there are non-text parts in the response: ['function_call'], returning concatenated text result from text parts. Check the full candidates.content.parts accessor to get the full model response.\n"
     ]
    },
    {
     "name": "stdout",
     "output_type": "stream",
     "text": [
      "承知いたしました。レビューエージェントからのフィードバックに基づき、ライターエージェントに記事の修正を依頼します。\n",
      "\n",
      "\n",
      "---\n",
      "## ライターエージェントが記事を執筆します。\n",
      "---\n",
      "\n",
      "# 電気代爆上がりはもうイヤ！今日からできる夏の節電術【猛暑を乗り切る快適ワザ】\n",
      "\n",
      "今年の夏も記録的な暑さが予想され、電気代の高騰は家計に大きな負担となっています。でもご安心ください！この記事を読めば、暑さを我慢することなく、賢く電気代を節約し、快適に夏を過ごすための具体的な方法がすぐに分かります。知っているか知らないかで大きく差が出る節電術を、今日から実践してみませんか？\n",
      "\n",
      "## 夏の節電ってなぜ必要？その大きなメリットとは💡\n",
      "\n",
      "毎年夏になると、私たちの電力消費量はぐっと増えます。その大きな理由はもちろんエアコン！猛暑日が続く日本では、エアコンはもはや生活必需品ですよね。でも、その分電気代はかさむし、発電のために排出されるCO2も気になるところ。さらに、電力需要が高まりすぎると、地域によっては「電力需給逼迫」なんて言葉も耳にするようになります。\n",
      "\n",
      "でも、節電は単に電気代を安くするだけじゃないんです。\n",
      "まず、家計に優しいのは言うまでもありませんが、電力消費を抑えることは、地球温暖化の原因となるCO2の排出量を減らすことにも繋がります。つまり、私たちの未来の環境を守る一歩になるということ。さらに、電力需要のピークを抑えることで、大規模な停電のリスクを減らし、安定した電力供給にも貢献できるんです。\n",
      "\n",
      "## 最新技術で快適に！「見える化」と「最適化」の時代📱✨\n",
      "\n",
      "「節電」と聞くと、昔はひたすら「我慢」のイメージだったかもしれません。でも、今はテクノロジーの力で、もっと賢く快適に節電できる時代になっています。\n",
      "\n",
      "例えば、**スマート家電**。スマートフォンと連携して外出先からエアコンを操作したり、電力使用量をリアルタイムで「見える化」できるサービスも増えています。これらを使えば、どこでどれだけの電力が使われているかが一目瞭然！無駄な消費に気づきやすくなり、より効率的な節電に繋がります。\n",
      "\n",
      "また、意外と見落としがちなのが、ご家庭の**電力会社の料金プラン**です。ライフスタイルに合わせて最適なプランを選ぶだけで、電気代を大きく削減できる可能性があります。例えば、夜間の電気代が安いプランを選んで、夜に洗濯を回すなどの工夫もできますよね。\n",
      "\n",
      "## 今日からできる！エアコンの「賢い」使い方🌬️\n",
      "\n",
      "夏の節電の主役は何と言ってもエアコン！少しの工夫で大きな節電効果が期待できます。\n",
      "\n",
      "### 1. 設定温度は28℃を目安に、扇風機と併用！🌡️➕🌀\n",
      "環境省も推奨しているように、エアコンの設定温度は28℃を目安にしましょう。たった1℃上げるだけでも約10%の節電効果があると言われています。そして、ここでポイントなのが扇風機やサーキュレーターの併用です。これらを活用して室内の空気を循環させることで、体感温度が下がり、設定温度が高めでも快適に過ごせますよ。\n",
      "\n",
      "### 2. フィルター掃除はこまめに！🧼\n",
      "エアコンのフィルターにホコリが溜まっていると、吸い込む力が弱くなり、余計な電力を消費してしまいます。2週間に1回程度を目安にフィルターを掃除するだけで、消費電力を5～10%削減できるんです。見た目以上に効果があるので、ぜひ試してみてください。\n",
      "\n",
      "### 3. 室外機にも気配りを！☀️\n",
      "意外と忘れがちなのが室外機です。直射日光が当たると冷却効率が落ちてしまうので、よしずや日よけで直射日光を避けてあげましょう。また、室外機の周りに物を置かないで、風通しを良くしておくことも大切です。\n",
      "\n",
      "## エアコン以外も賢く！家中の節電テクニックをマスターしよう💡\n",
      "\n",
      "エアコンだけでなく、家中の家電製品やちょっとした工夫で、さらに節電効果を高めることができます。\n",
      "\n",
      "*   **冷蔵庫の賢い使い方**\n",
      "    *   **設定温度は「中」に！** 強冷やす必要がない時は、少し設定温度を上げてみましょう。\n",
      "    *   **開閉は最小限に！** 扉を開ける時間を短くし、開閉回数も減らすことで冷気の漏れを防ぎます。\n",
      "    *   **詰め込みすぎないで！** 食品を詰め込みすぎると冷気の循環が悪くなり、電気を無駄に消費します。7割程度を目安にしましょう。\n",
      "*   **照明を上手に使う**\n",
      "    *   **こまめに消灯！** 使わない部屋の照明は必ず消す習慣をつけましょう。\n",
      "    *   **LEDに交換！** 白熱電球や蛍光灯から消費電力の少ないLED照明への交換は、長期的に見て大きな節電効果があります。\n",
      "    *   **自然光を最大限に活用！** 日中はカーテンを開けて、できるだけ自然の明るさを取り入れましょう。\n",
      "*   **待機電力をカット**\n",
      "    *   **使わない時はコンセントから抜く！** テレビ、パソコン、充電器など、使っていない時も実は微量の電力を消費しています。\n",
      "    *   **省エネタップを活用！** 主電源を切れるタイプの電源タップを使えば、複数の家電の待機電力をまとめてカットできます。\n",
      "*   **窓からの熱を防ぐ工夫**\n",
      "    *   **遮熱・断熱カーテンを活用！** 厚手のカーテンや遮熱効果のあるカーテンで窓からの日差しを遮ると、室温上昇を抑えられます。\n",
      "    *   **窓用フィルムやよしず、すだれ**なども効果的です。\n",
      "\n",
      "## 健康第一！無理なく続ける節電を💖\n",
      "\n",
      "夏の節電はとても大切ですが、最も重要なのは私たちの健康です。特に猛暑日は、無理な節電が熱中症のリスクを高めてしまうことも。高齢の方や小さなお子さんがいるご家庭では、室温管理には特に気を配ってくださいね。\n",
      "\n",
      "節電は、あくまでも快適な生活を送るための工夫の一つです。無理なく、できることから始めて、継続していくことが大切。小さなことからでも、積み重ねれば大きな力になります。私たち一人ひとりの行動が、家計にも地球にも優しい未来へと繋がっていくはずです。\n",
      "\n",
      "---\n",
      "## レビューエージェントが記事をレビューします。\n",
      "---\n",
      "\n",
      "レビューお疲れ様です。修正後の記事を拝見いたしました。\n",
      "\n",
      "### 記事の良い点\n",
      "\n",
      "*   **タイトルと導入文の改善:** タイトルが非常にキャッチーで、読者の関心を惹きつけ、「電気代爆上がりはもうイヤ！」という共感を呼ぶ言葉が使われています。直後の導入文も「今年の夏も記録的な暑さが予想され、電気代の高騰は家計に大きな負担となっています。でもご安心ください！」と、読者が記事を読むべき明確な動機付けを与える素晴らしい内容になっています。\n",
      "*   **絵文字の活用による親しみやすさ:** すべてのサブタイトルに絵文字が追加され、記事全体がより親しみやすく、読みやすい雰囲気になりました。各セクションのテーマが絵文字で直感的に伝わるのも良い点です。\n",
      "*   **実践的な具体例の充実:** 前回のレビューで指摘したエアコン以外の節電術が、「エアコン以外も賢く！家中の節電テクニックをマスターしよう💡」という新しいセクションにまとめられ、冷蔵庫、照明、待機電力、窓対策と多岐にわたる具体的な実践例が豊富に紹介されています。これにより、読者が今日からすぐに実行できるアクションが増え、記事の価値が大きく向上しました。\n",
      "*   **健康への配慮の維持:** 節電と健康の両立という重要なメッセージがしっかりと残されており、無理のない節電を促す配慮がされています。\n",
      "\n",
      "今回の修正で、提示された条件をすべて満たし、読者にとって非常に役立つ魅力的な記事になったと思います。\n",
      "\n",
      "### 修正ポイント\n",
      "\n",
      "特になし。このままで素晴らしい記事です。\n",
      "\n",
      "#### レビューに基づいて記事の修正を依頼しますか？\n",
      "\n"
     ]
    }
   ],
   "source": [
    "query = '''\n",
    "お願いします。\n",
    "'''\n",
    "result = await client.stream(query)"
   ]
  },
  {
   "cell_type": "code",
   "execution_count": 31,
   "id": "61580fcf-d64e-4037-a7b9-3b3d9e2a8f63",
   "metadata": {},
   "outputs": [
    {
     "name": "stdout",
     "output_type": "stream",
     "text": [
      "# 電気代爆上がりはもうイヤ！今日からできる夏の節電術【猛暑を乗り切る快適ワザ】\n",
      "\n",
      "今年の夏も記録的な暑さが予想され、電気代の高騰は家計に大きな負担となっています。でもご安心ください！この記事を読めば、暑さを我慢することなく、賢く電気代を節約し、快適に夏を過ごすための具体的な方法がすぐに分かります。知っているか知らないかで大きく差が出る節電術を、今日から実践してみませんか？\n",
      "\n",
      "## 夏の節電ってなぜ必要？その大きなメリットとは💡\n",
      "\n",
      "毎年夏になると、私たちの電力消費量はぐっと増えます。その大きな理由はもちろんエアコン！猛暑日が続く日本では、エアコンはもはや生活必需品ですよね。でも、その分電気代はかさむし、発電のために排出されるCO2も気になるところ。さらに、電力需要が高まりすぎると、地域によっては「電力需給逼迫」なんて言葉も耳にするようになります。\n",
      "\n",
      "でも、節電は単に電気代を安くするだけじゃないんです。\n",
      "まず、家計に優しいのは言うまでもありませんが、電力消費を抑えることは、地球温暖化の原因となるCO2の排出量を減らすことにも繋がります。つまり、私たちの未来の環境を守る一歩になるということ。さらに、電力需要のピークを抑えることで、大規模な停電のリスクを減らし、安定した電力供給にも貢献できるんです。\n",
      "\n",
      "## 最新技術で快適に！「見える化」と「最適化」の時代📱✨\n",
      "\n",
      "「節電」と聞くと、昔はひたすら「我慢」のイメージだったかもしれません。でも、今はテクノロジーの力で、もっと賢く快適に節電できる時代になっています。\n",
      "\n",
      "例えば、**スマート家電**。スマートフォンと連携して外出先からエアコンを操作したり、電力使用量をリアルタイムで「見える化」できるサービスも増えています。これらを使えば、どこでどれだけの電力が使われているかが一目瞭然！無駄な消費に気づきやすくなり、より効率的な節電に繋がります。\n",
      "\n",
      "また、意外と見落としがちなのが、ご家庭の**電力会社の料金プラン**です。ライフスタイルに合わせて最適なプランを選ぶだけで、電気代を大きく削減できる可能性があります。例えば、夜間の電気代が安いプランを選んで、夜に洗濯を回すなどの工夫もできますよね。\n",
      "\n",
      "## 今日からできる！エアコンの「賢い」使い方🌬️\n",
      "\n",
      "夏の節電の主役は何と言ってもエアコン！少しの工夫で大きな節電効果が期待できます。\n",
      "\n",
      "### 1. 設定温度は28℃を目安に、扇風機と併用！🌡️➕🌀\n",
      "環境省も推奨しているように、エアコンの設定温度は28℃を目安にしましょう。たった1℃上げるだけでも約10%の節電効果があると言われています。そして、ここでポイントなのが扇風機やサーキュレーターの併用です。これらを活用して室内の空気を循環させることで、体感温度が下がり、設定温度が高めでも快適に過ごせますよ。\n",
      "\n",
      "### 2. フィルター掃除はこまめに！🧼\n",
      "エアコンのフィルターにホコリが溜まっていると、吸い込む力が弱くなり、余計な電力を消費してしまいます。2週間に1回程度を目安にフィルターを掃除するだけで、消費電力を5～10%削減できるんです。見た目以上に効果があるので、ぜひ試してみてください。\n",
      "\n",
      "### 3. 室外機にも気配りを！☀️\n",
      "意外と忘れがちなのが室外機です。直射日光が当たると冷却効率が落ちてしまうので、よしずや日よけで直射日光を避けてあげましょう。また、室外機の周りに物を置かないで、風通しを良くしておくことも大切です。\n",
      "\n",
      "## エアコン以外も賢く！家中の節電テクニックをマスターしよう💡\n",
      "\n",
      "エアコンだけでなく、家中の家電製品やちょっとした工夫で、さらに節電効果を高めることができます。\n",
      "\n",
      "*   **冷蔵庫の賢い使い方**\n",
      "    *   **設定温度は「中」に！** 強冷やす必要がない時は、少し設定温度を上げてみましょう。\n",
      "    *   **開閉は最小限に！** 扉を開ける時間を短くし、開閉回数も減らすことで冷気の漏れを防ぎます。\n",
      "    *   **詰め込みすぎないで！** 食品を詰め込みすぎると冷気の循環が悪くなり、電気を無駄に消費します。7割程度を目安にしましょう。\n",
      "*   **照明を上手に使う**\n",
      "    *   **こまめに消灯！** 使わない部屋の照明は必ず消す習慣をつけましょう。\n",
      "    *   **LEDに交換！** 白熱電球や蛍光灯から消費電力の少ないLED照明への交換は、長期的に見て大きな節電効果があります。\n",
      "    *   **自然光を最大限に活用！** 日中はカーテンを開けて、できるだけ自然の明るさを取り入れましょう。\n",
      "*   **待機電力をカット**\n",
      "    *   **使わない時はコンセントから抜く！** テレビ、パソコン、充電器など、使っていない時も実は微量の電力を消費しています。\n",
      "    *   **省エネタップを活用！** 主電源を切れるタイプの電源タップを使えば、複数の家電の待機電力をまとめてカットできます。\n",
      "*   **窓からの熱を防ぐ工夫**\n",
      "    *   **遮熱・断熱カーテンを活用！** 厚手のカーテンや遮熱効果のあるカーテンで窓からの日差しを遮ると、室温上昇を抑えられます。\n",
      "    *   **窓用フィルムやよしず、すだれ**なども効果的です。\n",
      "\n",
      "## 健康第一！無理なく続ける節電を💖\n",
      "\n",
      "夏の節電はとても大切ですが、最も重要なのは私たちの健康です。特に猛暑日は、無理な節電が熱中症のリスクを高めてしまうことも。高齢の方や小さなお子さんがいるご家庭では、室温管理には特に気を配ってくださいね。\n",
      "\n",
      "節電は、あくまでも快適な生活を送るための工夫の一つです。無理なく、できることから始めて、継続していくことが大切。小さなことからでも、積み重ねれば大きな力になります。私たち一人ひとりの行動が、家計にも地球にも優しい未来へと繋がっていくはずです。\n",
      "\n"
     ]
    }
   ],
   "source": [
    "query = '''\n",
    "これで完成です。完成した記事を表示してください。\n",
    "'''\n",
    "result = await client.stream(query)"
   ]
  }
 ],
 "metadata": {
  "environment": {
   "kernel": "conda-base-py",
   "name": "workbench-notebooks.m129",
   "type": "gcloud",
   "uri": "us-docker.pkg.dev/deeplearning-platform-release/gcr.io/workbench-notebooks:m129"
  },
  "kernelspec": {
   "display_name": "Python 3 (ipykernel) (Local)",
   "language": "python",
   "name": "conda-base-py"
  },
  "language_info": {
   "codemirror_mode": {
    "name": "ipython",
    "version": 3
   },
   "file_extension": ".py",
   "mimetype": "text/x-python",
   "name": "python",
   "nbconvert_exporter": "python",
   "pygments_lexer": "ipython3",
   "version": "3.10.16"
  }
 },
 "nbformat": 4,
 "nbformat_minor": 5
}
