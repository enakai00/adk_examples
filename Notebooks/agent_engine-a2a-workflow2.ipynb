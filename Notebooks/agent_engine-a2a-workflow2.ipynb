{
 "cells": [
  {
   "cell_type": "markdown",
   "id": "5f77da41-3a6d-4bbe-a2bb-e0ad41cfb513",
   "metadata": {},
   "source": [
    "# Agent Engine の A2A 対応機能の利用例 (2)\n",
    "\n",
    "Agent Engine に A2A サーバーの機能がデプロイできるようになりました。\n",
    "\n",
    "たとえば、下記の記事では、Agent Engine にデプロイした ADK Agent の前段に Cloud Run を用いて A2A サーバーを用意していましたが、Agent Engine に A2A サーバーの機能も同時にデプロイできるようになります。\n",
    "\n",
    "- [A2A リモートエージェント対応のマルチエージェントシステム](https://zenn.dev/google_cloud_jp/articles/d24a22a87a84f8)\n",
    "\n",
    "このノートブックでは、上記の記事で Cloud Run にデプロイしていた A2A サーバーの機能を Agent Engine に移行する例を紹介します。\n",
    "\n",
    "この例では、ADK が提供する A2A 対応モジュールを利用して、ADK の標準的なコードで実装できるようにしてあります。"
   ]
  },
  {
   "cell_type": "markdown",
   "id": "89dc40fb-2a28-4c94-85b7-871a4ce26e12",
   "metadata": {},
   "source": [
    "## パッケージインストール"
   ]
  },
  {
   "cell_type": "code",
   "execution_count": null,
   "id": "59e4bc7d-8973-4763-b842-de88f96a5ad4",
   "metadata": {
    "tags": []
   },
   "outputs": [],
   "source": [
    "%pip install --user \\\n",
    "    google-adk==1.14.1 \\\n",
    "    google-genai==1.36.0 \\\n",
    "    google-cloud-aiplatform==1.113.0 \\\n",
    "    a2a-sdk==0.3.5"
   ]
  },
  {
   "cell_type": "markdown",
   "id": "8e768a0a-baea-4013-8b83-2e4b8e794330",
   "metadata": {},
   "source": [
    "カーネルを再起動します。"
   ]
  },
  {
   "cell_type": "code",
   "execution_count": 3,
   "id": "4d8c7cfa-611c-4609-aa0c-ed0e00446d91",
   "metadata": {
    "tags": []
   },
   "outputs": [],
   "source": [
    "import IPython\n",
    "app = IPython.Application.instance()\n",
    "_ = app.kernel.do_shutdown(True)"
   ]
  },
  {
   "cell_type": "markdown",
   "id": "88c0c466-c125-4c97-8e86-59b9060c03e6",
   "metadata": {
    "tags": []
   },
   "source": [
    "## 事前準備"
   ]
  },
  {
   "cell_type": "code",
   "execution_count": 2,
   "id": "9fe4e2d1-f622-48f9-ab7f-56741b15ff1a",
   "metadata": {
    "tags": []
   },
   "outputs": [],
   "source": [
    "import copy, json, os, uuid\n",
    "import vertexai\n",
    "from vertexai import agent_engines\n",
    "\n",
    "from google.genai.types import Part, Content, HttpOptions\n",
    "from google.adk.agents.llm_agent import LlmAgent\n",
    "from google.adk.artifacts import InMemoryArtifactService\n",
    "from google.adk.events import Event\n",
    "from google.adk.memory.in_memory_memory_service import InMemoryMemoryService\n",
    "from google.adk.sessions import InMemorySessionService\n",
    "from google.adk.runners import Runner\n",
    "\n",
    "from google.adk.agents.callback_context import CallbackContext\n",
    "from google.adk.models import LlmResponse, LlmRequest\n",
    "from google.adk.agents.sequential_agent import SequentialAgent\n",
    "\n",
    "[PROJECT_ID] = !gcloud config list --format 'value(core.project)'\n",
    "[PROJECT_NUMBER] = !gcloud projects describe {PROJECT_ID} --format='value(projectNumber)'\n",
    "LOCATION = 'us-central1'\n",
    "\n",
    "vertexai.init(project=PROJECT_ID, location=LOCATION,\n",
    "              staging_bucket=f'gs://{PROJECT_ID}')\n",
    "\n",
    "os.environ['GOOGLE_CLOUD_PROJECT'] = PROJECT_ID\n",
    "os.environ['GOOGLE_CLOUD_LOCATION'] = LOCATION\n",
    "os.environ['GOOGLE_GENAI_USE_VERTEXAI'] = 'True'"
   ]
  },
  {
   "cell_type": "markdown",
   "id": "2e77fb92-1932-428b-a699-4f72a8fdf07f",
   "metadata": {},
   "source": [
    "root agent をローカルで実行する簡易アプリのクラスを定義します。"
   ]
  },
  {
   "cell_type": "code",
   "execution_count": 3,
   "id": "edfe7674-7053-450d-a8f6-ddea3a325ed3",
   "metadata": {
    "tags": []
   },
   "outputs": [],
   "source": [
    "class LocalApp:\n",
    "    def __init__(self, agent, app_name='default_app', user_id='default_user'):\n",
    "        self._agent = agent\n",
    "        self._app_name = app_name\n",
    "        self._user_id = user_id\n",
    "        self._runner = Runner(\n",
    "            app_name=self._app_name,\n",
    "            agent=self._agent,\n",
    "            artifact_service=InMemoryArtifactService(),\n",
    "            session_service=InMemorySessionService(),\n",
    "            memory_service=InMemoryMemoryService(),\n",
    "        )\n",
    "        self._session = None\n",
    "        \n",
    "    async def stream(self, query):\n",
    "        if not self._session:\n",
    "            self._session = await self._runner.session_service.create_session(\n",
    "                app_name=self._app_name,\n",
    "                user_id=self._user_id,\n",
    "                session_id=uuid.uuid4().hex,\n",
    "            )\n",
    "        content = Content(role='user', parts=[Part(text=query)])\n",
    "        async_events = self._runner.run_async(\n",
    "            user_id=self._user_id,\n",
    "            session_id=self._session.id,\n",
    "            new_message=content,\n",
    "        )\n",
    "        result = []\n",
    "        async for event in async_events:\n",
    "            if DEBUG:\n",
    "                print(f'====\\n{event}\\n====')\n",
    "            if (event.content and event.content.parts):\n",
    "                response = '\\n'.join([p.text for p in event.content.parts if p.text])\n",
    "                if response:\n",
    "                    print(response)\n",
    "                    result.append(response)\n",
    "        return result"
   ]
  },
  {
   "cell_type": "markdown",
   "id": "c90fbe17-8721-4413-8464-892e4e5398dc",
   "metadata": {
    "tags": []
   },
   "source": [
    "## リモートエージェントの定義"
   ]
  },
  {
   "cell_type": "code",
   "execution_count": 4,
   "id": "cddf19fd-41ce-46de-bbf9-5df934303f7e",
   "metadata": {
    "tags": []
   },
   "outputs": [],
   "source": [
    "instruction = '''\n",
    "あなたの役割は、記事の執筆に必要な情報を収集して調査レポートにまとめる事です。\n",
    "指定されたテーマの記事を執筆する際に参考となるトピックを５項目程度のリストにまとめます。\n",
    "後段のエージェントがこのリストに基づいて、調査レポートを作成します。\n",
    "\n",
    "* 出力形式\n",
    "日本語で出力。\n",
    "'''\n",
    "\n",
    "research_agent1 = LlmAgent(\n",
    "    name='research_agent1',\n",
    "    model='gemini-2.5-flash',\n",
    "    description='記事の執筆に必要な情報を収集してレポートにまとめるエージェント（テーマ選定）',\n",
    "    instruction=instruction,\n",
    ")"
   ]
  },
  {
   "cell_type": "code",
   "execution_count": 5,
   "id": "0dbd3abe-fcdd-4cee-a855-6eee29d76b8f",
   "metadata": {
    "tags": []
   },
   "outputs": [],
   "source": [
    "instruction = '''\n",
    "あなたの役割は、記事の執筆に必要な情報を収集して調査レポートにまとめる事です。\n",
    "前段のエージェントは、５項目程度の調査対象トピックを指定します。\n",
    "\n",
    "* 出力形式\n",
    "日本語で出力。\n",
    "調査レポートは、トピックごとに客観的情報をまとめます。各トピックについて、５文以上の長さで記述すること。\n",
    "'''\n",
    "\n",
    "research_agent2 = LlmAgent(\n",
    "    name='research_agent2',\n",
    "    model='gemini-2.5-flash',\n",
    "    description='記事の執筆に必要な情報を収集してレポートにまとめるエージェント（レポート作成）',\n",
    "    instruction=instruction,\n",
    ")"
   ]
  },
  {
   "cell_type": "code",
   "execution_count": 6,
   "id": "24ede113-b235-485a-a1bf-517c3d24fc64",
   "metadata": {
    "tags": []
   },
   "outputs": [],
   "source": [
    "instruction = '''\n",
    "あなたの役割は、特定のテーマに関する気軽な読み物記事を書くことです。\n",
    "記事の「テーマ」と、その内容に関連する「調査レポート」が与えられるので、\n",
    "調査レポートに記載の客観的事実に基づいて、信頼性のある読み物記事を書いてください。\n",
    "\n",
    "レビュアーによる修正ポイントが指摘された際は、直前に書いた記事を指摘に従って書き直してください。\n",
    "\n",
    "**出力条件**\n",
    "- トピックに関してある程度の基礎知識がある読者を前提として、数分で気軽に読める内容にしてください。\n",
    "- 比較的カジュアルで語りかける口調の文章にします。\n",
    "- 思考過程は出力せずに、最終結果だけを出力します。\n",
    "- 記事タイトルは付けないで、次の構成で出力します。各セクションタイトルは、内容に合わせてアレンジしてください。\n",
    "0. 導入：セクションタイトルを付けないで、この記事を読みたくなる導入を１〜２文にまとめます。\n",
    "1. 概要：トピックの全体像をまとめて簡単に説明します。\n",
    "2. 最新情報：特に注目したい新しい情報を取り上げます。\n",
    "3. 実践：トピックに関して、読者自身がやってみるとよさそうな事を１つ紹介します。\n",
    "4. まとめ\n",
    "\n",
    "- 各セクションのタイトルはマークダウンヘッダ ## 付けます。必要に応じて箇条書きのマークダウンを使用します。\n",
    "- それ以外のマークダウンによる装飾は行いません。\n",
    "'''\n",
    "\n",
    "writer_agent = LlmAgent(\n",
    "    name='writer_agent',\n",
    "    model='gemini-2.5-flash',\n",
    "    description='特定のテーマに関する読み物記事を書くエージェント',\n",
    "    instruction=instruction,\n",
    ")"
   ]
  },
  {
   "cell_type": "code",
   "execution_count": 7,
   "id": "6605ea7a-c43e-4bc9-9c2c-8183af4fc457",
   "metadata": {
    "tags": []
   },
   "outputs": [],
   "source": [
    "instruction = f'''\n",
    "あなたの役割は、読み物記事をレビューして、記事の条件にあった内容にするための改善コメントを与える事です。\n",
    "\n",
    "* 記事の条件\n",
    "- 記事は、はじめに４０文字程度のタイトルがあること。\n",
    "　今日から役立つ生活情報があって「すぐに読まなきゃ」と読者が感じるタイトルにすること。\n",
    "　タイトルはマークダウンヘッダ # をつけること。\n",
    "- タイトルの直後に「なぜいまこのテーマを取り上げるのか」をまとめた導入を加えて、読者にこの記事を読む動機づけを与えます。\n",
    "- 各セクションのサブタイトルには、絵文字を用いて親しみやすさを出すこと。\n",
    "- 読者が今日から実践できる具体例が３つ以上紹介されていること。\n",
    "\n",
    "* 出力形式\n",
    "- 日本語で出力。\n",
    "- はじめに、記事の良い点を説明します。\n",
    "- 次に、修正ポイントを箇条書きで出力します。\n",
    "'''\n",
    "\n",
    "review_agent = LlmAgent(\n",
    "    name='review_agent',\n",
    "    model='gemini-2.5-flash',\n",
    "    description='読み物記事をレビューするエージェント',\n",
    "    instruction=instruction,\n",
    ")"
   ]
  },
  {
   "cell_type": "markdown",
   "id": "88cc0fec-02f6-4e3a-8fea-477bdb08751b",
   "metadata": {},
   "source": [
    "## Agent Engine にデプロイ"
   ]
  },
  {
   "cell_type": "code",
   "execution_count": 47,
   "id": "9fb292fe-8333-4c34-9247-d9aba7689d54",
   "metadata": {
    "tags": []
   },
   "outputs": [],
   "source": [
    "from a2a.types import AgentCard\n",
    "from google.adk.a2a.executor.a2a_agent_executor import A2aAgentExecutor\n",
    "from google.adk.runners import Runner\n",
    "from google.adk.sessions import InMemorySessionService\n",
    "from google.adk.memory import InMemoryMemoryService\n",
    "from google.adk.artifacts import InMemoryArtifactService\n",
    "from google.adk.auth.credential_service.in_memory_credential_service import InMemoryCredentialService\n",
    "from google.adk.a2a.utils.agent_card_builder import AgentCardBuilder\n",
    "\n",
    "from vertexai.preview.reasoning_engines import A2aAgent\n",
    "from vertexai.preview.reasoning_engines.templates.a2a import create_agent_card\n",
    "\n",
    "from google.adk.sessions import VertexAiSessionService\n",
    "\n",
    "# Wrapper class of VertexAiSessionService that's compatible with InMemorySessionService\n",
    "class MyVertexAiSessionService(VertexAiSessionService):\n",
    "\n",
    "    async def create_session(self, app_name, user_id, state={}, session_id=None):\n",
    "        # Ignore session_id\n",
    "        session = await super().create_session(\n",
    "            app_name=app_name,\n",
    "            user_id=user_id,\n",
    "            state=state,\n",
    "        )\n",
    "        return session\n",
    "\n",
    "    async def get_session(self, app_name, user_id, session_id):\n",
    "        # Return None if session non exists.\n",
    "        try:\n",
    "            session = await super().get_session(\n",
    "                app_name=app_name,\n",
    "                user_id=user_id,\n",
    "                session_id=session_id,\n",
    "            )\n",
    "            return session\n",
    "        except:\n",
    "            return None\n",
    "\n",
    "\n",
    "def get_create_runner_class(agent, resource_name):\n",
    "    async def create_runner():\n",
    "        return Runner(\n",
    "            # Use resource_name as app_name for VertexAiSessionService.\n",
    "            app_name=resource_name or agent.name,\n",
    "            agent=agent,\n",
    "            artifact_service=InMemoryArtifactService(),\n",
    "            session_service=MyVertexAiSessionService(),\n",
    "            memory_service=InMemoryMemoryService(),\n",
    "            credential_service=InMemoryCredentialService(),\n",
    "        )\n",
    "    return create_runner\n",
    "\n",
    "\n",
    "def get_agent_executor_class(agent, resource_name):\n",
    "    def agent_executor_builder():\n",
    "        return A2aAgentExecutor(\n",
    "            runner=get_create_runner_class(agent, resource_name),\n",
    "        )       \n",
    "    return agent_executor_builder\n",
    "\n",
    "\n",
    "async def get_agent_card(agent):\n",
    "    builder = AgentCardBuilder(agent=agent)\n",
    "    adk_agent_card = await builder.build()\n",
    "    return create_agent_card(\n",
    "        agent_name=adk_agent_card.name,\n",
    "        description=adk_agent_card.description,\n",
    "        skills=adk_agent_card.skills\n",
    "    )"
   ]
  },
  {
   "cell_type": "markdown",
   "id": "91a97380-0e79-45d7-8307-5ea14b862937",
   "metadata": {
    "tags": []
   },
   "source": [
    "ここでは、一度、ダミーでデプロイして VertexAiSessionService で必要となる Agent Engine のリソース ID を取得した後、リソース ID を指定して再デプロイしています。"
   ]
  },
  {
   "cell_type": "code",
   "execution_count": 48,
   "id": "39904c44-dd8e-473d-8e67-a967b6d39514",
   "metadata": {
    "tags": []
   },
   "outputs": [],
   "source": [
    "def get_agent_resource(agent_name):\n",
    "    for agent in agent_engines.list():\n",
    "        if agent.display_name == agent_name:\n",
    "            return agent.resource_name\n",
    "    return None"
   ]
  },
  {
   "cell_type": "code",
   "execution_count": 49,
   "id": "44a4b2da-9819-47db-86a8-b804308f7871",
   "metadata": {
    "tags": []
   },
   "outputs": [
    {
     "name": "stderr",
     "output_type": "stream",
     "text": [
      "/var/tmp/ipykernel_4435/2996848671.py:63: UserWarning: [EXPERIMENTAL] AgentCardBuilder: ADK Implementation for A2A support (A2aAgentExecutor, RemoteA2aAgent and corresponding supporting components etc.) is in experimental mode and is subjected to breaking changes. A2A protocol and SDK arethemselves not experimental. Once it's stable enough the experimental mode will be removed. Your feedback is welcome.\n",
      "  builder = AgentCardBuilder(agent=agent)\n",
      "The following requirements are missing: {'pydantic', 'a2a', 'cloudpickle'}\n",
      "/var/tmp/ipykernel_4435/2996848671.py:63: UserWarning: [EXPERIMENTAL] AgentCardBuilder: ADK Implementation for A2A support (A2aAgentExecutor, RemoteA2aAgent and corresponding supporting components etc.) is in experimental mode and is subjected to breaking changes. A2A protocol and SDK arethemselves not experimental. Once it's stable enough the experimental mode will be removed. Your feedback is welcome.\n",
      "  builder = AgentCardBuilder(agent=agent)\n",
      "The following requirements are missing: {'pydantic', 'a2a', 'cloudpickle'}\n",
      "/var/tmp/ipykernel_4435/2996848671.py:63: UserWarning: [EXPERIMENTAL] AgentCardBuilder: ADK Implementation for A2A support (A2aAgentExecutor, RemoteA2aAgent and corresponding supporting components etc.) is in experimental mode and is subjected to breaking changes. A2A protocol and SDK arethemselves not experimental. Once it's stable enough the experimental mode will be removed. Your feedback is welcome.\n",
      "  builder = AgentCardBuilder(agent=agent)\n",
      "The following requirements are missing: {'pydantic', 'a2a', 'cloudpickle'}\n",
      "/var/tmp/ipykernel_4435/2996848671.py:63: UserWarning: [EXPERIMENTAL] AgentCardBuilder: ADK Implementation for A2A support (A2aAgentExecutor, RemoteA2aAgent and corresponding supporting components etc.) is in experimental mode and is subjected to breaking changes. A2A protocol and SDK arethemselves not experimental. Once it's stable enough the experimental mode will be removed. Your feedback is welcome.\n",
      "  builder = AgentCardBuilder(agent=agent)\n",
      "The following requirements are missing: {'pydantic', 'a2a', 'cloudpickle'}\n"
     ]
    }
   ],
   "source": [
    "agents = {\n",
    "    'research_agent1_remote': research_agent1,\n",
    "    'research_agent2_remote': research_agent2,\n",
    "    'writer_agent_remote': writer_agent,\n",
    "    'review_agent_remote': review_agent,\n",
    "}\n",
    "\n",
    "client = vertexai.Client(\n",
    "    project=PROJECT_ID,\n",
    "    location=LOCATION,\n",
    "    http_options=HttpOptions(\n",
    "        api_version=\"v1beta1\", base_url=f\"https://{LOCATION}-aiplatform.googleapis.com/\"\n",
    "    ),\n",
    ")\n",
    "\n",
    "for agent_name, agent in agents.items():    \n",
    "    a2a_agent = A2aAgent(\n",
    "        agent_card=await get_agent_card(agent),\n",
    "        agent_executor_builder=get_agent_executor_class(agent, None)\n",
    "    )\n",
    "    config={\n",
    "        \"display_name\": agent_name,\n",
    "        \"description\": a2a_agent.agent_card.description,\n",
    "        \"requirements\": [\n",
    "            'google-adk==1.14.1',\n",
    "            'google-genai==1.36.0',\n",
    "            'google-cloud-aiplatform==1.113.0',\n",
    "            'a2a-sdk==0.3.5'\n",
    "        ],\n",
    "        \"http_options\": {\n",
    "            \"base_url\": f\"https://{LOCATION}-aiplatform.googleapis.com\",\n",
    "            \"api_version\": \"v1beta1\",\n",
    "        },\n",
    "        \"staging_bucket\": f'gs://{PROJECT_ID}',\n",
    "    }\n",
    "\n",
    "    resource_name = get_agent_resource(agent_name)\n",
    "    if not resource_name:\n",
    "        # Deploy dummy agent to assign Agent Engine resource name\n",
    "        remote_a2a_agent = client.agent_engines.create(\n",
    "            agent=a2a_agent,\n",
    "            config=config,\n",
    "        )\n",
    "    \n",
    "    # Redeploy with VertexAiSessionService\n",
    "    resource_name = get_agent_resource(agent_name)\n",
    "    a2a_agent = A2aAgent(\n",
    "        agent_card=await get_agent_card(agent),\n",
    "        agent_executor_builder=get_agent_executor_class(agent, resource_name)\n",
    "    )\n",
    "    remote_a2a_agent = client.agent_engines.update(\n",
    "        name=resource_name,\n",
    "        agent=a2a_agent,\n",
    "        config=config,\n",
    "    )"
   ]
  },
  {
   "cell_type": "markdown",
   "id": "c4e2e8dd-cf01-45c2-b334-351e9a37e458",
   "metadata": {},
   "source": [
    "## RemoteA2aAgent クラスのインスタンスを作成"
   ]
  },
  {
   "cell_type": "code",
   "execution_count": 50,
   "id": "0ffe0106-0d43-44cf-9045-fbfc1696fad8",
   "metadata": {
    "tags": []
   },
   "outputs": [
    {
     "name": "stderr",
     "output_type": "stream",
     "text": [
      "/var/tmp/ipykernel_4435/2722862927.py:29: UserWarning: [EXPERIMENTAL] RemoteA2aAgent: ADK Implementation for A2A support (A2aAgentExecutor, RemoteA2aAgent and corresponding supporting components etc.) is in experimental mode and is subjected to breaking changes. A2A protocol and SDK arethemselves not experimental. Once it's stable enough the experimental mode will be removed. Your feedback is welcome.\n",
      "  research_agent1_remote = RemoteA2aAgent(\n",
      "/var/tmp/ipykernel_4435/2722862927.py:38: UserWarning: [EXPERIMENTAL] RemoteA2aAgent: ADK Implementation for A2A support (A2aAgentExecutor, RemoteA2aAgent and corresponding supporting components etc.) is in experimental mode and is subjected to breaking changes. A2A protocol and SDK arethemselves not experimental. Once it's stable enough the experimental mode will be removed. Your feedback is welcome.\n",
      "  research_agent2_remote = RemoteA2aAgent(\n",
      "/var/tmp/ipykernel_4435/2722862927.py:47: UserWarning: [EXPERIMENTAL] RemoteA2aAgent: ADK Implementation for A2A support (A2aAgentExecutor, RemoteA2aAgent and corresponding supporting components etc.) is in experimental mode and is subjected to breaking changes. A2A protocol and SDK arethemselves not experimental. Once it's stable enough the experimental mode will be removed. Your feedback is welcome.\n",
      "  writer_agent_remote = RemoteA2aAgent(\n",
      "/var/tmp/ipykernel_4435/2722862927.py:56: UserWarning: [EXPERIMENTAL] RemoteA2aAgent: ADK Implementation for A2A support (A2aAgentExecutor, RemoteA2aAgent and corresponding supporting components etc.) is in experimental mode and is subjected to breaking changes. A2A protocol and SDK arethemselves not experimental. Once it's stable enough the experimental mode will be removed. Your feedback is welcome.\n",
      "  review_agent_remote = RemoteA2aAgent(\n"
     ]
    }
   ],
   "source": [
    "import os\n",
    "import httpx\n",
    "from a2a.client import ClientConfig, ClientFactory\n",
    "from a2a.types import TransportProtocol\n",
    "from google.adk import Agent\n",
    "from google.adk.agents.remote_a2a_agent import RemoteA2aAgent\n",
    "from google.auth import default\n",
    "from google.auth.transport.requests import Request\n",
    "\n",
    "\n",
    "credentials, _ = default(scopes=['https://www.googleapis.com/auth/cloud-platform'])\n",
    "credentials.refresh(Request())\n",
    "factory = ClientFactory(\n",
    "    ClientConfig(\n",
    "        supported_transports=[TransportProtocol.http_json],\n",
    "        use_client_preference=True,\n",
    "        httpx_client=httpx.AsyncClient(\n",
    "            timeout=60, # This is important.\n",
    "            headers={\n",
    "                \"Authorization\": f\"Bearer {credentials.token}\",\n",
    "                \"Content-Type\": \"application/json\",\n",
    "            }\n",
    "        ),\n",
    "    )\n",
    ")\n",
    "\n",
    "resource_name = get_agent_resource('research_agent1_remote')\n",
    "a2a_url = f\"https://{LOCATION}-aiplatform.googleapis.com/v1beta1/{resource_name}/a2a\"\n",
    "research_agent1_remote = RemoteA2aAgent(\n",
    "    name=\"research_agent1\",\n",
    "    description='記事の執筆に必要な情報を収集してレポートにまとめるエージェント（テーマ選定）',\n",
    "    agent_card=f\"{a2a_url}/v1/card\",\n",
    "    a2a_client_factory=factory,\n",
    ")\n",
    "\n",
    "resource_name = get_agent_resource('research_agent2_remote')\n",
    "a2a_url = f\"https://{LOCATION}-aiplatform.googleapis.com/v1beta1/{resource_name}/a2a\"\n",
    "research_agent2_remote = RemoteA2aAgent(\n",
    "    name=\"research_agent2\",\n",
    "    description='記事の執筆に必要な情報を収集してレポートにまとめるエージェント（レポート作成）',\n",
    "    agent_card=f\"{a2a_url}/v1/card\",\n",
    "    a2a_client_factory=factory,\n",
    ")\n",
    "\n",
    "resource_name = get_agent_resource('writer_agent_remote')\n",
    "a2a_url = f\"https://{LOCATION}-aiplatform.googleapis.com/v1beta1/{resource_name}/a2a\"\n",
    "writer_agent_remote = RemoteA2aAgent(\n",
    "    name=\"writer_agent\",\n",
    "    description='特定のテーマに関する読み物記事を書くエージェント',\n",
    "    agent_card=f\"{a2a_url}/v1/card\",\n",
    "    a2a_client_factory=factory,\n",
    ")\n",
    "\n",
    "resource_name = get_agent_resource('review_agent_remote')\n",
    "a2a_url = f\"https://{LOCATION}-aiplatform.googleapis.com/v1beta1/{resource_name}/a2a\"\n",
    "review_agent_remote = RemoteA2aAgent(\n",
    "    name=\"review_agent\",\n",
    "    description='読み物記事をレビューするエージェント',\n",
    "    agent_card=f\"{a2a_url}/v1/card\",\n",
    "    a2a_client_factory=factory,\n",
    ")"
   ]
  },
  {
   "cell_type": "markdown",
   "id": "9da4fc34-d659-42d9-8748-595f940ecbe8",
   "metadata": {},
   "source": [
    "## Root agent の定義"
   ]
  },
  {
   "cell_type": "code",
   "execution_count": 51,
   "id": "6bdc24ad-0bd9-4222-a6df-2b9455e8effe",
   "metadata": {
    "tags": []
   },
   "outputs": [],
   "source": [
    "def get_print_agent(text):\n",
    "    def before_model_callback(\n",
    "        callback_context: CallbackContext, llm_request: LlmRequest\n",
    "    ) -> LlmResponse:\n",
    "        return LlmResponse(\n",
    "            content=Content(\n",
    "                role='model', parts=[Part(text=text)],\n",
    "            )\n",
    "        )\n",
    "    return LlmAgent(\n",
    "        name='print_agent',\n",
    "        model='gemini-2.0-flash', # not used\n",
    "        description='',\n",
    "        instruction = '',\n",
    "        before_model_callback=before_model_callback,\n",
    "    )\n",
    "\n",
    "research_agent = SequentialAgent(\n",
    "    name='research_agent',\n",
    "    sub_agents=[\n",
    "        get_print_agent('\\n---\\n## リサーチエージェントが調査レポートを作成します。\\n---\\n'),\n",
    "        get_print_agent('\\n## 調査対象のトピックを選定します。\\n'),\n",
    "        research_agent1_remote,\n",
    "        get_print_agent('\\n## 選定したトピックに基づいて、調査レポートを作成します。\\n'),\n",
    "        research_agent2_remote,\n",
    "        get_print_agent('\\n#### 調査レポートが準備できました。記事の作成に取り掛かってもよいでしょうか？\\n'),\n",
    "    ],\n",
    "    description='記事の執筆に必要な情報を収集してレポートにまとめるエージェント',\n",
    ")\n",
    "\n",
    "write_and_review_agent = SequentialAgent(\n",
    "    name='write_and_review_agent',\n",
    "    sub_agents=[\n",
    "        get_print_agent('\\n---\\n## ライターエージェントが記事を執筆します。\\n---\\n'),\n",
    "        writer_agent_remote,\n",
    "        get_print_agent('\\n---\\n## レビューエージェントが記事をレビューします。\\n---\\n'),\n",
    "        review_agent_remote,\n",
    "       get_print_agent('\\n#### レビューに基づいて記事の修正を依頼しますか？\\n'),\n",
    "    ],\n",
    "    description='記事を作成、レビューする。',\n",
    ")"
   ]
  },
  {
   "cell_type": "code",
   "execution_count": 52,
   "id": "487802cc-2ce0-4622-ba73-d721040e5d3b",
   "metadata": {
    "tags": []
   },
   "outputs": [],
   "source": [
    "root_agent = LlmAgent(\n",
    "    name='article_generation_flow',\n",
    "    model='gemini-2.0-flash',\n",
    "    instruction = '''\n",
    "何ができるか聞かれた場合は、以下の処理をすることをわかりやすくフレンドリーな文章にまとめて返答してください。\n",
    "\n",
    "- ユーザーが指定したテーマの記事を作成する業務フローを実行する。\n",
    "- はじめに、テーマに関する調査レポートを作成する。\n",
    "- その後、ライターエージェントとレビューエージェントが協力して、編集方針に則した記事を作成する。\n",
    "\n",
    "ユーザーが記事のテーマを指定した場合は、次のフローを実行します。\n",
    "\n",
    "1. そのテーマの記事の作成に取り掛かる旨を伝えて、research_agent に転送して、調査レポートを依頼します。\n",
    "2. ユーザー記事の作成を支持したら、write_and_review_agent に転送して、記事の作成とレビューを依頼します。\n",
    "3. ユーザーが記事の修正を希望する場合は、write_and_review_agent に転送します。\n",
    "\n",
    "**条件**\n",
    "research_agent のニックネームは、リサーチエージェント\n",
    "write_and_review_agent のネックネームは、ライターエージェントとレビューエージェント\n",
    "\n",
    "''',\n",
    "    sub_agents=[\n",
    "        research_agent,\n",
    "        write_and_review_agent,\n",
    "    ],\n",
    "    description='記事を作成する業務フローを実行するエージェント'\n",
    ")"
   ]
  },
  {
   "cell_type": "markdown",
   "id": "34d62743-7e2f-40f2-8f55-d49a859a92f8",
   "metadata": {},
   "source": [
    "## 実行例"
   ]
  },
  {
   "cell_type": "code",
   "execution_count": 53,
   "id": "9060e44b-1f29-4d90-bd44-ced836dc13d3",
   "metadata": {
    "tags": []
   },
   "outputs": [
    {
     "name": "stdout",
     "output_type": "stream",
     "text": [
      "こんにちは！私は記事を作成する業務フローを実行するエージェントです。具体的には、ユーザーさんが指定したテーマに関する記事を作成します。\n",
      "\n",
      "まず、テーマについてのリサーチエージェントが調査レポートを作成します。その後、ライターエージェントとレビューエージェントが協力して、編集方針に沿った記事を作成します。ご希望の記事テーマがあれば教えてください！\n",
      "\n"
     ]
    }
   ],
   "source": [
    "client = LocalApp(root_agent)\n",
    "DEBUG = False\n",
    "\n",
    "query = '''\n",
    "こんにちは。何ができますか？\n",
    "'''\n",
    "result = await client.stream(query)"
   ]
  },
  {
   "cell_type": "code",
   "execution_count": 54,
   "id": "808a17fa-3a3b-457e-99c8-601d67fc0753",
   "metadata": {
    "tags": []
   },
   "outputs": [
    {
     "name": "stderr",
     "output_type": "stream",
     "text": [
      "Warning: there are non-text parts in the response: ['function_call'], returning concatenated text result from text parts. Check the full candidates.content.parts accessor to get the full model response.\n",
      "/home/jupyter/.local/lib/python3.10/site-packages/google/adk/agents/remote_a2a_agent.py:382: UserWarning: [EXPERIMENTAL] convert_genai_part_to_a2a_part: ADK Implementation for A2A support (A2aAgentExecutor, RemoteA2aAgent and corresponding supporting components etc.) is in experimental mode and is subjected to breaking changes. A2A protocol and SDK arethemselves not experimental. Once it's stable enough the experimental mode will be removed. Your feedback is welcome.\n",
      "  converted_part = self._genai_part_converter(part)\n"
     ]
    },
    {
     "name": "stdout",
     "output_type": "stream",
     "text": [
      "承知いたしました。「夏の節電対策」の記事作成に取り掛かります。まずはリサーチエージェントに調査レポートを依頼します。\n",
      "\n",
      "\n",
      "---\n",
      "## リサーチエージェントが調査レポートを作成します。\n",
      "---\n",
      "\n",
      "\n",
      "## 調査対象のトピックを選定します。\n",
      "\n"
     ]
    },
    {
     "name": "stderr",
     "output_type": "stream",
     "text": [
      "/home/jupyter/.local/lib/python3.10/site-packages/google/adk/a2a/converters/event_converter.py:210: UserWarning: [EXPERIMENTAL] convert_a2a_message_to_event: ADK Implementation for A2A support (A2aAgentExecutor, RemoteA2aAgent and corresponding supporting components etc.) is in experimental mode and is subjected to breaking changes. A2A protocol and SDK arethemselves not experimental. Once it's stable enough the experimental mode will be removed. Your feedback is welcome.\n",
      "  return convert_a2a_message_to_event(\n",
      "/home/jupyter/.local/lib/python3.10/site-packages/google/adk/a2a/converters/event_converter.py:280: UserWarning: [EXPERIMENTAL] convert_a2a_part_to_genai_part: ADK Implementation for A2A support (A2aAgentExecutor, RemoteA2aAgent and corresponding supporting components etc.) is in experimental mode and is subjected to breaking changes. A2A protocol and SDK arethemselves not experimental. Once it's stable enough the experimental mode will be removed. Your feedback is welcome.\n",
      "  part = part_converter(a2a_part)\n"
     ]
    },
    {
     "name": "stdout",
     "output_type": "stream",
     "text": [
      "承知いたしました。「夏の節電対策」に関する記事作成のための調査レポート作成に向け、以下のトピックを選定します。\n",
      "\n",
      "---\n",
      "\n",
      "### 調査対象トピック\n",
      "\n",
      "1.  **夏の節電対策の重要性と背景**:\n",
      "    *   電気料金高騰の現状と予測\n",
      "    *   夏の電力需給ひっ迫リスク\n",
      "    *   地球温暖化対策としての節電の意義\n",
      "    *   節電による家計へのメリット\n",
      "\n",
      "2.  **家庭で実践できる具体的な節電方法（家電別）**:\n",
      "    *   **エアコン**: 設定温度の目安、フィルター清掃、室外機周辺の整備、扇風機・サーキュレーターとの併用など\n",
      "    *   **冷蔵庫**: 設定温度、開閉回数、詰め込みすぎ防止、壁との間隔など\n",
      "    *   **照明**: LED化、こまめな消灯、日中の採光活用\n",
      "    *   **その他家電**: テレビ、パソコン、温水洗浄便座、待機電力対策（コンセント抜き、省エネタップ）など\n",
      "\n",
      "3.  **快適性を維持しつつ節電する工夫**:\n",
      "    *   遮光カーテンやブラインドの活用による日差し対策\n",
      "    *   打ち水、窓の開け方などの自然換気\n",
      "    *   体のクールダウン（クールグッズ、服装、食事）\n",
      "    *   熱中症予防との両立のポイント\n",
      "\n",
      "4.  **節電をサポートする製品やサービス**:\n",
      "    *   省エネ性能の高い家電への買い替えメリット\n",
      "    *   スマート家電・HEMS（家庭用エネルギー管理システム）の活用\n",
      "    *   電力会社の料金プランの見直し、デマンドレスポンスなど\n",
      "    *   太陽光発電、蓄電池などの導入\n",
      "\n",
      "5.  **無理なく節電を継続するための習慣と意識**:\n",
      "    *   家族で取り組む節電ルール作り\n",
      "    *   節電効果の可視化（スマートメーター、アプリなど）\n",
      "    *   「我慢しない節電」の考え方\n",
      "    *   節電とリフレッシュのバランス\n",
      "\n",
      "---\n",
      "\n",
      "## 選定したトピックに基づいて、調査レポートを作成します。\n",
      "\n",
      "## 夏の節電対策に関する調査レポート\n",
      "\n",
      "### 1. 夏の節電対策の重要性と背景\n",
      "\n",
      "近年、電気料金は燃料費の高騰や再生可能エネルギー発電促進賦課金の影響を受け、上昇傾向にあります。特に夏場はエアコンなどの使用により電力消費が急増し、電力需給ひっ迫アラートが発令されるリスクも高まります。このような状況下での節電は、各家庭の電気代負担を軽減するだけでなく、社会全体の電力安定供給に貢献し、大規模停電のリスクを低減するために不可欠です。また、電力消費量の削減は火力発電からのCO2排出量を抑制することに繋がり、地球温暖化対策の一環としても大きな意義があります。家計への直接的なメリットと地球環境への配慮の両面から、夏の節電対策はますますその重要性を増しています。\n",
      "\n",
      "### 2. 家庭で実践できる具体的な節電方法（家電別）\n",
      "\n",
      "家庭における節電は、使用頻度の高い家電製品に注目することで大きな効果が期待できます。エアコンは設定温度を28℃を目安にし、定期的なフィルター清掃（2週間に一度で約5〜10%の節電効果）や室外機周辺の整備が推奨されます。扇風機やサーキュレーターを併用し、冷気を室内に循環させることで体感温度を下げることが可能です。冷蔵庫は設定温度を「中」や「弱」にし、開閉回数を減らし、食品を詰め込みすぎないことが重要です。また、壁から適切な間隔を空けて設置し、放熱を妨げないようにしましょう。照明は白熱電球からLED電球への交換で大幅な消費電力削減が見込め、日中は自然光を活用し、不要な部屋の電気はこまめに消す習慣が有効です。テレビの画面輝度調整やパソコンの省電力設定、温水洗浄便座の暖房機能オフ、さらに待機電力の削減のために省エネタップの使用やコンセントを抜くことも有効な手段です。\n",
      "\n",
      "### 3. 快適性を維持しつつ節電する工夫\n",
      "\n",
      "節電は、我慢を強いられることなく快適な生活を維持しながら行うことが重要です。日中の強い日差しは室温上昇の大きな原因となるため、遮光カーテンやブラインドを活用して窓からの熱の侵入を防ぎましょう。早朝や夕方など外気温が低い時間帯に窓を開けて換気を行う、あるいは打ち水をして地面の温度を下げるなどの自然換気も効果的です。また、冷感グッズの利用、通気性の良い服装を選ぶ、シャワーを浴びるなど、体そのものをクールダウンする工夫も有効です。扇風機やサーキュレーターで室内の空気を循環させ、体感温度を下げることで、エアコンの設定温度を高くしても涼しく感じられます。熱中症予防の観点からも、無理な節電は避け、適切にエアコンを使用しつつ、上記の工夫を組み合わせることが賢明です。\n",
      "\n",
      "### 4. 節電をサポートする製品やサービス\n",
      "\n",
      "現代では、節電を効率的に進めるための様々な製品やサービスが提供されています。省エネ性能の高い最新の家電製品は、古い機種に比べて消費電力が大幅に削減されており、特にエアコンや冷蔵庫などは買い替えによる節電効果が期待できます。スマート家電やHEMS（家庭用エネルギー管理システム）を導入することで、電力使用量をリアルタイムで可視化し、家電の自動制御や遠隔操作によって無駄なく節電を行うことが可能になります。また、電力会社が提供する時間帯別料金プランやピークシフトプランなど、各家庭のライフスタイルに合わせた料金プランを見直すことで電気代の削減に繋がります。さらに、太陽光発電システムや家庭用蓄電池の導入は、電力の自家消費を促進し、購入電力量を減らすだけでなく、災害時の非常用電源としても機能します。これらの製品やサービスを適切に活用することで、より効果的で持続可能な節電を実現できます。\n",
      "\n",
      "### 5. 無理なく節電を継続するための習慣と意識\n",
      "\n",
      "節電を一時的な取り組みで終わらせず、長期的に継続するためには、日々の習慣と意識の変革が不可欠です。まず、家族全員で節電の目標やルールを共有し、協力体制を築くことが重要です。例えば、使わない部屋の電気は消す、エアコン設定温度を確認するなど、具体的な行動を定めます。スマートメーターや電力会社の提供するアプリなどを活用し、電力使用量を「見える化」することで、節電効果を実感し、モチベーションの維持に繋がります。また、「我慢しない節電」の考え方を持ち、快適さを損なわない範囲で無理なく取り組むことが長続きの秘訣です。節電ばかりに囚われず、適度な休憩や気分転換を取り入れるなど、心身の健康を保つことも忘れてはなりません。日々の小さな工夫が積み重なることで大きな節電効果に繋がり、地球環境への貢献にも繋がるという意識を持つことが、持続可能な節電へと導きます。\n",
      "\n",
      "#### 調査レポートが準備できました。記事の作成に取り掛かってもよいでしょうか？\n",
      "\n"
     ]
    }
   ],
   "source": [
    "query = '''\n",
    "「夏の節電対策」をテーマに記事を作成してください。\n",
    "'''\n",
    "result = await client.stream(query)"
   ]
  },
  {
   "cell_type": "code",
   "execution_count": 55,
   "id": "709d9090-24cf-4d1e-9b13-1529e6129c4c",
   "metadata": {
    "tags": []
   },
   "outputs": [
    {
     "name": "stderr",
     "output_type": "stream",
     "text": [
      "Warning: there are non-text parts in the response: ['function_call'], returning concatenated text result from text parts. Check the full candidates.content.parts accessor to get the full model response.\n",
      "/home/jupyter/.local/lib/python3.10/site-packages/google/adk/agents/remote_a2a_agent.py:382: UserWarning: [EXPERIMENTAL] convert_genai_part_to_a2a_part: ADK Implementation for A2A support (A2aAgentExecutor, RemoteA2aAgent and corresponding supporting components etc.) is in experimental mode and is subjected to breaking changes. A2A protocol and SDK arethemselves not experimental. Once it's stable enough the experimental mode will be removed. Your feedback is welcome.\n",
      "  converted_part = self._genai_part_converter(part)\n"
     ]
    },
    {
     "name": "stdout",
     "output_type": "stream",
     "text": [
      "承知いたしました。それでは、ライターエージェントとレビューエージェントに記事の作成を依頼します。\n",
      "\n",
      "\n",
      "---\n",
      "## ライターエージェントが記事を執筆します。\n",
      "---\n",
      "\n"
     ]
    },
    {
     "name": "stderr",
     "output_type": "stream",
     "text": [
      "/home/jupyter/.local/lib/python3.10/site-packages/google/adk/a2a/converters/event_converter.py:210: UserWarning: [EXPERIMENTAL] convert_a2a_message_to_event: ADK Implementation for A2A support (A2aAgentExecutor, RemoteA2aAgent and corresponding supporting components etc.) is in experimental mode and is subjected to breaking changes. A2A protocol and SDK arethemselves not experimental. Once it's stable enough the experimental mode will be removed. Your feedback is welcome.\n",
      "  return convert_a2a_message_to_event(\n",
      "/home/jupyter/.local/lib/python3.10/site-packages/google/adk/a2a/converters/event_converter.py:280: UserWarning: [EXPERIMENTAL] convert_a2a_part_to_genai_part: ADK Implementation for A2A support (A2aAgentExecutor, RemoteA2aAgent and corresponding supporting components etc.) is in experimental mode and is subjected to breaking changes. A2A protocol and SDK arethemselves not experimental. Once it's stable enough the experimental mode will be removed. Your feedback is welcome.\n",
      "  part = part_converter(a2a_part)\n"
     ]
    },
    {
     "name": "stdout",
     "output_type": "stream",
     "text": [
      "今年の夏も暑くなる予感…電気代の請求書を見てため息をつく前に、今からできる夏の節電対策を一緒に見ていきましょう！\n",
      "\n",
      "## 概要\n",
      "\n",
      "最近、電気代が上がって家計を圧迫していると感じる方も多いのではないでしょうか。特に夏はエアコンの使用で電力消費が急増し、電力需給ひっ迫のリスクも高まります。節電は、電気代を抑えるだけでなく、社会全体の電力安定供給や地球温暖化対策にもつながる、まさに「一石三鳥」の取り組みなんです。無理なく賢く節電して、快適な夏を過ごしましょう！\n",
      "\n",
      "## 最新情報\n",
      "\n",
      "「節電って我慢するんでしょ？」と思われがちですが、今は便利な製品やサービスがたくさんありますよ！\n",
      "\n",
      "*   **省エネ家電への買い替え**: 最新のエアコンや冷蔵庫は、昔のモデルと比べて格段に省エネ性能が向上しています。買い替えで初期投資はかかりますが、長期的に見れば電気代の大きな削減につながることも。\n",
      "*   **スマート家電・HEMS**: スマホで家電を操作したり、家全体の電力消費をリアルタイムで見える化したりできるシステムです。無駄な電力消費を特定しやすくなるので、効率的な節電に役立ちます。\n",
      "*   **料金プランの見直し**: 電力会社のプランには、夜間が安くなる「時間帯別料金」など、ライフスタイルに合わせた様々なものがあります。自分の使い方に合ったプランに変えるだけで、電気代が安くなることも！\n",
      "\n",
      "これらを活用すれば、もっとかしこく、そして快適に節電できますよ。\n",
      "\n",
      "## 実践\n",
      "\n",
      "今日からすぐにできる節電術として、やっぱり主役は「エアコン」と「扇風機・サーキュレーター」の合わせ技です！\n",
      "\n",
      "1.  **エアコンの設定温度は28℃を目安に**: 室温を下げすぎず、ちょっと高めかな？と感じるくらいが目安です。\n",
      "2.  **扇風機・サーキュレーターで空気を循環**: エアコンと併用することで、冷たい空気が部屋全体に行き渡り、体感温度が下がります。これにより、エアコンの設定温度を上げても快適に過ごせます。\n",
      "3.  **フィルターのお掃除はこまめに**: 2週間に一度くらいの頻度でフィルターをきれいにすると、冷房効率が約5～10%もアップするんです！ホコリが詰まっていると余計な電力を消費してしまいますからね。\n",
      "\n",
      "この3つを意識するだけで、体感温度は変わらず、電気代はしっかりセーブできますよ。\n",
      "\n",
      "## まとめ\n",
      "\n",
      "夏の節電は、ちょっとした意識と工夫で誰でも始められます。我慢しすぎず、快適さを保ちながら、できることから少しずつ取り組むことが大切です。家族みんなで目標を共有したり、電力の使用量を見える化して効果を実感したりするのもモチベーション維持に繋がります。無理のない範囲で賢く節電して、家計にも地球にも優しい夏を過ごしましょう！\n",
      "\n",
      "---\n",
      "## レビューエージェントが記事をレビューします。\n",
      "---\n",
      "\n",
      "レビューお疲れ様です。記事のレビュー結果をお伝えします。\n",
      "\n",
      "### 記事の良い点\n",
      "*   夏の節電の重要性が「一石三鳥」という分かりやすい表現で説明されており、読者が節電に取り組む動機付けになっています。\n",
      "*   最新の節電対策として、省エネ家電への買い替え、スマート家電・HEMSの活用、料金プランの見直しといった多角的な情報が盛り込まれており、読者の選択肢を広げています。\n",
      "*   具体的な実践例として、エアコンに関する3つの対策が挙げられており、今日からでも始めやすい内容が提示されています。\n",
      "\n",
      "### 修正ポイント\n",
      "*   **タイトルがないため追加してください**\n",
      "    *   記事の冒頭に、40文字程度のマークダウンヘッダ `#` でタイトルを付けてください。\n",
      "    *   読者が「すぐに読まなきゃ」と感じるような、今日から役立つ生活情報を含むタイトルにしましょう。\n",
      "        *   例: `# 【衝撃】夏の電気代が半額に！？今日からできる「我慢しない」節電術10選`\n",
      "*   **タイトルの直後に導入文を追加してください**\n",
      "    *   現在の「概要」セクションを、生成されたタイトルの直後に移動し、読者に「なぜいまこのテーマを取り上げるのか」をより明確に伝える導入文として調整してください。電気代高騰の背景や熱中症予防との両立の重要性などを盛り込むと良いでしょう。\n",
      "*   **各セクションのサブタイトルに絵文字を追加してください**\n",
      "    *   「## 概要」「## 最新情報」「## 実践」「## まとめ」といったサブタイトルに、内容に合った絵文字を追加して、親しみやすさを出しましょう。\n",
      "        *   例:\n",
      "            *   `## ✨ はじめに：夏の電気代、もう怖くない！`\n",
      "            *   `## 💡 知って得する！最新の節電トレンド`\n",
      "            *   `## 🚀 今日からできる！賢い節電テクニック`\n",
      "            *   `## ☀️ まとめ：快適＆お得な夏を過ごすために`\n",
      "*   **読者が今日から実践できる具体例を3つ以上、多様な内容で紹介してください**\n",
      "    *   現在紹介されている具体例はエアコンに集中しています。冷蔵庫、照明、待機電力など、他の家電に関する節電術も追加し、読者が選択できる実践例の幅を広げましょう。\n",
      "        *   例:\n",
      "            1.  **エアコン**：設定温度の目安（28℃）、フィルター清掃（2週間に1度）、扇風機・サーキュレーターとの併用。\n",
      "            2.  **冷蔵庫**：設定温度の「弱」への変更、詰め込みすぎ防止、開閉時間の短縮。\n",
      "            3.  **照明**：LEDへの切り替え、日中の自然光活用、こまめな消灯。\n",
      "            4.  **待機電力**：使わない家電のコンセント抜き、省エネタップの活用。\n",
      "        *   これらの例を「実践」セクションに含め、具体的な数値や効果も簡潔に加えると、より説得力が増します。\n",
      "\n",
      "#### レビューに基づいて記事の修正を依頼しますか？\n",
      "\n"
     ]
    }
   ],
   "source": [
    "query = '''\n",
    "お願いします。\n",
    "'''\n",
    "result = await client.stream(query)"
   ]
  },
  {
   "cell_type": "code",
   "execution_count": 56,
   "id": "2d1719ae-7423-4f7b-8069-067e99cfd116",
   "metadata": {
    "tags": []
   },
   "outputs": [
    {
     "name": "stderr",
     "output_type": "stream",
     "text": [
      "Warning: there are non-text parts in the response: ['function_call'], returning concatenated text result from text parts. Check the full candidates.content.parts accessor to get the full model response.\n",
      "/home/jupyter/.local/lib/python3.10/site-packages/google/adk/agents/remote_a2a_agent.py:382: UserWarning: [EXPERIMENTAL] convert_genai_part_to_a2a_part: ADK Implementation for A2A support (A2aAgentExecutor, RemoteA2aAgent and corresponding supporting components etc.) is in experimental mode and is subjected to breaking changes. A2A protocol and SDK arethemselves not experimental. Once it's stable enough the experimental mode will be removed. Your feedback is welcome.\n",
      "  converted_part = self._genai_part_converter(part)\n"
     ]
    },
    {
     "name": "stdout",
     "output_type": "stream",
     "text": [
      "承知いたしました。レビュー結果を元に、ライターエージェントとレビューエージェントに記事の修正を依頼します。\n",
      "\n",
      "\n",
      "---\n",
      "## ライターエージェントが記事を執筆します。\n",
      "---\n",
      "\n"
     ]
    },
    {
     "name": "stderr",
     "output_type": "stream",
     "text": [
      "/home/jupyter/.local/lib/python3.10/site-packages/google/adk/a2a/converters/event_converter.py:210: UserWarning: [EXPERIMENTAL] convert_a2a_message_to_event: ADK Implementation for A2A support (A2aAgentExecutor, RemoteA2aAgent and corresponding supporting components etc.) is in experimental mode and is subjected to breaking changes. A2A protocol and SDK arethemselves not experimental. Once it's stable enough the experimental mode will be removed. Your feedback is welcome.\n",
      "  return convert_a2a_message_to_event(\n",
      "/home/jupyter/.local/lib/python3.10/site-packages/google/adk/a2a/converters/event_converter.py:280: UserWarning: [EXPERIMENTAL] convert_a2a_part_to_genai_part: ADK Implementation for A2A support (A2aAgentExecutor, RemoteA2aAgent and corresponding supporting components etc.) is in experimental mode and is subjected to breaking changes. A2A protocol and SDK arethemselves not experimental. Once it's stable enough the experimental mode will be removed. Your feedback is welcome.\n",
      "  part = part_converter(a2a_part)\n"
     ]
    },
    {
     "name": "stdout",
     "output_type": "stream",
     "text": [
      "# 【今日からできる！】快適さはそのまま！夏の電気代を賢く抑える秘訣\n",
      "\n",
      "今年の夏も暑くなりそうですね。電気代が高騰する中、どうやって快適に過ごしながら節電するかが頭の痛い問題ではないでしょうか。でも、ご安心ください！我慢せずに、賢く電気代を抑える方法はたくさんあります。この記事を読めば、あなたの夏の電気代に対する見方がきっと変わりますよ。\n",
      "\n",
      "## ✨ はじめに：夏の電気代、もう怖くない！\n",
      "\n",
      "近年、電気料金は燃料価格の高騰や円安の影響で上昇傾向にあり、家計への負担は増すばかりです。特に電力消費量が増える夏は、熱中症予防のためにエアコンを適切に使うことが必須。しかし、「快適さ」と「節電」を両立させるのは難しいと感じるかもしれませんね。でも、ちょっとした工夫で、この二つは無理なく両立できます。夏の節電は、家計に優しく、地球環境にも貢献し、さらには快適な生活を維持するという、まさに一石三鳥の素晴らしい取り組みなんです。\n",
      "\n",
      "## 💡 知って得する！最新の節電トレンド\n",
      "\n",
      "ただ闇雲に電気を消すだけが節電ではありません。最近では、もっとスマートで効率的な節電方法が登場しています。\n",
      "\n",
      "*   **省エネ家電への買い替え**：冷蔵庫やエアコンなどの主要家電を最新の省エネモデルに買い替えることで、目に見えて電気代が安くなることがあります。初期費用はかかりますが、長期的に見ればお得になるケースが多いですよ。\n",
      "*   **スマート家電・HEMS（ヘムス）の活用**：スマートフォンで家電を遠隔操作したり、家庭内のエネルギー使用量を「見える化」したりするシステムです。無駄な電力消費をリアルタイムで把握できるので、効率的な節電につながります。\n",
      "*   **料金プランの見直し**：電力会社によっては、時間帯によって料金が変わるプランや、再生可能エネルギーを利用するプランなど、様々な選択肢があります。ご自身のライフスタイルに合ったプランを選ぶだけで、電気代が安くなる可能性も。\n",
      "\n",
      "## 🚀 今日からできる！賢い節電テクニック\n",
      "\n",
      "すぐに実践できる、具体的な節電術をいくつかご紹介します。これらを組み合わせることで、大きな効果が期待できますよ。\n",
      "\n",
      "*   **エアコンの賢い使い方**\n",
      "    *   **設定温度は無理なく高めに**: 環境省が推奨する室温の目安は28℃ですが、無理のない範囲で調整しましょう。たった1℃上げるだけでも消費電力が約10%削減されると言われています。\n",
      "    *   **定期的なフィルター掃除**: 2週間に1度程度フィルターを掃除するだけで、冷房効果がアップし、消費電力を5～10%削減できます。\n",
      "    *   **扇風機・サーキュレーターとの併用**: 冷たい空気は下に溜まりやすいので、扇風機やサーキュレーターを使って空気を循環させることで、部屋全体が効率的に涼しくなり、エアコンの設定温度をさらに上げられるかもしれません。\n",
      "\n",
      "*   **冷蔵庫の効率アップ術**\n",
      "    *   **設定温度を見直す**: 夏場以外は「強」から「中」や「弱」に設定を下げるだけで、消費電力を抑えられます。\n",
      "    *   **詰め込みすぎない**: 冷蔵庫の中身を詰め込みすぎると、冷気の循環が悪くなり、余計な電力を消費します。庫内は7割程度を目安にしましょう。\n",
      "    *   **開閉時間を短くする**: 冷蔵庫のドアを開けるたびに庫内の温度が上がり、それを戻すために電力を使います。必要なものを決めてから開ける習慣をつけましょう。\n",
      "\n",
      "*   **照明の工夫**\n",
      "    *   **LED照明への切り替え**: 白熱電球と比較して消費電力が約1/5、寿命が約20倍と言われるLED照明は、長期的に見ると非常に経済的です。\n",
      "    *   **日中の自然光活用**: 日中はできるだけカーテンを開け、自然光を取り入れて照明の使用時間を短縮しましょう。\n",
      "    *   **こまめな消灯**: 誰もいない部屋の電気はこまめに消す習慣をつけましょう。\n",
      "\n",
      "*   **待機電力の削減**\n",
      "    *   **使わない家電のコンセント抜き**: テレビやパソコンなど、使っていない時でも待機電力は消費されています。長時間使わない場合はコンセントを抜くのが効果的です。\n",
      "    *   **省エネタップの活用**: 個別にオン・オフができる省エネタップを使えば、手軽に待機電力をカットできます。\n",
      "\n",
      "## ☀️ まとめ：快適＆お得な夏を過ごすために\n",
      "\n",
      "電気代高騰の時代だからこそ、賢い節電は私たちの生活に欠かせないスキルとなります。今回ご紹介した様々な方法を試して、ぜひご自身のライフスタイルに合った節電術を見つけてみてください。小さな工夫の積み重ねが、大きな節約につながり、地球にも優しい快適な夏を過ごすことができるはずです。今年の夏は、我慢せずに賢く節電して、快適に乗り切りましょう！\n",
      "\n",
      "---\n",
      "## レビューエージェントが記事をレビューします。\n",
      "---\n",
      "\n",
      "素晴らしい記事ですね！読者の皆さんが抱える夏の電気代への不安を見事に解消し、行動を促す工夫が随所に凝らされています。\n",
      "\n",
      "**良い点:**\n",
      "\n",
      "*   **魅力的なタイトルと導入:** タイトルは「今日からできる！」「快適さはそのまま！」といったキーワードで読者の関心を引きつけ、「すぐに読まなきゃ」と思わせる力があります。その後の導入も、電気代高騰という時事性を捉えつつ、読者の悩みに寄り添い、この記事を読むメリットを明確に提示しています。\n",
      "*   **親しみやすい構成:** 各セクションのサブタイトルに絵文字が効果的に使われており、記事全体が明るく、親しみやすい印象を与えています。\n",
      "*   **豊富な具体例:** エアコン、冷蔵庫、照明、待機電力と、夏の生活で特に電気を使う家電に焦点を当て、実践的な節電テクニックが豊富に紹介されています。「今日からできる！」というタイトルの期待を裏切らない内容です。\n",
      "*   **多角的な視点:** 即効性のある具体的な節電テクニックだけでなく、「最新の節電トレンド」として省エネ家電への買い替えや料金プランの見直しといった中長期的な視点も提供されており、読者のライフスタイルに合わせた多様な選択肢を提示しています。\n",
      "\n",
      "**修正ポイント:**\n",
      "\n",
      "*   **具体的な節電効果の数値化をさらに強化:** いくつかの項目で数値（例：エアコン1℃で10%削減）が提示されていますが、他の具体例（例：冷蔵庫の「中」設定、「詰め込みすぎない」、開閉時間短縮など）でも、もし可能な範囲で「平均で〇%削減が見込める」といった目安の数値を加えることで、読者の行動への動機付けがさらに強まります。\n",
      "*   **初期投資に対する長期的なメリットの強調:** 「省エネ家電への買い替え」や「スマート家電・HEMSの活用」といった初期投資が必要な項目において、「初期費用はかかりますが、長期的に見ればお得になるケースが多いですよ」という説明に加え、「例えば〇年で元が取れることも」や「年間〇〇円の節約につながる可能性も」といった具体的なシミュレーションの例を提示すると、読者がより検討しやすくなります。\n",
      "\n",
      "#### レビューに基づいて記事の修正を依頼しますか？\n",
      "\n"
     ]
    }
   ],
   "source": [
    "query = '''\n",
    "お願いします。\n",
    "'''\n",
    "result = await client.stream(query)"
   ]
  },
  {
   "cell_type": "code",
   "execution_count": 57,
   "id": "40f8c095-36b6-41d2-b064-7d177894d481",
   "metadata": {
    "tags": []
   },
   "outputs": [
    {
     "name": "stdout",
     "output_type": "stream",
     "text": [
      "# 【今日からできる！】快適さはそのまま！夏の電気代を賢く抑える秘訣\n",
      "\n",
      "今年の夏も暑くなりそうですね。電気代が高騰する中、どうやって快適に過ごしながら節電するかが頭の痛い問題ではないでしょうか。でも、ご安心ください！我慢せずに、賢く電気代を抑える方法はたくさんあります。この記事を読めば、あなたの夏の電気代に対する見方がきっと変わりますよ。\n",
      "\n",
      "## ✨ はじめに：夏の電気代、もう怖くない！\n",
      "\n",
      "近年、電気料金は燃料価格の高騰や円安の影響で上昇傾向にあり、家計への負担は増すばかりです。特に電力消費量が増える夏は、熱中症予防のためにエアコンを適切に使うことが必須。しかし、「快適さ」と「節電」を両立させるのは難しいと感じるかもしれませんね。でも、ちょっとした工夫で、この二つは無理なく両立できます。夏の節電は、家計に優しく、地球環境にも貢献し、さらには快適な生活を維持するという、まさに一石三鳥の素晴らしい取り組みなんです。\n",
      "\n",
      "## 💡 知って得する！最新の節電トレンド\n",
      "\n",
      "ただ闇雲に電気を消すだけが節電ではありません。最近では、もっとスマートで効率的な節電方法が登場しています。\n",
      "\n",
      "*   **省エネ家電への買い替え**：冷蔵庫やエアコンなどの主要家電を最新の省エネモデルに買い替えることで、目に見えて電気代が安くなることがあります。初期費用はかかりますが、長期的に見ればお得になるケースが多いですよ。\n",
      "*   **スマート家電・HEMS（ヘムス）の活用**：スマートフォンで家電を遠隔操作したり、家庭内のエネルギー使用量を「見える化」したりするシステムです。無駄な電力消費をリアルタイムで把握できるので、効率的な節電につながります。\n",
      "*   **料金プランの見直し**：電力会社によっては、時間帯によって料金が変わるプランや、再生可能エネルギーを利用するプランなど、様々な選択肢があります。ご自身のライフスタイルに合ったプランを選ぶだけで、電気代が安くなる可能性も。\n",
      "\n",
      "## 🚀 今日からできる！賢い節電テクニック\n",
      "\n",
      "すぐに実践できる、具体的な節電術をいくつかご紹介します。これらを組み合わせることで、大きな効果が期待できますよ。\n",
      "\n",
      "*   **エアコンの賢い使い方**\n",
      "    *   **設定温度は無理なく高めに**: 環境省が推奨する室温の目安は28℃ですが、無理のない範囲で調整しましょう。たった1℃上げるだけでも消費電力が約10%削減されると言われています。\n",
      "    *   **定期的なフィルター掃除**: 2週間に1度程度フィルターを掃除するだけで、冷房効果がアップし、消費電力を5～10%削減できます。\n",
      "    *   **扇風機・サーキュレーターとの併用**: 冷たい空気は下に溜まりやすいので、扇風機やサーキュレーターを使って空気を循環させることで、部屋全体が効率的に涼しくなり、エアコンの設定温度をさらに上げられるかもしれません。\n",
      "\n",
      "*   **冷蔵庫の効率アップ術**\n",
      "    *   **設定温度を見直す**: 夏場以外は「強」から「中」や「弱」に設定を下げるだけで、消費電力を抑えられます。\n",
      "    *   **詰め込みすぎない**: 冷蔵庫の中身を詰め込みすぎると、冷気の循環が悪くなり、余計な電力を消費します。庫内は7割程度を目安にしましょう。\n",
      "    *   **開閉時間を短くする**: 冷蔵庫のドアを開けるたびに庫内の温度が上がり、それを戻すために電力を使います。必要なものを決めてから開ける習慣をつけましょう。\n",
      "\n",
      "*   **照明の工夫**\n",
      "    *   **LED照明への切り替え**: 白熱電球と比較して消費電力が約1/5、寿命が約20倍と言われるLED照明は、長期的に見ると非常に経済的です。\n",
      "    *   **日中の自然光活用**: 日中はできるだけカーテンを開け、自然光を取り入れて照明の使用時間を短縮しましょう。\n",
      "    *   **こまめな消灯**: 誰もいない部屋の電気はこまめに消す習慣をつけましょう。\n",
      "\n",
      "*   **待機電力の削減**\n",
      "    *   **使わない家電のコンセント抜き**: テレビやパソコンなど、使っていない時でも待機電力は消費されています。長時間使わない場合はコンセントを抜くのが効果的です。\n",
      "    *   **省エネタップの活用**: 個別にオン・オフができる省エネタップを使えば、手軽に待機電力をカットできます。\n",
      "\n",
      "## ☀️ まとめ：快適＆お得な夏を過ごすために\n",
      "\n",
      "電気代高騰の時代だからこそ、賢い節電は私たちの生活に欠かせないスキルとなります。今回ご紹介した様々な方法を試して、ぜひご自身のライフスタイルに合った節電術を見つけてみてください。小さな工夫の積み重ねが、大きな節約につながり、地球にも優しい快適な夏を過ごすことができるはずです。今年の夏は、我慢せずに賢く節電して、快適に乗り切りましょう！\n",
      "\n"
     ]
    }
   ],
   "source": [
    "query = '''\n",
    "これで完成です。全文を表示してください。\n",
    "'''\n",
    "result = await client.stream(query)"
   ]
  }
 ],
 "metadata": {
  "environment": {
   "kernel": "conda-base-py",
   "name": "workbench-notebooks.m129",
   "type": "gcloud",
   "uri": "us-docker.pkg.dev/deeplearning-platform-release/gcr.io/workbench-notebooks:m129"
  },
  "kernelspec": {
   "display_name": "Python 3 (ipykernel) (Local)",
   "language": "python",
   "name": "conda-base-py"
  },
  "language_info": {
   "codemirror_mode": {
    "name": "ipython",
    "version": 3
   },
   "file_extension": ".py",
   "mimetype": "text/x-python",
   "name": "python",
   "nbconvert_exporter": "python",
   "pygments_lexer": "ipython3",
   "version": "3.10.16"
  }
 },
 "nbformat": 4,
 "nbformat_minor": 5
}
