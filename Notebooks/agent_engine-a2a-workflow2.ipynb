{
 "cells": [
  {
   "cell_type": "markdown",
   "id": "5f77da41-3a6d-4bbe-a2bb-e0ad41cfb513",
   "metadata": {},
   "source": [
    "# Agent Engine の A2A 対応機能の利用例 (2)\n",
    "\n",
    "Agent Engine に A2A サーバーの機能がデプロイできるようになりました。\n",
    "\n",
    "たとえば、下記の記事では、Agent Engine にデプロイした ADK Agent の前段に Cloud Run を用いて A2A サーバーを用意していましたが、Agent Engine に A2A サーバーの機能も同時にデプロイできるようになります。\n",
    "\n",
    "- [A2A リモートエージェント対応のマルチエージェントシステム](https://zenn.dev/google_cloud_jp/articles/d24a22a87a84f8)\n",
    "\n",
    "このノートブックでは、上記の記事で Cloud Run にデプロイしていた A2A サーバーの機能を Agent Engine に移行する例を紹介します。\n",
    "\n",
    "この例では、ADK が提供する A2A 対応モジュールを利用して、ADK の標準的なコードで実装できるようにしてあります。"
   ]
  },
  {
   "cell_type": "markdown",
   "id": "89dc40fb-2a28-4c94-85b7-871a4ce26e12",
   "metadata": {},
   "source": [
    "## パッケージインストール"
   ]
  },
  {
   "cell_type": "code",
   "execution_count": null,
   "id": "59e4bc7d-8973-4763-b842-de88f96a5ad4",
   "metadata": {
    "tags": []
   },
   "outputs": [],
   "source": [
    "%pip install --user \\\n",
    "    google-adk==1.14.1 \\\n",
    "    google-genai==1.36.0 \\\n",
    "    google-cloud-aiplatform==1.113.0 \\\n",
    "    a2a-sdk==0.3.5"
   ]
  },
  {
   "cell_type": "markdown",
   "id": "8e768a0a-baea-4013-8b83-2e4b8e794330",
   "metadata": {},
   "source": [
    "カーネルを再起動します。"
   ]
  },
  {
   "cell_type": "code",
   "execution_count": 3,
   "id": "4d8c7cfa-611c-4609-aa0c-ed0e00446d91",
   "metadata": {
    "tags": []
   },
   "outputs": [],
   "source": [
    "import IPython\n",
    "app = IPython.Application.instance()\n",
    "_ = app.kernel.do_shutdown(True)"
   ]
  },
  {
   "cell_type": "markdown",
   "id": "88c0c466-c125-4c97-8e86-59b9060c03e6",
   "metadata": {
    "tags": []
   },
   "source": [
    "## 事前準備"
   ]
  },
  {
   "cell_type": "code",
   "execution_count": 2,
   "id": "9fe4e2d1-f622-48f9-ab7f-56741b15ff1a",
   "metadata": {
    "tags": []
   },
   "outputs": [],
   "source": [
    "import copy, json, os, uuid\n",
    "import vertexai\n",
    "from vertexai import agent_engines\n",
    "\n",
    "from google.genai.types import Part, Content, HttpOptions\n",
    "from google.adk.agents.llm_agent import LlmAgent\n",
    "from google.adk.artifacts import InMemoryArtifactService\n",
    "from google.adk.events import Event\n",
    "from google.adk.memory.in_memory_memory_service import InMemoryMemoryService\n",
    "from google.adk.sessions import InMemorySessionService\n",
    "from google.adk.runners import Runner\n",
    "\n",
    "from google.adk.agents.callback_context import CallbackContext\n",
    "from google.adk.models import LlmResponse, LlmRequest\n",
    "from google.adk.agents.sequential_agent import SequentialAgent\n",
    "\n",
    "[PROJECT_ID] = !gcloud config list --format 'value(core.project)'\n",
    "[PROJECT_NUMBER] = !gcloud projects describe {PROJECT_ID} --format='value(projectNumber)'\n",
    "LOCATION = 'us-central1'\n",
    "\n",
    "vertexai.init(project=PROJECT_ID, location=LOCATION,\n",
    "              staging_bucket=f'gs://{PROJECT_ID}')\n",
    "\n",
    "os.environ['GOOGLE_CLOUD_PROJECT'] = PROJECT_ID\n",
    "os.environ['GOOGLE_CLOUD_LOCATION'] = LOCATION\n",
    "os.environ['GOOGLE_GENAI_USE_VERTEXAI'] = 'True'"
   ]
  },
  {
   "cell_type": "markdown",
   "id": "2e77fb92-1932-428b-a699-4f72a8fdf07f",
   "metadata": {},
   "source": [
    "root agent をローカルで実行する簡易アプリのクラスを定義します。"
   ]
  },
  {
   "cell_type": "code",
   "execution_count": 3,
   "id": "edfe7674-7053-450d-a8f6-ddea3a325ed3",
   "metadata": {
    "tags": []
   },
   "outputs": [],
   "source": [
    "class LocalApp:\n",
    "    def __init__(self, agent, app_name='default_app', user_id='default_user'):\n",
    "        self._agent = agent\n",
    "        self._app_name = app_name\n",
    "        self._user_id = user_id\n",
    "        self._runner = Runner(\n",
    "            app_name=self._app_name,\n",
    "            agent=self._agent,\n",
    "            artifact_service=InMemoryArtifactService(),\n",
    "            session_service=InMemorySessionService(),\n",
    "            memory_service=InMemoryMemoryService(),\n",
    "        )\n",
    "        self._session = None\n",
    "        \n",
    "    async def stream(self, query):\n",
    "        if not self._session:\n",
    "            self._session = await self._runner.session_service.create_session(\n",
    "                app_name=self._app_name,\n",
    "                user_id=self._user_id,\n",
    "                session_id=uuid.uuid4().hex,\n",
    "            )\n",
    "        content = Content(role='user', parts=[Part(text=query)])\n",
    "        async_events = self._runner.run_async(\n",
    "            user_id=self._user_id,\n",
    "            session_id=self._session.id,\n",
    "            new_message=content,\n",
    "        )\n",
    "        result = []\n",
    "        async for event in async_events:\n",
    "            if DEBUG:\n",
    "                print(f'====\\n{event}\\n====')\n",
    "            if (event.content and event.content.parts):\n",
    "                response = '\\n'.join([p.text for p in event.content.parts if p.text])\n",
    "                if response:\n",
    "                    print(response)\n",
    "                    result.append(response)\n",
    "        return result"
   ]
  },
  {
   "cell_type": "markdown",
   "id": "c90fbe17-8721-4413-8464-892e4e5398dc",
   "metadata": {
    "tags": []
   },
   "source": [
    "## リモートエージェントの定義"
   ]
  },
  {
   "cell_type": "code",
   "execution_count": 4,
   "id": "cddf19fd-41ce-46de-bbf9-5df934303f7e",
   "metadata": {
    "tags": []
   },
   "outputs": [],
   "source": [
    "instruction = '''\n",
    "あなたの役割は、記事の執筆に必要な情報を収集して調査レポートにまとめる事です。\n",
    "指定されたテーマの記事を執筆する際に参考となるトピックを５項目程度のリストにまとめます。\n",
    "後段のエージェントがこのリストに基づいて、調査レポートを作成します。\n",
    "\n",
    "* 出力形式\n",
    "日本語で出力。\n",
    "'''\n",
    "\n",
    "research_agent1 = LlmAgent(\n",
    "    name='research_agent1',\n",
    "    model='gemini-2.5-flash',\n",
    "    description='記事の執筆に必要な情報を収集してレポートにまとめるエージェント（テーマ選定）',\n",
    "    instruction=instruction,\n",
    ")"
   ]
  },
  {
   "cell_type": "code",
   "execution_count": 5,
   "id": "0dbd3abe-fcdd-4cee-a855-6eee29d76b8f",
   "metadata": {
    "tags": []
   },
   "outputs": [],
   "source": [
    "instruction = '''\n",
    "あなたの役割は、記事の執筆に必要な情報を収集して調査レポートにまとめる事です。\n",
    "前段のエージェントは、５項目程度の調査対象トピックを指定します。\n",
    "\n",
    "* 出力形式\n",
    "日本語で出力。\n",
    "調査レポートは、トピックごとに客観的情報をまとめます。各トピックについて、５文以上の長さで記述すること。\n",
    "'''\n",
    "\n",
    "research_agent2 = LlmAgent(\n",
    "    name='research_agent2',\n",
    "    model='gemini-2.5-flash',\n",
    "    description='記事の執筆に必要な情報を収集してレポートにまとめるエージェント（レポート作成）',\n",
    "    instruction=instruction,\n",
    ")"
   ]
  },
  {
   "cell_type": "code",
   "execution_count": 6,
   "id": "24ede113-b235-485a-a1bf-517c3d24fc64",
   "metadata": {
    "tags": []
   },
   "outputs": [],
   "source": [
    "instruction = '''\n",
    "あなたの役割は、特定のテーマに関する気軽な読み物記事を書くことです。\n",
    "記事の「テーマ」と、その内容に関連する「調査レポート」が与えられるので、\n",
    "調査レポートに記載の客観的事実に基づいて、信頼性のある読み物記事を書いてください。\n",
    "\n",
    "レビュアーによる修正ポイントが指摘された際は、直前に書いた記事を指摘に従って書き直してください。\n",
    "\n",
    "**出力条件**\n",
    "- トピックに関してある程度の基礎知識がある読者を前提として、数分で気軽に読める内容にしてください。\n",
    "- 比較的カジュアルで語りかける口調の文章にします。\n",
    "- 思考過程は出力せずに、最終結果だけを出力します。\n",
    "- 記事タイトルは付けないで、次の構成で出力します。各セクションタイトルは、内容に合わせてアレンジしてください。\n",
    "0. 導入：セクションタイトルを付けないで、この記事を読みたくなる導入を１〜２文にまとめます。\n",
    "1. 概要：トピックの全体像をまとめて簡単に説明します。\n",
    "2. 最新情報：特に注目したい新しい情報を取り上げます。\n",
    "3. 実践：トピックに関して、読者自身がやってみるとよさそうな事を１つ紹介します。\n",
    "4. まとめ\n",
    "\n",
    "- 各セクションのタイトルはマークダウンヘッダ ## 付けます。必要に応じて箇条書きのマークダウンを使用します。\n",
    "- それ以外のマークダウンによる装飾は行いません。\n",
    "'''\n",
    "\n",
    "writer_agent = LlmAgent(\n",
    "    name='writer_agent',\n",
    "    model='gemini-2.5-flash',\n",
    "    description='特定のテーマに関する読み物記事を書くエージェント',\n",
    "    instruction=instruction,\n",
    ")"
   ]
  },
  {
   "cell_type": "code",
   "execution_count": 7,
   "id": "6605ea7a-c43e-4bc9-9c2c-8183af4fc457",
   "metadata": {
    "tags": []
   },
   "outputs": [],
   "source": [
    "instruction = f'''\n",
    "あなたの役割は、読み物記事をレビューして、記事の条件にあった内容にするための改善コメントを与える事です。\n",
    "\n",
    "* 記事の条件\n",
    "- 記事は、はじめに４０文字程度のタイトルがあること。\n",
    "　今日から役立つ生活情報があって「すぐに読まなきゃ」と読者が感じるタイトルにすること。\n",
    "　タイトルはマークダウンヘッダ # をつけること。\n",
    "- タイトルの直後に「なぜいまこのテーマを取り上げるのか」をまとめた導入を加えて、読者にこの記事を読む動機づけを与えます。\n",
    "- 各セクションのサブタイトルには、絵文字を用いて親しみやすさを出すこと。\n",
    "- 読者が今日から実践できる具体例が３つ以上紹介されていること。\n",
    "\n",
    "* 出力形式\n",
    "- 日本語で出力。\n",
    "- はじめに、記事の良い点を説明します。\n",
    "- 次に、修正ポイントを箇条書きで出力します。\n",
    "'''\n",
    "\n",
    "review_agent = LlmAgent(\n",
    "    name='review_agent',\n",
    "    model='gemini-2.5-flash',\n",
    "    description='読み物記事をレビューするエージェント',\n",
    "    instruction=instruction,\n",
    ")"
   ]
  },
  {
   "cell_type": "markdown",
   "id": "88cc0fec-02f6-4e3a-8fea-477bdb08751b",
   "metadata": {},
   "source": [
    "## Agent Engine にデプロイ"
   ]
  },
  {
   "cell_type": "code",
   "execution_count": 8,
   "id": "9fb292fe-8333-4c34-9247-d9aba7689d54",
   "metadata": {
    "tags": []
   },
   "outputs": [],
   "source": [
    "from a2a.types import AgentCard\n",
    "from google.adk.a2a.executor.a2a_agent_executor import A2aAgentExecutor\n",
    "from google.adk.runners import Runner\n",
    "from google.adk.sessions import InMemorySessionService\n",
    "from google.adk.memory import InMemoryMemoryService\n",
    "from google.adk.artifacts import InMemoryArtifactService\n",
    "from google.adk.auth.credential_service.in_memory_credential_service import InMemoryCredentialService\n",
    "from google.adk.a2a.utils.agent_card_builder import AgentCardBuilder\n",
    "\n",
    "from vertexai.preview.reasoning_engines import A2aAgent\n",
    "from vertexai.preview.reasoning_engines.templates.a2a import create_agent_card\n",
    "\n",
    "from google.adk.sessions import VertexAiSessionService\n",
    "\n",
    "# Wrapper class of VertexAiSessionService that's compatible with InMemorySessionService\n",
    "class MyVertexAiSessionService(VertexAiSessionService):\n",
    "    def __init__(self, resource_id, project=PROJECT_ID, location=LOCATION):\n",
    "        super().__init__(project, location)\n",
    "        self.app_name=resource_id\n",
    "\n",
    "    async def list_sessions(self, app_name, user_id):\n",
    "        return await super().list_sessions(\n",
    "            app_name=self.app_name,\n",
    "            user_id=user_id\n",
    "        )\n",
    "\n",
    "    async def create_session(self, app_name, user_id, state={}, session_id=None):\n",
    "        session = await super().create_session(\n",
    "            app_name=self.app_name,\n",
    "            user_id=user_id,\n",
    "            state=state,\n",
    "        )\n",
    "        return session\n",
    "\n",
    "    async def get_session(self, app_name, user_id, session_id):\n",
    "        try:\n",
    "            session = await super().get_session(\n",
    "                app_name=self.app_name,\n",
    "                user_id=user_id,\n",
    "                session_id=session_id,\n",
    "            )\n",
    "            return session\n",
    "        except:\n",
    "            return None\n",
    "\n",
    "\n",
    "def get_create_runner_class(agent, resource_name):\n",
    "    async def create_runner():\n",
    "        return Runner(\n",
    "            app_name=agent.name,\n",
    "            agent=agent,\n",
    "            artifact_service=InMemoryArtifactService(),\n",
    "            session_service=MyVertexAiSessionService(resource_name),\n",
    "            memory_service=InMemoryMemoryService(),\n",
    "            credential_service=InMemoryCredentialService(),\n",
    "        )\n",
    "    return create_runner\n",
    "\n",
    "\n",
    "def get_agent_executor_class(agent, resource_name):\n",
    "    def agent_executor_builder():\n",
    "        return A2aAgentExecutor(\n",
    "            runner=get_create_runner_class(agent, resource_name),\n",
    "        )       \n",
    "    return agent_executor_builder\n",
    "\n",
    "\n",
    "async def get_agent_card(agent):\n",
    "    builder = AgentCardBuilder(agent=agent)\n",
    "    adk_agent_card = await builder.build()\n",
    "    return create_agent_card(\n",
    "        agent_name=adk_agent_card.name,\n",
    "        description=adk_agent_card.description,\n",
    "        skills=adk_agent_card.skills\n",
    "    )"
   ]
  },
  {
   "cell_type": "markdown",
   "id": "91a97380-0e79-45d7-8307-5ea14b862937",
   "metadata": {
    "tags": []
   },
   "source": [
    "ここでは、一度、ダミーでデプロイして VertexAiSessionService で必要となる Agent Engine のリソース ID を取得した後、リソース ID を指定して再デプロイしています。"
   ]
  },
  {
   "cell_type": "code",
   "execution_count": 11,
   "id": "39904c44-dd8e-473d-8e67-a967b6d39514",
   "metadata": {
    "tags": []
   },
   "outputs": [],
   "source": [
    "def get_agent_resource(agent_name):\n",
    "    for agent in agent_engines.list():\n",
    "        if agent.display_name == agent_name:\n",
    "            return agent.resource_name\n",
    "    return None"
   ]
  },
  {
   "cell_type": "code",
   "execution_count": 91,
   "id": "44a4b2da-9819-47db-86a8-b804308f7871",
   "metadata": {
    "tags": []
   },
   "outputs": [
    {
     "name": "stderr",
     "output_type": "stream",
     "text": [
      "/var/tmp/ipykernel_11563/1362738177.py:71: UserWarning: [EXPERIMENTAL] AgentCardBuilder: ADK Implementation for A2A support (A2aAgentExecutor, RemoteA2aAgent and corresponding supporting components etc.) is in experimental mode and is subjected to breaking changes. A2A protocol and SDK arethemselves not experimental. Once it's stable enough the experimental mode will be removed. Your feedback is welcome.\n",
      "  builder = AgentCardBuilder(agent=agent)\n",
      "The following requirements are missing: {'cloudpickle', 'pydantic', 'a2a'}\n",
      "/var/tmp/ipykernel_11563/1362738177.py:71: UserWarning: [EXPERIMENTAL] AgentCardBuilder: ADK Implementation for A2A support (A2aAgentExecutor, RemoteA2aAgent and corresponding supporting components etc.) is in experimental mode and is subjected to breaking changes. A2A protocol and SDK arethemselves not experimental. Once it's stable enough the experimental mode will be removed. Your feedback is welcome.\n",
      "  builder = AgentCardBuilder(agent=agent)\n",
      "The following requirements are missing: {'cloudpickle', 'pydantic', 'a2a'}\n",
      "/var/tmp/ipykernel_11563/1362738177.py:71: UserWarning: [EXPERIMENTAL] AgentCardBuilder: ADK Implementation for A2A support (A2aAgentExecutor, RemoteA2aAgent and corresponding supporting components etc.) is in experimental mode and is subjected to breaking changes. A2A protocol and SDK arethemselves not experimental. Once it's stable enough the experimental mode will be removed. Your feedback is welcome.\n",
      "  builder = AgentCardBuilder(agent=agent)\n",
      "The following requirements are missing: {'cloudpickle', 'pydantic', 'a2a'}\n",
      "/var/tmp/ipykernel_11563/1362738177.py:71: UserWarning: [EXPERIMENTAL] AgentCardBuilder: ADK Implementation for A2A support (A2aAgentExecutor, RemoteA2aAgent and corresponding supporting components etc.) is in experimental mode and is subjected to breaking changes. A2A protocol and SDK arethemselves not experimental. Once it's stable enough the experimental mode will be removed. Your feedback is welcome.\n",
      "  builder = AgentCardBuilder(agent=agent)\n",
      "The following requirements are missing: {'cloudpickle', 'pydantic', 'a2a'}\n"
     ]
    }
   ],
   "source": [
    "agents = {\n",
    "    'research_agent1_remote': research_agent1,\n",
    "    'research_agent2_remote': research_agent2,\n",
    "    'writer_agent_remote': writer_agent,\n",
    "    'review_agent_remote': review_agent,\n",
    "}\n",
    "\n",
    "client = vertexai.Client(\n",
    "    project=PROJECT_ID,\n",
    "    location=LOCATION,\n",
    "    http_options=HttpOptions(\n",
    "        api_version=\"v1beta1\", base_url=f\"https://{LOCATION}-aiplatform.googleapis.com/\"\n",
    "    ),\n",
    ")\n",
    "\n",
    "for agent_name, agent in agents.items():    \n",
    "    a2a_agent = A2aAgent(\n",
    "        agent_card=await get_agent_card(agent),\n",
    "        agent_executor_builder=get_agent_executor_class(agent, None)\n",
    "    )\n",
    "    config={\n",
    "        \"display_name\": agent_name,\n",
    "        \"description\": a2a_agent.agent_card.description,\n",
    "        \"requirements\": [\n",
    "            'google-adk==1.14.1',\n",
    "            'google-genai==1.36.0',\n",
    "            'google-cloud-aiplatform==1.113.0',\n",
    "            'a2a-sdk==0.3.5'\n",
    "        ],\n",
    "        \"http_options\": {\n",
    "            \"base_url\": f\"https://{LOCATION}-aiplatform.googleapis.com\",\n",
    "            \"api_version\": \"v1beta1\",\n",
    "        },\n",
    "        \"staging_bucket\": f'gs://{PROJECT_ID}',\n",
    "    }\n",
    "\n",
    "    resource_name = get_agent_resource(agent_name)\n",
    "    if not resource_name:\n",
    "        # Deploy dummy agent to assign Agent Engine resource name\n",
    "        remote_a2a_agent = client.agent_engines.create(\n",
    "            agent=a2a_agent,\n",
    "            config=config,\n",
    "        )\n",
    "    \n",
    "    # Redeploy with VertexAiSessionService\n",
    "    resource_name = get_agent_resource(agent_name)\n",
    "    a2a_agent = A2aAgent(\n",
    "        agent_card=await get_agent_card(agent),\n",
    "        agent_executor_builder=get_agent_executor_class(agent, resource_name)\n",
    "    )\n",
    "    remote_a2a_agent = client.agent_engines.update(\n",
    "        name=resource_name,\n",
    "        agent=a2a_agent,\n",
    "        config=config,\n",
    "    )"
   ]
  },
  {
   "cell_type": "markdown",
   "id": "c4e2e8dd-cf01-45c2-b334-351e9a37e458",
   "metadata": {},
   "source": [
    "## RemoteA2aAgent クラスのインスタンスを作成"
   ]
  },
  {
   "cell_type": "code",
   "execution_count": 12,
   "id": "0ffe0106-0d43-44cf-9045-fbfc1696fad8",
   "metadata": {
    "tags": []
   },
   "outputs": [
    {
     "name": "stderr",
     "output_type": "stream",
     "text": [
      "/var/tmp/ipykernel_78673/2722862927.py:29: UserWarning: [EXPERIMENTAL] RemoteA2aAgent: ADK Implementation for A2A support (A2aAgentExecutor, RemoteA2aAgent and corresponding supporting components etc.) is in experimental mode and is subjected to breaking changes. A2A protocol and SDK arethemselves not experimental. Once it's stable enough the experimental mode will be removed. Your feedback is welcome.\n",
      "  research_agent1_remote = RemoteA2aAgent(\n",
      "/var/tmp/ipykernel_78673/2722862927.py:38: UserWarning: [EXPERIMENTAL] RemoteA2aAgent: ADK Implementation for A2A support (A2aAgentExecutor, RemoteA2aAgent and corresponding supporting components etc.) is in experimental mode and is subjected to breaking changes. A2A protocol and SDK arethemselves not experimental. Once it's stable enough the experimental mode will be removed. Your feedback is welcome.\n",
      "  research_agent2_remote = RemoteA2aAgent(\n",
      "/var/tmp/ipykernel_78673/2722862927.py:47: UserWarning: [EXPERIMENTAL] RemoteA2aAgent: ADK Implementation for A2A support (A2aAgentExecutor, RemoteA2aAgent and corresponding supporting components etc.) is in experimental mode and is subjected to breaking changes. A2A protocol and SDK arethemselves not experimental. Once it's stable enough the experimental mode will be removed. Your feedback is welcome.\n",
      "  writer_agent_remote = RemoteA2aAgent(\n",
      "/var/tmp/ipykernel_78673/2722862927.py:56: UserWarning: [EXPERIMENTAL] RemoteA2aAgent: ADK Implementation for A2A support (A2aAgentExecutor, RemoteA2aAgent and corresponding supporting components etc.) is in experimental mode and is subjected to breaking changes. A2A protocol and SDK arethemselves not experimental. Once it's stable enough the experimental mode will be removed. Your feedback is welcome.\n",
      "  review_agent_remote = RemoteA2aAgent(\n"
     ]
    }
   ],
   "source": [
    "import os\n",
    "import httpx\n",
    "from a2a.client import ClientConfig, ClientFactory\n",
    "from a2a.types import TransportProtocol\n",
    "from google.adk import Agent\n",
    "from google.adk.agents.remote_a2a_agent import RemoteA2aAgent\n",
    "from google.auth import default\n",
    "from google.auth.transport.requests import Request\n",
    "\n",
    "\n",
    "credentials, _ = default(scopes=['https://www.googleapis.com/auth/cloud-platform'])\n",
    "credentials.refresh(Request())\n",
    "factory = ClientFactory(\n",
    "    ClientConfig(\n",
    "        supported_transports=[TransportProtocol.http_json],\n",
    "        use_client_preference=True,\n",
    "        httpx_client=httpx.AsyncClient(\n",
    "            timeout=60, # This is important.\n",
    "            headers={\n",
    "                \"Authorization\": f\"Bearer {credentials.token}\",\n",
    "                \"Content-Type\": \"application/json\",\n",
    "            }\n",
    "        ),\n",
    "    )\n",
    ")\n",
    "\n",
    "resource_name = get_agent_resource('research_agent1_remote')\n",
    "a2a_url = f\"https://{LOCATION}-aiplatform.googleapis.com/v1beta1/{resource_name}/a2a\"\n",
    "research_agent1_remote = RemoteA2aAgent(\n",
    "    name=\"research_agent1\",\n",
    "    description='記事の執筆に必要な情報を収集してレポートにまとめるエージェント（テーマ選定）',\n",
    "    agent_card=f\"{a2a_url}/v1/card\",\n",
    "    a2a_client_factory=factory,\n",
    ")\n",
    "\n",
    "resource_name = get_agent_resource('research_agent2_remote')\n",
    "a2a_url = f\"https://{LOCATION}-aiplatform.googleapis.com/v1beta1/{resource_name}/a2a\"\n",
    "research_agent2_remote = RemoteA2aAgent(\n",
    "    name=\"research_agent2\",\n",
    "    description='記事の執筆に必要な情報を収集してレポートにまとめるエージェント（レポート作成）',\n",
    "    agent_card=f\"{a2a_url}/v1/card\",\n",
    "    a2a_client_factory=factory,\n",
    ")\n",
    "\n",
    "resource_name = get_agent_resource('writer_agent_remote')\n",
    "a2a_url = f\"https://{LOCATION}-aiplatform.googleapis.com/v1beta1/{resource_name}/a2a\"\n",
    "writer_agent_remote = RemoteA2aAgent(\n",
    "    name=\"writer_agent\",\n",
    "    description='特定のテーマに関する読み物記事を書くエージェント',\n",
    "    agent_card=f\"{a2a_url}/v1/card\",\n",
    "    a2a_client_factory=factory,\n",
    ")\n",
    "\n",
    "resource_name = get_agent_resource('review_agent_remote')\n",
    "a2a_url = f\"https://{LOCATION}-aiplatform.googleapis.com/v1beta1/{resource_name}/a2a\"\n",
    "review_agent_remote = RemoteA2aAgent(\n",
    "    name=\"review_agent\",\n",
    "    description='読み物記事をレビューするエージェント',\n",
    "    agent_card=f\"{a2a_url}/v1/card\",\n",
    "    a2a_client_factory=factory,\n",
    ")"
   ]
  },
  {
   "cell_type": "markdown",
   "id": "9da4fc34-d659-42d9-8748-595f940ecbe8",
   "metadata": {},
   "source": [
    "## Root agent の定義"
   ]
  },
  {
   "cell_type": "code",
   "execution_count": 13,
   "id": "6bdc24ad-0bd9-4222-a6df-2b9455e8effe",
   "metadata": {
    "tags": []
   },
   "outputs": [],
   "source": [
    "def get_print_agent(text):\n",
    "    def before_model_callback(\n",
    "        callback_context: CallbackContext, llm_request: LlmRequest\n",
    "    ) -> LlmResponse:\n",
    "        return LlmResponse(\n",
    "            content=Content(\n",
    "                role='model', parts=[Part(text=text)],\n",
    "            )\n",
    "        )\n",
    "    return LlmAgent(\n",
    "        name='print_agent',\n",
    "        model='gemini-2.0-flash', # not used\n",
    "        description='',\n",
    "        instruction = '',\n",
    "        before_model_callback=before_model_callback,\n",
    "    )\n",
    "\n",
    "research_agent = SequentialAgent(\n",
    "    name='research_agent',\n",
    "    sub_agents=[\n",
    "        get_print_agent('\\n---\\n## リサーチエージェントが調査レポートを作成します。\\n---\\n'),\n",
    "        get_print_agent('\\n## 調査対象のトピックを選定します。\\n'),\n",
    "        research_agent1_remote,\n",
    "        get_print_agent('\\n## 選定したトピックに基づいて、調査レポートを作成します。\\n'),\n",
    "        research_agent2_remote,\n",
    "        get_print_agent('\\n#### 調査レポートが準備できました。記事の作成に取り掛かってもよいでしょうか？\\n'),\n",
    "    ],\n",
    "    description='記事の執筆に必要な情報を収集してレポートにまとめるエージェント',\n",
    ")\n",
    "\n",
    "write_and_review_agent = SequentialAgent(\n",
    "    name='write_and_review_agent',\n",
    "    sub_agents=[\n",
    "        get_print_agent('\\n---\\n## ライターエージェントが記事を執筆します。\\n---\\n'),\n",
    "        writer_agent_remote,\n",
    "        get_print_agent('\\n---\\n## レビューエージェントが記事をレビューします。\\n---\\n'),\n",
    "        review_agent_remote,\n",
    "       get_print_agent('\\n#### レビューに基づいて記事の修正を依頼しますか？\\n'),\n",
    "    ],\n",
    "    description='記事を作成、レビューする。',\n",
    ")"
   ]
  },
  {
   "cell_type": "code",
   "execution_count": 14,
   "id": "487802cc-2ce0-4622-ba73-d721040e5d3b",
   "metadata": {
    "tags": []
   },
   "outputs": [],
   "source": [
    "root_agent = LlmAgent(\n",
    "    name='article_generation_flow',\n",
    "    model='gemini-2.0-flash',\n",
    "    instruction = '''\n",
    "何ができるか聞かれた場合は、以下の処理をすることをわかりやすくフレンドリーな文章にまとめて返答してください。\n",
    "\n",
    "- ユーザーが指定したテーマの記事を作成する業務フローを実行する。\n",
    "- はじめに、テーマに関する調査レポートを作成する。\n",
    "- その後、ライターエージェントとレビューエージェントが協力して、編集方針に則した記事を作成する。\n",
    "\n",
    "ユーザーが記事のテーマを指定した場合は、次のフローを実行します。\n",
    "\n",
    "1. そのテーマの記事の作成に取り掛かる旨を伝えて、research_agent に転送して、調査レポートを依頼します。\n",
    "2. ユーザー記事の作成を支持したら、write_and_review_agent に転送して、記事の作成とレビューを依頼します。\n",
    "3. ユーザーが記事の修正を希望する場合は、write_and_review_agent に転送します。\n",
    "\n",
    "**条件**\n",
    "research_agent のニックネームは、リサーチエージェント\n",
    "write_and_review_agent のネックネームは、ライターエージェントとレビューエージェント\n",
    "\n",
    "''',\n",
    "    sub_agents=[\n",
    "        research_agent,\n",
    "        write_and_review_agent,\n",
    "    ],\n",
    "    description='記事を作成する業務フローを実行するエージェント'\n",
    ")"
   ]
  },
  {
   "cell_type": "markdown",
   "id": "34d62743-7e2f-40f2-8f55-d49a859a92f8",
   "metadata": {},
   "source": [
    "## 実行例"
   ]
  },
  {
   "cell_type": "code",
   "execution_count": 25,
   "id": "9060e44b-1f29-4d90-bd44-ced836dc13d3",
   "metadata": {
    "tags": []
   },
   "outputs": [
    {
     "name": "stdout",
     "output_type": "stream",
     "text": [
      "こんにちは！私は、ユーザーさんが指定したテーマの記事を作成するお手伝いをすることができます。\n",
      "\n",
      "まず、リサーチエージェントがテーマに関する調査レポートを作成します。その後、ライターエージェントとレビューエージェントが協力して、編集方針に沿った記事を作成します。ご希望のテーマがあれば教えてください！\n",
      "\n"
     ]
    }
   ],
   "source": [
    "client = LocalApp(root_agent)\n",
    "DEBUG = False\n",
    "\n",
    "query = '''\n",
    "こんにちは。何ができますか？\n",
    "'''\n",
    "result = await client.stream(query)"
   ]
  },
  {
   "cell_type": "code",
   "execution_count": 26,
   "id": "808a17fa-3a3b-457e-99c8-601d67fc0753",
   "metadata": {
    "tags": []
   },
   "outputs": [
    {
     "name": "stderr",
     "output_type": "stream",
     "text": [
      "Warning: there are non-text parts in the response: ['function_call'], returning concatenated text result from text parts. Check the full candidates.content.parts accessor to get the full model response.\n",
      "/home/jupyter/.local/lib/python3.10/site-packages/google/adk/agents/remote_a2a_agent.py:382: UserWarning: [EXPERIMENTAL] convert_genai_part_to_a2a_part: ADK Implementation for A2A support (A2aAgentExecutor, RemoteA2aAgent and corresponding supporting components etc.) is in experimental mode and is subjected to breaking changes. A2A protocol and SDK arethemselves not experimental. Once it's stable enough the experimental mode will be removed. Your feedback is welcome.\n",
      "  converted_part = self._genai_part_converter(part)\n"
     ]
    },
    {
     "name": "stdout",
     "output_type": "stream",
     "text": [
      "承知いたしました。「夏の節電対策」をテーマにした記事の作成に取り掛かります。まずは、リサーチエージェントに調査レポートを依頼します。\n",
      "\n",
      "\n",
      "\n",
      "---\n",
      "## リサーチエージェントが調査レポートを作成します。\n",
      "---\n",
      "\n",
      "\n",
      "## 調査対象のトピックを選定します。\n",
      "\n"
     ]
    },
    {
     "name": "stderr",
     "output_type": "stream",
     "text": [
      "/home/jupyter/.local/lib/python3.10/site-packages/google/adk/a2a/converters/event_converter.py:210: UserWarning: [EXPERIMENTAL] convert_a2a_message_to_event: ADK Implementation for A2A support (A2aAgentExecutor, RemoteA2aAgent and corresponding supporting components etc.) is in experimental mode and is subjected to breaking changes. A2A protocol and SDK arethemselves not experimental. Once it's stable enough the experimental mode will be removed. Your feedback is welcome.\n",
      "  return convert_a2a_message_to_event(\n",
      "/home/jupyter/.local/lib/python3.10/site-packages/google/adk/a2a/converters/event_converter.py:280: UserWarning: [EXPERIMENTAL] convert_a2a_part_to_genai_part: ADK Implementation for A2A support (A2aAgentExecutor, RemoteA2aAgent and corresponding supporting components etc.) is in experimental mode and is subjected to breaking changes. A2A protocol and SDK arethemselves not experimental. Once it's stable enough the experimental mode will be removed. Your feedback is welcome.\n",
      "  part = part_converter(a2a_part)\n"
     ]
    },
    {
     "name": "stdout",
     "output_type": "stream",
     "text": [
      "承知いたしました。「夏の節電対策」に関する記事作成のための調査レポート作成に向け、以下のトピックを提案します。\n",
      "\n",
      "### 調査対象トピック\n",
      "\n",
      "1.  **夏の節電が求められる背景と重要性**:\n",
      "    *   電力需給のひっ迫状況や電気料金の高騰傾向。\n",
      "    *   地球温暖化対策としての節電の意義。\n",
      "    *   夏の消費電力の内訳と特徴。\n",
      "2.  **家庭で実践できる具体的な節電対策（家電別）**:\n",
      "    *   エアコンの効率的な使い方（設定温度、併用家電、フィルター清掃など）。\n",
      "    *   冷蔵庫、照明、テレビ、PCなど、その他の主要家電の節電術。\n",
      "    *   省エネ家電への買い替えメリットと選び方。\n",
      "3.  **住まいの構造・生活習慣からの節電対策**:\n",
      "    *   窓や屋根の遮熱・断熱対策（遮光カーテン、すだれ、グリーンカーテンなど）。\n",
      "    *   日中の外出、夕涼みなど、生活リズムと節電の関連性。\n",
      "    *   調理、入浴時の節電工夫。\n",
      "4.  **節電によるメリットと注意点**:\n",
      "    *   電気代節約効果の試算例。\n",
      "    *   環境負荷低減への貢献。\n",
      "    *   熱中症予防と節電の両立方法、健康を損なわないための注意点。\n",
      "5.  **国の施策・自治体や電力会社の取り組み、最新技術**:\n",
      "    *   国の省エネ推進策や補助金制度。\n",
      "    *   自治体や電力会社が提供する節電プログラムやポイント制度。\n",
      "    *   HEMS（ヘムス）やスマート家電など、最新技術を活用した節電方法。\n",
      "\n",
      "## 選定したトピックに基づいて、調査レポートを作成します。\n",
      "\n",
      "## 夏の節電対策に関する調査レポート\n",
      "\n",
      "### 1. 夏の節電が求められる背景と重要性\n",
      "\n",
      "近年、特に夏季は電力需要がピークを迎えやすく、供給予備率の低下から電力需給ひっ迫警報が発令されるケースが増加しています。さらに、国際情勢や燃料費の高騰により電気料金が上昇傾向にあり、家庭や企業における電気代の負担が増大しています。電力の安定供給を確保し、大規模な停電を回避するためにも、社会全体での節電意識の向上が不可欠です。また、化石燃料に依存する発電は温室効果ガスを排出し、地球温暖化を加速させるため、電力消費を抑えることは脱炭素社会の実現に向けた重要な貢献となります。夏の家庭における消費電力はエアコンが半分以上を占めることが多く、ピーク時の需要を大きく押し上げている特徴があります。\n",
      "\n",
      "### 2. 家庭で実践できる具体的な節電対策（家電別）\n",
      "\n",
      "エアコンの効率的な使用は夏の節電の要です。設定温度を夏は28℃を目安にし、扇風機やサーキュレーターを併用することで体感温度を下げることが推奨されます。フィルターを月に1～2回清掃するだけで、冷房効率が向上し約5～10%の節電効果が見込めます。冷蔵庫は、扉の開閉回数を減らし、庫内に食品を詰め込みすぎないことが重要です。照明は不要な場合はこまめに消し、LED照明への交換は消費電力を大幅に削減する効果があります。また、テレビやPCなどの主要家電は、長時間使わない時は主電源を切るか、コンセントを抜くことで待機電力の削減につながります。\n",
      "\n",
      "### 3. 住まいの構造・生活習慣からの節電対策\n",
      "\n",
      "住まいにおける遮熱・断熱対策は、冷房効率を高める上で非常に効果的です。窓からの日差しは室温上昇の主要因となるため、遮光カーテン、ブラインド、すだれなどを活用し、日差しを遮ることが有効です。アサガオやゴーヤで作るグリーンカーテンは、日差しを遮るだけでなく、植物の蒸散作用で周囲の温度を下げる効果も期待できます。生活習慣においても、気温が低い早朝に家事を済ませる、夕方から夜にかけて窓を開けて自然の風を取り入れる「夕涼み」を実践するなどの工夫が有効です。調理時は保温調理器の活用や電子レンジの併用で加熱時間を短縮し、入浴時は家族が続けて入ることで追い焚きの回数を減らすなどの節電が可能です。\n",
      "\n",
      "### 4. 節電によるメリットと注意点\n",
      "\n",
      "節電は、電気代の直接的な削減という家計へのメリットが最も分かりやすい点です。例えば、エアコンの設定温度を1℃上げるだけで、約10%の節電効果があるとされており、年間で数千円から数万円の節約につながる可能性があります。さらに、電力消費の抑制は発電に伴う二酸化炭素（CO2）排出量の削減に直結し、地球温暖化対策への貢献という大きな環境的メリットももたらします。しかし、節電を意識しすぎるあまり、熱中症のリスクを高めてしまうことは絶対に避けるべきです。特に高齢者や乳幼児、基礎疾患を持つ方は、室温管理を優先し、無理のない範囲で節電を行うことが重要です。体調に合わせてエアコンの適切な使用を心がけ、水分補給を怠らないなど、健康を損なわないための注意が必須となります。\n",
      "\n",
      "### 5. 国の施策・自治体や電力会社の取り組み、最新技術\n",
      "\n",
      "国は省エネ推進のために多様な施策を展開しており、経済産業省が主導する省エネ家電買い換えキャンペーンや住宅省エネキャンペーンなどの補助金制度は、家庭の節電投資を後押ししています。多くの自治体も、省エネ家電購入への補助金や太陽光発電設置への助成金などを提供し、地域レベルでの省エネを促進しています。電力会社は、電力需給がひっ迫する時間帯に節電に協力した家庭にポイントや割引を提供するデマンドレスポンス（DR）プログラムを導入し、節電行動へのインセンティブを提供しています。さらに、HEMS（Home Energy Management System）やAI搭載エアコンなどのスマート家電といった最新技術は、家庭内のエネルギー使用量を「見える化」し、自動制御によって効率的な節電を可能にし、快適性を保ちながらの省エネを実現しています。\n",
      "\n",
      "#### 調査レポートが準備できました。記事の作成に取り掛かってもよいでしょうか？\n",
      "\n"
     ]
    }
   ],
   "source": [
    "query = '''\n",
    "「夏の節電対策」をテーマに記事を作成してください。\n",
    "'''\n",
    "result = await client.stream(query)"
   ]
  },
  {
   "cell_type": "code",
   "execution_count": 27,
   "id": "709d9090-24cf-4d1e-9b13-1529e6129c4c",
   "metadata": {
    "tags": []
   },
   "outputs": [
    {
     "name": "stderr",
     "output_type": "stream",
     "text": [
      "Warning: there are non-text parts in the response: ['function_call'], returning concatenated text result from text parts. Check the full candidates.content.parts accessor to get the full model response.\n",
      "/home/jupyter/.local/lib/python3.10/site-packages/google/adk/agents/remote_a2a_agent.py:382: UserWarning: [EXPERIMENTAL] convert_genai_part_to_a2a_part: ADK Implementation for A2A support (A2aAgentExecutor, RemoteA2aAgent and corresponding supporting components etc.) is in experimental mode and is subjected to breaking changes. A2A protocol and SDK arethemselves not experimental. Once it's stable enough the experimental mode will be removed. Your feedback is welcome.\n",
      "  converted_part = self._genai_part_converter(part)\n"
     ]
    },
    {
     "name": "stdout",
     "output_type": "stream",
     "text": [
      "承知いたしました。調査レポートに基づき、ライターエージェントとレビューエージェントに記事の作成とレビューを依頼します。\n",
      "\n",
      "\n",
      "\n",
      "---\n",
      "## ライターエージェントが記事を執筆します。\n",
      "---\n",
      "\n"
     ]
    },
    {
     "name": "stderr",
     "output_type": "stream",
     "text": [
      "/home/jupyter/.local/lib/python3.10/site-packages/google/adk/a2a/converters/event_converter.py:210: UserWarning: [EXPERIMENTAL] convert_a2a_message_to_event: ADK Implementation for A2A support (A2aAgentExecutor, RemoteA2aAgent and corresponding supporting components etc.) is in experimental mode and is subjected to breaking changes. A2A protocol and SDK arethemselves not experimental. Once it's stable enough the experimental mode will be removed. Your feedback is welcome.\n",
      "  return convert_a2a_message_to_event(\n",
      "/home/jupyter/.local/lib/python3.10/site-packages/google/adk/a2a/converters/event_converter.py:280: UserWarning: [EXPERIMENTAL] convert_a2a_part_to_genai_part: ADK Implementation for A2A support (A2aAgentExecutor, RemoteA2aAgent and corresponding supporting components etc.) is in experimental mode and is subjected to breaking changes. A2A protocol and SDK arethemselves not experimental. Once it's stable enough the experimental mode will be removed. Your feedback is welcome.\n",
      "  part = part_converter(a2a_part)\n"
     ]
    },
    {
     "name": "stdout",
     "output_type": "stream",
     "text": [
      "今年の夏も猛暑が予想されますが、同時に気になるのが電気代や電力需給。賢く、そして快適に夏を乗り切るための節電術を一緒に見ていきましょう！\n",
      "\n",
      "## 夏の節電、なぜ大切？\n",
      "\n",
      "「夏の節電」と聞くと、「我慢しなきゃいけないの？」と思う方もいるかもしれませんね。でも実は、単に電気代を安くするだけでなく、もっと大きな理由があるんです。近年、夏は電力の需要がグッと高まり、時に電力需給ひっ迫警報が出るほど。これは、大規模な停電につながる可能性もあるため、私たち一人ひとりの節電が、電力の安定供給を支える大切な行動になります。しかも、電気を作るために使う燃料は高騰中。電気代の値上がりは家計を直撃しています。さらに、電力消費を抑えることは、地球温暖化の原因となる二酸化炭素の排出量を減らすことにもつながる、まさに一石三鳥の取り組みなんです。夏の家庭の消費電力はエアコンが半分以上を占めていることが多いので、ここが節電の大きなポイントになりますよ。\n",
      "\n",
      "## 最新技術で賢く節電！\n",
      "\n",
      "「節電って面倒…」そんな風に感じている方に朗報です！最近は、最新の技術を活用して、快適さを保ちながら賢く節電できる方法が増えています。例えば、「HEMS（Home Energy Management System）」は、家庭内のエネルギー使用量をリアルタイムで「見える化」してくれるシステム。どこでどれだけ電気を使っているかが一目瞭然になるので、無駄遣いを特定しやすくなります。さらに、AIを搭載したエアコンのようなスマート家電は、部屋の状況や人の動きを感知して、自動で最適な運転をしてくれる優れもの。自分で細かく設定しなくても、効率的に節電してくれるので、手間なく快適に過ごせます。国や自治体も、省エネ家電への買い替え補助金制度を用意していることが多いので、これを機に最新家電の導入を検討してみるのも良いでしょう。\n",
      "\n",
      "## 今日からできる！夏の節電アクション\n",
      "\n",
      "「よし、やってみよう！」と思ったあなたに、今日からすぐに実践できる節電対策をいくつかご紹介します。\n",
      "\n",
      "*   **エアコンの設定温度を見直そう**: 夏のエアコンは28℃を目安に設定しましょう。たった1℃上げるだけでも約10%の節電効果があると言われています。\n",
      "*   **扇風機やサーキュレーターを併用**: エアコンと組み合わせることで、冷たい空気を効率よく循環させ、体感温度を下げられます。\n",
      "*   **フィルターの掃除を忘れずに**: エアコンのフィルターが汚れていると、冷房効率が落ちてしまいます。月に1～2回掃除するだけで、約5～10%の節電につながりますよ。\n",
      "*   **窓からの日差しをブロック**: 遮光カーテンやすだれ、グリーンカーテンを活用して、日中の強い日差しを遮りましょう。室温上昇を抑えられます。\n",
      "*   **冷蔵庫に詰め込みすぎない**: 庫内に食品を詰め込みすぎると、冷気の循環が悪くなり、余計な電力を消費します。\n",
      "\n",
      "## 快適さを忘れずに、無理なく節電を\n",
      "\n",
      "節電は、電気代の節約や環境保護に貢献できる素晴らしい取り組みです。しかし、一番大切なのは、あなたの健康です。特に暑い夏には、熱中症予防が最優先。無理な節電は絶対に避け、体調に合わせてエアコンを適切に使いましょう。水分補給も忘れずに。ご紹介した対策を参考に、できることから少しずつ始めて、この夏を賢く、そして快適に乗り切ってくださいね！\n",
      "\n",
      "---\n",
      "## レビューエージェントが記事をレビューします。\n",
      "---\n",
      "\n",
      "この度は記事の執筆お疲れ様でした。夏の節電というタイムリーなテーマで、読者の関心を引きやすい内容だと思います。\n",
      "\n",
      "### 記事の良い点\n",
      "\n",
      "*   **テーマの重要性の説明:** 導入部分で、夏の節電が単なる電気代節約だけでなく、電力安定供給や地球温暖化対策にも繋がるという、多角的な視点からその重要性を分かりやすく解説しています。\n",
      "*   **最新技術の紹介:** HEMSやスマート家電といった最新の節電方法にも触れており、記事に深みと先進性を持たせています。\n",
      "*   **具体的な実践例:** 「今日からできる！夏の節電アクション」として、エアコン設定温度の見直しからフィルター掃除、窓対策、冷蔵庫の使い方まで、幅広い実践例が具体的に紹介されており、読者が行動に移しやすいでしょう。\n",
      "*   **健康への配慮:** 節電と熱中症予防の両立の重要性に触れている点が非常に良いです。読者の健康を第一に考える姿勢が伝わります。\n",
      "\n",
      "### 修正ポイント\n",
      "\n",
      "以下の点について修正をご検討ください。\n",
      "\n",
      "*   **タイトルがありません。** 記事冒頭の「今年の夏も猛暑が予想されますが…」という部分は本文の導入にあたります。記事の条件に沿って、40文字程度の、読者が「すぐに読まなきゃ」と感じるような魅力的なタイトルを `#` を用いて作成してください。\n",
      "*   **導入文の明確化:** タイトル直後に「なぜいまこのテーマを取り上げるのか」をまとめた導入が必要です。現在の冒頭文はリード文としては良いですが、「なぜいまこのテーマを取り上げるのか」という動機付けの要素をさらに強化し、記事の条件に沿った導入として調整してください。\n",
      "*   **サブタイトルに絵文字がありません。** 各セクションのサブタイトル（例: `## 夏の節電、なぜ大切？`）に絵文字を追加し、親しみやすさを出してください。\n",
      "*   **具体例の提示方法の検討:** 現在も実践例は3つ以上ありますが、箇条書きの前に、例えば「ここでは、今日からすぐに始められる具体的な節電アクションを5つご紹介します！」のような導入文を入れることで、読者にとってより分かりやすくなるでしょう。\n",
      "\n",
      "#### レビューに基づいて記事の修正を依頼しますか？\n",
      "\n"
     ]
    }
   ],
   "source": [
    "query = '''\n",
    "お願いします。\n",
    "'''\n",
    "result = await client.stream(query)"
   ]
  },
  {
   "cell_type": "code",
   "execution_count": 28,
   "id": "2d1719ae-7423-4f7b-8069-067e99cfd116",
   "metadata": {
    "tags": []
   },
   "outputs": [
    {
     "name": "stderr",
     "output_type": "stream",
     "text": [
      "Warning: there are non-text parts in the response: ['function_call'], returning concatenated text result from text parts. Check the full candidates.content.parts accessor to get the full model response.\n",
      "/home/jupyter/.local/lib/python3.10/site-packages/google/adk/agents/remote_a2a_agent.py:382: UserWarning: [EXPERIMENTAL] convert_genai_part_to_a2a_part: ADK Implementation for A2A support (A2aAgentExecutor, RemoteA2aAgent and corresponding supporting components etc.) is in experimental mode and is subjected to breaking changes. A2A protocol and SDK arethemselves not experimental. Once it's stable enough the experimental mode will be removed. Your feedback is welcome.\n",
      "  converted_part = self._genai_part_converter(part)\n"
     ]
    },
    {
     "name": "stdout",
     "output_type": "stream",
     "text": [
      "承知いたしました。レビューエージェントからの指摘に基づき、記事の修正をライターエージェントに依頼します。\n",
      "\n",
      "\n",
      "\n",
      "---\n",
      "## ライターエージェントが記事を執筆します。\n",
      "---\n",
      "\n"
     ]
    },
    {
     "name": "stderr",
     "output_type": "stream",
     "text": [
      "/home/jupyter/.local/lib/python3.10/site-packages/google/adk/a2a/converters/event_converter.py:210: UserWarning: [EXPERIMENTAL] convert_a2a_message_to_event: ADK Implementation for A2A support (A2aAgentExecutor, RemoteA2aAgent and corresponding supporting components etc.) is in experimental mode and is subjected to breaking changes. A2A protocol and SDK arethemselves not experimental. Once it's stable enough the experimental mode will be removed. Your feedback is welcome.\n",
      "  return convert_a2a_message_to_event(\n",
      "/home/jupyter/.local/lib/python3.10/site-packages/google/adk/a2a/converters/event_converter.py:280: UserWarning: [EXPERIMENTAL] convert_a2a_part_to_genai_part: ADK Implementation for A2A support (A2aAgentExecutor, RemoteA2aAgent and corresponding supporting components etc.) is in experimental mode and is subjected to breaking changes. A2A protocol and SDK arethemselves not experimental. Once it's stable enough the experimental mode will be removed. Your feedback is welcome.\n",
      "  part = part_converter(a2a_part)\n"
     ]
    },
    {
     "name": "stdout",
     "output_type": "stream",
     "text": [
      "# 夏の賢い節電術で快適＆エコライフ🌻\n",
      "\n",
      "今年の夏も猛暑が予想され、電力ひっ迫のニュースが増えています。家計にも環境にも優しい、賢い節電術を今こそ実践してみませんか？\n",
      "\n",
      "## 概要：夏の節電、なぜ大切？💡\n",
      "\n",
      "夏の節電は、単に電気代を安くするだけでなく、日本の電力供給を安定させ、地球温暖化対策にも貢献する大切な行動です。特に夏はエアコンの使用が増えるため電力需要が跳ね上がり、供給が追いつかなくなるリスクが高まります。私たち一人ひとりの小さな工夫が、大きな力となるのです。無理なく賢く節電を実践することで、快適な夏を過ごしながら、持続可能な社会づくりにも貢献できます。\n",
      "\n",
      "## 最新情報：進化する節電テクノロジー🤖\n",
      "\n",
      "最近では、AIやIoTを活用した新しい節電技術が注目されています。例えば、「HEMS（ヘムス）」と呼ばれる家庭内のエネルギー管理システムは、家電の電力使用量を「見える化」し、自動で最適な運転をサポートします。また、スマートエアコンやスマート照明といった「スマート家電」は、スマホアプリと連携して外出先からの操作やスケジュール設定が可能。人がいない時は自動で電源をオフにしたり、時間帯によって設定を変えたりすることで、無駄な電力消費を大幅に削減できます。これらの技術を上手に活用すれば、快適さを損なわずに効率的な節電が実現可能です。\n",
      "\n",
      "## 実践：今日からできる！夏の節電アクション5選✨\n",
      "\n",
      "ここでは、今日からすぐに始められる具体的な節電アクションを5つご紹介します！\n",
      "\n",
      "*   **エアコンの設定温度を見直す:** 冷房時の設定温度を1℃上げるだけで、約10%の節電効果があると言われています。扇風機やサーキュレーターと併用して、体感温度を下げましょう。\n",
      "*   **定期的なフィルター掃除:** エアコンのフィルターが汚れていると、冷暖房効率が低下し、余分な電力を消費します。2週間に1度を目安に掃除するだけで、年間を通して大きな節電効果が期待できます。\n",
      "*   **窓からの日差しを遮る:** 窓から入る日差しは、室温上昇の大きな原因です。遮光カーテンやすだれ、ブラインドなどを利用して日差しを遮ることで、エアコンの負荷を減らせます。\n",
      "*   **冷蔵庫の使い方を見直す:** 冷蔵庫に食品を詰め込みすぎると、冷気の循環が悪くなり、余分な電力を消費します。また、開閉回数を減らし、開けている時間を短くすることも大切です。\n",
      "*   **使用していない家電のコンセントを抜く:** パソコンやテレビ、充電器など、使っていない家電でもコンセントを差しっぱなしにしていると待機電力が消費されます。こまめにコンセントを抜く習慣をつけましょう。\n",
      "\n",
      "## まとめ：快適とエコの両立を目指そう！🌱\n",
      "\n",
      "夏の節電は、我慢大会ではありません。最新の技術を上手に取り入れたり、ちょっとした工夫をしたりすることで、快適さを保ちながら環境にもお財布にも優しい暮らしが実現できます。熱中症に気をつけながら、賢く、そして楽しく節電に取り組んでいきましょう。\n",
      "\n",
      "---\n",
      "## レビューエージェントが記事をレビューします。\n",
      "---\n",
      "\n",
      "記事を拝見しました。全体的にとても良く書けていると思います。\n",
      "\n",
      "### 記事の良い点\n",
      "\n",
      "*   タイトルの直後に「なぜいまこのテーマを取り上げるのか」が明確に記述されており、読者にこの記事を読む動機づけをしっかり与えています。\n",
      "*   各セクションのサブタイトルに絵文字が使われており、記事全体が親しみやすく、読みやすい印象です。\n",
      "*   読者が今日から実践できる具体的な節電アクションが5つも紹介されており、非常に実践的です。それぞれに効果の目安や理由も書かれていて、説得力があります。\n",
      "*   最新の節電テクノロジーにも触れており、記事の内容に深みと広がりを与えています。\n",
      "*   「まとめ」で読者へのメッセージがしっかり伝えられており、記事全体がまとまっています。\n",
      "\n",
      "### 修正ポイント\n",
      "\n",
      "*   **タイトル（文字数と訴求力）:** 現在のタイトルは「# 夏の賢い節電術で快適＆エコライフ🌻」（21文字）ですが、**「40文字程度」**という条件と、**「すぐに読まなきゃ」と読者が感じる**という点を強化しましょう。現状でも悪くはありませんが、より緊急性や読者メリットを強調する表現にすることで、クリック率や読了率の向上が見込めます。\n",
      "    *   例：「電気代高騰に終止符！猛暑を乗り切る「エアコン我慢なし」賢い節電術5選」\n",
      "    *   例：「夏の電気代、もう怖くない！今日から家計が潤う究極の節電テクニック大公開」\n",
      "    *   例：「エアコンを諦めない！快適なのに電気代が半額になる夏の秘密兵器とは？」\n",
      "\n",
      "#### レビューに基づいて記事の修正を依頼しますか？\n",
      "\n"
     ]
    }
   ],
   "source": [
    "query = '''\n",
    "お願いします。\n",
    "'''\n",
    "result = await client.stream(query)"
   ]
  },
  {
   "cell_type": "code",
   "execution_count": 29,
   "id": "40f8c095-36b6-41d2-b064-7d177894d481",
   "metadata": {
    "tags": []
   },
   "outputs": [
    {
     "name": "stdout",
     "output_type": "stream",
     "text": [
      "# 電気代高騰ストップ！エアコン快適＆家計に優しい夏の節電術🌻\n",
      "\n",
      "今年の夏も猛暑が予想され、電力ひっ迫のニュースが増えています。家計にも環境にも優しい、賢い節電術を今こそ実践してみませんか？\n",
      "\n",
      "## 概要：夏の節電、なぜ大切？💡\n",
      "\n",
      "夏の節電は、単に電気代を安くするだけでなく、日本の電力供給を安定させ、地球温暖化対策にも貢献する大切な行動です。特に夏はエアコンの使用が増えるため電力需要が跳ね上がり、供給が追いつかなくなるリスクが高まります。私たち一人ひとりの小さな工夫が、大きな力となるのです。無理なく賢く節電を実践することで、快適な夏を過ごしながら、持続可能な社会づくりにも貢献できます。\n",
      "\n",
      "## 最新情報：進化する節電テクノロジー🤖\n",
      "\n",
      "最近では、AIやIoTを活用した新しい節電技術が注目されています。例えば、「HEMS（ヘムス）」と呼ばれる家庭内のエネルギー管理システムは、家電の電力使用量を「見える化」し、自動で最適な運転をサポートします。また、スマートエアコンやスマート照明といった「スマート家電」は、スマホアプリと連携して外出先からの操作やスケジュール設定が可能。人がいない時は自動で電源をオフにしたり、時間帯によって設定を変えたりすることで、無駄な電力消費を大幅に削減できます。これらの技術を上手に活用すれば、快適さを損なわずに効率的な節電が実現可能です。\n",
      "\n",
      "## 実践：今日からできる！夏の節電アクション5選✨\n",
      "\n",
      "ここでは、今日からすぐに始められる具体的な節電アクションを5つご紹介します！\n",
      "\n",
      "*   **エアコンの設定温度を見直す:** 冷房時の設定温度を1℃上げるだけで、約10%の節電効果があると言われています。扇風機やサーキュレーターと併用して、体感温度を下げましょう。\n",
      "*   **定期的なフィルター掃除:** エアコンのフィルターが汚れていると、冷暖房効率が低下し、余分な電力を消費します。2週間に1度を目安に掃除するだけで、年間を通して大きな節電効果が期待できます。\n",
      "*   **窓からの日差しを遮る:** 窓から入る日差しは、室温上昇の大きな原因です。遮光カーテンやすだれ、ブラインドなどを利用して日差しを遮ることで、エアコンの負荷を減らせます。\n",
      "*   **冷蔵庫の使い方を見直す:** 冷蔵庫に食品を詰め込みすぎると、冷気の循環が悪くなり、余分な電力を消費します。また、開閉回数を減らし、開けている時間を短くすることも大切です。\n",
      "*   **使用していない家電のコンセントを抜く:** パソコンやテレビ、充電器など、使っていない家電でもコンセントを差しっぱなしにしていると待機電力が消費されます。こまめにコンセントを抜く習慣をつけましょう。\n",
      "\n",
      "## まとめ：快適とエコの両立を目指そう！🌱\n",
      "\n",
      "夏の節電は、我慢大会ではありません。最新の技術を上手に取り入れたり、ちょっとした工夫をしたりすることで、快適さを保ちながら環境にもお財布にも優しい暮らしが実現できます。熱中症に気をつけながら、賢く、そして楽しく節電に取り組んでいきましょう。\n",
      "\n"
     ]
    }
   ],
   "source": [
    "query = '''\n",
    "これで完成です。全文を表示してください。\n",
    "'''\n",
    "result = await client.stream(query)"
   ]
  }
 ],
 "metadata": {
  "environment": {
   "kernel": "conda-base-py",
   "name": "workbench-notebooks.m129",
   "type": "gcloud",
   "uri": "us-docker.pkg.dev/deeplearning-platform-release/gcr.io/workbench-notebooks:m129"
  },
  "kernelspec": {
   "display_name": "Python 3 (ipykernel) (Local)",
   "language": "python",
   "name": "conda-base-py"
  },
  "language_info": {
   "codemirror_mode": {
    "name": "ipython",
    "version": 3
   },
   "file_extension": ".py",
   "mimetype": "text/x-python",
   "name": "python",
   "nbconvert_exporter": "python",
   "pygments_lexer": "ipython3",
   "version": "3.10.16"
  }
 },
 "nbformat": 4,
 "nbformat_minor": 5
}
