{
 "cells": [
  {
   "cell_type": "markdown",
   "id": "4c8a9ebe-452e-4ea9-b918-0ae954ff66bc",
   "metadata": {
    "tags": []
   },
   "source": [
    "## Preparation"
   ]
  },
  {
   "cell_type": "markdown",
   "id": "d42003ce-f5f3-437b-85b6-31b800577089",
   "metadata": {},
   "source": [
    "1. Enable APIs (Run on Cloud Shell)\n",
    "```bash\n",
    "gcloud services enable \\\n",
    "  aiplatform.googleapis.com \\\n",
    "  notebooks.googleapis.com \\\n",
    "  cloudresourcemanager.googleapis.com \\\n",
    "  calendar-json.googleapis.com\n",
    "```\n",
    "\n",
    "2. Create Vertex AI Workbench instance (Run on Cloud Shell)\n",
    "```bash\n",
    "PROJECT_ID=$(gcloud config list --format 'value(core.project)')\n",
    "gcloud workbench instances create agent-development \\\n",
    "  --project=$PROJECT_ID \\\n",
    "  --location=us-central1-a \\\n",
    "  --machine-type=e2-standard-2\n",
    "```\n",
    "\n",
    "3. [Configure the OAuth consent screen and choose scopes](https://developers.google.com/workspace/guides/configure-oauth-consent)\n",
    "  - Select Internal user type.\n",
    " \n",
    "4. [Configure OAuth client ID credentials](https://developers.google.com/workspace/guides/create-credentials#oauth-client-id)\n",
    "  - Create \"Web application\" client and add `https://www.example.com` to the authorized redirect URI.\n",
    "  - Download the client secret JSON file as `credentials.json`\n",
    "\n",
    "5. Navigate to [Workbench Instances](https://console.cloud.google.com/vertex-ai/workbench/instances) on Cloud Console and open [JupyterLab].\n",
    "  - Open a new \"Python 3(ipykernel)\" notebook.\n",
    "  - Upload `credentials.json` to the current directory.\n",
    "  \n",
    "Now you can follow the notebook contents below."
   ]
  },
  {
   "cell_type": "markdown",
   "id": "ef77b422-52ea-4151-8e42-2b62de0871eb",
   "metadata": {
    "tags": []
   },
   "source": [
    "## Install packages"
   ]
  },
  {
   "cell_type": "code",
   "execution_count": null,
   "id": "bc793dfe-4237-4f0f-84a6-904f16e55558",
   "metadata": {
    "tags": []
   },
   "outputs": [],
   "source": [
    "%pip install --upgrade --user \\\n",
    "    google-api-python-client \\\n",
    "    google-auth-httplib2 google-auth-oauthlib \\\n",
    "    google-genai \\\n",
    "    google-adk"
   ]
  },
  {
   "cell_type": "code",
   "execution_count": null,
   "id": "752bf75d-a94d-4018-bb09-39b853695e3a",
   "metadata": {},
   "outputs": [],
   "source": [
    "import IPython\n",
    "app = IPython.Application.instance()\n",
    "_ = app.kernel.do_shutdown(True)"
   ]
  },
  {
   "cell_type": "markdown",
   "id": "772af96a-7ed6-4ee0-b8eb-f91856a097ad",
   "metadata": {
    "tags": []
   },
   "source": [
    "## Define tools"
   ]
  },
  {
   "cell_type": "code",
   "execution_count": 1,
   "id": "02b77766-a193-4d54-85b2-2ac2c34a07ca",
   "metadata": {
    "tags": []
   },
   "outputs": [],
   "source": [
    "import os, json, pprint, datetime, uuid\n",
    "import vertexai\n",
    "from google import genai\n",
    "from google.genai.types import (\n",
    "    HttpOptions, GenerateContentConfig,\n",
    "    Part, UserContent, ModelContent\n",
    ")\n",
    "\n",
    "[PROJECT_ID] = !gcloud config list --format 'value(core.project)'\n",
    "LOCATION = 'us-central1'\n",
    "\n",
    "vertexai.init(project=PROJECT_ID, location=LOCATION)\n",
    "\n",
    "os.environ['GOOGLE_CLOUD_PROJECT'] = PROJECT_ID\n",
    "os.environ['GOOGLE_CLOUD_LOCATION'] = LOCATION\n",
    "os.environ['GOOGLE_GENAI_USE_VERTEXAI'] = 'True'"
   ]
  },
  {
   "cell_type": "code",
   "execution_count": 2,
   "id": "962084e3-0476-495b-8e7d-a54ae5d7f622",
   "metadata": {
    "tags": []
   },
   "outputs": [
    {
     "name": "stdout",
     "output_type": "stream",
     "text": [
      "  % Total    % Received % Xferd  Average Speed   Time    Time     Time  Current\n",
      "                                 Dload  Upload   Total   Spent    Left  Speed\n",
      "  0     0    0     0    0     0      0      0 --:--:-- --:--:-- --:--:--     0\n",
      "100  386k  100  386k    0     0  1342k      0 --:--:-- --:--:-- --:--:-- 6238k\n",
      "Copying file://event_sample.pdf [Content-Type=application/pdf]...\n",
      "/ [1 files][386.8 KiB/386.8 KiB]                                                \n",
      "Operation completed over 1 objects/386.8 KiB.                                    \n"
     ]
    }
   ],
   "source": [
    "!curl -OL https://github.com/enakai00/adk_examples/raw/main/misc/event_sample.pdf\n",
    "!gsutil cp event_sample.pdf gs://{PROJECT_ID}/"
   ]
  },
  {
   "cell_type": "markdown",
   "id": "10198824-8fcc-430c-8f78-41939b22f8cf",
   "metadata": {
    "tags": []
   },
   "source": [
    "### Tool to extract event info from PDF"
   ]
  },
  {
   "cell_type": "code",
   "execution_count": 3,
   "id": "e0ea4256-c077-4eb3-89b7-58e63463640a",
   "metadata": {
    "tags": []
   },
   "outputs": [],
   "source": [
    "def generate_response(system_instruction, contents,\n",
    "                      response_schema, temperature=0.4,\n",
    "                      model='gemini-2.0-flash-001'):\n",
    "    client = genai.Client(vertexai=True,\n",
    "                          project=PROJECT_ID, location=LOCATION,\n",
    "                          http_options=HttpOptions(api_version='v1'))\n",
    "    response = client.models.generate_content(\n",
    "        model=model,\n",
    "        contents=contents,\n",
    "        config=GenerateContentConfig(\n",
    "            system_instruction=system_instruction,\n",
    "            temperature=temperature,\n",
    "            response_mime_type='application/json',\n",
    "            response_schema=response_schema,\n",
    "        )\n",
    "    )\n",
    "    return '\\n'.join(\n",
    "        [p.text for p in response.candidates[0].content.parts if p.text]\n",
    "    )"
   ]
  },
  {
   "cell_type": "code",
   "execution_count": 4,
   "id": "77f0be68-106c-4220-90c2-bf493a7b3d07",
   "metadata": {
    "tags": []
   },
   "outputs": [],
   "source": [
    "def _get_event_from_pdf(file_name):\n",
    "    \n",
    "    file_uri = f'gs://{PROJECT_ID}/{file_name}'\n",
    "\n",
    "    response_schema = {\n",
    "        \"type\": \"object\",\n",
    "        \"properties\": {\n",
    "            \"title\":  {\"type\": \"string\"},\n",
    "            \"date_time\": {\"type\": \"string\"},\n",
    "            \"duration_minutes\":  {\"type\": \"string\"},\n",
    "            \"location\": {\"type\": \"string\"},\n",
    "            },\n",
    "        \"required\": [\"title\", \"date_time\", \"duration_minutes\", \"location\"],\n",
    "    }\n",
    "    system_instruction = '''\n",
    "Extract event information from PDF file.\n",
    "try to add as much information as possible to title.\n",
    "data_time format is '%Y-%m-%dT%H:%M:%S%z'.\n",
    "If duration_minutes is not available set it \"unknown\" as default.\n",
    "If lacation is not available set it \"unknown\" as default.\n",
    "'''\n",
    "\n",
    "    parts = []\n",
    "    parts.append(Part.from_text(text='[PDF]'))\n",
    "    parts.append(Part.from_uri(file_uri=file_uri, mime_type='application/pdf'))\n",
    "    contents=[UserContent(parts=parts)]\n",
    "\n",
    "    return generate_response(system_instruction, contents,\n",
    "                             response_schema, temperature=0.2)\n",
    "\n",
    "\n",
    "def get_event_from_pdf(file_name: str) -> dict:\n",
    "    \"\"\"\n",
    "    Extract event information from PDF file.\n",
    "   \n",
    "    Args:\n",
    "        file_name: file name of the PDF\n",
    "\n",
    "    Returns:\n",
    "        dict: A dictionary containing the event information\n",
    "            title: Tile of the event\n",
    "            date_time: Start data/time of the event in '%Y-%m-%dT%H:%M:%S%z'\n",
    "            duration_minutes: Time duration of the event in minutes\n",
    "            location: Location of the event\n",
    "    \"\"\"\n",
    "    response = _get_event_from_pdf(file_name)\n",
    "    return json.loads(response)"
   ]
  },
  {
   "cell_type": "code",
   "execution_count": 5,
   "id": "f6e12add-979e-40cf-b163-5d793dc6a3f6",
   "metadata": {
    "tags": []
   },
   "outputs": [
    {
     "data": {
      "text/plain": [
       "{'date_time': '2025-06-13T19:00:00+09:00',\n",
       " 'duration_minutes': '120',\n",
       " 'location': 'Google 渋谷オフィス',\n",
       " 'title': 'GDG Tokyo Build with AI: Python x Gemini 2.0 API ハンズオン'}"
      ]
     },
     "execution_count": 5,
     "metadata": {},
     "output_type": "execute_result"
    }
   ],
   "source": [
    "get_event_from_pdf('event_sample.pdf')"
   ]
  },
  {
   "cell_type": "markdown",
   "id": "026b1491-a5d2-4101-9cff-99639709647c",
   "metadata": {
    "tags": []
   },
   "source": [
    "### Google login"
   ]
  },
  {
   "cell_type": "code",
   "execution_count": 6,
   "id": "71e951f2-6bcd-4467-be70-10cfa19f033a",
   "metadata": {
    "tags": []
   },
   "outputs": [],
   "source": [
    "from google.auth.transport.requests import Request\n",
    "from google.oauth2.credentials import Credentials\n",
    "from google_auth_oauthlib.flow import InstalledAppFlow\n",
    "from googleapiclient.discovery import build\n",
    "from googleapiclient.errors import HttpError\n",
    "from urllib.parse import urlparse, parse_qs\n",
    "\n",
    "def google_login():\n",
    "    SCOPES = [\"https://www.googleapis.com/auth/calendar\"]\n",
    "    creds = None    \n",
    "    flow = InstalledAppFlow.from_client_secrets_file(\n",
    "        \"credentials.json\", SCOPES, redirect_uri='https://www.example.com',\n",
    "    )\n",
    "    auth_url, _ = flow.authorization_url(prompt='consent')\n",
    "    print('Please open the following URL in your browser and authorize the application:')\n",
    "    print(auth_url)\n",
    "    url = input('Enter the URL of the redirected page here: ')\n",
    "    parsed_url = urlparse(url)\n",
    "    code = parse_qs(parsed_url.query)['code'][0]\n",
    "    flow.fetch_token(code=code)\n",
    "    creds = flow.credentials\n",
    "    with open('token.json', 'w') as token:\n",
    "        token.write(creds.to_json())\n",
    "    print('Access token has been stored in \"token.json\".')"
   ]
  },
  {
   "cell_type": "code",
   "execution_count": null,
   "id": "19a36e71-e7ea-4a53-a632-32b3e952c0fc",
   "metadata": {},
   "outputs": [],
   "source": [
    "_ = google_login()"
   ]
  },
  {
   "cell_type": "markdown",
   "id": "1ada1e29-f458-46bf-9428-16bb9cf0c498",
   "metadata": {
    "tags": []
   },
   "source": [
    "### Tool to interact with Google Calendar"
   ]
  },
  {
   "cell_type": "code",
   "execution_count": 7,
   "id": "e2514735-fd3f-4700-a540-edb7338f237b",
   "metadata": {
    "tags": []
   },
   "outputs": [],
   "source": [
    "def get_current_datetime():\n",
    "    \"\"\"\n",
    "    Get the current date/time\n",
    "   \n",
    "    Args: None\n",
    "        \n",
    "    Returns:\n",
    "        dict: A dictionary containing the current date/time in '%Y-%m-%dT%H:%M:%S%z'\n",
    "    \"\"\"\n",
    "    now = datetime.datetime.now(datetime.timezone.utc).strftime('%Y-%m-%dT%H:%M:%S%z')\n",
    "    return {'now': now}"
   ]
  },
  {
   "cell_type": "code",
   "execution_count": 8,
   "id": "abe8e314-5a15-46df-82f6-cc38f51c5887",
   "metadata": {
    "tags": []
   },
   "outputs": [],
   "source": [
    "def _get_upcoming_events():\n",
    "    SCOPES = ['https://www.googleapis.com/auth/calendar']\n",
    "    creds = None\n",
    "    if os.path.exists('token.json'):\n",
    "        creds = Credentials.from_authorized_user_file('token.json', SCOPES)\n",
    "    if not creds or not creds.valid:\n",
    "        if creds and creds.expired and creds.refresh_token:\n",
    "            creds.refresh(Request())\n",
    "    try:\n",
    "        service = build('calendar', 'v3', credentials=creds)\n",
    "        now = datetime.datetime.now(datetime.timezone.utc).strftime('%Y-%m-%dT%H:%M:%S%z')\n",
    "        now = now[:-2] + ':' + now[-2:] # Format to include colon in timezone offset\n",
    "        events_result = (\n",
    "            service.events()\n",
    "            .list(\n",
    "                calendarId=\"primary\",\n",
    "                timeMin=now,\n",
    "                maxResults=10,\n",
    "                singleEvents=True,\n",
    "                orderBy=\"startTime\",\n",
    "            )\n",
    "            .execute()\n",
    "        )\n",
    "        events = events_result.get(\"items\", [])\n",
    "        result = []\n",
    "        for event in events:\n",
    "            start = event[\"start\"].get(\"dateTime\", event[\"start\"].get(\"date\"))\n",
    "            end = event[\"end\"].get(\"dateTime\", event[\"start\"].get(\"date\"))\n",
    "            if 'attendees' in event.keys():\n",
    "                attendees = [item.get('email') for item in event['attendees']]\n",
    "            else:\n",
    "                attendees = []\n",
    "            result.append({\n",
    "                'start': start,\n",
    "                'end': end,\n",
    "                'attendees': attendees,\n",
    "                'event': event['summary']\n",
    "            })\n",
    "        return {'upcoming_events': result}\n",
    "\n",
    "    except HttpError as error:\n",
    "        return {'error': error}\n",
    "        \n",
    "\n",
    "def get_upcoming_events() -> dict:\n",
    "    \"\"\"\n",
    "    Get upcoming events in Google Calendar\n",
    "   \n",
    "    Args: None\n",
    "        \n",
    "    Returns:\n",
    "        dict: A dictionary where the 'upcoming_events' element contains\n",
    "              a list of upcoming events in Google Calendar.\n",
    "              Each item in the list is a dict with the following keys.\n",
    "            - start: Start data/time of the event\n",
    "            - end: end data/time of the event\n",
    "            - attendees: list of attendees\n",
    "            - event: Summary of the event\n",
    "    \"\"\"\n",
    "    response = _get_upcoming_events()\n",
    "    return response"
   ]
  },
  {
   "cell_type": "code",
   "execution_count": 9,
   "id": "de37748a-4e15-4c63-ae9b-19c95f699ba0",
   "metadata": {
    "tags": []
   },
   "outputs": [
    {
     "data": {
      "text/plain": [
       "{'upcoming_events': [{'start': '2025-05-12T14:00:00+09:00',\n",
       "   'end': '2025-05-12T15:00:00+09:00',\n",
       "   'attendees': ['etsuji@example.com'],\n",
       "   'event': 'meeting with etsuji'},\n",
       "  {'start': '2025-05-12T19:00:00+09:00',\n",
       "   'end': '2025-05-12T21:00:00+09:00',\n",
       "   'attendees': [],\n",
       "   'event': '誕生日会'}]}"
      ]
     },
     "execution_count": 9,
     "metadata": {},
     "output_type": "execute_result"
    }
   ],
   "source": [
    "get_upcoming_events()"
   ]
  },
  {
   "cell_type": "code",
   "execution_count": 10,
   "id": "ab10387a-457b-4e08-9d75-fe870b6af2ab",
   "metadata": {
    "tags": []
   },
   "outputs": [],
   "source": [
    "def _create_event(start_datetime, end_datetime, title, attendees):\n",
    "    SCOPES = ['https://www.googleapis.com/auth/calendar']\n",
    "    creds = None\n",
    "    if os.path.exists('token.json'):\n",
    "        creds = Credentials.from_authorized_user_file('token.json', SCOPES)\n",
    "    if not creds or not creds.valid:\n",
    "        if creds and creds.expired and creds.refresh_token:\n",
    "            creds.refresh(Request())\n",
    "    try:\n",
    "        service = build(\"calendar\", \"v3\", credentials=creds)\n",
    "        event = {\n",
    "            'summary': title,\n",
    "            'start': {\n",
    "                'dateTime': start_datetime,\n",
    "            },\n",
    "            'end': {\n",
    "                'dateTime': end_datetime,\n",
    "            },\n",
    "            'attendees': [{'email': item} for item in attendees],\n",
    "        }\n",
    "        event = service.events().insert(calendarId='primary', body=event).execute()\n",
    "        return {'htmlLink': event.get('htmlLink')}\n",
    "\n",
    "    except HttpError as error:\n",
    "        return {'error': error}\n",
    "    \n",
    "def create_event(start_datetime: str, end_datetime: str, title: str, attendees: list) -> dict:\n",
    "    \"\"\"\n",
    "    Create a calendar event\n",
    "   \n",
    "    Args:\n",
    "        start_datetime: start date/time of the event in '%Y-%m-%dT%H:%M:%S%z'\n",
    "        end_datetime: end date/time of the event in '%Y-%m-%dT%H:%M:%S%z'\n",
    "        title: title of the event\n",
    "        attendees: list of attendees' email address\n",
    "        \n",
    "    Returns:\n",
    "        dict: A dictionary containing the event link.\n",
    "    \"\"\"\n",
    "    response = _create_event(start_datetime, end_datetime, title, attendees)\n",
    "    return response"
   ]
  },
  {
   "cell_type": "markdown",
   "id": "2a165439-165f-4dc0-bdb6-af8760d04640",
   "metadata": {
    "tags": []
   },
   "source": [
    "## Calendar Agent"
   ]
  },
  {
   "cell_type": "code",
   "execution_count": 11,
   "id": "c2d93d67-fb84-4d6a-bf57-0e9c17dda107",
   "metadata": {
    "tags": []
   },
   "outputs": [],
   "source": [
    "from google.adk.agents.llm_agent import LlmAgent\n",
    "from google.adk.artifacts import InMemoryArtifactService\n",
    "from google.adk.memory.in_memory_memory_service import InMemoryMemoryService\n",
    "from google.adk.runners import Runner\n",
    "from google.adk.sessions import InMemorySessionService"
   ]
  },
  {
   "cell_type": "code",
   "execution_count": 12,
   "id": "3f09bdc5-16e1-41f1-a60d-d57d6270ebe4",
   "metadata": {
    "tags": []
   },
   "outputs": [],
   "source": [
    "instruction = \"\"\"\n",
    "    You are an agent who handles user's google calendar events.\n",
    "    Your entire output should be in Japanese. No markdowns.\n",
    "    \n",
    "    **General conditions**\n",
    "    - Timezone is JST.\n",
    "    - When the user mentions relative date/time such as today, tomorrow, etc., don't assume the date/time yourself.\n",
    "      Instead, use get_current_datetime() first to know the current data/time,\n",
    "      then convert the relative date/time into absolute date/time based on the current date/time.\n",
    "    \n",
    "    **Interaction flow:**\n",
    "\n",
    "    1. Queries about upcoming events:\n",
    "        * If the user asks about upcoming events,\n",
    "          get calendar events using get_upcoming_events() to handle the query.\n",
    "          - Show event information in a well-structured human-readable ascii table format.\n",
    "            date/time format is '%Y-%m-%d %H:%M:%S'. Header is in Japanese.\n",
    "          \n",
    "    2. Queries about PDF file:\n",
    "        * If the user asks about PDF file with specifying the filename,\n",
    "          use get_event_from_pdf() to extract event information from the PDF to handle the query.\n",
    "         \n",
    "    3. Create a calendar event:\n",
    "        * If the user asks to create a new calendar event, follow the steps below:\n",
    "          - Use get_current_datetime() to know the current date/time.\n",
    "          - Collect information about the event such as start date/time, end date/time (or duration),\n",
    "            title, attendees' email address)\n",
    "          - Show the event information to be created in a well-strctured human-readable bullet list format.\n",
    "          - Get an approval from the user and use create_events() to create an event in the calendar,\n",
    "            then show the event url in HTML such as <a href=\"__URL__\">リンク</a>\n",
    "\"\"\""
   ]
  },
  {
   "cell_type": "code",
   "execution_count": 13,
   "id": "752d62ee-66f8-4702-836b-df5eabe7bea6",
   "metadata": {
    "tags": []
   },
   "outputs": [],
   "source": [
    "calendar_agent = LlmAgent(\n",
    "    model='gemini-2.0-flash-001',\n",
    "    name='calendar_client_agent',\n",
    "    description=(\n",
    "        'This agent handles queries regarding calendar events.'\n",
    "    ),\n",
    "    instruction=instruction,\n",
    "    tools=[\n",
    "        get_current_datetime,\n",
    "        get_upcoming_events,\n",
    "        get_event_from_pdf,\n",
    "        create_event,\n",
    "    ],\n",
    ")"
   ]
  },
  {
   "cell_type": "code",
   "execution_count": 14,
   "id": "94df7354-7bcd-4a09-89b2-2bbfe32cbac8",
   "metadata": {
    "tags": []
   },
   "outputs": [],
   "source": [
    "class LocalApp:\n",
    "    def __init__(self, agent, user_id='default_user'):\n",
    "        self._agent = agent\n",
    "        self._user_id = user_id\n",
    "        self._runner = Runner(\n",
    "            app_name=self._agent.name,\n",
    "            agent=self._agent,\n",
    "            artifact_service=InMemoryArtifactService(),\n",
    "            session_service=InMemorySessionService(),\n",
    "            memory_service=InMemoryMemoryService(),\n",
    "        )\n",
    "        self._session = self._runner.session_service.create_session(\n",
    "            app_name=self._agent.name,\n",
    "            user_id=self._user_id,\n",
    "            state={},\n",
    "            session_id=uuid.uuid4().hex,\n",
    "        )\n",
    "        \n",
    "    async def stream(self, query):\n",
    "        content = UserContent(parts=[Part.from_text(text=query)])\n",
    "        async_events = self._runner.run_async(\n",
    "            user_id=self._user_id,\n",
    "            session_id=self._session.id,\n",
    "            new_message=content,\n",
    "        )\n",
    "        result = []\n",
    "        agent_name = None\n",
    "        async for event in async_events:\n",
    "            if DEBUG:\n",
    "                print(f'----\\n{event}\\n----')\n",
    "            if (event.content and event.content.parts):\n",
    "                response = ''\n",
    "                for p in event.content.parts:\n",
    "                    if p.text:\n",
    "                        response += f'[{event.author}]\\n\\n{p.text}\\n'\n",
    "                if response:\n",
    "                    print(response)\n",
    "                    result.append(response)\n",
    "        return result"
   ]
  },
  {
   "cell_type": "markdown",
   "id": "36aadcd5-330d-4e62-8321-debf9693162e",
   "metadata": {
    "tags": []
   },
   "source": [
    "## Test run"
   ]
  },
  {
   "cell_type": "code",
   "execution_count": 15,
   "id": "122ee65c-5232-489b-a634-ea2c63b9b0d6",
   "metadata": {
    "tags": []
   },
   "outputs": [],
   "source": [
    "client = LocalApp(calendar_agent)\n",
    "DEBUG = False"
   ]
  },
  {
   "cell_type": "code",
   "execution_count": 16,
   "id": "0f13b373-bcc0-44fa-b6a4-f6c54caca9a3",
   "metadata": {
    "tags": []
   },
   "outputs": [
    {
     "name": "stdout",
     "output_type": "stream",
     "text": [
      "[calendar_client_agent]\n",
      "\n",
      "カレンダーイベントに関するお問い合わせに対応できます。例えば、今後のイベントの確認、PDFファイルからのイベント情報の抽出、カレンダーイベントの作成などです。\n",
      "\n"
     ]
    }
   ],
   "source": [
    "query = '''\n",
    "何ができますか？\n",
    "'''\n",
    "\n",
    "_ = await client.stream(query)"
   ]
  },
  {
   "cell_type": "code",
   "execution_count": 17,
   "id": "8a5aaee0-ef74-4fed-96b0-551fed564b71",
   "metadata": {
    "tags": []
   },
   "outputs": [
    {
     "name": "stderr",
     "output_type": "stream",
     "text": [
      "Warning: there are non-text parts in the response: ['function_call'],returning concatenated text result from text parts,check out the non text parts for full response from model.\n"
     ]
    },
    {
     "name": "stdout",
     "output_type": "stream",
     "text": [
      "[calendar_client_agent]\n",
      "\n",
      "今後の予定は以下の通りです。\n",
      "\n",
      "| 開始日時            | 終了日時            | イベント名           | 参加者                      |\n",
      "| ------------------- | ------------------- | ----------------- | ------------------------- |\n",
      "| 2025-05-12 14:00:00 | 2025-05-12 15:00:00 | meeting with etsuji | etsuji@example.com        |\n",
      "| 2025-05-12 19:00:00 | 2025-05-12 21:00:00 | 誕生日会             |                           |\n",
      "\n"
     ]
    }
   ],
   "source": [
    "query = '''\n",
    "この後の予定は？\n",
    "'''\n",
    "\n",
    "_ = await client.stream(query)"
   ]
  },
  {
   "cell_type": "code",
   "execution_count": 18,
   "id": "bfed8b66-ff89-4400-b14c-9072ac1d98b7",
   "metadata": {
    "tags": []
   },
   "outputs": [
    {
     "name": "stderr",
     "output_type": "stream",
     "text": [
      "Warning: there are non-text parts in the response: ['function_call'],returning concatenated text result from text parts,check out the non text parts for full response from model.\n"
     ]
    },
    {
     "name": "stdout",
     "output_type": "stream",
     "text": [
      "[calendar_client_agent]\n",
      "\n",
      "明日の12:00から30分、田中さんと Agentspace の打ち合わせですね。以下の内容でよろしいでしょうか？\n",
      "\n",
      "*   タイトル: Agentspace の打ち合わせ\n",
      "*   開始日時: 2025-05-13 12:00:00\n",
      "*   終了日時: 2025-05-13 12:30:00\n",
      "*   参加者: tanaka@example.com\n",
      "\n",
      "よろしければ「はい」と、修正が必要な場合は修正内容をお知らせください。\n",
      "\n",
      "\n"
     ]
    }
   ],
   "source": [
    "query = '''\n",
    "明日、１２時から３０分、田中さんと Agentspace の打ち合わせを入れて。\n",
    "メアドは tanaka@example.com\n",
    "'''\n",
    "\n",
    "_ = await client.stream(query)"
   ]
  },
  {
   "cell_type": "code",
   "execution_count": 19,
   "id": "acc72a50-f082-4a07-a0aa-cc46fd843bd8",
   "metadata": {
    "tags": []
   },
   "outputs": [
    {
     "name": "stderr",
     "output_type": "stream",
     "text": [
      "Warning: there are non-text parts in the response: ['function_call'],returning concatenated text result from text parts,check out the non text parts for full response from model.\n"
     ]
    },
    {
     "name": "stdout",
     "output_type": "stream",
     "text": [
      "[calendar_client_agent]\n",
      "\n",
      "カレンダーにイベントを作成します。\n",
      "\n",
      "\n",
      "[calendar_client_agent]\n",
      "\n",
      "イベントを作成しました。\n",
      "\n",
      "<a href=\"https://www.google.com/calendar/event?eid=cHRsbTE5czBpbHR0NWE2OGljaGZqaGY1ZDggYWRtaW5AZW5ha2FpLmFsdG9zdHJhdC5jb20\">リンク</a>\n",
      "\n",
      "\n"
     ]
    }
   ],
   "source": [
    "query = '''\n",
    "はい。\n",
    "'''\n",
    "_ = await client.stream(query)"
   ]
  },
  {
   "cell_type": "code",
   "execution_count": 20,
   "id": "4051216a-2cf0-401c-b52b-1cf5b2a12dad",
   "metadata": {
    "tags": []
   },
   "outputs": [
    {
     "name": "stderr",
     "output_type": "stream",
     "text": [
      "Warning: there are non-text parts in the response: ['function_call'],returning concatenated text result from text parts,check out the non text parts for full response from model.\n"
     ]
    },
    {
     "name": "stdout",
     "output_type": "stream",
     "text": [
      "[calendar_client_agent]\n",
      "\n",
      "event_sample.pdf からイベント情報を抽出します。\n",
      "\n",
      "\n",
      "[calendar_client_agent]\n",
      "\n",
      "ファイル event_sample.pdf から抽出されたイベント情報は以下の通りです。\n",
      "\n",
      "*   タイトル: Python x Gemini 2.0 API ハンズオン\n",
      "*   開始日時: 2025-06-13 19:00:00\n",
      "*   終了日時: 2025-06-13 21:00:00\n",
      "*   場所: Google 渋谷オフィス\n",
      "*   参加者: enakai@example.com\n",
      "\n",
      "このイベントに参加しますか？よろしければ「はい」と、修正が必要な場合は修正内容をお知らせください。\n",
      "\n",
      "\n"
     ]
    }
   ],
   "source": [
    "query = '''\n",
    "ファイル event_sample.pdf のイベントに参加します。参加者は、enakai@example.com\n",
    "'''\n",
    "\n",
    "_ = await client.stream(query)"
   ]
  },
  {
   "cell_type": "code",
   "execution_count": 21,
   "id": "fb1c6358-54bb-43e4-ba76-88f5465ad440",
   "metadata": {
    "tags": []
   },
   "outputs": [
    {
     "name": "stderr",
     "output_type": "stream",
     "text": [
      "Warning: there are non-text parts in the response: ['function_call'],returning concatenated text result from text parts,check out the non text parts for full response from model.\n"
     ]
    },
    {
     "name": "stdout",
     "output_type": "stream",
     "text": [
      "[calendar_client_agent]\n",
      "\n",
      "カレンダーにイベントを作成します。\n",
      "\n",
      "\n",
      "[calendar_client_agent]\n",
      "\n",
      "イベントを作成しました。\n",
      "\n",
      "<a href=\"https://www.google.com/calendar/event?eid=aGJ2bWs1OThnaWpxNWJlNHNpdWNqbjJvNXMgYWRtaW5AZW5ha2FpLmFsdG9zdHJhdC5jb20\">リンク</a>\n",
      "\n",
      "\n"
     ]
    }
   ],
   "source": [
    "query = '''\n",
    "はい。\n",
    "'''\n",
    "_ = await client.stream(query)"
   ]
  }
 ],
 "metadata": {
  "environment": {
   "kernel": "conda-base-py",
   "name": "workbench-notebooks.m129",
   "type": "gcloud",
   "uri": "us-docker.pkg.dev/deeplearning-platform-release/gcr.io/workbench-notebooks:m129"
  },
  "kernelspec": {
   "display_name": "Python 3 (ipykernel)",
   "language": "python",
   "name": "conda-base-py"
  },
  "language_info": {
   "codemirror_mode": {
    "name": "ipython",
    "version": 3
   },
   "file_extension": ".py",
   "mimetype": "text/x-python",
   "name": "python",
   "nbconvert_exporter": "python",
   "pygments_lexer": "ipython3",
   "version": "3.10.16"
  }
 },
 "nbformat": 4,
 "nbformat_minor": 5
}
