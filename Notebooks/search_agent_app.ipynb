{
 "cells": [
  {
   "cell_type": "markdown",
   "id": "9c3cc4d8-742b-4421-b450-5f06e8f2a0c7",
   "metadata": {
    "tags": []
   },
   "source": [
    "## 事前準備"
   ]
  },
  {
   "cell_type": "markdown",
   "id": "c93ad445-56c7-4505-ae5a-4d5306efd689",
   "metadata": {},
   "source": [
    "1. Google Cloud の新しいプロジェクトを作成します。\n",
    "2. Cloud Shell を開いて、次のコマンドで API を有効化します。\n",
    "```\n",
    "gcloud services enable \\\n",
    "  aiplatform.googleapis.com \\\n",
    "  notebooks.googleapis.com \\\n",
    "  cloudresourcemanager.googleapis.com\n",
    "\n",
    "```\n",
    "3. 次のコマンドで Vertex AI Workbench のインスタンスを作成します。\n",
    "```\n",
    "PROJECT_ID=$(gcloud config list --format 'value(core.project)')\n",
    "gcloud workbench instances create agent-development \\\n",
    "  --project=$PROJECT_ID \\\n",
    "  --location=us-central1-a \\\n",
    "  --machine-type=e2-standard-2\n",
    "```\n",
    "\n",
    "4. クラウドコンソールのナビゲーションメニューから「Vertex AI」→「Workbench」を選択すると、作成したインスタンス agent-develpment があります。インスタンスの起動が完了するのを待って、「JUPYTERLAB を開く」をクリックしたら、「Python 3(ipykernel)」の新規ノートブックを作成します。\n",
    "\n",
    "5. この後は、ノートブック上で以下のコマンドを実行していきます。"
   ]
  },
  {
   "cell_type": "markdown",
   "id": "70ed77f6-8bb7-406f-8f91-e79370b32394",
   "metadata": {
    "tags": []
   },
   "source": [
    "## ADK パッケージのインストール"
   ]
  },
  {
   "cell_type": "code",
   "execution_count": null,
   "id": "c2a46ff3-934b-4d5d-bb0a-c887f296c01a",
   "metadata": {},
   "outputs": [],
   "source": [
    "%pip install --upgrade --user google-adk"
   ]
  },
  {
   "cell_type": "markdown",
   "id": "ec254a63-03f5-4973-aa23-03f2f8521f4a",
   "metadata": {},
   "source": [
    "インストールしたパッケージを利用可能にするために、次のコマンドでカーネルを再起動します。\n",
    "\n",
    "再起動を確認するポップアップが表示されるので [Ok] をクリックします。"
   ]
  },
  {
   "cell_type": "code",
   "execution_count": 2,
   "id": "915482d8-cff4-46e2-a826-94bf6cb8277d",
   "metadata": {},
   "outputs": [],
   "source": [
    "import IPython\n",
    "app = IPython.Application.instance()\n",
    "_ = app.kernel.do_shutdown(True)"
   ]
  },
  {
   "cell_type": "markdown",
   "id": "419007fb-f199-41e0-8410-d4d988179248",
   "metadata": {
    "tags": []
   },
   "source": [
    "## Search Agent App の作成"
   ]
  },
  {
   "cell_type": "code",
   "execution_count": 1,
   "id": "8722e641-cd9a-4e73-9622-427ea35c8bde",
   "metadata": {
    "tags": []
   },
   "outputs": [],
   "source": [
    "import copy, datetime, json, os, pprint, time, uuid\n",
    "import vertexai\n",
    "from google.genai.types import Part, UserContent, ModelContent\n",
    "from google.adk.agents.llm_agent import LlmAgent\n",
    "from google.adk.artifacts import InMemoryArtifactService\n",
    "from google.adk.memory.in_memory_memory_service import InMemoryMemoryService\n",
    "from google.adk.sessions import InMemorySessionService\n",
    "from google.adk.runners import Runner\n",
    "from google.adk.tools import google_search\n",
    "\n",
    "[PROJECT_ID] = !gcloud config list --format 'value(core.project)'\n",
    "LOCATION = 'us-central1'\n",
    "\n",
    "vertexai.init(project=PROJECT_ID, location=LOCATION,\n",
    "              staging_bucket=f'gs://{PROJECT_ID}')\n",
    "\n",
    "os.environ['GOOGLE_CLOUD_PROJECT'] = PROJECT_ID\n",
    "os.environ['GOOGLE_CLOUD_LOCATION'] = LOCATION\n",
    "os.environ['GOOGLE_GENAI_USE_VERTEXAI'] = 'True'"
   ]
  },
  {
   "cell_type": "code",
   "execution_count": 53,
   "id": "1bd94203-da07-413e-9d85-94cfcfbaa8bc",
   "metadata": {
    "tags": []
   },
   "outputs": [],
   "source": [
    "instruction = '''\n",
    "You are a friendly AI assistant that answers user's queries.\n",
    "Use google_search to give answers based on the latest and objective information.\n",
    "\n",
    "[Format instruction]\n",
    "Output in Japanese, in plain text only without any special formatting characters.\n",
    "Avoid adding citation marks such as [1][2].\n",
    "'''\n",
    "\n",
    "search_agent = LlmAgent(\n",
    "    name='search_agent',\n",
    "    model='gemini-2.0-flash-001',\n",
    "    description='Agent to answer questions using Google Search.',\n",
    "    instruction=instruction,\n",
    "    tools=[google_search]\n",
    ")"
   ]
  },
  {
   "cell_type": "code",
   "execution_count": 54,
   "id": "d94ab67e-99e0-498d-8095-81ca07156c9e",
   "metadata": {
    "tags": []
   },
   "outputs": [],
   "source": [
    "class LocalApp:\n",
    "    def __init__(self, agent, app_name, user_id):\n",
    "        self._agent = agent\n",
    "        self._app_name = app_name\n",
    "        self._user_id = user_id\n",
    "        self._runner = Runner(\n",
    "            app_name=self._app_name,\n",
    "            agent=self._agent,\n",
    "            artifact_service=InMemoryArtifactService(),\n",
    "            session_service=InMemorySessionService(),\n",
    "            memory_service=InMemoryMemoryService(),\n",
    "        )\n",
    "        self._session = self._runner.session_service.create_session(\n",
    "            app_name=self._app_name,\n",
    "            user_id=self._user_id,\n",
    "            state={},\n",
    "            session_id=uuid.uuid4().hex,\n",
    "        )\n",
    "        \n",
    "    async def stream(self, query):\n",
    "        content = UserContent(parts=[Part.from_text(text=query)])\n",
    "        async_events = self._runner.run_async(\n",
    "            user_id=self._user_id,\n",
    "            session_id=self._session.id,\n",
    "            new_message=content,\n",
    "        )\n",
    "        result = []\n",
    "        async for event in async_events:\n",
    "            if (event.content and event.content.parts):\n",
    "                response = '\\n'.join([p.text for p in event.content.parts if p.text])\n",
    "                if response:\n",
    "                    print(response)\n",
    "                    result.append(response)\n",
    "        return result"
   ]
  },
  {
   "cell_type": "markdown",
   "id": "0fc6b082-b4ec-49e4-9e27-7292607ee741",
   "metadata": {
    "tags": []
   },
   "source": [
    "## 実行例"
   ]
  },
  {
   "cell_type": "code",
   "execution_count": 66,
   "id": "8fe01b19-76b3-4eac-a2a3-5796386d06cb",
   "metadata": {
    "tags": []
   },
   "outputs": [
    {
     "name": "stdout",
     "output_type": "stream",
     "text": [
      "高田馬場でおすすめのカレー屋さんについて調べてみます。\n",
      "\n",
      "\n",
      " 高田馬場には美味しいカレー屋さんがたくさんありますね！おすすめのお店をいくつかご紹介します。\n",
      "\n",
      "*   **カレーライス専門店ブラザー:** 鯖キーマカレーが人気の有名店です。スパイスの効いたカレーで、他では味わえない独特の味が楽しめます。\n",
      "*   **横浜ボンベイ 高田馬場店:** こちらも人気のカレー店で、特にカシミールカレーがおすすめです。辛口ですが、野菜の甘みとスパイスの爽快感が絶妙にマッチしています。\n",
      "*   **プネウマカレー:** コスパの良いカレー屋さんとして知られています。大盛りでもリーズナブルな価格で楽しめます。\n",
      "*   **エチオピアカリーキッチン 高田馬場店:** こちらはトロトロのカレーが特徴で、長時間煮込んだ野菜の旨味がたっぷりです。\n",
      "*   **白カレーの店 1/f ゆらぎ:** 珍しい白カレーが味わえるお店です。\n",
      "\n",
      "これらの他にも、高田馬場にはたくさんのカレー屋さんがあります。ぜひ色々試して、お好みのカレーを見つけてみてください。\n",
      "\n"
     ]
    }
   ],
   "source": [
    "client = LocalApp(search_agent, 'Search Agent App', 'user00')\n",
    "\n",
    "query = '''\n",
    "高田馬場のおすすめのカレー屋は？\n",
    "'''\n",
    "_ = await client.stream(query)"
   ]
  },
  {
   "cell_type": "markdown",
   "id": "938d0efc-b889-4ee4-bfc8-b0b6518af3ec",
   "metadata": {
    "tags": []
   },
   "source": [
    "SessionService が管理するセッション情報を確認します。\n",
    "\n",
    "セッションを特定するのに必要な、`app_name`、`user_id`、`session_id` を確認します。"
   ]
  },
  {
   "cell_type": "code",
   "execution_count": 67,
   "id": "a4ef5e8c-cc52-4dd6-8c5d-e9ceb054b31e",
   "metadata": {
    "tags": []
   },
   "outputs": [
    {
     "data": {
      "text/plain": [
       "('Search Agent App', 'user00', '1ee13edf707d441ea366e20b33c2f599')"
      ]
     },
     "execution_count": 67,
     "metadata": {},
     "output_type": "execute_result"
    }
   ],
   "source": [
    "app_name = client._session.app_name\n",
    "user_id = client._session.user_id\n",
    "session_id = client._session.id\n",
    "\n",
    "app_name, user_id, session_id"
   ]
  },
  {
   "cell_type": "markdown",
   "id": "d49b47f0-70e7-4447-bc59-b693a8a73491",
   "metadata": {},
   "source": [
    "確認した情報を使って、セッションに保存された情報を確認します。\n",
    "\n",
    "2 つのイベント（ユーザーの質問とエージェントの回答）が記録されています。\n",
    "\n",
    "エージェントの回答を生成する際に用いた Google Serch の情報なども確認できます。"
   ]
  },
  {
   "cell_type": "code",
   "execution_count": 68,
   "id": "df2c86b9-1a1e-43b2-9968-0f44f2d44831",
   "metadata": {
    "tags": []
   },
   "outputs": [
    {
     "data": {
      "text/plain": [
       "Session(id='1ee13edf707d441ea366e20b33c2f599', app_name='Search Agent App', user_id='user00', state={}, events=[Event(content=UserContent(parts=[Part(video_metadata=None, thought=None, inline_data=None, code_execution_result=None, executable_code=None, file_data=None, function_call=None, function_response=None, text='\\n高田馬場のおすすめのカレー屋は？\\n')], role='user'), grounding_metadata=None, partial=None, turn_complete=None, error_code=None, error_message=None, interrupted=None, custom_metadata=None, invocation_id='e-f1b46067-8d00-4828-8279-cea7443b9c58', author='user', actions=EventActions(skip_summarization=None, state_delta={}, artifact_delta={}, transfer_to_agent=None, escalate=None, requested_auth_configs={}), long_running_tool_ids=None, branch=None, id='HxMzRwuI', timestamp=1747563352.992289), Event(content=Content(parts=[Part(video_metadata=None, thought=None, inline_data=None, code_execution_result=None, executable_code=None, file_data=None, function_call=None, function_response=None, text='高田馬場でおすすめのカレー屋さんについて調べてみます。\\n\\n'), Part(video_metadata=None, thought=None, inline_data=None, code_execution_result=None, executable_code=None, file_data=None, function_call=None, function_response=None, text=' 高田馬場には美味しいカレー屋さんがたくさんありますね！おすすめのお店をいくつかご紹介します。\\n\\n*   **カレーライス専門店ブラザー:** 鯖キーマカレーが人気の有名店です。スパイスの効いたカレーで、他では味わえない独特の味が楽しめます。\\n*   **横浜ボンベイ 高田馬場店:** こちらも人気のカレー店で、特にカシミールカレーがおすすめです。辛口ですが、野菜の甘みとスパイスの爽快感が絶妙にマッチしています。\\n*   **プネウマカレー:** コスパの良いカレー屋さんとして知られています。大盛りでもリーズナブルな価格で楽しめます。\\n*   **エチオピアカリーキッチン 高田馬場店:** こちらはトロトロのカレーが特徴で、長時間煮込んだ野菜の旨味がたっぷりです。\\n*   **白カレーの店 1/f ゆらぎ:** 珍しい白カレーが味わえるお店です。\\n\\nこれらの他にも、高田馬場にはたくさんのカレー屋さんがあります。ぜひ色々試して、お好みのカレーを見つけてみてください。\\n')], role='model'), grounding_metadata=GroundingMetadata(grounding_chunks=[GroundingChunk(retrieved_context=None, web=GroundingChunkWeb(domain='aumo.jp', title='aumo.jp', uri='https://vertexaisearch.cloud.google.com/grounding-api-redirect/AbF9wXEQuadj4QpGuhGEEhApO6WKvEIajPMHxqKQDCKzRd05ivRcds4l31595Osy-CAjPLeeGrqxyC9IyZL11rdedBmTk_M4Pa1WhaG1KPOg6NG9ccBPaRfA03Ko'))], grounding_supports=[GroundingSupport(confidence_scores=[0.97325706], grounding_chunk_indices=[0], segment=Segment(end_index=657, part_index=None, start_index=421, text='*   **横浜ボンベイ 高田馬場店:** こちらも人気のカレー店で、特にカシミールカレーがおすすめです。辛口ですが、野菜の甘みとスパイスの爽快感が絶妙にマッチしています。')), GroundingSupport(confidence_scores=[0.8488608], grounding_chunk_indices=[0], segment=Segment(end_index=995, part_index=None, start_index=822, text='*   **エチオピアカリーキッチン 高田馬場店:** こちらはトロトロのカレーが特徴で、長時間煮込んだ野菜の旨味がたっぷりです。'))], retrieval_metadata=RetrievalMetadata(google_search_dynamic_retrieval_score=None), retrieval_queries=None, search_entry_point=SearchEntryPoint(rendered_content='<style>\\n.container {\\n  align-items: center;\\n  border-radius: 8px;\\n  display: flex;\\n  font-family: Google Sans, Roboto, sans-serif;\\n  font-size: 14px;\\n  line-height: 20px;\\n  padding: 8px 12px;\\n}\\n.chip {\\n  display: inline-block;\\n  border: solid 1px;\\n  border-radius: 16px;\\n  min-width: 14px;\\n  padding: 5px 16px;\\n  text-align: center;\\n  user-select: none;\\n  margin: 0 8px;\\n  -webkit-tap-highlight-color: transparent;\\n}\\n.carousel {\\n  overflow: auto;\\n  scrollbar-width: none;\\n  white-space: nowrap;\\n  margin-right: -12px;\\n}\\n.headline {\\n  display: flex;\\n  margin-right: 4px;\\n}\\n.gradient-container {\\n  position: relative;\\n}\\n.gradient {\\n  position: absolute;\\n  transform: translate(3px, -9px);\\n  height: 36px;\\n  width: 9px;\\n}\\n@media (prefers-color-scheme: light) {\\n  .container {\\n    background-color: #fafafa;\\n    box-shadow: 0 0 0 1px #0000000f;\\n  }\\n  .headline-label {\\n    color: #1f1f1f;\\n  }\\n  .chip {\\n    background-color: #ffffff;\\n    border-color: #d2d2d2;\\n    color: #5e5e5e;\\n    text-decoration: none;\\n  }\\n  .chip:hover {\\n    background-color: #f2f2f2;\\n  }\\n  .chip:focus {\\n    background-color: #f2f2f2;\\n  }\\n  .chip:active {\\n    background-color: #d8d8d8;\\n    border-color: #b6b6b6;\\n  }\\n  .logo-dark {\\n    display: none;\\n  }\\n  .gradient {\\n    background: linear-gradient(90deg, #fafafa 15%, #fafafa00 100%);\\n  }\\n}\\n@media (prefers-color-scheme: dark) {\\n  .container {\\n    background-color: #1f1f1f;\\n    box-shadow: 0 0 0 1px #ffffff26;\\n  }\\n  .headline-label {\\n    color: #fff;\\n  }\\n  .chip {\\n    background-color: #2c2c2c;\\n    border-color: #3c4043;\\n    color: #fff;\\n    text-decoration: none;\\n  }\\n  .chip:hover {\\n    background-color: #353536;\\n  }\\n  .chip:focus {\\n    background-color: #353536;\\n  }\\n  .chip:active {\\n    background-color: #464849;\\n    border-color: #53575b;\\n  }\\n  .logo-light {\\n    display: none;\\n  }\\n  .gradient {\\n    background: linear-gradient(90deg, #1f1f1f 15%, #1f1f1f00 100%);\\n  }\\n}\\n</style>\\n<div class=\"container\">\\n  <div class=\"headline\">\\n    <svg class=\"logo-light\" width=\"18\" height=\"18\" viewBox=\"9 9 35 35\" fill=\"none\" xmlns=\"http://www.w3.org/2000/svg\">\\n      <path fill-rule=\"evenodd\" clip-rule=\"evenodd\" d=\"M42.8622 27.0064C42.8622 25.7839 42.7525 24.6084 42.5487 23.4799H26.3109V30.1568H35.5897C35.1821 32.3041 33.9596 34.1222 32.1258 35.3448V39.6864H37.7213C40.9814 36.677 42.8622 32.2571 42.8622 27.0064V27.0064Z\" fill=\"#4285F4\"/>\\n      <path fill-rule=\"evenodd\" clip-rule=\"evenodd\" d=\"M26.3109 43.8555C30.9659 43.8555 34.8687 42.3195 37.7213 39.6863L32.1258 35.3447C30.5898 36.3792 28.6306 37.0061 26.3109 37.0061C21.8282 37.0061 18.0195 33.9811 16.6559 29.906H10.9194V34.3573C13.7563 39.9841 19.5712 43.8555 26.3109 43.8555V43.8555Z\" fill=\"#34A853\"/>\\n      <path fill-rule=\"evenodd\" clip-rule=\"evenodd\" d=\"M16.6559 29.8904C16.3111 28.8559 16.1074 27.7588 16.1074 26.6146C16.1074 25.4704 16.3111 24.3733 16.6559 23.3388V18.8875H10.9194C9.74388 21.2072 9.06992 23.8247 9.06992 26.6146C9.06992 29.4045 9.74388 32.022 10.9194 34.3417L15.3864 30.8621L16.6559 29.8904V29.8904Z\" fill=\"#FBBC05\"/>\\n      <path fill-rule=\"evenodd\" clip-rule=\"evenodd\" d=\"M26.3109 16.2386C28.85 16.2386 31.107 17.1164 32.9095 18.8091L37.8466 13.8719C34.853 11.082 30.9659 9.3736 26.3109 9.3736C19.5712 9.3736 13.7563 13.245 10.9194 18.8875L16.6559 23.3388C18.0195 19.2636 21.8282 16.2386 26.3109 16.2386V16.2386Z\" fill=\"#EA4335\"/>\\n    </svg>\\n    <svg class=\"logo-dark\" width=\"18\" height=\"18\" viewBox=\"0 0 48 48\" xmlns=\"http://www.w3.org/2000/svg\">\\n      <circle cx=\"24\" cy=\"23\" fill=\"#FFF\" r=\"22\"/>\\n      <path d=\"M33.76 34.26c2.75-2.56 4.49-6.37 4.49-11.26 0-.89-.08-1.84-.29-3H24.01v5.99h8.03c-.4 2.02-1.5 3.56-3.07 4.56v.75l3.91 2.97h.88z\" fill=\"#4285F4\"/>\\n      <path d=\"M15.58 25.77A8.845 8.845 0 0 0 24 31.86c1.92 0 3.62-.46 4.97-1.31l4.79 3.71C31.14 36.7 27.65 38 24 38c-5.93 0-11.01-3.4-13.45-8.36l.17-1.01 4.06-2.85h.8z\" fill=\"#34A853\"/>\\n      <path d=\"M15.59 20.21a8.864 8.864 0 0 0 0 5.58l-5.03 3.86c-.98-2-1.53-4.25-1.53-6.64 0-2.39.55-4.64 1.53-6.64l1-.22 3.81 2.98.22 1.08z\" fill=\"#FBBC05\"/>\\n      <path d=\"M24 14.14c2.11 0 4.02.75 5.52 1.98l4.36-4.36C31.22 9.43 27.81 8 24 8c-5.93 0-11.01 3.4-13.45 8.36l5.03 3.85A8.86 8.86 0 0 1 24 14.14z\" fill=\"#EA4335\"/>\\n    </svg>\\n    <div class=\"gradient-container\"><div class=\"gradient\"></div></div>\\n  </div>\\n  <div class=\"carousel\">\\n    <a class=\"chip\" href=\"https://vertexaisearch.cloud.google.com/grounding-api-redirect/AbF9wXHr5eDs-LSvYEMJbvXWz03WVMo9ZEThqzt_mYiaRg-n66TQNJ6ADsPXwxvKe-rUx1pWlRh_aiZNW3JqsCSl6eRBtbI7C73_FDSqtl_4NI9NCQJG1a5o6hOCfmS6ZI9hgNjHsxT1nF65MnCgxGQ0DqlfaWciydq1GjFykWhXSh-NIxvuEVntnBWz6yePUynDbSbtMhnkIZnwbCRibFGhPwGnaIyREnp52URIqhWN8IYumbZ4Sv8d-leRdDTfQMn61KyjGojiuu9V4eYUMyYmc1jI4f86czh0gVyc6BbwJmCL\">高田馬場 カレー 有名店</a>\\n    <a class=\"chip\" href=\"https://vertexaisearch.cloud.google.com/grounding-api-redirect/AbF9wXGjkdzy5Inls6nAWbLlngABVhyo7Ox4-wA2sXgqDRs3u5ypficxfL85K8g5WpaPFRnzJjOpGtK_JtRTTqSS4PjSyYtm4d09DezFCqpdqdRFK21h7NSeHPoI_HG8uuEuXG7YoVC2KmgwBfFNiomg4xT3rn248sZ8JIicx0suknn5dhckN5DafqV0SRv63OI2leTwQBThvsXKhHzwVxFoTW-VUn3W4hYmqSmxAzo8l0xUg9sVJumn-gI9EXnaRi-hA2d87KCb1gHavrjl9D3l7esOk2szRWHlHDgyGPQxrbfWPoyt0YVZapqW\">高田馬場 おすすめ カレー</a>\\n    <a class=\"chip\" href=\"https://vertexaisearch.cloud.google.com/grounding-api-redirect/AbF9wXEdJ5EtZ_Fqqpx_CDR_UDBPjFLVCCKAi1oCBqOukUjblGtSokSsc-xc_R6KpiPTrI2_e75dPOjgjc3BpfpsXyx3kOvdw_m7AONTkO3OOse6ldzMYf1zTZ20t8vpPF77A7CEaTvsJFm5XuQm90ET1SAwzgqkQpzESc0xb9UGy5MszDyUZ6jLfYBPLnzVHaPXREYqM2FVv4MGgMy_Kp0VzZKJq0G06Kf8VPXvmTFm51-uboPVy8vKsX3VPhjor9MoZhthy6e7ZrcogeX8K1dLGmJn_XXYXOvCWLZ8JzKv631d05MaOqrVoBy1VrFJj7SahpbR2XyxlVjJj9_9EGrXzEVmLJKp\">高田馬場 カレー 人気ランキング</a>\\n  </div>\\n</div>\\n', sdk_blob=None), web_search_queries=['高田馬場 おすすめ カレー', '高田馬場 カレー 有名店', '高田馬場 カレー 人気ランキング']), partial=None, turn_complete=None, error_code=None, error_message=None, interrupted=None, custom_metadata=None, invocation_id='e-f1b46067-8d00-4828-8279-cea7443b9c58', author='search_agent', actions=EventActions(skip_summarization=None, state_delta={}, artifact_delta={}, transfer_to_agent=None, escalate=None, requested_auth_configs={}), long_running_tool_ids=None, branch=None, id='j4mZ5h5Z', timestamp=1747563352.992859)], last_update_time=1747563352.992859)"
      ]
     },
     "execution_count": 68,
     "metadata": {},
     "output_type": "execute_result"
    }
   ],
   "source": [
    "session = client._runner.session_service.get_session(\n",
    "    app_name = app_name,\n",
    "    user_id = user_id,\n",
    "    session_id = session_id,\n",
    ")\n",
    "\n",
    "session"
   ]
  },
  {
   "cell_type": "markdown",
   "id": "9055aef3-0586-48cc-9a90-373c879c0171",
   "metadata": {},
   "source": [
    "次のように、これまでのやり取りが「イベント」として記録されています。"
   ]
  },
  {
   "cell_type": "code",
   "execution_count": 69,
   "id": "fec8f046-e2d0-4b02-ac0d-a4f848bf1f00",
   "metadata": {
    "tags": []
   },
   "outputs": [
    {
     "name": "stdout",
     "output_type": "stream",
     "text": [
      "2025-05-18 10:15:52.992289 user\n",
      "2025-05-18 10:15:52.992859 search_agent\n"
     ]
    }
   ],
   "source": [
    "def format_timestamp(ts):\n",
    "    return datetime.datetime.fromtimestamp(ts).strftime('%Y-%m-%d %H:%M:%S.%f')\n",
    "\n",
    "for event in session.events:\n",
    "    print(format_timestamp(event.timestamp), event.author)"
   ]
  },
  {
   "cell_type": "markdown",
   "id": "d4323802-3435-463e-af43-80df7c59b889",
   "metadata": {},
   "source": [
    "特に、下記の要素から Google 検索に使ったキーワードが確認できます。"
   ]
  },
  {
   "cell_type": "code",
   "execution_count": 70,
   "id": "03e19a60-8034-485e-a23b-683ca1a14295",
   "metadata": {
    "tags": []
   },
   "outputs": [
    {
     "name": "stdout",
     "output_type": "stream",
     "text": [
      "['高田馬場 おすすめ カレー', '高田馬場 カレー 有名店', '高田馬場 カレー 人気ランキング']\n"
     ]
    },
    {
     "data": {
      "text/html": [
       "<style>\n",
       ".container {\n",
       "  align-items: center;\n",
       "  border-radius: 8px;\n",
       "  display: flex;\n",
       "  font-family: Google Sans, Roboto, sans-serif;\n",
       "  font-size: 14px;\n",
       "  line-height: 20px;\n",
       "  padding: 8px 12px;\n",
       "}\n",
       ".chip {\n",
       "  display: inline-block;\n",
       "  border: solid 1px;\n",
       "  border-radius: 16px;\n",
       "  min-width: 14px;\n",
       "  padding: 5px 16px;\n",
       "  text-align: center;\n",
       "  user-select: none;\n",
       "  margin: 0 8px;\n",
       "  -webkit-tap-highlight-color: transparent;\n",
       "}\n",
       ".carousel {\n",
       "  overflow: auto;\n",
       "  scrollbar-width: none;\n",
       "  white-space: nowrap;\n",
       "  margin-right: -12px;\n",
       "}\n",
       ".headline {\n",
       "  display: flex;\n",
       "  margin-right: 4px;\n",
       "}\n",
       ".gradient-container {\n",
       "  position: relative;\n",
       "}\n",
       ".gradient {\n",
       "  position: absolute;\n",
       "  transform: translate(3px, -9px);\n",
       "  height: 36px;\n",
       "  width: 9px;\n",
       "}\n",
       "@media (prefers-color-scheme: light) {\n",
       "  .container {\n",
       "    background-color: #fafafa;\n",
       "    box-shadow: 0 0 0 1px #0000000f;\n",
       "  }\n",
       "  .headline-label {\n",
       "    color: #1f1f1f;\n",
       "  }\n",
       "  .chip {\n",
       "    background-color: #ffffff;\n",
       "    border-color: #d2d2d2;\n",
       "    color: #5e5e5e;\n",
       "    text-decoration: none;\n",
       "  }\n",
       "  .chip:hover {\n",
       "    background-color: #f2f2f2;\n",
       "  }\n",
       "  .chip:focus {\n",
       "    background-color: #f2f2f2;\n",
       "  }\n",
       "  .chip:active {\n",
       "    background-color: #d8d8d8;\n",
       "    border-color: #b6b6b6;\n",
       "  }\n",
       "  .logo-dark {\n",
       "    display: none;\n",
       "  }\n",
       "  .gradient {\n",
       "    background: linear-gradient(90deg, #fafafa 15%, #fafafa00 100%);\n",
       "  }\n",
       "}\n",
       "@media (prefers-color-scheme: dark) {\n",
       "  .container {\n",
       "    background-color: #1f1f1f;\n",
       "    box-shadow: 0 0 0 1px #ffffff26;\n",
       "  }\n",
       "  .headline-label {\n",
       "    color: #fff;\n",
       "  }\n",
       "  .chip {\n",
       "    background-color: #2c2c2c;\n",
       "    border-color: #3c4043;\n",
       "    color: #fff;\n",
       "    text-decoration: none;\n",
       "  }\n",
       "  .chip:hover {\n",
       "    background-color: #353536;\n",
       "  }\n",
       "  .chip:focus {\n",
       "    background-color: #353536;\n",
       "  }\n",
       "  .chip:active {\n",
       "    background-color: #464849;\n",
       "    border-color: #53575b;\n",
       "  }\n",
       "  .logo-light {\n",
       "    display: none;\n",
       "  }\n",
       "  .gradient {\n",
       "    background: linear-gradient(90deg, #1f1f1f 15%, #1f1f1f00 100%);\n",
       "  }\n",
       "}\n",
       "</style>\n",
       "<div class=\"container\">\n",
       "  <div class=\"headline\">\n",
       "    <svg class=\"logo-light\" width=\"18\" height=\"18\" viewBox=\"9 9 35 35\" fill=\"none\" xmlns=\"http://www.w3.org/2000/svg\">\n",
       "      <path fill-rule=\"evenodd\" clip-rule=\"evenodd\" d=\"M42.8622 27.0064C42.8622 25.7839 42.7525 24.6084 42.5487 23.4799H26.3109V30.1568H35.5897C35.1821 32.3041 33.9596 34.1222 32.1258 35.3448V39.6864H37.7213C40.9814 36.677 42.8622 32.2571 42.8622 27.0064V27.0064Z\" fill=\"#4285F4\"/>\n",
       "      <path fill-rule=\"evenodd\" clip-rule=\"evenodd\" d=\"M26.3109 43.8555C30.9659 43.8555 34.8687 42.3195 37.7213 39.6863L32.1258 35.3447C30.5898 36.3792 28.6306 37.0061 26.3109 37.0061C21.8282 37.0061 18.0195 33.9811 16.6559 29.906H10.9194V34.3573C13.7563 39.9841 19.5712 43.8555 26.3109 43.8555V43.8555Z\" fill=\"#34A853\"/>\n",
       "      <path fill-rule=\"evenodd\" clip-rule=\"evenodd\" d=\"M16.6559 29.8904C16.3111 28.8559 16.1074 27.7588 16.1074 26.6146C16.1074 25.4704 16.3111 24.3733 16.6559 23.3388V18.8875H10.9194C9.74388 21.2072 9.06992 23.8247 9.06992 26.6146C9.06992 29.4045 9.74388 32.022 10.9194 34.3417L15.3864 30.8621L16.6559 29.8904V29.8904Z\" fill=\"#FBBC05\"/>\n",
       "      <path fill-rule=\"evenodd\" clip-rule=\"evenodd\" d=\"M26.3109 16.2386C28.85 16.2386 31.107 17.1164 32.9095 18.8091L37.8466 13.8719C34.853 11.082 30.9659 9.3736 26.3109 9.3736C19.5712 9.3736 13.7563 13.245 10.9194 18.8875L16.6559 23.3388C18.0195 19.2636 21.8282 16.2386 26.3109 16.2386V16.2386Z\" fill=\"#EA4335\"/>\n",
       "    </svg>\n",
       "    <svg class=\"logo-dark\" width=\"18\" height=\"18\" viewBox=\"0 0 48 48\" xmlns=\"http://www.w3.org/2000/svg\">\n",
       "      <circle cx=\"24\" cy=\"23\" fill=\"#FFF\" r=\"22\"/>\n",
       "      <path d=\"M33.76 34.26c2.75-2.56 4.49-6.37 4.49-11.26 0-.89-.08-1.84-.29-3H24.01v5.99h8.03c-.4 2.02-1.5 3.56-3.07 4.56v.75l3.91 2.97h.88z\" fill=\"#4285F4\"/>\n",
       "      <path d=\"M15.58 25.77A8.845 8.845 0 0 0 24 31.86c1.92 0 3.62-.46 4.97-1.31l4.79 3.71C31.14 36.7 27.65 38 24 38c-5.93 0-11.01-3.4-13.45-8.36l.17-1.01 4.06-2.85h.8z\" fill=\"#34A853\"/>\n",
       "      <path d=\"M15.59 20.21a8.864 8.864 0 0 0 0 5.58l-5.03 3.86c-.98-2-1.53-4.25-1.53-6.64 0-2.39.55-4.64 1.53-6.64l1-.22 3.81 2.98.22 1.08z\" fill=\"#FBBC05\"/>\n",
       "      <path d=\"M24 14.14c2.11 0 4.02.75 5.52 1.98l4.36-4.36C31.22 9.43 27.81 8 24 8c-5.93 0-11.01 3.4-13.45 8.36l5.03 3.85A8.86 8.86 0 0 1 24 14.14z\" fill=\"#EA4335\"/>\n",
       "    </svg>\n",
       "    <div class=\"gradient-container\"><div class=\"gradient\"></div></div>\n",
       "  </div>\n",
       "  <div class=\"carousel\">\n",
       "    <a class=\"chip\" href=\"https://vertexaisearch.cloud.google.com/grounding-api-redirect/AbF9wXHr5eDs-LSvYEMJbvXWz03WVMo9ZEThqzt_mYiaRg-n66TQNJ6ADsPXwxvKe-rUx1pWlRh_aiZNW3JqsCSl6eRBtbI7C73_FDSqtl_4NI9NCQJG1a5o6hOCfmS6ZI9hgNjHsxT1nF65MnCgxGQ0DqlfaWciydq1GjFykWhXSh-NIxvuEVntnBWz6yePUynDbSbtMhnkIZnwbCRibFGhPwGnaIyREnp52URIqhWN8IYumbZ4Sv8d-leRdDTfQMn61KyjGojiuu9V4eYUMyYmc1jI4f86czh0gVyc6BbwJmCL\">高田馬場 カレー 有名店</a>\n",
       "    <a class=\"chip\" href=\"https://vertexaisearch.cloud.google.com/grounding-api-redirect/AbF9wXGjkdzy5Inls6nAWbLlngABVhyo7Ox4-wA2sXgqDRs3u5ypficxfL85K8g5WpaPFRnzJjOpGtK_JtRTTqSS4PjSyYtm4d09DezFCqpdqdRFK21h7NSeHPoI_HG8uuEuXG7YoVC2KmgwBfFNiomg4xT3rn248sZ8JIicx0suknn5dhckN5DafqV0SRv63OI2leTwQBThvsXKhHzwVxFoTW-VUn3W4hYmqSmxAzo8l0xUg9sVJumn-gI9EXnaRi-hA2d87KCb1gHavrjl9D3l7esOk2szRWHlHDgyGPQxrbfWPoyt0YVZapqW\">高田馬場 おすすめ カレー</a>\n",
       "    <a class=\"chip\" href=\"https://vertexaisearch.cloud.google.com/grounding-api-redirect/AbF9wXEdJ5EtZ_Fqqpx_CDR_UDBPjFLVCCKAi1oCBqOukUjblGtSokSsc-xc_R6KpiPTrI2_e75dPOjgjc3BpfpsXyx3kOvdw_m7AONTkO3OOse6ldzMYf1zTZ20t8vpPF77A7CEaTvsJFm5XuQm90ET1SAwzgqkQpzESc0xb9UGy5MszDyUZ6jLfYBPLnzVHaPXREYqM2FVv4MGgMy_Kp0VzZKJq0G06Kf8VPXvmTFm51-uboPVy8vKsX3VPhjor9MoZhthy6e7ZrcogeX8K1dLGmJn_XXYXOvCWLZ8JzKv631d05MaOqrVoBy1VrFJj7SahpbR2XyxlVjJj9_9EGrXzEVmLJKp\">高田馬場 カレー 人気ランキング</a>\n",
       "  </div>\n",
       "</div>\n"
      ],
      "text/plain": [
       "<IPython.core.display.HTML object>"
      ]
     },
     "metadata": {},
     "output_type": "display_data"
    }
   ],
   "source": [
    "from IPython.display import display, HTML\n",
    "\n",
    "search_queries = session.events[-1].grounding_metadata.web_search_queries\n",
    "entry_point_html = session.events[-1].grounding_metadata.search_entry_point.rendered_content\n",
    "\n",
    "print(search_queries)\n",
    "display(HTML(entry_point_html))"
   ]
  },
  {
   "cell_type": "markdown",
   "id": "1ee87ca8-6cbe-4aad-a0ec-8bae7a2405ba",
   "metadata": {},
   "source": [
    "続けて質問すると、セッション情報を踏まえた回答が得られます。"
   ]
  },
  {
   "cell_type": "code",
   "execution_count": 71,
   "id": "490a39f2-3da9-49a6-bba2-530de530919b",
   "metadata": {
    "tags": []
   },
   "outputs": [
    {
     "name": "stdout",
     "output_type": "stream",
     "text": [
      "家族連れにおすすめの高田馬場のカレー屋さんについて調べてみます。\n",
      "\n",
      "\n",
      " 家族連れにおすすめとなると、以下の点が重要になるかと思います。\n",
      "\n",
      "*   **子供向けメニューやサービス**: 子供が食べやすいメニューがあるか、子供用の椅子や食器があるかなど。\n",
      "*   **広々とした空間**: ベビーカーを置けるスペースがあるか、子供が多少騒いでも大丈夫な雰囲気か。\n",
      "*   **アレルギー対応**: 食物アレルギーがある場合、対応してもらえるか。\n",
      "\n",
      "これらの点を考慮すると、以下のカレー屋さんが候補として挙げられます。\n",
      "\n",
      "*   **プネウマカレー:** mamacoというサイトで、子連れママ向けの情報が掲載されています。店内はカウンター席のみですが、空間が広々としており、ベビーカーを置くことができます。離乳食の持ち込みも可能です。\n",
      "*   **エチオピアカリーキッチン 高田馬場店:** トロトロのカレーは子供にも食べやすいかもしれません。\n",
      "*   **CoCo壱番屋:** メニューが豊富で、辛さも調整できるため、子供から大人まで楽しめます。子供向けのメニューやお子様カレーなどがある場合があります。\n",
      "\n",
      "食べログなどのグルメサイトでは、子連れで利用しやすいカレー屋さんの情報や口コミが掲載されているので、参考にしてみてください。お店に直接電話して、子供向けメニューやサービス、アレルギー対応について確認することもおすすめです。\n",
      "\n"
     ]
    }
   ],
   "source": [
    "query = '''\n",
    "特に家族連れにおすすめなのは？\n",
    "'''\n",
    "_ = await client.stream(query)"
   ]
  },
  {
   "cell_type": "markdown",
   "id": "adb7736d-f47d-4f07-bd3a-9a14e938213f",
   "metadata": {},
   "source": [
    "先ほどと同様にセッションに記録されたイベントを確認すると、新しい質問と回答のイベントが追加されています。"
   ]
  },
  {
   "cell_type": "code",
   "execution_count": 73,
   "id": "d0152f2c-6ae9-42fa-a637-bcc0031d213d",
   "metadata": {
    "tags": []
   },
   "outputs": [
    {
     "name": "stdout",
     "output_type": "stream",
     "text": [
      "2025-05-18 10:15:52.992289 user\n",
      "2025-05-18 10:15:52.992859 search_agent\n",
      "2025-05-18 10:16:05.487202 user\n",
      "2025-05-18 10:16:05.487850 search_agent\n"
     ]
    }
   ],
   "source": [
    "for event in session.events:\n",
    "    print(format_timestamp(event.timestamp), event.author)"
   ]
  },
  {
   "cell_type": "code",
   "execution_count": 74,
   "id": "d2a30735-909d-4ce0-8f69-59d1894ef24c",
   "metadata": {
    "tags": []
   },
   "outputs": [
    {
     "name": "stdout",
     "output_type": "stream",
     "text": [
      "['高田馬場 おすすめ レストラン 子供', '高田馬場 カレー 子連れ', '高田馬場 カレー 家族連れ', '高田馬場 レストラン 家族', '高田馬場 カレー 子供']\n"
     ]
    },
    {
     "data": {
      "text/html": [
       "<style>\n",
       ".container {\n",
       "  align-items: center;\n",
       "  border-radius: 8px;\n",
       "  display: flex;\n",
       "  font-family: Google Sans, Roboto, sans-serif;\n",
       "  font-size: 14px;\n",
       "  line-height: 20px;\n",
       "  padding: 8px 12px;\n",
       "}\n",
       ".chip {\n",
       "  display: inline-block;\n",
       "  border: solid 1px;\n",
       "  border-radius: 16px;\n",
       "  min-width: 14px;\n",
       "  padding: 5px 16px;\n",
       "  text-align: center;\n",
       "  user-select: none;\n",
       "  margin: 0 8px;\n",
       "  -webkit-tap-highlight-color: transparent;\n",
       "}\n",
       ".carousel {\n",
       "  overflow: auto;\n",
       "  scrollbar-width: none;\n",
       "  white-space: nowrap;\n",
       "  margin-right: -12px;\n",
       "}\n",
       ".headline {\n",
       "  display: flex;\n",
       "  margin-right: 4px;\n",
       "}\n",
       ".gradient-container {\n",
       "  position: relative;\n",
       "}\n",
       ".gradient {\n",
       "  position: absolute;\n",
       "  transform: translate(3px, -9px);\n",
       "  height: 36px;\n",
       "  width: 9px;\n",
       "}\n",
       "@media (prefers-color-scheme: light) {\n",
       "  .container {\n",
       "    background-color: #fafafa;\n",
       "    box-shadow: 0 0 0 1px #0000000f;\n",
       "  }\n",
       "  .headline-label {\n",
       "    color: #1f1f1f;\n",
       "  }\n",
       "  .chip {\n",
       "    background-color: #ffffff;\n",
       "    border-color: #d2d2d2;\n",
       "    color: #5e5e5e;\n",
       "    text-decoration: none;\n",
       "  }\n",
       "  .chip:hover {\n",
       "    background-color: #f2f2f2;\n",
       "  }\n",
       "  .chip:focus {\n",
       "    background-color: #f2f2f2;\n",
       "  }\n",
       "  .chip:active {\n",
       "    background-color: #d8d8d8;\n",
       "    border-color: #b6b6b6;\n",
       "  }\n",
       "  .logo-dark {\n",
       "    display: none;\n",
       "  }\n",
       "  .gradient {\n",
       "    background: linear-gradient(90deg, #fafafa 15%, #fafafa00 100%);\n",
       "  }\n",
       "}\n",
       "@media (prefers-color-scheme: dark) {\n",
       "  .container {\n",
       "    background-color: #1f1f1f;\n",
       "    box-shadow: 0 0 0 1px #ffffff26;\n",
       "  }\n",
       "  .headline-label {\n",
       "    color: #fff;\n",
       "  }\n",
       "  .chip {\n",
       "    background-color: #2c2c2c;\n",
       "    border-color: #3c4043;\n",
       "    color: #fff;\n",
       "    text-decoration: none;\n",
       "  }\n",
       "  .chip:hover {\n",
       "    background-color: #353536;\n",
       "  }\n",
       "  .chip:focus {\n",
       "    background-color: #353536;\n",
       "  }\n",
       "  .chip:active {\n",
       "    background-color: #464849;\n",
       "    border-color: #53575b;\n",
       "  }\n",
       "  .logo-light {\n",
       "    display: none;\n",
       "  }\n",
       "  .gradient {\n",
       "    background: linear-gradient(90deg, #1f1f1f 15%, #1f1f1f00 100%);\n",
       "  }\n",
       "}\n",
       "</style>\n",
       "<div class=\"container\">\n",
       "  <div class=\"headline\">\n",
       "    <svg class=\"logo-light\" width=\"18\" height=\"18\" viewBox=\"9 9 35 35\" fill=\"none\" xmlns=\"http://www.w3.org/2000/svg\">\n",
       "      <path fill-rule=\"evenodd\" clip-rule=\"evenodd\" d=\"M42.8622 27.0064C42.8622 25.7839 42.7525 24.6084 42.5487 23.4799H26.3109V30.1568H35.5897C35.1821 32.3041 33.9596 34.1222 32.1258 35.3448V39.6864H37.7213C40.9814 36.677 42.8622 32.2571 42.8622 27.0064V27.0064Z\" fill=\"#4285F4\"/>\n",
       "      <path fill-rule=\"evenodd\" clip-rule=\"evenodd\" d=\"M26.3109 43.8555C30.9659 43.8555 34.8687 42.3195 37.7213 39.6863L32.1258 35.3447C30.5898 36.3792 28.6306 37.0061 26.3109 37.0061C21.8282 37.0061 18.0195 33.9811 16.6559 29.906H10.9194V34.3573C13.7563 39.9841 19.5712 43.8555 26.3109 43.8555V43.8555Z\" fill=\"#34A853\"/>\n",
       "      <path fill-rule=\"evenodd\" clip-rule=\"evenodd\" d=\"M16.6559 29.8904C16.3111 28.8559 16.1074 27.7588 16.1074 26.6146C16.1074 25.4704 16.3111 24.3733 16.6559 23.3388V18.8875H10.9194C9.74388 21.2072 9.06992 23.8247 9.06992 26.6146C9.06992 29.4045 9.74388 32.022 10.9194 34.3417L15.3864 30.8621L16.6559 29.8904V29.8904Z\" fill=\"#FBBC05\"/>\n",
       "      <path fill-rule=\"evenodd\" clip-rule=\"evenodd\" d=\"M26.3109 16.2386C28.85 16.2386 31.107 17.1164 32.9095 18.8091L37.8466 13.8719C34.853 11.082 30.9659 9.3736 26.3109 9.3736C19.5712 9.3736 13.7563 13.245 10.9194 18.8875L16.6559 23.3388C18.0195 19.2636 21.8282 16.2386 26.3109 16.2386V16.2386Z\" fill=\"#EA4335\"/>\n",
       "    </svg>\n",
       "    <svg class=\"logo-dark\" width=\"18\" height=\"18\" viewBox=\"0 0 48 48\" xmlns=\"http://www.w3.org/2000/svg\">\n",
       "      <circle cx=\"24\" cy=\"23\" fill=\"#FFF\" r=\"22\"/>\n",
       "      <path d=\"M33.76 34.26c2.75-2.56 4.49-6.37 4.49-11.26 0-.89-.08-1.84-.29-3H24.01v5.99h8.03c-.4 2.02-1.5 3.56-3.07 4.56v.75l3.91 2.97h.88z\" fill=\"#4285F4\"/>\n",
       "      <path d=\"M15.58 25.77A8.845 8.845 0 0 0 24 31.86c1.92 0 3.62-.46 4.97-1.31l4.79 3.71C31.14 36.7 27.65 38 24 38c-5.93 0-11.01-3.4-13.45-8.36l.17-1.01 4.06-2.85h.8z\" fill=\"#34A853\"/>\n",
       "      <path d=\"M15.59 20.21a8.864 8.864 0 0 0 0 5.58l-5.03 3.86c-.98-2-1.53-4.25-1.53-6.64 0-2.39.55-4.64 1.53-6.64l1-.22 3.81 2.98.22 1.08z\" fill=\"#FBBC05\"/>\n",
       "      <path d=\"M24 14.14c2.11 0 4.02.75 5.52 1.98l4.36-4.36C31.22 9.43 27.81 8 24 8c-5.93 0-11.01 3.4-13.45 8.36l5.03 3.85A8.86 8.86 0 0 1 24 14.14z\" fill=\"#EA4335\"/>\n",
       "    </svg>\n",
       "    <div class=\"gradient-container\"><div class=\"gradient\"></div></div>\n",
       "  </div>\n",
       "  <div class=\"carousel\">\n",
       "    <a class=\"chip\" href=\"https://vertexaisearch.cloud.google.com/grounding-api-redirect/AbF9wXGBeKAe0gV_iHJGL3u5upgFI78igvDI_cEQMIgIkbdjqdl3mtzH-KBio9jIgLKFP2yOZfISlwAa7DDbi8IgGC4z2_1U0thsSDILgNNVA9AZrQIXr6GAlAEPieXlcBCCHEoyfTygXqFj3J7TA5TPEAB-vI8VuxUCMxric-UCPyNzYB7K6JRpYgenRke9DVLnWV04Cy9gUF2d1DNGf-grQYFGHcK22mlkv6bftxXvq40YbYuTpjZW7b2y96SMYkpey8kXoGDPpJ_MafODz6GtyTWOd9A_fTl-wcxORmgH4MUiLA==\">高田馬場 カレー 子連れ</a>\n",
       "    <a class=\"chip\" href=\"https://vertexaisearch.cloud.google.com/grounding-api-redirect/AbF9wXGuuddUZwJQtIkeDgtxoXwpqGmuJs2DP1hs1T_MFNnorVp_ZjcwXZiLkcUGuzdtGJn9s3KA3xR8SLKhuzINcIl9OHLFMw-9wn9XGFO7dNDtPnN3DdHLC_y1mSBFcfILbmB6Um2oR_TbERmPieAEfFOWlQRIFwyJAuBbtS_YSQ04mSB2HbOVH15kNH-gJ9ZiLMFrX8W9sXIEYTCh2eOw8MjbLA4kcEvcRNafKJVyDvAbgZNgelBgWMdXS4FTXeRIsgmIY7pf_mGIWwx0Sla9EpRuAKvfaa56XcS8EVTqix4gWspA2ulGNSu6Gg==\">高田馬場 カレー 家族連れ</a>\n",
       "    <a class=\"chip\" href=\"https://vertexaisearch.cloud.google.com/grounding-api-redirect/AbF9wXHUbretpVO9c1aJl6tfSisyeCJmeaPKGw20ZAQqBH2QVcxE_lgsn-euGi3YAuMP5oKF3VaJQFRzEJXSqKoY8FtXX3JPfmqaPnpqAkVmrdfvIPNQJ93kA5iIaXVt-Zil2iw-VyspSUWHEZpuOfngdjPo5CaGgxWGMK1wLO3i8I-7a6PxktyVBdpYhYMyzXW7LyMPwbDxFzb5i0cj5t120maBtRzat4RmCf0c6OygMSROQv8cfhjEGzD8OvD6QkXZICxztCf1uMxeQh97d64Asb26BkyCI194kw==\">高田馬場 カレー 子供</a>\n",
       "    <a class=\"chip\" href=\"https://vertexaisearch.cloud.google.com/grounding-api-redirect/AbF9wXHFLu-rJIDcyTNCcSOCM5jr5YVNwKdeIq_G1h4MAidzRrOQT377282pVH57jt90IMUoznvs1hqZXVChEGGZyMYychiFJUqhtBR6f1mT_cGnTlqzigBXa_kqvG7rN6Qg7hM0XXGd7GQlFrbdrWGwDcFhleFm9HHfcos3imZKkMXZJLLCablY6jJXbiY2zEPevdjWtce-I8DpasejpN-qTUjrSAbpKqi6hwua4Cph3SbxBJ6vSZ6I2aIDTgbedJReAtU2hvTBeuquKzpqEFGWPfSfAMJ1I6dYsl9t5-GThpOfVNR5bsjlXm7-GNKijnvRrV_2jmIfXHbg6Id45j5UUpwFRBcB2j6GzQh5AR8sQqs=\">高田馬場 おすすめ レストラン 子供</a>\n",
       "    <a class=\"chip\" href=\"https://vertexaisearch.cloud.google.com/grounding-api-redirect/AbF9wXH46UGPx4JHPvTp7q0yZZGe88RYx1sA8d0aY9KqBnSs79l7SQ36wKRRCiuySP5FPrPwWKWGxplbzpsCHDwL7tunocGqCKDZ9kWRD6Ya_qEBekmPFLHSl6IEbrSm4fXkVXM3e-AjAsRtrEmZYI4PxEdGyU2cYrFAUHO1Z7T094hnlyCVyKeFnYIclSYEve1D7_nClMupQ_IpPzHxcHXmpA7L8wbhjsp7uSXLScgoOkhPx1ilaNxKlxClY5aS_7NVeR0xe8ZWSB2XB_5I_b6ewgLn1eeyQni00ryIgTsesbCu3CN4N-9KvgFFEQ==\">高田馬場 レストラン 家族</a>\n",
       "  </div>\n",
       "</div>\n"
      ],
      "text/plain": [
       "<IPython.core.display.HTML object>"
      ]
     },
     "metadata": {},
     "output_type": "display_data"
    }
   ],
   "source": [
    "search_queries = session.events[-1].grounding_metadata.web_search_queries\n",
    "entry_point_html = session.events[-1].grounding_metadata.search_entry_point.rendered_content\n",
    "\n",
    "print(search_queries)\n",
    "display(HTML(entry_point_html))"
   ]
  },
  {
   "cell_type": "markdown",
   "id": "e2a70f99-4d13-4b5d-b001-53feeefa9f80",
   "metadata": {
    "tags": []
   },
   "source": [
    "## システムインストラクションの確認"
   ]
  },
  {
   "cell_type": "markdown",
   "id": "5bfac680-ef89-45e8-b2c1-33e7142a128b",
   "metadata": {},
   "source": [
    "ちょっとした裏技を使って、LlmAgent オブジェクトが Gemini API に送っている生の情報を覗いてみます。"
   ]
  },
  {
   "cell_type": "code",
   "execution_count": 75,
   "id": "be3cb571-7668-4e52-a391-f5fd566219c8",
   "metadata": {
    "tags": []
   },
   "outputs": [],
   "source": [
    "import pprint\n",
    "from google.adk.agents.invocation_context import InvocationContext\n",
    "from typing import AsyncGenerator\n",
    "from google.adk.events.event import Event\n",
    "from google.adk.models.llm_request import LlmRequest\n",
    "\n",
    "async def _run_one_step_async(\n",
    "      self,\n",
    "      invocation_context: InvocationContext,\n",
    "  ) -> AsyncGenerator[Event, None]:\n",
    "    \"\"\"One step means one LLM call.\"\"\"\n",
    "    llm_request = LlmRequest()\n",
    "\n",
    "    # Preprocess before calling the LLM.\n",
    "    async for event in self._preprocess_async(invocation_context, llm_request):\n",
    "        yield event\n",
    "    if invocation_context.end_invocation:\n",
    "        return\n",
    "\n",
    "    # Calls the LLM.\n",
    "    model_response_event = Event(\n",
    "        id=Event.new_id(),\n",
    "        invocation_id=invocation_context.invocation_id,\n",
    "        author=invocation_context.agent.name,\n",
    "        branch=invocation_context.branch,\n",
    "    )\n",
    "\n",
    "    ## DEBUG output\n",
    "    if DEBUG:\n",
    "        print('## Prompt contents ##')\n",
    "        pprint.pp(llm_request.contents)\n",
    "        print('----')\n",
    "        print('## System instruction ##')\n",
    "        print(llm_request.config.system_instruction)\n",
    "        print('----')\n",
    "        print('## Tools config ##')\n",
    "        pprint.pp(llm_request.config.tools)\n",
    "        print('----')\n",
    "    ####\n",
    "\n",
    "    async for llm_response in self._call_llm_async(\n",
    "        invocation_context, llm_request, model_response_event\n",
    "    ):\n",
    "        # Postprocess after calling the LLM.\n",
    "        async for event in self._postprocess_async(\n",
    "            invocation_context, llm_request, llm_response, model_response_event\n",
    "        ):\n",
    "            yield event\n",
    "\n",
    "from google.adk.flows.llm_flows.base_llm_flow import BaseLlmFlow\n",
    "_run_one_step_async_original = copy.deepcopy(BaseLlmFlow._run_one_step_async)\n",
    "BaseLlmFlow._run_one_step_async = _run_one_step_async"
   ]
  },
  {
   "cell_type": "code",
   "execution_count": 76,
   "id": "a8229c70-8171-4c92-81c4-04cc8ec0fb38",
   "metadata": {
    "tags": []
   },
   "outputs": [
    {
     "name": "stdout",
     "output_type": "stream",
     "text": [
      "## Prompt contents ##\n",
      "[UserContent(parts=[Part(video_metadata=None, thought=None, inline_data=None, code_execution_result=None, executable_code=None, file_data=None, function_call=None, function_response=None, text='\\n高田馬場のおすすめのカレー屋は？\\n')], role='user')]\n",
      "----\n",
      "## System instruction ##\n",
      "\n",
      "You are a friendly AI assistant that answers user's queries.\n",
      "Use google_search to give answers based on the latest and objective information.\n",
      "\n",
      "[Format instruction]\n",
      "Output in Japanese, in plain text only without any special formatting characters.\n",
      "Avoid adding citation marks such as [1][2].\n",
      "\n",
      "\n",
      "You are an agent. Your internal name is \"search_agent\".\n",
      "\n",
      " The description about you is \"Agent to answer questions using Google Search.\"\n",
      "----\n",
      "## Tools config ##\n",
      "[Tool(retrieval=None, google_search=GoogleSearch(), google_search_retrieval=None, enterprise_web_search=None, google_maps=None, code_execution=None, function_declarations=None)]\n",
      "----\n",
      "高田馬場のおすすめのカレー屋について調べてみます。\n",
      "\n",
      "高田馬場にはたくさんのカレー屋さんがありますね。おすすめのお店をいくつかご紹介します。\n",
      "\n",
      "*   **カレーライス専門店ブラザー:** 鯖キーマカレーが人気のお店です。\n",
      "*   **横浜ボンベイ 高田馬場店:** サラッとしたルーが特徴で、カシミールカレーがおすすめです。\n",
      "*   **プネウマカレー:** コスパの良いチキンカレーが人気です。\n",
      "*   **エチオピアカリーキッチン 高田馬場店:** 長時間煮込んだ野菜が美味しいと評判です。\n",
      "*    **白カレーの店 1/f ゆらぎ:** 珍しい白カレーが味わえます。\n",
      "\n",
      "この他にも、Rettyや食べログなどのグルメサイトで、高田馬場のカレー店がたくさん紹介されています。ぜひ色々調べて、お好みのカレー屋さんを見つけてみてください。\n",
      "\n"
     ]
    }
   ],
   "source": [
    "client = LocalApp(search_agent, 'Search Agent App', 'user00')\n",
    "\n",
    "DEBUG = True\n",
    "query = '''\n",
    "高田馬場のおすすめのカレー屋は？\n",
    "'''\n",
    "_ = await client.stream(query)"
   ]
  },
  {
   "cell_type": "code",
   "execution_count": 77,
   "id": "36702715-d78d-42e5-a205-24a592265b6e",
   "metadata": {
    "tags": []
   },
   "outputs": [
    {
     "name": "stdout",
     "output_type": "stream",
     "text": [
      "## Prompt contents ##\n",
      "[UserContent(parts=[Part(video_metadata=None, thought=None, inline_data=None, code_execution_result=None, executable_code=None, file_data=None, function_call=None, function_response=None, text='\\n高田馬場のおすすめのカレー屋は？\\n')], role='user'),\n",
      " Content(parts=[Part(video_metadata=None, thought=None, inline_data=None, code_execution_result=None, executable_code=None, file_data=None, function_call=None, function_response=None, text='高田馬場のおすすめのカレー屋について調べてみます。\\n'), Part(video_metadata=None, thought=None, inline_data=None, code_execution_result=None, executable_code=None, file_data=None, function_call=None, function_response=None, text='高田馬場にはたくさんのカレー屋さんがありますね。おすすめのお店をいくつかご紹介します。\\n\\n*   **カレーライス専門店ブラザー:** 鯖キーマカレーが人気のお店です。\\n*   **横浜ボンベイ 高田馬場店:** サラッとしたルーが特徴で、カシミールカレーがおすすめです。\\n*   **プネウマカレー:** コスパの良いチキンカレーが人気です。\\n*   **エチオピアカリーキッチン 高田馬場店:** 長時間煮込んだ野菜が美味しいと評判です。\\n*    **白カレーの店 1/f ゆらぎ:** 珍しい白カレーが味わえます。\\n\\nこの他にも、Rettyや食べログなどのグルメサイトで、高田馬場のカレー店がたくさん紹介されています。ぜひ色々調べて、お好みのカレー屋さんを見つけてみてください。\\n')], role='model'),\n",
      " UserContent(parts=[Part(video_metadata=None, thought=None, inline_data=None, code_execution_result=None, executable_code=None, file_data=None, function_call=None, function_response=None, text='\\n特に家族連れにおすすめなのは？\\n')], role='user')]\n",
      "----\n",
      "## System instruction ##\n",
      "\n",
      "You are a friendly AI assistant that answers user's queries.\n",
      "Use google_search to give answers based on the latest and objective information.\n",
      "\n",
      "[Format instruction]\n",
      "Output in Japanese, in plain text only without any special formatting characters.\n",
      "Avoid adding citation marks such as [1][2].\n",
      "\n",
      "\n",
      "You are an agent. Your internal name is \"search_agent\".\n",
      "\n",
      " The description about you is \"Agent to answer questions using Google Search.\"\n",
      "----\n",
      "## Tools config ##\n",
      "[Tool(retrieval=None, google_search=GoogleSearch(), google_search_retrieval=None, enterprise_web_search=None, google_maps=None, code_execution=None, function_declarations=None)]\n",
      "----\n",
      "家族連れにおすすめの高田馬場のカレー屋さんについて調べてみます。家族連れとなると、お店の雰囲気やメニューのバリエーション、子供向けのメニューがあるかなどが重要になりますね。\n",
      "\n",
      "\n",
      "食べログなどのグルメサイトでは、子連れで行けるカレー店として以下のお店が紹介されています。\n",
      "\n",
      "*   **フィクションスパイス:** スパイス料理が楽しめるダイニングバーで、ランチタイムも営業しています。\n",
      "*   **つけ蕎麦安土 高田馬場本店:** つけ蕎麦屋さんですが、カレーも提供しています。\n",
      "*   **タワン・タイ:** 本格的なタイ料理が味わえるお店です。\n",
      "*   **インドアジアンレストラン&バーヒマラヤ:** キッズメニューがあり、子供が手作りナンを楽しめます。\n",
      "\n",
      "また、ホットペッパーグルメでは、以下のお店が子連れ可のランチにおすすめとして紹介されています。\n",
      "\n",
      "*   **石庫門 高田馬場店:** 中華料理店ですが、個室があり、大人数でも利用しやすいです。\n",
      "*   **ORIENTAL ELEPHANT 高田馬場店:** タイ料理店で、ガパオライスやプーパッポンカレーなどが楽しめます。\n",
      "*   **大戸屋ごはん処 高田馬場駅前店:** お子様野菜カレーがあります。\n",
      "\n",
      "これらの情報を参考に、お店の雰囲気やメニュー、座席などを考慮して、家族みんなで楽しめるカレー屋さんを選んでみてください。\n"
     ]
    }
   ],
   "source": [
    "query = '''\n",
    "特に家族連れにおすすめなのは？\n",
    "'''\n",
    "_ = await client.stream(query)"
   ]
  },
  {
   "cell_type": "markdown",
   "id": "3da96ad4-1a1f-4a96-bf1c-006412202401",
   "metadata": {},
   "source": [
    "`## Prompt contents ##` の部分を見ると、セッションに記録されたイベントをすべてプロンプトに含めるのではなく、コンテキスト（これまでの会話の流れ）を把握するのに必要な情報が選択されていることがわかります。"
   ]
  },
  {
   "cell_type": "markdown",
   "id": "2dcf2f5a-01cc-48e7-b914-a5d2cfdd992f",
   "metadata": {},
   "source": [
    "裏技で変更した内部関数を元に戻しておきます。"
   ]
  },
  {
   "cell_type": "code",
   "execution_count": 78,
   "id": "4ec8b08e-6fd1-4b85-a71f-225ad93eddab",
   "metadata": {
    "tags": []
   },
   "outputs": [],
   "source": [
    "DEBUG = False\n",
    "BaseLlmFlow._run_one_step_async = _run_one_step_async_original"
   ]
  },
  {
   "cell_type": "markdown",
   "id": "1af5ce4f-ad07-4ff1-8b5a-a692c72136ad",
   "metadata": {},
   "source": [
    "## AgentEngine へのデプロイ"
   ]
  },
  {
   "cell_type": "code",
   "execution_count": 79,
   "id": "a70d1459-4afd-4d07-b25e-21b32c708396",
   "metadata": {
    "tags": []
   },
   "outputs": [
    {
     "name": "stdout",
     "output_type": "stream",
     "text": [
      "Deploying google.adk.agents.Agent as an application.\n",
      "Identified the following requirements: {'google-cloud-aiplatform': '1.88.0', 'cloudpickle': '3.1.1'}\n",
      "The following requirements are missing: {'cloudpickle'}\n",
      "The following requirements are appended: {'cloudpickle==3.1.1'}\n",
      "The final list of requirements: ['google-cloud-aiplatform[adk,agent_engines]', 'cloudpickle==3.1.1']\n",
      "Using bucket etsuji-15pro-poc\n",
      "Wrote to gs://etsuji-15pro-poc/agent_engine/agent_engine.pkl\n",
      "Writing to gs://etsuji-15pro-poc/agent_engine/requirements.txt\n",
      "Creating in-memory tarfile of extra_packages\n",
      "Writing to gs://etsuji-15pro-poc/agent_engine/dependencies.tar.gz\n",
      "Creating AgentEngine\n",
      "Create AgentEngine backing LRO: projects/879055303739/locations/us-central1/reasoningEngines/2482547721936830464/operations/7072978359533174784\n",
      "View progress and logs at https://console.cloud.google.com/logs/query?project=etsuji-15pro-poc\n",
      "AgentEngine created. Resource name: projects/879055303739/locations/us-central1/reasoningEngines/2482547721936830464\n",
      "To use this AgentEngine in another session:\n",
      "agent_engine = vertexai.agent_engines.get('projects/879055303739/locations/us-central1/reasoningEngines/2482547721936830464')\n"
     ]
    }
   ],
   "source": [
    "from vertexai import agent_engines\n",
    "\n",
    "remote_agent = agent_engines.create(\n",
    "    agent_engine=search_agent,\n",
    "    requirements=[\n",
    "        'google-cloud-aiplatform[adk,agent_engines]',\n",
    "    ]\n",
    ")"
   ]
  },
  {
   "cell_type": "code",
   "execution_count": 80,
   "id": "932a6534-189a-467b-8fe0-b43572d3007c",
   "metadata": {
    "tags": []
   },
   "outputs": [],
   "source": [
    "class RemoteApp:\n",
    "    def __init__(self, remote_agent, user_id):\n",
    "        self._remote_agent = remote_agent\n",
    "        self._user_id = user_id\n",
    "        self._session = remote_agent.create_session(user_id=self._user_id)\n",
    "    \n",
    "    def _stream(self, query):\n",
    "        events = self._remote_agent.stream_query(\n",
    "            user_id=self._user_id,\n",
    "            session_id=self._session['id'],\n",
    "            message=query,\n",
    "        )\n",
    "        result = []\n",
    "        for event in events:\n",
    "            if ('content' in event and 'parts' in event['content']):\n",
    "                response = '\\n'.join(\n",
    "                    [p['text'] for p in event['content']['parts'] if 'text' in p]\n",
    "                )\n",
    "                if response:\n",
    "                    print(response)\n",
    "                    result.append(response)\n",
    "        return result\n",
    "\n",
    "    def stream(self, query):\n",
    "        # Retry 4 times in case of resource exhaustion \n",
    "        for c in range(4):\n",
    "            if c > 0:\n",
    "                time.sleep(2**(c-1))\n",
    "            result = self._stream(query)\n",
    "            if result:\n",
    "                return result\n",
    "            if DEBUG:\n",
    "                print('----\\nRetrying...\\n----')\n",
    "        return None # Permanent error"
   ]
  },
  {
   "cell_type": "code",
   "execution_count": 81,
   "id": "d614f2fb-2d9d-4e2b-9175-f603677aefbc",
   "metadata": {
    "tags": []
   },
   "outputs": [
    {
     "name": "stdout",
     "output_type": "stream",
     "text": [
      "今年のゴールデンウィークがカレンダー通りだとすると何連休になるか調べてみます。\n",
      "\n",
      "\n",
      " 2025年のゴールデンウィークは、カレンダー通りの場合、5月3日（土）から5月6日（火・振替休日）までの4連休となります。ただし、4月30日、5月1日、2日を休むことができれば、4月29日から5月6日まで最大8連休にすることも可能です。\n",
      "\n"
     ]
    }
   ],
   "source": [
    "remote_client = RemoteApp(remote_agent, 'user00')\n",
    "\n",
    "query = '''\n",
    "今年のゴールデンウィークは、カレンダー通りで何連休でしょうか？\n",
    "'''\n",
    "_ = remote_client.stream(query)"
   ]
  },
  {
   "cell_type": "code",
   "execution_count": 82,
   "id": "c8856714-e948-4d0c-b7c5-47a41d1ecfe3",
   "metadata": {
    "tags": []
   },
   "outputs": [
    {
     "name": "stdout",
     "output_type": "stream",
     "text": [
      "来年のゴールデンウィークがカレンダー通りだとすると何連休になるか調べてみます。\n",
      "\n",
      " 2026年のゴールデンウィークは、カレンダー通りだと5月2日（土）から5月6日（水）までの5連休です。4月29日（水）は昭和の日ですが、飛び石の休みになります。\n",
      "\n"
     ]
    }
   ],
   "source": [
    "query = '''\n",
    "来年はどうなりますか？\n",
    "'''\n",
    "_ = remote_client.stream(query)"
   ]
  },
  {
   "cell_type": "markdown",
   "id": "100af7ef-31da-4685-9983-39586cd3c2cf",
   "metadata": {
    "tags": []
   },
   "source": [
    "セッション情報を参照する際は、`VertexAiSessionService` を使用します。"
   ]
  },
  {
   "cell_type": "code",
   "execution_count": 83,
   "id": "c2a7a06e-3c28-4962-8e0f-6068d895b897",
   "metadata": {
    "tags": []
   },
   "outputs": [
    {
     "data": {
      "text/plain": [
       "('2482547721936830464', 'user00', '938345763132407808')"
      ]
     },
     "execution_count": 83,
     "metadata": {},
     "output_type": "execute_result"
    }
   ],
   "source": [
    "app_name = remote_client._session['app_name']\n",
    "user_id = remote_client._session['user_id']\n",
    "session_id = remote_client._session['id']\n",
    "\n",
    "app_name, user_id, session_id"
   ]
  },
  {
   "cell_type": "code",
   "execution_count": 84,
   "id": "702e04e8-469d-409f-a3de-9847f624bd7a",
   "metadata": {
    "tags": []
   },
   "outputs": [
    {
     "data": {
      "text/plain": [
       "Session(id='938345763132407808', app_name='2482547721936830464', user_id='user00', state={}, events=[Event(content=Content(parts=[Part(video_metadata=None, thought=None, inline_data=None, code_execution_result=None, executable_code=None, file_data=None, function_call=None, function_response=None, text='\\n今年のゴールデンウィークは、カレンダー通りで何連休でしょうか？\\n')], role='user'), grounding_metadata=None, partial=None, turn_complete=None, error_code=None, error_message=None, interrupted=None, custom_metadata=None, invocation_id='e-bb52e2e9-fa00-4557-8530-208b5f801747', author='user', actions=EventActions(skip_summarization=None, state_delta={}, artifact_delta={}, transfer_to_agent=None, escalate=None, requested_auth_configs={}), long_running_tool_ids=None, branch=None, id='1372362585034194944', timestamp=1747563659.243566), Event(content=Content(parts=[Part(video_metadata=None, thought=None, inline_data=None, code_execution_result=None, executable_code=None, file_data=None, function_call=None, function_response=None, text='今年のゴールデンウィークがカレンダー通りだとすると何連休になるか調べてみます。\\n\\n'), Part(video_metadata=None, thought=None, inline_data=None, code_execution_result=None, executable_code=None, file_data=None, function_call=None, function_response=None, text=' 2025年のゴールデンウィークは、カレンダー通りの場合、5月3日（土）から5月6日（火・振替休日）までの4連休となります。ただし、4月30日、5月1日、2日を休むことができれば、4月29日から5月6日まで最大8連休にすることも可能です。\\n')], role='model'), grounding_metadata={'webSearchQueries': ['2025年 ゴールデンウィーク カレンダー通り 何連休'], 'searchEntryPoint': {'renderedContent': '<style>\\n.container {\\n  align-items: center;\\n  border-radius: 8px;\\n  display: flex;\\n  font-family: Google Sans, Roboto, sans-serif;\\n  font-size: 14px;\\n  line-height: 20px;\\n  padding: 8px 12px;\\n}\\n.chip {\\n  display: inline-block;\\n  border: solid 1px;\\n  border-radius: 16px;\\n  min-width: 14px;\\n  padding: 5px 16px;\\n  text-align: center;\\n  user-select: none;\\n  margin: 0 8px;\\n  -webkit-tap-highlight-color: transparent;\\n}\\n.carousel {\\n  overflow: auto;\\n  scrollbar-width: none;\\n  white-space: nowrap;\\n  margin-right: -12px;\\n}\\n.headline {\\n  display: flex;\\n  margin-right: 4px;\\n}\\n.gradient-container {\\n  position: relative;\\n}\\n.gradient {\\n  position: absolute;\\n  transform: translate(3px, -9px);\\n  height: 36px;\\n  width: 9px;\\n}\\n@media (prefers-color-scheme: light) {\\n  .container {\\n    background-color: #fafafa;\\n    box-shadow: 0 0 0 1px #0000000f;\\n  }\\n  .headline-label {\\n    color: #1f1f1f;\\n  }\\n  .chip {\\n    background-color: #ffffff;\\n    border-color: #d2d2d2;\\n    color: #5e5e5e;\\n    text-decoration: none;\\n  }\\n  .chip:hover {\\n    background-color: #f2f2f2;\\n  }\\n  .chip:focus {\\n    background-color: #f2f2f2;\\n  }\\n  .chip:active {\\n    background-color: #d8d8d8;\\n    border-color: #b6b6b6;\\n  }\\n  .logo-dark {\\n    display: none;\\n  }\\n  .gradient {\\n    background: linear-gradient(90deg, #fafafa 15%, #fafafa00 100%);\\n  }\\n}\\n@media (prefers-color-scheme: dark) {\\n  .container {\\n    background-color: #1f1f1f;\\n    box-shadow: 0 0 0 1px #ffffff26;\\n  }\\n  .headline-label {\\n    color: #fff;\\n  }\\n  .chip {\\n    background-color: #2c2c2c;\\n    border-color: #3c4043;\\n    color: #fff;\\n    text-decoration: none;\\n  }\\n  .chip:hover {\\n    background-color: #353536;\\n  }\\n  .chip:focus {\\n    background-color: #353536;\\n  }\\n  .chip:active {\\n    background-color: #464849;\\n    border-color: #53575b;\\n  }\\n  .logo-light {\\n    display: none;\\n  }\\n  .gradient {\\n    background: linear-gradient(90deg, #1f1f1f 15%, #1f1f1f00 100%);\\n  }\\n}\\n</style>\\n<div class=\"container\">\\n  <div class=\"headline\">\\n    <svg class=\"logo-light\" width=\"18\" height=\"18\" viewBox=\"9 9 35 35\" fill=\"none\" xmlns=\"http://www.w3.org/2000/svg\">\\n      <path fill-rule=\"evenodd\" clip-rule=\"evenodd\" d=\"M42.8622 27.0064C42.8622 25.7839 42.7525 24.6084 42.5487 23.4799H26.3109V30.1568H35.5897C35.1821 32.3041 33.9596 34.1222 32.1258 35.3448V39.6864H37.7213C40.9814 36.677 42.8622 32.2571 42.8622 27.0064V27.0064Z\" fill=\"#4285F4\"/>\\n      <path fill-rule=\"evenodd\" clip-rule=\"evenodd\" d=\"M26.3109 43.8555C30.9659 43.8555 34.8687 42.3195 37.7213 39.6863L32.1258 35.3447C30.5898 36.3792 28.6306 37.0061 26.3109 37.0061C21.8282 37.0061 18.0195 33.9811 16.6559 29.906H10.9194V34.3573C13.7563 39.9841 19.5712 43.8555 26.3109 43.8555V43.8555Z\" fill=\"#34A853\"/>\\n      <path fill-rule=\"evenodd\" clip-rule=\"evenodd\" d=\"M16.6559 29.8904C16.3111 28.8559 16.1074 27.7588 16.1074 26.6146C16.1074 25.4704 16.3111 24.3733 16.6559 23.3388V18.8875H10.9194C9.74388 21.2072 9.06992 23.8247 9.06992 26.6146C9.06992 29.4045 9.74388 32.022 10.9194 34.3417L15.3864 30.8621L16.6559 29.8904V29.8904Z\" fill=\"#FBBC05\"/>\\n      <path fill-rule=\"evenodd\" clip-rule=\"evenodd\" d=\"M26.3109 16.2386C28.85 16.2386 31.107 17.1164 32.9095 18.8091L37.8466 13.8719C34.853 11.082 30.9659 9.3736 26.3109 9.3736C19.5712 9.3736 13.7563 13.245 10.9194 18.8875L16.6559 23.3388C18.0195 19.2636 21.8282 16.2386 26.3109 16.2386V16.2386Z\" fill=\"#EA4335\"/>\\n    </svg>\\n    <svg class=\"logo-dark\" width=\"18\" height=\"18\" viewBox=\"0 0 48 48\" xmlns=\"http://www.w3.org/2000/svg\">\\n      <circle cx=\"24\" cy=\"23\" fill=\"#FFF\" r=\"22\"/>\\n      <path d=\"M33.76 34.26c2.75-2.56 4.49-6.37 4.49-11.26 0-.89-.08-1.84-.29-3H24.01v5.99h8.03c-.4 2.02-1.5 3.56-3.07 4.56v.75l3.91 2.97h.88z\" fill=\"#4285F4\"/>\\n      <path d=\"M15.58 25.77A8.845 8.845 0 0 0 24 31.86c1.92 0 3.62-.46 4.97-1.31l4.79 3.71C31.14 36.7 27.65 38 24 38c-5.93 0-11.01-3.4-13.45-8.36l.17-1.01 4.06-2.85h.8z\" fill=\"#34A853\"/>\\n      <path d=\"M15.59 20.21a8.864 8.864 0 0 0 0 5.58l-5.03 3.86c-.98-2-1.53-4.25-1.53-6.64 0-2.39.55-4.64 1.53-6.64l1-.22 3.81 2.98.22 1.08z\" fill=\"#FBBC05\"/>\\n      <path d=\"M24 14.14c2.11 0 4.02.75 5.52 1.98l4.36-4.36C31.22 9.43 27.81 8 24 8c-5.93 0-11.01 3.4-13.45 8.36l5.03 3.85A8.86 8.86 0 0 1 24 14.14z\" fill=\"#EA4335\"/>\\n    </svg>\\n    <div class=\"gradient-container\"><div class=\"gradient\"></div></div>\\n  </div>\\n  <div class=\"carousel\">\\n    <a class=\"chip\" href=\"https://vertexaisearch.cloud.google.com/grounding-api-redirect/AbF9wXEozlT0DRN5f9tqr-uFG5rPK-mkRKkn9vtMWHykYCXZQt3bDYxh0O28u-Wd5WcO0jWhZvI1mpWk2jPeOD2Ce5bKKrbo3p8PcEC2DvFsjtwzL6Phxtz0OKB9BbxYCjcZS1RA_2SKAYUE4VSwNbaE2CswMaa_UkSLhFlnFawbzznNr_NeZbtauBUryTmHrngG46N6Xtov99TNQ_HDmPPbshsgClHhyOsSy0uMtpeHfbgZnBCMjuTIj337Qo2CmOSB1KD10fBeqQlXKqVWZaXsCIyWAToUCEuPFile7Ikz8tyYQPoLXC6QotjccWLIv3ywBpFsOWtwC-3IB4tBQj4umRVPch6s9htJcYzYxmP6BvvRa7x4bZuiezmVJyewj0q5tibYS3m6sSh2iF6fj13dacB2xzQxARH0dadg53RavsLy\">2025年 ゴールデンウィーク カレンダー通り 何連休</a>\\n  </div>\\n</div>\\n'}, 'groundingChunks': [{'web': {'uri': 'https://vertexaisearch.cloud.google.com/grounding-api-redirect/AbF9wXHfbCZzzrQ2JmGha-JcTJkfWPetjgqcIk_4siYWCSnKMiyqrlUey7w0Euzk7YFKs7334TsfvZGVuE14EiyixO8J2J_x48uaHNLzA5H9BhTleaudY1xuDlvI25zfsVh7z6zJ9cgRa3Odv8xVi6y-XT1hEj6s', 'title': 'walkerplus.com', 'domain': 'walkerplus.com'}}], 'groundingSupports': [{'segment': {'startIndex': 120, 'endIndex': 432, 'text': '2025年のゴールデンウィークは、カレンダー通りの場合、5月3日（土）から5月6日（火・振替休日）までの4連休となります。ただし、4月30日、5月1日、2日を休むことができれば、4月29日から5月6日まで最大8連休にすることも可能です。'}, 'groundingChunkIndices': [0], 'confidenceScores': [0.8361973]}], 'retrievalMetadata': {}}, partial=None, turn_complete=None, error_code=None, error_message=None, interrupted=None, custom_metadata=None, invocation_id='e-bb52e2e9-fa00-4557-8530-208b5f801747', author='search_agent', actions=EventActions(skip_summarization=None, state_delta={}, artifact_delta={}, transfer_to_agent=None, escalate=None, requested_auth_configs={}), long_running_tool_ids=None, branch=None, id='5984048603461582848', timestamp=1747563659.306324), Event(content=Content(parts=[Part(video_metadata=None, thought=None, inline_data=None, code_execution_result=None, executable_code=None, file_data=None, function_call=None, function_response=None, text='\\n来年はどうなりますか？\\n')], role='user'), grounding_metadata=None, partial=None, turn_complete=None, error_code=None, error_message=None, interrupted=None, custom_metadata=None, invocation_id='e-45ed7605-1120-4d24-be72-a07aef2c71bc', author='user', actions=EventActions(skip_summarization=None, state_delta={}, artifact_delta={}, transfer_to_agent=None, escalate=None, requested_auth_configs={}), long_running_tool_ids=None, branch=None, id='5335530257120231424', timestamp=1747563661.911222), Event(content=Content(parts=[Part(video_metadata=None, thought=None, inline_data=None, code_execution_result=None, executable_code=None, file_data=None, function_call=None, function_response=None, text='来年のゴールデンウィークがカレンダー通りだとすると何連休になるか調べてみます。\\n'), Part(video_metadata=None, thought=None, inline_data=None, code_execution_result=None, executable_code=None, file_data=None, function_call=None, function_response=None, text=' 2026年のゴールデンウィークは、カレンダー通りだと5月2日（土）から5月6日（水）までの5連休です。4月29日（水）は昭和の日ですが、飛び石の休みになります。\\n')], role='model'), grounding_metadata={'webSearchQueries': ['2026年 ゴールデンウィーク カレンダー通り 何連休'], 'searchEntryPoint': {'renderedContent': '<style>\\n.container {\\n  align-items: center;\\n  border-radius: 8px;\\n  display: flex;\\n  font-family: Google Sans, Roboto, sans-serif;\\n  font-size: 14px;\\n  line-height: 20px;\\n  padding: 8px 12px;\\n}\\n.chip {\\n  display: inline-block;\\n  border: solid 1px;\\n  border-radius: 16px;\\n  min-width: 14px;\\n  padding: 5px 16px;\\n  text-align: center;\\n  user-select: none;\\n  margin: 0 8px;\\n  -webkit-tap-highlight-color: transparent;\\n}\\n.carousel {\\n  overflow: auto;\\n  scrollbar-width: none;\\n  white-space: nowrap;\\n  margin-right: -12px;\\n}\\n.headline {\\n  display: flex;\\n  margin-right: 4px;\\n}\\n.gradient-container {\\n  position: relative;\\n}\\n.gradient {\\n  position: absolute;\\n  transform: translate(3px, -9px);\\n  height: 36px;\\n  width: 9px;\\n}\\n@media (prefers-color-scheme: light) {\\n  .container {\\n    background-color: #fafafa;\\n    box-shadow: 0 0 0 1px #0000000f;\\n  }\\n  .headline-label {\\n    color: #1f1f1f;\\n  }\\n  .chip {\\n    background-color: #ffffff;\\n    border-color: #d2d2d2;\\n    color: #5e5e5e;\\n    text-decoration: none;\\n  }\\n  .chip:hover {\\n    background-color: #f2f2f2;\\n  }\\n  .chip:focus {\\n    background-color: #f2f2f2;\\n  }\\n  .chip:active {\\n    background-color: #d8d8d8;\\n    border-color: #b6b6b6;\\n  }\\n  .logo-dark {\\n    display: none;\\n  }\\n  .gradient {\\n    background: linear-gradient(90deg, #fafafa 15%, #fafafa00 100%);\\n  }\\n}\\n@media (prefers-color-scheme: dark) {\\n  .container {\\n    background-color: #1f1f1f;\\n    box-shadow: 0 0 0 1px #ffffff26;\\n  }\\n  .headline-label {\\n    color: #fff;\\n  }\\n  .chip {\\n    background-color: #2c2c2c;\\n    border-color: #3c4043;\\n    color: #fff;\\n    text-decoration: none;\\n  }\\n  .chip:hover {\\n    background-color: #353536;\\n  }\\n  .chip:focus {\\n    background-color: #353536;\\n  }\\n  .chip:active {\\n    background-color: #464849;\\n    border-color: #53575b;\\n  }\\n  .logo-light {\\n    display: none;\\n  }\\n  .gradient {\\n    background: linear-gradient(90deg, #1f1f1f 15%, #1f1f1f00 100%);\\n  }\\n}\\n</style>\\n<div class=\"container\">\\n  <div class=\"headline\">\\n    <svg class=\"logo-light\" width=\"18\" height=\"18\" viewBox=\"9 9 35 35\" fill=\"none\" xmlns=\"http://www.w3.org/2000/svg\">\\n      <path fill-rule=\"evenodd\" clip-rule=\"evenodd\" d=\"M42.8622 27.0064C42.8622 25.7839 42.7525 24.6084 42.5487 23.4799H26.3109V30.1568H35.5897C35.1821 32.3041 33.9596 34.1222 32.1258 35.3448V39.6864H37.7213C40.9814 36.677 42.8622 32.2571 42.8622 27.0064V27.0064Z\" fill=\"#4285F4\"/>\\n      <path fill-rule=\"evenodd\" clip-rule=\"evenodd\" d=\"M26.3109 43.8555C30.9659 43.8555 34.8687 42.3195 37.7213 39.6863L32.1258 35.3447C30.5898 36.3792 28.6306 37.0061 26.3109 37.0061C21.8282 37.0061 18.0195 33.9811 16.6559 29.906H10.9194V34.3573C13.7563 39.9841 19.5712 43.8555 26.3109 43.8555V43.8555Z\" fill=\"#34A853\"/>\\n      <path fill-rule=\"evenodd\" clip-rule=\"evenodd\" d=\"M16.6559 29.8904C16.3111 28.8559 16.1074 27.7588 16.1074 26.6146C16.1074 25.4704 16.3111 24.3733 16.6559 23.3388V18.8875H10.9194C9.74388 21.2072 9.06992 23.8247 9.06992 26.6146C9.06992 29.4045 9.74388 32.022 10.9194 34.3417L15.3864 30.8621L16.6559 29.8904V29.8904Z\" fill=\"#FBBC05\"/>\\n      <path fill-rule=\"evenodd\" clip-rule=\"evenodd\" d=\"M26.3109 16.2386C28.85 16.2386 31.107 17.1164 32.9095 18.8091L37.8466 13.8719C34.853 11.082 30.9659 9.3736 26.3109 9.3736C19.5712 9.3736 13.7563 13.245 10.9194 18.8875L16.6559 23.3388C18.0195 19.2636 21.8282 16.2386 26.3109 16.2386V16.2386Z\" fill=\"#EA4335\"/>\\n    </svg>\\n    <svg class=\"logo-dark\" width=\"18\" height=\"18\" viewBox=\"0 0 48 48\" xmlns=\"http://www.w3.org/2000/svg\">\\n      <circle cx=\"24\" cy=\"23\" fill=\"#FFF\" r=\"22\"/>\\n      <path d=\"M33.76 34.26c2.75-2.56 4.49-6.37 4.49-11.26 0-.89-.08-1.84-.29-3H24.01v5.99h8.03c-.4 2.02-1.5 3.56-3.07 4.56v.75l3.91 2.97h.88z\" fill=\"#4285F4\"/>\\n      <path d=\"M15.58 25.77A8.845 8.845 0 0 0 24 31.86c1.92 0 3.62-.46 4.97-1.31l4.79 3.71C31.14 36.7 27.65 38 24 38c-5.93 0-11.01-3.4-13.45-8.36l.17-1.01 4.06-2.85h.8z\" fill=\"#34A853\"/>\\n      <path d=\"M15.59 20.21a8.864 8.864 0 0 0 0 5.58l-5.03 3.86c-.98-2-1.53-4.25-1.53-6.64 0-2.39.55-4.64 1.53-6.64l1-.22 3.81 2.98.22 1.08z\" fill=\"#FBBC05\"/>\\n      <path d=\"M24 14.14c2.11 0 4.02.75 5.52 1.98l4.36-4.36C31.22 9.43 27.81 8 24 8c-5.93 0-11.01 3.4-13.45 8.36l5.03 3.85A8.86 8.86 0 0 1 24 14.14z\" fill=\"#EA4335\"/>\\n    </svg>\\n    <div class=\"gradient-container\"><div class=\"gradient\"></div></div>\\n  </div>\\n  <div class=\"carousel\">\\n    <a class=\"chip\" href=\"https://vertexaisearch.cloud.google.com/grounding-api-redirect/AbF9wXFahy5zD-gj4UDGWhbKLh2d2cFZxQVExVHzJH-TlY4nwMc5wUQdwZo83_xT-KJg6a0_FGo-tl3Umiq9AQvM3t8WM-zBIGUVAtlPgbBqDGt1v62tUTGVgLkdLM-YrOWyLpLXeF-WBhUh0XXj_Rj16UEKxjyCYE0E4VZhj7uTGOWBCpC3jSuerWUtHegjpuQU6AmGRs1D2yBkUvyFih6qEAdlw1WZ1x0NB_eAmKmFBXFLRSCQXuL3hxAFlrrf_cgEwTq7Y1fZsfwNvxfHDOaYX5-RjB8AyOH3A6It_D7M7s9ZfWxXVg8_Li8ZRNPEKtyRb7Gs69d-cnS8DEAcy7Lg2lGOMLYruxgfDrtkSl2maS7v5vSKpS6k7pSnW12xK8ralXajqWWmkemfnSd7ghxELI-8IYyiGiRLpUdNU5vsxMdU\">2026年 ゴールデンウィーク カレンダー通り 何連休</a>\\n  </div>\\n</div>\\n'}, 'groundingChunks': [{'web': {'uri': 'https://vertexaisearch.cloud.google.com/grounding-api-redirect/AbF9wXFJgkSYVX3U6_luj5V-BQJ3CqMazUOij7VjPTEEdY1zivLxhH6Ivn9786LNcuUKx9yFh-0nJxlwcRn_FHuDmnnWC4Sau4Ml7QlBBnZh6NYYucbm-gZQJxG2DMBBPxfwIUHIH7DbKsV7B6V6rdAOp3GktyL0LnJY', 'title': 'akala.ai', 'domain': 'akala.ai'}}, {'web': {'uri': 'https://vertexaisearch.cloud.google.com/grounding-api-redirect/AbF9wXG5iLOGql7B92aiEGyYFIWnWqu1qaq08_rOklPn0qgdxcQBLc9XNUJTCcEfmBWoUKX1I2D8mcX7_i8O_LyMyUxjY2PdZLkr87ybvfghtWHt-kPpMwXxSXM1a3vJdvuPv4cWrsmfbeqTrFtQplBT996OzXgUrTqI', 'title': 'akala.ai', 'domain': 'akala.ai'}}, {'web': {'uri': 'https://vertexaisearch.cloud.google.com/grounding-api-redirect/AbF9wXGLI0QOeU-3oNmVU-48B6zzbJlH_Lbii843ED995sa-WFOPSunbITctZdi1oFMBrmm8XM-hGpIaV_8KWvA60Gntbm-ydxLQSAEsYpkeqoxMOr8sOOmDpZHU3PvSZWaciZrnU0Q3mqAMQWvcpWLT', 'title': 'family-life.work', 'domain': 'family-life.work'}}, {'web': {'uri': 'https://vertexaisearch.cloud.google.com/grounding-api-redirect/AbF9wXFjfOKdvHVXsJRArkJT2DcIxdn5ucnb33s7O3Q0T5G1sp1SbaHU0LL1MK0GAYsVP6StSRG73g4_YqH2hFtlhlI0_dLPx1lGGfb_x0BPG9lECDdqpvzoQmBVG_9OFmuirCdzs-A5XpxS12JlA1s3', 'title': 'family-life.work', 'domain': 'family-life.work'}}], 'groundingSupports': [{'segment': {'startIndex': 119, 'endIndex': 335, 'text': '2026年のゴールデンウィークは、カレンダー通りだと5月2日（土）から5月6日（水）までの5連休です。4月29日（水）は昭和の日ですが、飛び石の休みになります。'}, 'groundingChunkIndices': [0, 1, 2, 3], 'confidenceScores': [0.98836005, 0.8443038, 0.83869845, 0.69838965]}], 'retrievalMetadata': {}}, partial=None, turn_complete=None, error_code=None, error_message=None, interrupted=None, custom_metadata=None, invocation_id='e-45ed7605-1120-4d24-be72-a07aef2c71bc', author='search_agent', actions=EventActions(skip_summarization=None, state_delta={}, artifact_delta={}, transfer_to_agent=None, escalate=None, requested_auth_configs={}), long_running_tool_ids=None, branch=None, id='6049350798058455040', timestamp=1747563661.987574)], last_update_time=1747563663.679427)"
      ]
     },
     "execution_count": 84,
     "metadata": {},
     "output_type": "execute_result"
    }
   ],
   "source": [
    "from google.adk.sessions import VertexAiSessionService\n",
    "\n",
    "session_service = VertexAiSessionService(\n",
    "    project = PROJECT_ID,\n",
    "    location = LOCATION,\n",
    ")\n",
    "\n",
    "session = session_service.get_session(\n",
    "    app_name=app_name,\n",
    "    user_id=user_id,\n",
    "    session_id=session_id,\n",
    ")\n",
    "\n",
    "session"
   ]
  },
  {
   "cell_type": "code",
   "execution_count": 85,
   "id": "f5ade0df-17fa-48a8-b705-b5ccea3295d4",
   "metadata": {
    "tags": []
   },
   "outputs": [
    {
     "name": "stdout",
     "output_type": "stream",
     "text": [
      "2025-05-18 10:20:59.243566 user\n",
      "2025-05-18 10:20:59.306324 search_agent\n",
      "2025-05-18 10:21:01.911222 user\n",
      "2025-05-18 10:21:01.987574 search_agent\n"
     ]
    }
   ],
   "source": [
    "for event in session.events:\n",
    "    print(format_timestamp(event.timestamp), event.author)"
   ]
  },
  {
   "cell_type": "markdown",
   "id": "a29d7333-a93c-4aa7-b1c5-c04e3b49dc12",
   "metadata": {},
   "source": [
    "## 後片付け"
   ]
  },
  {
   "cell_type": "markdown",
   "id": "f50a91bc-d0cd-4cc0-a112-26ab1ee10d14",
   "metadata": {
    "tags": []
   },
   "source": [
    "デプロイ済みのエージェントをまとめて削除します。"
   ]
  },
  {
   "cell_type": "code",
   "execution_count": null,
   "id": "bea2da56-1078-4524-a439-39baf7f27b8a",
   "metadata": {
    "tags": []
   },
   "outputs": [],
   "source": [
    "for agent in agent_engines.list():\n",
    "    print(agent.gca_resource.name)\n",
    "    agent.delete(force=True)"
   ]
  }
 ],
 "metadata": {
  "environment": {
   "kernel": "conda-base-py",
   "name": "workbench-notebooks.m129",
   "type": "gcloud",
   "uri": "us-docker.pkg.dev/deeplearning-platform-release/gcr.io/workbench-notebooks:m129"
  },
  "kernelspec": {
   "display_name": "Python 3 (ipykernel)",
   "language": "python",
   "name": "conda-base-py"
  },
  "language_info": {
   "codemirror_mode": {
    "name": "ipython",
    "version": 3
   },
   "file_extension": ".py",
   "mimetype": "text/x-python",
   "name": "python",
   "nbconvert_exporter": "python",
   "pygments_lexer": "ipython3",
   "version": "3.10.16"
  }
 },
 "nbformat": 4,
 "nbformat_minor": 5
}
