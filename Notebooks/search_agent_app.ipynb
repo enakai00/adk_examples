{
 "cells": [
  {
   "cell_type": "markdown",
   "id": "9c3cc4d8-742b-4421-b450-5f06e8f2a0c7",
   "metadata": {
    "tags": []
   },
   "source": [
    "## 事前準備"
   ]
  },
  {
   "cell_type": "markdown",
   "id": "c93ad445-56c7-4505-ae5a-4d5306efd689",
   "metadata": {},
   "source": [
    "1. Google Cloud の新しいプロジェクトを作成します。\n",
    "2. Cloud Shell を開いて、次のコマンドで API を有効化します。\n",
    "```\n",
    "gcloud services enable \\\n",
    "  aiplatform.googleapis.com \\\n",
    "  notebooks.googleapis.com \\\n",
    "  cloudresourcemanager.googleapis.com\n",
    "\n",
    "```\n",
    "3. 次のコマンドで Vertex AI Workbench のインスタンスを作成します。\n",
    "```\n",
    "PROJECT_ID=$(gcloud config list --format 'value(core.project)')\n",
    "gcloud workbench instances create agent-development \\\n",
    "  --project=$PROJECT_ID \\\n",
    "  --location=us-central1-a \\\n",
    "  --machine-type=e2-standard-2\n",
    "```\n",
    "\n",
    "4. クラウドコンソールのナビゲーションメニューから「Vertex AI」→「Workbench」を選択すると、作成したインスタンス agent-develpment があります。インスタンスの起動が完了するのを待って、「JUPYTERLAB を開く」をクリックしたら、「Python 3(ipykernel)」の新規ノートブックを作成します。\n",
    "\n",
    "5. この後は、ノートブック上で以下のコマンドを実行していきます。"
   ]
  },
  {
   "cell_type": "markdown",
   "id": "70ed77f6-8bb7-406f-8f91-e79370b32394",
   "metadata": {
    "tags": []
   },
   "source": [
    "## ADK パッケージのインストール"
   ]
  },
  {
   "cell_type": "code",
   "execution_count": null,
   "id": "c2a46ff3-934b-4d5d-bb0a-c887f296c01a",
   "metadata": {},
   "outputs": [],
   "source": [
    "%pip install --upgrade --user google-adk"
   ]
  },
  {
   "cell_type": "markdown",
   "id": "ec254a63-03f5-4973-aa23-03f2f8521f4a",
   "metadata": {},
   "source": [
    "インストールしたパッケージを利用可能にするために、次のコマンドでカーネルを再起動します。\n",
    "\n",
    "再起動を確認するポップアップが表示されるので [Ok] をクリックします。"
   ]
  },
  {
   "cell_type": "code",
   "execution_count": 2,
   "id": "915482d8-cff4-46e2-a826-94bf6cb8277d",
   "metadata": {},
   "outputs": [],
   "source": [
    "import IPython\n",
    "app = IPython.Application.instance()\n",
    "_ = app.kernel.do_shutdown(True)"
   ]
  },
  {
   "cell_type": "markdown",
   "id": "419007fb-f199-41e0-8410-d4d988179248",
   "metadata": {
    "tags": []
   },
   "source": [
    "## Search Agent App の作成"
   ]
  },
  {
   "cell_type": "code",
   "execution_count": 1,
   "id": "8722e641-cd9a-4e73-9622-427ea35c8bde",
   "metadata": {
    "tags": []
   },
   "outputs": [],
   "source": [
    "import json, os, pprint, time, uuid\n",
    "import vertexai\n",
    "from google.genai.types import Part, UserContent, ModelContent\n",
    "from google.adk.agents.llm_agent import LlmAgent\n",
    "from google.adk.artifacts import InMemoryArtifactService\n",
    "from google.adk.memory.in_memory_memory_service import InMemoryMemoryService\n",
    "from google.adk.sessions import InMemorySessionService\n",
    "from google.adk.runners import Runner\n",
    "from google.adk.tools import google_search\n",
    "\n",
    "[PROJECT_ID] = !gcloud config list --format 'value(core.project)'\n",
    "LOCATION = 'us-central1'\n",
    "\n",
    "vertexai.init(project=PROJECT_ID, location=LOCATION,\n",
    "              staging_bucket=f'gs://{PROJECT_ID}')\n",
    "\n",
    "os.environ['GOOGLE_CLOUD_PROJECT'] = PROJECT_ID\n",
    "os.environ['GOOGLE_CLOUD_LOCATION'] = LOCATION\n",
    "os.environ['GOOGLE_GENAI_USE_VERTEXAI'] = 'True'"
   ]
  },
  {
   "cell_type": "code",
   "execution_count": 2,
   "id": "1bd94203-da07-413e-9d85-94cfcfbaa8bc",
   "metadata": {
    "tags": []
   },
   "outputs": [],
   "source": [
    "instruction = '''\n",
    "You are a friendly AI assistant that answers your queries.\n",
    "Use google_search to give answers based on the latest and objective information.\n",
    "'''\n",
    "\n",
    "search_agent = LlmAgent(\n",
    "    name='search_agent',\n",
    "    model='gemini-2.0-flash-001',\n",
    "    description='Agent to answer questions using Google Search.',\n",
    "    instruction=instruction,\n",
    "    tools=[google_search]\n",
    ")"
   ]
  },
  {
   "cell_type": "code",
   "execution_count": 3,
   "id": "d94ab67e-99e0-498d-8095-81ca07156c9e",
   "metadata": {
    "tags": []
   },
   "outputs": [],
   "source": [
    "class LocalApp:\n",
    "    def __init__(self, agent, app_name, user_id):\n",
    "        self._agent = agent\n",
    "        self._app_name = app_name\n",
    "        self._user_id = user_id\n",
    "        self._runner = Runner(\n",
    "            app_name=self._app_name,\n",
    "            agent=self._agent,\n",
    "            artifact_service=InMemoryArtifactService(),\n",
    "            session_service=InMemorySessionService(),\n",
    "            memory_service=InMemoryMemoryService(),\n",
    "        )\n",
    "        self._session = self._runner.session_service.create_session(\n",
    "            app_name=self._app_name,\n",
    "            user_id=self._user_id,\n",
    "            state={},\n",
    "            session_id=uuid.uuid4().hex,\n",
    "        )\n",
    "        \n",
    "    async def stream(self, query):\n",
    "        content = UserContent(parts=[Part.from_text(text=query)])\n",
    "        async_events = self._runner.run_async(\n",
    "            user_id=self._user_id,\n",
    "            session_id=self._session.id,\n",
    "            new_message=content,\n",
    "        )\n",
    "        result = []\n",
    "        async for event in async_events:\n",
    "            if (event.content and event.content.parts):\n",
    "                response = '\\n'.join([p.text for p in event.content.parts if p.text])\n",
    "                if response:\n",
    "                    print(response)\n",
    "                    result.append(response)\n",
    "        return result"
   ]
  },
  {
   "cell_type": "markdown",
   "id": "0fc6b082-b4ec-49e4-9e27-7292607ee741",
   "metadata": {
    "tags": []
   },
   "source": [
    "## 実行例"
   ]
  },
  {
   "cell_type": "code",
   "execution_count": 4,
   "id": "8fe01b19-76b3-4eac-a2a3-5796386d06cb",
   "metadata": {
    "tags": []
   },
   "outputs": [
    {
     "name": "stdout",
     "output_type": "stream",
     "text": [
      "高田馬場でおすすめのカレー屋について調べてみました。\n",
      "\n",
      "\n",
      " 高田馬場には、たくさんのカレー屋さんがありますね！おすすめのお店をいくつかご紹介します.\n",
      "\n",
      "*   **ブラザー**：鯖キーマカレーが圧倒的な人気を誇るお店です。\n",
      "*   **横浜ボンベイ**：サラッとしたルーが特徴で、カシミールカレーは長年愛される超有名カレーです。\n",
      "*   **エチオピア**：トロトロに煮込まれた野菜が美味しいカレーが楽しめます。\n",
      "*   **プネウマカレー**: コスパが良いと評判です.\n",
      "*   **白カレーの店 1/f ゆらぎ**: 白カレーが人気です.\n",
      "\n",
      "他にも、以下のお店がおすすめです。\n",
      "\n",
      "*   ラモスカレー\n",
      "*   アプサラ\n",
      "*   まっちゃんカレー\n",
      "*   マイカリー食堂 高田馬場店\n",
      "*   カリーライス専門店 エチオピア 高田馬場店\n",
      "*   ゴーゴーカレー 高田馬場駅前店\n",
      "\n",
      "これらの情報を参考に、お好みのカレー屋さんを探してみてください.\n",
      "\n"
     ]
    }
   ],
   "source": [
    "client = LocalApp(search_agent, 'Search Agent App', 'user00')\n",
    "\n",
    "query = '''\n",
    "高田馬場のおすすめのカレー屋は？\n",
    "'''\n",
    "_ = await client.stream(query)"
   ]
  },
  {
   "cell_type": "markdown",
   "id": "938d0efc-b889-4ee4-bfc8-b0b6518af3ec",
   "metadata": {
    "tags": []
   },
   "source": [
    "SessionService が管理するセッション情報を確認します。\n",
    "\n",
    "セッションを特定するのに必要な、`app_name`、`user_id`、`session_id` を確認します。"
   ]
  },
  {
   "cell_type": "code",
   "execution_count": 5,
   "id": "a4ef5e8c-cc52-4dd6-8c5d-e9ceb054b31e",
   "metadata": {
    "tags": []
   },
   "outputs": [
    {
     "data": {
      "text/plain": [
       "('Search Agent App', 'user00', '0a2753ea4f9348b783fc796e4bebd929')"
      ]
     },
     "execution_count": 5,
     "metadata": {},
     "output_type": "execute_result"
    }
   ],
   "source": [
    "app_name = client._session.app_name\n",
    "user_id = client._session.user_id\n",
    "session_id = client._session.id\n",
    "\n",
    "app_name, user_id, session_id"
   ]
  },
  {
   "cell_type": "markdown",
   "id": "d49b47f0-70e7-4447-bc59-b693a8a73491",
   "metadata": {},
   "source": [
    "確認した情報を使って、セッションに保存された情報を確認します。\n",
    "\n",
    "2 つのイベント（ユーザーの質問とエージェントの回答）が記録されています。\n",
    "\n",
    "エージェントの回答を生成する際に用いた Google Serch の情報なども確認できます。"
   ]
  },
  {
   "cell_type": "code",
   "execution_count": 6,
   "id": "df2c86b9-1a1e-43b2-9968-0f44f2d44831",
   "metadata": {
    "tags": []
   },
   "outputs": [
    {
     "data": {
      "text/plain": [
       "Session(id='0a2753ea4f9348b783fc796e4bebd929', app_name='Search Agent App', user_id='user00', state={}, events=[Event(content=UserContent(parts=[Part(video_metadata=None, thought=None, inline_data=None, code_execution_result=None, executable_code=None, file_data=None, function_call=None, function_response=None, text='\\n高田馬場のおすすめのカレー屋は？\\n')], role='user'), grounding_metadata=None, partial=None, turn_complete=None, error_code=None, error_message=None, interrupted=None, custom_metadata=None, invocation_id='e-9e95ac9d-d6d8-4dff-a683-bad9e11dc98a', author='user', actions=EventActions(skip_summarization=None, state_delta={}, artifact_delta={}, transfer_to_agent=None, escalate=None, requested_auth_configs={}), long_running_tool_ids=None, branch=None, id='zZlg6KP9', timestamp=1747325646.914193), Event(content=Content(parts=[Part(video_metadata=None, thought=None, inline_data=None, code_execution_result=None, executable_code=None, file_data=None, function_call=None, function_response=None, text='高田馬場でおすすめのカレー屋について調べてみました。\\n\\n'), Part(video_metadata=None, thought=None, inline_data=None, code_execution_result=None, executable_code=None, file_data=None, function_call=None, function_response=None, text=' 高田馬場には、たくさんのカレー屋さんがありますね！おすすめのお店をいくつかご紹介します.\\n\\n*   **ブラザー**：鯖キーマカレーが圧倒的な人気を誇るお店です。\\n*   **横浜ボンベイ**：サラッとしたルーが特徴で、カシミールカレーは長年愛される超有名カレーです。\\n*   **エチオピア**：トロトロに煮込まれた野菜が美味しいカレーが楽しめます。\\n*   **プネウマカレー**: コスパが良いと評判です.\\n*   **白カレーの店 1/f ゆらぎ**: 白カレーが人気です.\\n\\n他にも、以下のお店がおすすめです。\\n\\n*   ラモスカレー\\n*   アプサラ\\n*   まっちゃんカレー\\n*   マイカリー食堂 高田馬場店\\n*   カリーライス専門店 エチオピア 高田馬場店\\n*   ゴーゴーカレー 高田馬場駅前店\\n\\nこれらの情報を参考に、お好みのカレー屋さんを探してみてください.\\n')], role='model'), grounding_metadata=GroundingMetadata(grounding_chunks=[GroundingChunk(retrieved_context=None, web=GroundingChunkWeb(domain='macaro-ni.jp', title='macaro-ni.jp', uri='https://vertexaisearch.cloud.google.com/grounding-api-redirect/AbF9wXEs4_eMmi-ITi_xEMQaUIjz7PvhXl7Jgt3exXfb3mMFI1-ZMIyNwB-ll0I-ocLOi2qaetWjSylPiYpbWVGPkBZHnljvuwyZlMmuzN4BDdvRhb12B4ox')), GroundingChunk(retrieved_context=None, web=GroundingChunkWeb(domain='aumo.jp', title='aumo.jp', uri='https://vertexaisearch.cloud.google.com/grounding-api-redirect/AbF9wXF7p6zXHnSJqBnafUb11TPI3gOgT14faXaAq9IEI_XkJvd9r_BiVxwf2I4R01pRAasfzK8fCuOMeH8iR8JDcByrFe8zbQQYAc2OHDNx9ph1czBkS5ay6JAlQg==')), GroundingChunk(retrieved_context=None, web=GroundingChunkWeb(domain='tabelog.com', title='tabelog.com', uri='https://vertexaisearch.cloud.google.com/grounding-api-redirect/AbF9wXHo0e7FjYetVMq_Jv4nM65znDQZyCUafTiKTQkNN5MAHCJAgRbn3f5s5GTij2r0c0QomUKAXi0F7mvYwM1aAYKkgrO40Tl0DfQl2wVqBfeHm1bXvu-rgTBKlO899pmz9s4BrH4mbBfDKEb9BzpuKA==')), GroundingChunk(retrieved_context=None, web=GroundingChunkWeb(domain='retty.me', title='retty.me', uri='https://vertexaisearch.cloud.google.com/grounding-api-redirect/AbF9wXFkggeSUoozZACOV3Jd_-TxYAmjTDQEu_VWaJlUlKXX0wQYzP6nHjQbPJcsbByKD_U9cqEr5n_I65wbhy1C9yf_YMtX-ekLOXBbdul-PkLzu7ObtVFvZG7EVgUsHv0Ru_QHMCwCneFrQSvf4j44Jx0noO9A')), GroundingChunk(retrieved_context=None, web=GroundingChunkWeb(domain='jalan.net', title='jalan.net', uri='https://vertexaisearch.cloud.google.com/grounding-api-redirect/AbF9wXGSU8vUTYD7FEJu2Q9vvZpyqo3-WTXk6o8HfqXOAcs5_5kWNMUtQ_ngl_GnllgshVYnhdzMQDI6rIL594hRgJ-vrV6wvDPMnmt5217iAmTegbvhuOgYQKq5Xq_UgyaID8FFIYto_xxQgD_c-thaHNkH'))], grounding_supports=[GroundingSupport(confidence_scores=None, grounding_chunk_indices=[0, 1, 2], segment=Segment(end_index=210, part_index=None, start_index=156, text='おすすめのお店をいくつかご紹介します')), GroundingSupport(confidence_scores=None, grounding_chunk_indices=[0], segment=Segment(end_index=299, part_index=None, start_index=213, text='*   **ブラザー**：鯖キーマカレーが圧倒的な人気を誇るお店です')), GroundingSupport(confidence_scores=None, grounding_chunk_indices=[1], segment=Segment(end_index=440, part_index=None, start_index=303, text='*   **横浜ボンベイ**：サラッとしたルーが特徴で、カシミールカレーは長年愛される超有名カレーです')), GroundingSupport(confidence_scores=None, grounding_chunk_indices=[1], segment=Segment(end_index=548, part_index=None, start_index=444, text='*   **エチオピア**：トロトロに煮込まれた野菜が美味しいカレーが楽しめます')), GroundingSupport(confidence_scores=None, grounding_chunk_indices=[0], segment=Segment(end_index=616, part_index=None, start_index=552, text='*   **プネウマカレー**: コスパが良いと評判です')), GroundingSupport(confidence_scores=None, grounding_chunk_indices=[3], segment=Segment(end_index=687, part_index=None, start_index=618, text='*   **白カレーの店 1/f ゆらぎ**: 白カレーが人気です')), GroundingSupport(confidence_scores=None, grounding_chunk_indices=[0], segment=Segment(end_index=765, part_index=None, start_index=743, text='*   ラモスカレー')), GroundingSupport(confidence_scores=None, grounding_chunk_indices=[0], segment=Segment(end_index=782, part_index=None, start_index=766, text='*   アプサラ')), GroundingSupport(confidence_scores=None, grounding_chunk_indices=[0, 4], segment=Segment(end_index=811, part_index=None, start_index=783, text='*   まっちゃんカレー')), GroundingSupport(confidence_scores=None, grounding_chunk_indices=[3, 2], segment=Segment(end_index=853, part_index=None, start_index=812, text='*   マイカリー食堂 高田馬場店')), GroundingSupport(confidence_scores=None, grounding_chunk_indices=[1], segment=Segment(end_index=917, part_index=None, start_index=854, text='*   カリーライス専門店 エチオピア 高田馬場店')), GroundingSupport(confidence_scores=None, grounding_chunk_indices=[4], segment=Segment(end_index=965, part_index=None, start_index=918, text='*   ゴーゴーカレー 高田馬場駅前店')), GroundingSupport(confidence_scores=None, grounding_chunk_indices=[0, 1, 2], segment=Segment(end_index=1060, part_index=None, start_index=967, text='これらの情報を参考に、お好みのカレー屋さんを探してみてください'))], retrieval_metadata=RetrievalMetadata(google_search_dynamic_retrieval_score=None), retrieval_queries=None, search_entry_point=SearchEntryPoint(rendered_content='<style>\\n.container {\\n  align-items: center;\\n  border-radius: 8px;\\n  display: flex;\\n  font-family: Google Sans, Roboto, sans-serif;\\n  font-size: 14px;\\n  line-height: 20px;\\n  padding: 8px 12px;\\n}\\n.chip {\\n  display: inline-block;\\n  border: solid 1px;\\n  border-radius: 16px;\\n  min-width: 14px;\\n  padding: 5px 16px;\\n  text-align: center;\\n  user-select: none;\\n  margin: 0 8px;\\n  -webkit-tap-highlight-color: transparent;\\n}\\n.carousel {\\n  overflow: auto;\\n  scrollbar-width: none;\\n  white-space: nowrap;\\n  margin-right: -12px;\\n}\\n.headline {\\n  display: flex;\\n  margin-right: 4px;\\n}\\n.gradient-container {\\n  position: relative;\\n}\\n.gradient {\\n  position: absolute;\\n  transform: translate(3px, -9px);\\n  height: 36px;\\n  width: 9px;\\n}\\n@media (prefers-color-scheme: light) {\\n  .container {\\n    background-color: #fafafa;\\n    box-shadow: 0 0 0 1px #0000000f;\\n  }\\n  .headline-label {\\n    color: #1f1f1f;\\n  }\\n  .chip {\\n    background-color: #ffffff;\\n    border-color: #d2d2d2;\\n    color: #5e5e5e;\\n    text-decoration: none;\\n  }\\n  .chip:hover {\\n    background-color: #f2f2f2;\\n  }\\n  .chip:focus {\\n    background-color: #f2f2f2;\\n  }\\n  .chip:active {\\n    background-color: #d8d8d8;\\n    border-color: #b6b6b6;\\n  }\\n  .logo-dark {\\n    display: none;\\n  }\\n  .gradient {\\n    background: linear-gradient(90deg, #fafafa 15%, #fafafa00 100%);\\n  }\\n}\\n@media (prefers-color-scheme: dark) {\\n  .container {\\n    background-color: #1f1f1f;\\n    box-shadow: 0 0 0 1px #ffffff26;\\n  }\\n  .headline-label {\\n    color: #fff;\\n  }\\n  .chip {\\n    background-color: #2c2c2c;\\n    border-color: #3c4043;\\n    color: #fff;\\n    text-decoration: none;\\n  }\\n  .chip:hover {\\n    background-color: #353536;\\n  }\\n  .chip:focus {\\n    background-color: #353536;\\n  }\\n  .chip:active {\\n    background-color: #464849;\\n    border-color: #53575b;\\n  }\\n  .logo-light {\\n    display: none;\\n  }\\n  .gradient {\\n    background: linear-gradient(90deg, #1f1f1f 15%, #1f1f1f00 100%);\\n  }\\n}\\n</style>\\n<div class=\"container\">\\n  <div class=\"headline\">\\n    <svg class=\"logo-light\" width=\"18\" height=\"18\" viewBox=\"9 9 35 35\" fill=\"none\" xmlns=\"http://www.w3.org/2000/svg\">\\n      <path fill-rule=\"evenodd\" clip-rule=\"evenodd\" d=\"M42.8622 27.0064C42.8622 25.7839 42.7525 24.6084 42.5487 23.4799H26.3109V30.1568H35.5897C35.1821 32.3041 33.9596 34.1222 32.1258 35.3448V39.6864H37.7213C40.9814 36.677 42.8622 32.2571 42.8622 27.0064V27.0064Z\" fill=\"#4285F4\"/>\\n      <path fill-rule=\"evenodd\" clip-rule=\"evenodd\" d=\"M26.3109 43.8555C30.9659 43.8555 34.8687 42.3195 37.7213 39.6863L32.1258 35.3447C30.5898 36.3792 28.6306 37.0061 26.3109 37.0061C21.8282 37.0061 18.0195 33.9811 16.6559 29.906H10.9194V34.3573C13.7563 39.9841 19.5712 43.8555 26.3109 43.8555V43.8555Z\" fill=\"#34A853\"/>\\n      <path fill-rule=\"evenodd\" clip-rule=\"evenodd\" d=\"M16.6559 29.8904C16.3111 28.8559 16.1074 27.7588 16.1074 26.6146C16.1074 25.4704 16.3111 24.3733 16.6559 23.3388V18.8875H10.9194C9.74388 21.2072 9.06992 23.8247 9.06992 26.6146C9.06992 29.4045 9.74388 32.022 10.9194 34.3417L15.3864 30.8621L16.6559 29.8904V29.8904Z\" fill=\"#FBBC05\"/>\\n      <path fill-rule=\"evenodd\" clip-rule=\"evenodd\" d=\"M26.3109 16.2386C28.85 16.2386 31.107 17.1164 32.9095 18.8091L37.8466 13.8719C34.853 11.082 30.9659 9.3736 26.3109 9.3736C19.5712 9.3736 13.7563 13.245 10.9194 18.8875L16.6559 23.3388C18.0195 19.2636 21.8282 16.2386 26.3109 16.2386V16.2386Z\" fill=\"#EA4335\"/>\\n    </svg>\\n    <svg class=\"logo-dark\" width=\"18\" height=\"18\" viewBox=\"0 0 48 48\" xmlns=\"http://www.w3.org/2000/svg\">\\n      <circle cx=\"24\" cy=\"23\" fill=\"#FFF\" r=\"22\"/>\\n      <path d=\"M33.76 34.26c2.75-2.56 4.49-6.37 4.49-11.26 0-.89-.08-1.84-.29-3H24.01v5.99h8.03c-.4 2.02-1.5 3.56-3.07 4.56v.75l3.91 2.97h.88z\" fill=\"#4285F4\"/>\\n      <path d=\"M15.58 25.77A8.845 8.845 0 0 0 24 31.86c1.92 0 3.62-.46 4.97-1.31l4.79 3.71C31.14 36.7 27.65 38 24 38c-5.93 0-11.01-3.4-13.45-8.36l.17-1.01 4.06-2.85h.8z\" fill=\"#34A853\"/>\\n      <path d=\"M15.59 20.21a8.864 8.864 0 0 0 0 5.58l-5.03 3.86c-.98-2-1.53-4.25-1.53-6.64 0-2.39.55-4.64 1.53-6.64l1-.22 3.81 2.98.22 1.08z\" fill=\"#FBBC05\"/>\\n      <path d=\"M24 14.14c2.11 0 4.02.75 5.52 1.98l4.36-4.36C31.22 9.43 27.81 8 24 8c-5.93 0-11.01 3.4-13.45 8.36l5.03 3.85A8.86 8.86 0 0 1 24 14.14z\" fill=\"#EA4335\"/>\\n    </svg>\\n    <div class=\"gradient-container\"><div class=\"gradient\"></div></div>\\n  </div>\\n  <div class=\"carousel\">\\n    <a class=\"chip\" href=\"https://vertexaisearch.cloud.google.com/grounding-api-redirect/AbF9wXHyLmKj93VmoVPCmaqvkRMTsnndJIkB_mTwusQt_-mm4K4IBhMfhVh5HC7rrkKk3J-MkZn1MgfCcAvVYOTFQX0UtAfjOlXMdkEtpV0ev8hD-It0irG4-lAdjHeOXdymuoIX2m4gxuETDMpDmtwpSddHe91HEbbm-AfB2IURUA2pHo-gC7VUXdIT1gI_Dq2GwjIHnXX4fh0-a9G-3qNxEKl7QFnFJHP47Dhs1PjGhoZKkXaxxQ_9vRWw7-Dn1Pn8PUC_PC4Mf7oK8aR3CxhRPqpqxF9D3PpFBA==\">高田馬場 カレー 有名</a>\\n    <a class=\"chip\" href=\"https://vertexaisearch.cloud.google.com/grounding-api-redirect/AbF9wXEiHyOPTdJHarYP9qKDZiFZp9ssn47jeJ3fIvItjY26qPoK9Jnp3Edn7EwCL30xLbndQe6dBEXKHcN0rPjRMzBam0VIKVgC-PtdchfWBYIV30T5_PVZ08-Ig8Bj2NSqJ2tA1HQiC_VyLy61jHtEC3CA1CL6tKXgFU7R34WRt4KcoGGerY7VEvsXc8MS1P2PsxU3wAkCfvyU_ZbKVuPjsIhKFtIUYScSdtMyH65Li4uMR6aW36IsrNhd4Tsp607VKVPajFa1E3neRajSK3wFnzIKbdhcU39huSaV5vExJ0XSfZTj_nJEEfYvgw==\">高田馬場 おすすめ カレー</a>\\n    <a class=\"chip\" href=\"https://vertexaisearch.cloud.google.com/grounding-api-redirect/AbF9wXGRXm37KRUNgfqtFl0lq0ziU_wrhHizqQpTSdsoFz202gBRNP3IGxkW_rGBkaBo0sbHZrAaIzO9qmze5anwR7ggdg6u04et41aMGjFs_skF-V4cQHC-xxX1hAlm9EN0BHSiJfl8m6L08AkRRs1MO09CnenE8_8dJYZUGAgeTPKt6ECADJNE7cCVjtgIYUC9k-3OJkXBkG7iv2o_JwVCnVkad-Wnrr4jVbuaFq-m08j67aTvx6_1DecbQUZoUWnLxVIqqG0WRi5TmtOSteuYjkaNDaUBN-31zg==\">高田馬場 カレー 人気</a>\\n  </div>\\n</div>\\n', sdk_blob=None), web_search_queries=['高田馬場 おすすめ カレー', '高田馬場 カレー 人気', '高田馬場 カレー 有名']), partial=None, turn_complete=None, error_code=None, error_message=None, interrupted=None, custom_metadata=None, invocation_id='e-9e95ac9d-d6d8-4dff-a683-bad9e11dc98a', author='search_agent', actions=EventActions(skip_summarization=None, state_delta={}, artifact_delta={}, transfer_to_agent=None, escalate=None, requested_auth_configs={}), long_running_tool_ids=None, branch=None, id='wVAeeHU1', timestamp=1747325646.915814)], last_update_time=1747325646.915814)"
      ]
     },
     "execution_count": 6,
     "metadata": {},
     "output_type": "execute_result"
    }
   ],
   "source": [
    "session = client._runner.session_service.get_session(\n",
    "    app_name = app_name,\n",
    "    user_id = user_id,\n",
    "    session_id = session_id,\n",
    ")\n",
    "\n",
    "session"
   ]
  },
  {
   "cell_type": "code",
   "execution_count": 7,
   "id": "fec8f046-e2d0-4b02-ac0d-a4f848bf1f00",
   "metadata": {
    "tags": []
   },
   "outputs": [
    {
     "name": "stdout",
     "output_type": "stream",
     "text": [
      "2025-05-15 16:14:06.914193 user\n",
      "2025-05-15 16:14:06.915814 search_agent\n"
     ]
    }
   ],
   "source": [
    "import datetime\n",
    "def format_timestamp(ts):\n",
    "    return datetime.datetime.fromtimestamp(ts).strftime('%Y-%m-%d %H:%M:%S.%f')\n",
    "\n",
    "for event in session.events:\n",
    "    print(format_timestamp(event.timestamp), event.author)"
   ]
  },
  {
   "cell_type": "markdown",
   "id": "1ee87ca8-6cbe-4aad-a0ec-8bae7a2405ba",
   "metadata": {},
   "source": [
    "続けて質問すると、セッション情報を踏まえた回答が得られます。"
   ]
  },
  {
   "cell_type": "code",
   "execution_count": 8,
   "id": "490a39f2-3da9-49a6-bba2-530de530919b",
   "metadata": {
    "tags": []
   },
   "outputs": [
    {
     "name": "stdout",
     "output_type": "stream",
     "text": [
      "家族連れにおすすめの高田馬場のカレー屋さんについて調べてみます。\n",
      "\n",
      "\n",
      " 家族連れにおすすめのカレー屋さんとしては、以下の点が考慮されるかと思います。\n",
      "\n",
      "*   **子供向けメニュー**: 子供が食べやすい辛さのカレーや、カレー以外のメニューがあると嬉しいですね。\n",
      "*   **お店の雰囲気**: 子連れでも気兼ねなく入れる、広々とした席や、子供が騒いでも大丈夫な雰囲気だと安心です。\n",
      "*   **サービス**: 子供用の椅子や食器、離乳食の持ち込み可などのサービスがあると助かります。\n",
      "\n",
      "これらの点を考慮すると、高田馬場でおすすめのカレー屋さんは以下の通りです。\n",
      "\n",
      "*   **プネウマカレー**: こちらのお店は、小盛サイズがあるため、お子様にもおすすめです。店内はカウンター席ですが、ベビーカーを置けるスペースがあります。離乳食の持ち込みも可能で、土曜日にはお子様連れも来店するそうです。\n",
      "*   **アプサラ**: こちらのお店はスリランカカレーのお店で、バナナリーフ包みがあります。バナナリーフ包みは、色々な味が混ざっていて子供の頃にご飯とカレーを混ぜて食べたような感覚で楽しめるとの口コミがありました。\n",
      "*   **大戸屋ごはん処 高田馬場駅前店**: 大戸屋にはお子様野菜カレーがあり、小学生以下のお子様のみ注文できます。\n",
      "*   **フードウェイ 高田馬場店**: こちらのお店は、家族連れの来店が多いです。\n",
      "\n",
      "食べログなどのグルメサイトでは、子連れで利用しやすいカレー屋さんの情報が掲載されていますので、参考にしてみてください。\n",
      "\n"
     ]
    }
   ],
   "source": [
    "query = '''\n",
    "特に家族連れにおすすめなのは？\n",
    "'''\n",
    "_ = await client.stream(query)"
   ]
  },
  {
   "cell_type": "markdown",
   "id": "adb7736d-f47d-4f07-bd3a-9a14e938213f",
   "metadata": {},
   "source": [
    "先ほどと同様にセッションに記録されたイベントを確認すると、新しい質問と回答のイベントが追加されています。"
   ]
  },
  {
   "cell_type": "code",
   "execution_count": 9,
   "id": "eb02055d-2920-49ea-9f21-ad1995e97e6e",
   "metadata": {
    "tags": []
   },
   "outputs": [
    {
     "data": {
      "text/plain": [
       "Session(id='0a2753ea4f9348b783fc796e4bebd929', app_name='Search Agent App', user_id='user00', state={}, events=[Event(content=UserContent(parts=[Part(video_metadata=None, thought=None, inline_data=None, code_execution_result=None, executable_code=None, file_data=None, function_call=None, function_response=None, text='\\n高田馬場のおすすめのカレー屋は？\\n')], role='user'), grounding_metadata=None, partial=None, turn_complete=None, error_code=None, error_message=None, interrupted=None, custom_metadata=None, invocation_id='e-9e95ac9d-d6d8-4dff-a683-bad9e11dc98a', author='user', actions=EventActions(skip_summarization=None, state_delta={}, artifact_delta={}, transfer_to_agent=None, escalate=None, requested_auth_configs={}), long_running_tool_ids=None, branch=None, id='zZlg6KP9', timestamp=1747325646.914193), Event(content=Content(parts=[Part(video_metadata=None, thought=None, inline_data=None, code_execution_result=None, executable_code=None, file_data=None, function_call=None, function_response=None, text='高田馬場でおすすめのカレー屋について調べてみました。\\n\\n'), Part(video_metadata=None, thought=None, inline_data=None, code_execution_result=None, executable_code=None, file_data=None, function_call=None, function_response=None, text=' 高田馬場には、たくさんのカレー屋さんがありますね！おすすめのお店をいくつかご紹介します.\\n\\n*   **ブラザー**：鯖キーマカレーが圧倒的な人気を誇るお店です。\\n*   **横浜ボンベイ**：サラッとしたルーが特徴で、カシミールカレーは長年愛される超有名カレーです。\\n*   **エチオピア**：トロトロに煮込まれた野菜が美味しいカレーが楽しめます。\\n*   **プネウマカレー**: コスパが良いと評判です.\\n*   **白カレーの店 1/f ゆらぎ**: 白カレーが人気です.\\n\\n他にも、以下のお店がおすすめです。\\n\\n*   ラモスカレー\\n*   アプサラ\\n*   まっちゃんカレー\\n*   マイカリー食堂 高田馬場店\\n*   カリーライス専門店 エチオピア 高田馬場店\\n*   ゴーゴーカレー 高田馬場駅前店\\n\\nこれらの情報を参考に、お好みのカレー屋さんを探してみてください.\\n')], role='model'), grounding_metadata=GroundingMetadata(grounding_chunks=[GroundingChunk(retrieved_context=None, web=GroundingChunkWeb(domain='macaro-ni.jp', title='macaro-ni.jp', uri='https://vertexaisearch.cloud.google.com/grounding-api-redirect/AbF9wXEs4_eMmi-ITi_xEMQaUIjz7PvhXl7Jgt3exXfb3mMFI1-ZMIyNwB-ll0I-ocLOi2qaetWjSylPiYpbWVGPkBZHnljvuwyZlMmuzN4BDdvRhb12B4ox')), GroundingChunk(retrieved_context=None, web=GroundingChunkWeb(domain='aumo.jp', title='aumo.jp', uri='https://vertexaisearch.cloud.google.com/grounding-api-redirect/AbF9wXF7p6zXHnSJqBnafUb11TPI3gOgT14faXaAq9IEI_XkJvd9r_BiVxwf2I4R01pRAasfzK8fCuOMeH8iR8JDcByrFe8zbQQYAc2OHDNx9ph1czBkS5ay6JAlQg==')), GroundingChunk(retrieved_context=None, web=GroundingChunkWeb(domain='tabelog.com', title='tabelog.com', uri='https://vertexaisearch.cloud.google.com/grounding-api-redirect/AbF9wXHo0e7FjYetVMq_Jv4nM65znDQZyCUafTiKTQkNN5MAHCJAgRbn3f5s5GTij2r0c0QomUKAXi0F7mvYwM1aAYKkgrO40Tl0DfQl2wVqBfeHm1bXvu-rgTBKlO899pmz9s4BrH4mbBfDKEb9BzpuKA==')), GroundingChunk(retrieved_context=None, web=GroundingChunkWeb(domain='retty.me', title='retty.me', uri='https://vertexaisearch.cloud.google.com/grounding-api-redirect/AbF9wXFkggeSUoozZACOV3Jd_-TxYAmjTDQEu_VWaJlUlKXX0wQYzP6nHjQbPJcsbByKD_U9cqEr5n_I65wbhy1C9yf_YMtX-ekLOXBbdul-PkLzu7ObtVFvZG7EVgUsHv0Ru_QHMCwCneFrQSvf4j44Jx0noO9A')), GroundingChunk(retrieved_context=None, web=GroundingChunkWeb(domain='jalan.net', title='jalan.net', uri='https://vertexaisearch.cloud.google.com/grounding-api-redirect/AbF9wXGSU8vUTYD7FEJu2Q9vvZpyqo3-WTXk6o8HfqXOAcs5_5kWNMUtQ_ngl_GnllgshVYnhdzMQDI6rIL594hRgJ-vrV6wvDPMnmt5217iAmTegbvhuOgYQKq5Xq_UgyaID8FFIYto_xxQgD_c-thaHNkH'))], grounding_supports=[GroundingSupport(confidence_scores=None, grounding_chunk_indices=[0, 1, 2], segment=Segment(end_index=210, part_index=None, start_index=156, text='おすすめのお店をいくつかご紹介します')), GroundingSupport(confidence_scores=None, grounding_chunk_indices=[0], segment=Segment(end_index=299, part_index=None, start_index=213, text='*   **ブラザー**：鯖キーマカレーが圧倒的な人気を誇るお店です')), GroundingSupport(confidence_scores=None, grounding_chunk_indices=[1], segment=Segment(end_index=440, part_index=None, start_index=303, text='*   **横浜ボンベイ**：サラッとしたルーが特徴で、カシミールカレーは長年愛される超有名カレーです')), GroundingSupport(confidence_scores=None, grounding_chunk_indices=[1], segment=Segment(end_index=548, part_index=None, start_index=444, text='*   **エチオピア**：トロトロに煮込まれた野菜が美味しいカレーが楽しめます')), GroundingSupport(confidence_scores=None, grounding_chunk_indices=[0], segment=Segment(end_index=616, part_index=None, start_index=552, text='*   **プネウマカレー**: コスパが良いと評判です')), GroundingSupport(confidence_scores=None, grounding_chunk_indices=[3], segment=Segment(end_index=687, part_index=None, start_index=618, text='*   **白カレーの店 1/f ゆらぎ**: 白カレーが人気です')), GroundingSupport(confidence_scores=None, grounding_chunk_indices=[0], segment=Segment(end_index=765, part_index=None, start_index=743, text='*   ラモスカレー')), GroundingSupport(confidence_scores=None, grounding_chunk_indices=[0], segment=Segment(end_index=782, part_index=None, start_index=766, text='*   アプサラ')), GroundingSupport(confidence_scores=None, grounding_chunk_indices=[0, 4], segment=Segment(end_index=811, part_index=None, start_index=783, text='*   まっちゃんカレー')), GroundingSupport(confidence_scores=None, grounding_chunk_indices=[3, 2], segment=Segment(end_index=853, part_index=None, start_index=812, text='*   マイカリー食堂 高田馬場店')), GroundingSupport(confidence_scores=None, grounding_chunk_indices=[1], segment=Segment(end_index=917, part_index=None, start_index=854, text='*   カリーライス専門店 エチオピア 高田馬場店')), GroundingSupport(confidence_scores=None, grounding_chunk_indices=[4], segment=Segment(end_index=965, part_index=None, start_index=918, text='*   ゴーゴーカレー 高田馬場駅前店')), GroundingSupport(confidence_scores=None, grounding_chunk_indices=[0, 1, 2], segment=Segment(end_index=1060, part_index=None, start_index=967, text='これらの情報を参考に、お好みのカレー屋さんを探してみてください'))], retrieval_metadata=RetrievalMetadata(google_search_dynamic_retrieval_score=None), retrieval_queries=None, search_entry_point=SearchEntryPoint(rendered_content='<style>\\n.container {\\n  align-items: center;\\n  border-radius: 8px;\\n  display: flex;\\n  font-family: Google Sans, Roboto, sans-serif;\\n  font-size: 14px;\\n  line-height: 20px;\\n  padding: 8px 12px;\\n}\\n.chip {\\n  display: inline-block;\\n  border: solid 1px;\\n  border-radius: 16px;\\n  min-width: 14px;\\n  padding: 5px 16px;\\n  text-align: center;\\n  user-select: none;\\n  margin: 0 8px;\\n  -webkit-tap-highlight-color: transparent;\\n}\\n.carousel {\\n  overflow: auto;\\n  scrollbar-width: none;\\n  white-space: nowrap;\\n  margin-right: -12px;\\n}\\n.headline {\\n  display: flex;\\n  margin-right: 4px;\\n}\\n.gradient-container {\\n  position: relative;\\n}\\n.gradient {\\n  position: absolute;\\n  transform: translate(3px, -9px);\\n  height: 36px;\\n  width: 9px;\\n}\\n@media (prefers-color-scheme: light) {\\n  .container {\\n    background-color: #fafafa;\\n    box-shadow: 0 0 0 1px #0000000f;\\n  }\\n  .headline-label {\\n    color: #1f1f1f;\\n  }\\n  .chip {\\n    background-color: #ffffff;\\n    border-color: #d2d2d2;\\n    color: #5e5e5e;\\n    text-decoration: none;\\n  }\\n  .chip:hover {\\n    background-color: #f2f2f2;\\n  }\\n  .chip:focus {\\n    background-color: #f2f2f2;\\n  }\\n  .chip:active {\\n    background-color: #d8d8d8;\\n    border-color: #b6b6b6;\\n  }\\n  .logo-dark {\\n    display: none;\\n  }\\n  .gradient {\\n    background: linear-gradient(90deg, #fafafa 15%, #fafafa00 100%);\\n  }\\n}\\n@media (prefers-color-scheme: dark) {\\n  .container {\\n    background-color: #1f1f1f;\\n    box-shadow: 0 0 0 1px #ffffff26;\\n  }\\n  .headline-label {\\n    color: #fff;\\n  }\\n  .chip {\\n    background-color: #2c2c2c;\\n    border-color: #3c4043;\\n    color: #fff;\\n    text-decoration: none;\\n  }\\n  .chip:hover {\\n    background-color: #353536;\\n  }\\n  .chip:focus {\\n    background-color: #353536;\\n  }\\n  .chip:active {\\n    background-color: #464849;\\n    border-color: #53575b;\\n  }\\n  .logo-light {\\n    display: none;\\n  }\\n  .gradient {\\n    background: linear-gradient(90deg, #1f1f1f 15%, #1f1f1f00 100%);\\n  }\\n}\\n</style>\\n<div class=\"container\">\\n  <div class=\"headline\">\\n    <svg class=\"logo-light\" width=\"18\" height=\"18\" viewBox=\"9 9 35 35\" fill=\"none\" xmlns=\"http://www.w3.org/2000/svg\">\\n      <path fill-rule=\"evenodd\" clip-rule=\"evenodd\" d=\"M42.8622 27.0064C42.8622 25.7839 42.7525 24.6084 42.5487 23.4799H26.3109V30.1568H35.5897C35.1821 32.3041 33.9596 34.1222 32.1258 35.3448V39.6864H37.7213C40.9814 36.677 42.8622 32.2571 42.8622 27.0064V27.0064Z\" fill=\"#4285F4\"/>\\n      <path fill-rule=\"evenodd\" clip-rule=\"evenodd\" d=\"M26.3109 43.8555C30.9659 43.8555 34.8687 42.3195 37.7213 39.6863L32.1258 35.3447C30.5898 36.3792 28.6306 37.0061 26.3109 37.0061C21.8282 37.0061 18.0195 33.9811 16.6559 29.906H10.9194V34.3573C13.7563 39.9841 19.5712 43.8555 26.3109 43.8555V43.8555Z\" fill=\"#34A853\"/>\\n      <path fill-rule=\"evenodd\" clip-rule=\"evenodd\" d=\"M16.6559 29.8904C16.3111 28.8559 16.1074 27.7588 16.1074 26.6146C16.1074 25.4704 16.3111 24.3733 16.6559 23.3388V18.8875H10.9194C9.74388 21.2072 9.06992 23.8247 9.06992 26.6146C9.06992 29.4045 9.74388 32.022 10.9194 34.3417L15.3864 30.8621L16.6559 29.8904V29.8904Z\" fill=\"#FBBC05\"/>\\n      <path fill-rule=\"evenodd\" clip-rule=\"evenodd\" d=\"M26.3109 16.2386C28.85 16.2386 31.107 17.1164 32.9095 18.8091L37.8466 13.8719C34.853 11.082 30.9659 9.3736 26.3109 9.3736C19.5712 9.3736 13.7563 13.245 10.9194 18.8875L16.6559 23.3388C18.0195 19.2636 21.8282 16.2386 26.3109 16.2386V16.2386Z\" fill=\"#EA4335\"/>\\n    </svg>\\n    <svg class=\"logo-dark\" width=\"18\" height=\"18\" viewBox=\"0 0 48 48\" xmlns=\"http://www.w3.org/2000/svg\">\\n      <circle cx=\"24\" cy=\"23\" fill=\"#FFF\" r=\"22\"/>\\n      <path d=\"M33.76 34.26c2.75-2.56 4.49-6.37 4.49-11.26 0-.89-.08-1.84-.29-3H24.01v5.99h8.03c-.4 2.02-1.5 3.56-3.07 4.56v.75l3.91 2.97h.88z\" fill=\"#4285F4\"/>\\n      <path d=\"M15.58 25.77A8.845 8.845 0 0 0 24 31.86c1.92 0 3.62-.46 4.97-1.31l4.79 3.71C31.14 36.7 27.65 38 24 38c-5.93 0-11.01-3.4-13.45-8.36l.17-1.01 4.06-2.85h.8z\" fill=\"#34A853\"/>\\n      <path d=\"M15.59 20.21a8.864 8.864 0 0 0 0 5.58l-5.03 3.86c-.98-2-1.53-4.25-1.53-6.64 0-2.39.55-4.64 1.53-6.64l1-.22 3.81 2.98.22 1.08z\" fill=\"#FBBC05\"/>\\n      <path d=\"M24 14.14c2.11 0 4.02.75 5.52 1.98l4.36-4.36C31.22 9.43 27.81 8 24 8c-5.93 0-11.01 3.4-13.45 8.36l5.03 3.85A8.86 8.86 0 0 1 24 14.14z\" fill=\"#EA4335\"/>\\n    </svg>\\n    <div class=\"gradient-container\"><div class=\"gradient\"></div></div>\\n  </div>\\n  <div class=\"carousel\">\\n    <a class=\"chip\" href=\"https://vertexaisearch.cloud.google.com/grounding-api-redirect/AbF9wXHyLmKj93VmoVPCmaqvkRMTsnndJIkB_mTwusQt_-mm4K4IBhMfhVh5HC7rrkKk3J-MkZn1MgfCcAvVYOTFQX0UtAfjOlXMdkEtpV0ev8hD-It0irG4-lAdjHeOXdymuoIX2m4gxuETDMpDmtwpSddHe91HEbbm-AfB2IURUA2pHo-gC7VUXdIT1gI_Dq2GwjIHnXX4fh0-a9G-3qNxEKl7QFnFJHP47Dhs1PjGhoZKkXaxxQ_9vRWw7-Dn1Pn8PUC_PC4Mf7oK8aR3CxhRPqpqxF9D3PpFBA==\">高田馬場 カレー 有名</a>\\n    <a class=\"chip\" href=\"https://vertexaisearch.cloud.google.com/grounding-api-redirect/AbF9wXEiHyOPTdJHarYP9qKDZiFZp9ssn47jeJ3fIvItjY26qPoK9Jnp3Edn7EwCL30xLbndQe6dBEXKHcN0rPjRMzBam0VIKVgC-PtdchfWBYIV30T5_PVZ08-Ig8Bj2NSqJ2tA1HQiC_VyLy61jHtEC3CA1CL6tKXgFU7R34WRt4KcoGGerY7VEvsXc8MS1P2PsxU3wAkCfvyU_ZbKVuPjsIhKFtIUYScSdtMyH65Li4uMR6aW36IsrNhd4Tsp607VKVPajFa1E3neRajSK3wFnzIKbdhcU39huSaV5vExJ0XSfZTj_nJEEfYvgw==\">高田馬場 おすすめ カレー</a>\\n    <a class=\"chip\" href=\"https://vertexaisearch.cloud.google.com/grounding-api-redirect/AbF9wXGRXm37KRUNgfqtFl0lq0ziU_wrhHizqQpTSdsoFz202gBRNP3IGxkW_rGBkaBo0sbHZrAaIzO9qmze5anwR7ggdg6u04et41aMGjFs_skF-V4cQHC-xxX1hAlm9EN0BHSiJfl8m6L08AkRRs1MO09CnenE8_8dJYZUGAgeTPKt6ECADJNE7cCVjtgIYUC9k-3OJkXBkG7iv2o_JwVCnVkad-Wnrr4jVbuaFq-m08j67aTvx6_1DecbQUZoUWnLxVIqqG0WRi5TmtOSteuYjkaNDaUBN-31zg==\">高田馬場 カレー 人気</a>\\n  </div>\\n</div>\\n', sdk_blob=None), web_search_queries=['高田馬場 おすすめ カレー', '高田馬場 カレー 人気', '高田馬場 カレー 有名']), partial=None, turn_complete=None, error_code=None, error_message=None, interrupted=None, custom_metadata=None, invocation_id='e-9e95ac9d-d6d8-4dff-a683-bad9e11dc98a', author='search_agent', actions=EventActions(skip_summarization=None, state_delta={}, artifact_delta={}, transfer_to_agent=None, escalate=None, requested_auth_configs={}), long_running_tool_ids=None, branch=None, id='wVAeeHU1', timestamp=1747325646.915814), Event(content=UserContent(parts=[Part(video_metadata=None, thought=None, inline_data=None, code_execution_result=None, executable_code=None, file_data=None, function_call=None, function_response=None, text='\\n特に家族連れにおすすめなのは？\\n')], role='user'), grounding_metadata=None, partial=None, turn_complete=None, error_code=None, error_message=None, interrupted=None, custom_metadata=None, invocation_id='e-af6a7d1c-cc7d-4c4a-98ec-05e0497ceb34', author='user', actions=EventActions(skip_summarization=None, state_delta={}, artifact_delta={}, transfer_to_agent=None, escalate=None, requested_auth_configs={}), long_running_tool_ids=None, branch=None, id='TQV9azve', timestamp=1747325650.553314), Event(content=Content(parts=[Part(video_metadata=None, thought=None, inline_data=None, code_execution_result=None, executable_code=None, file_data=None, function_call=None, function_response=None, text='家族連れにおすすめの高田馬場のカレー屋さんについて調べてみます。\\n\\n'), Part(video_metadata=None, thought=None, inline_data=None, code_execution_result=None, executable_code=None, file_data=None, function_call=None, function_response=None, text=' 家族連れにおすすめのカレー屋さんとしては、以下の点が考慮されるかと思います。\\n\\n*   **子供向けメニュー**: 子供が食べやすい辛さのカレーや、カレー以外のメニューがあると嬉しいですね。\\n*   **お店の雰囲気**: 子連れでも気兼ねなく入れる、広々とした席や、子供が騒いでも大丈夫な雰囲気だと安心です。\\n*   **サービス**: 子供用の椅子や食器、離乳食の持ち込み可などのサービスがあると助かります。\\n\\nこれらの点を考慮すると、高田馬場でおすすめのカレー屋さんは以下の通りです。\\n\\n*   **プネウマカレー**: こちらのお店は、小盛サイズがあるため、お子様にもおすすめです。店内はカウンター席ですが、ベビーカーを置けるスペースがあります。離乳食の持ち込みも可能で、土曜日にはお子様連れも来店するそうです。\\n*   **アプサラ**: こちらのお店はスリランカカレーのお店で、バナナリーフ包みがあります。バナナリーフ包みは、色々な味が混ざっていて子供の頃にご飯とカレーを混ぜて食べたような感覚で楽しめるとの口コミがありました。\\n*   **大戸屋ごはん処 高田馬場駅前店**: 大戸屋にはお子様野菜カレーがあり、小学生以下のお子様のみ注文できます。\\n*   **フードウェイ 高田馬場店**: こちらのお店は、家族連れの来店が多いです。\\n\\n食べログなどのグルメサイトでは、子連れで利用しやすいカレー屋さんの情報が掲載されていますので、参考にしてみてください。\\n')], role='model'), grounding_metadata=GroundingMetadata(grounding_chunks=[GroundingChunk(retrieved_context=None, web=GroundingChunkWeb(domain='mamaco.jp', title='mamaco.jp', uri='https://vertexaisearch.cloud.google.com/grounding-api-redirect/AbF9wXE_aend5nU2tX5O0e0jcIyJjbN_te2szAGad03iZU03K_9XMRg08v7pGJ4yqEM18aAYPIBr2RcGBT_YayU6criNWxIcRYWJ9Hl43-YkOvPIIUA-MiTLq5wGlS0CRA==')), GroundingChunk(retrieved_context=None, web=GroundingChunkWeb(domain='tabelog.com', title='tabelog.com', uri='https://vertexaisearch.cloud.google.com/grounding-api-redirect/AbF9wXEN_TYnZuB9N3HmVj5AjdruTh8Y18boYkkg4wfK3NUIxvpsx7XdzzCCtbLgCSSOVzpdQxvtat2cvyusEhnEx1fBz3HMX-kFYHuC7yaPPeWroBP4gXEKUXtTWF0_gZBmUG-Lra7YqqOYEguR_a-hSDCKNtRYgnLVejA-xSjJGA==')), GroundingChunk(retrieved_context=None, web=GroundingChunkWeb(domain='ameblo.jp', title='ameblo.jp', uri='https://vertexaisearch.cloud.google.com/grounding-api-redirect/AbF9wXHmJZ8rjezTGRW33letSXX_OIxAMZgwhhHF5WpOH-PiyPMolxZTvWOW3WUBXinZCBMVAEjf8PVpBJL7vu72HARnc5wuoYQ6xz3h4S___fUSSmswVUF96XkaOA7fUiLNub9OD2sZITHpvClpWerzwHA=')), GroundingChunk(retrieved_context=None, web=GroundingChunkWeb(domain='ootoya.com', title='ootoya.com', uri='https://vertexaisearch.cloud.google.com/grounding-api-redirect/AbF9wXGrFEjwj1ovJA6jmGaoMc3s69I-tUKfgj6SiyAUkEP6pJ9Kg8EsBXr1uPwAYJLeCWIWEiJNdof3GE0nPjtLaAwzzrYLX_Zf9TeFHncpp16kq4XhXh_yUZoAdCz_MS6yL6mLv7OYQCeckA==')), GroundingChunk(retrieved_context=None, web=GroundingChunkWeb(domain='hotpepper.jp', title='hotpepper.jp', uri='https://vertexaisearch.cloud.google.com/grounding-api-redirect/AbF9wXEO2W6-Fz4wx8Rw6u8pkBUry6mX5QUnFn9ecglnDuKBPWic8CZILIu2wBra9FOvUmaNdg--T8akXkL1FH8-6akYWfldg2yhiNg_bBr0KilbBkqqXbGq2imay_BJjmGW4Gbs')), GroundingChunk(retrieved_context=None, web=GroundingChunkWeb(domain='tabelog.com', title='tabelog.com', uri='https://vertexaisearch.cloud.google.com/grounding-api-redirect/AbF9wXELBZS6yHZwXtlAB5XZGDKjQZHb-yqFhdRNfEPKdGgUQaR1Q1zyjg9V7BBc2xX55B3t8yvQrkESDYHOn6weTpjSsAWpdWfYGTdpgyF_Ty4CmWPAId5YdgsHJR153_PWK8w9B-gERapLNBmrTCapa3cYdKtW6lwlCfU86Qwg'))], grounding_supports=[GroundingSupport(confidence_scores=None, grounding_chunk_indices=[0], segment=Segment(end_index=885, part_index=None, start_index=764, text='*   **プネウマカレー**: こちらのお店は、小盛サイズがあるため、お子様にもおすすめです')), GroundingSupport(confidence_scores=None, grounding_chunk_indices=[0], segment=Segment(end_index=981, part_index=None, start_index=888, text='店内はカウンター席ですが、ベビーカーを置けるスペースがあります')), GroundingSupport(confidence_scores=None, grounding_chunk_indices=[0], segment=Segment(end_index=1080, part_index=None, start_index=984, text='離乳食の持ち込みも可能で、土曜日にはお子様連れも来店するそうです')), GroundingSupport(confidence_scores=None, grounding_chunk_indices=[1, 2], segment=Segment(end_index=1205, part_index=None, start_index=1084, text='*   **アプサラ**: こちらのお店はスリランカカレーのお店で、バナナリーフ包みがあります')), GroundingSupport(confidence_scores=None, grounding_chunk_indices=[2], segment=Segment(end_index=1388, part_index=None, start_index=1208, text='バナナリーフ包みは、色々な味が混ざっていて子供の頃にご飯とカレーを混ぜて食べたような感覚で楽しめるとの口コミがありました')), GroundingSupport(confidence_scores=None, grounding_chunk_indices=[3], segment=Segment(end_index=1547, part_index=None, start_index=1392, text='*   **大戸屋ごはん処 高田馬場駅前店**: 大戸屋にはお子様野菜カレーがあり、小学生以下のお子様のみ注文できます')), GroundingSupport(confidence_scores=None, grounding_chunk_indices=[4], segment=Segment(end_index=1655, part_index=None, start_index=1551, text='*   **フードウェイ 高田馬場店**: こちらのお店は、家族連れの来店が多いです')), GroundingSupport(confidence_scores=None, grounding_chunk_indices=[1, 5], segment=Segment(end_index=1834, part_index=None, start_index=1660, text='食べログなどのグルメサイトでは、子連れで利用しやすいカレー屋さんの情報が掲載されていますので、参考にしてみてください'))], retrieval_metadata=RetrievalMetadata(google_search_dynamic_retrieval_score=None), retrieval_queries=None, search_entry_point=SearchEntryPoint(rendered_content='<style>\\n.container {\\n  align-items: center;\\n  border-radius: 8px;\\n  display: flex;\\n  font-family: Google Sans, Roboto, sans-serif;\\n  font-size: 14px;\\n  line-height: 20px;\\n  padding: 8px 12px;\\n}\\n.chip {\\n  display: inline-block;\\n  border: solid 1px;\\n  border-radius: 16px;\\n  min-width: 14px;\\n  padding: 5px 16px;\\n  text-align: center;\\n  user-select: none;\\n  margin: 0 8px;\\n  -webkit-tap-highlight-color: transparent;\\n}\\n.carousel {\\n  overflow: auto;\\n  scrollbar-width: none;\\n  white-space: nowrap;\\n  margin-right: -12px;\\n}\\n.headline {\\n  display: flex;\\n  margin-right: 4px;\\n}\\n.gradient-container {\\n  position: relative;\\n}\\n.gradient {\\n  position: absolute;\\n  transform: translate(3px, -9px);\\n  height: 36px;\\n  width: 9px;\\n}\\n@media (prefers-color-scheme: light) {\\n  .container {\\n    background-color: #fafafa;\\n    box-shadow: 0 0 0 1px #0000000f;\\n  }\\n  .headline-label {\\n    color: #1f1f1f;\\n  }\\n  .chip {\\n    background-color: #ffffff;\\n    border-color: #d2d2d2;\\n    color: #5e5e5e;\\n    text-decoration: none;\\n  }\\n  .chip:hover {\\n    background-color: #f2f2f2;\\n  }\\n  .chip:focus {\\n    background-color: #f2f2f2;\\n  }\\n  .chip:active {\\n    background-color: #d8d8d8;\\n    border-color: #b6b6b6;\\n  }\\n  .logo-dark {\\n    display: none;\\n  }\\n  .gradient {\\n    background: linear-gradient(90deg, #fafafa 15%, #fafafa00 100%);\\n  }\\n}\\n@media (prefers-color-scheme: dark) {\\n  .container {\\n    background-color: #1f1f1f;\\n    box-shadow: 0 0 0 1px #ffffff26;\\n  }\\n  .headline-label {\\n    color: #fff;\\n  }\\n  .chip {\\n    background-color: #2c2c2c;\\n    border-color: #3c4043;\\n    color: #fff;\\n    text-decoration: none;\\n  }\\n  .chip:hover {\\n    background-color: #353536;\\n  }\\n  .chip:focus {\\n    background-color: #353536;\\n  }\\n  .chip:active {\\n    background-color: #464849;\\n    border-color: #53575b;\\n  }\\n  .logo-light {\\n    display: none;\\n  }\\n  .gradient {\\n    background: linear-gradient(90deg, #1f1f1f 15%, #1f1f1f00 100%);\\n  }\\n}\\n</style>\\n<div class=\"container\">\\n  <div class=\"headline\">\\n    <svg class=\"logo-light\" width=\"18\" height=\"18\" viewBox=\"9 9 35 35\" fill=\"none\" xmlns=\"http://www.w3.org/2000/svg\">\\n      <path fill-rule=\"evenodd\" clip-rule=\"evenodd\" d=\"M42.8622 27.0064C42.8622 25.7839 42.7525 24.6084 42.5487 23.4799H26.3109V30.1568H35.5897C35.1821 32.3041 33.9596 34.1222 32.1258 35.3448V39.6864H37.7213C40.9814 36.677 42.8622 32.2571 42.8622 27.0064V27.0064Z\" fill=\"#4285F4\"/>\\n      <path fill-rule=\"evenodd\" clip-rule=\"evenodd\" d=\"M26.3109 43.8555C30.9659 43.8555 34.8687 42.3195 37.7213 39.6863L32.1258 35.3447C30.5898 36.3792 28.6306 37.0061 26.3109 37.0061C21.8282 37.0061 18.0195 33.9811 16.6559 29.906H10.9194V34.3573C13.7563 39.9841 19.5712 43.8555 26.3109 43.8555V43.8555Z\" fill=\"#34A853\"/>\\n      <path fill-rule=\"evenodd\" clip-rule=\"evenodd\" d=\"M16.6559 29.8904C16.3111 28.8559 16.1074 27.7588 16.1074 26.6146C16.1074 25.4704 16.3111 24.3733 16.6559 23.3388V18.8875H10.9194C9.74388 21.2072 9.06992 23.8247 9.06992 26.6146C9.06992 29.4045 9.74388 32.022 10.9194 34.3417L15.3864 30.8621L16.6559 29.8904V29.8904Z\" fill=\"#FBBC05\"/>\\n      <path fill-rule=\"evenodd\" clip-rule=\"evenodd\" d=\"M26.3109 16.2386C28.85 16.2386 31.107 17.1164 32.9095 18.8091L37.8466 13.8719C34.853 11.082 30.9659 9.3736 26.3109 9.3736C19.5712 9.3736 13.7563 13.245 10.9194 18.8875L16.6559 23.3388C18.0195 19.2636 21.8282 16.2386 26.3109 16.2386V16.2386Z\" fill=\"#EA4335\"/>\\n    </svg>\\n    <svg class=\"logo-dark\" width=\"18\" height=\"18\" viewBox=\"0 0 48 48\" xmlns=\"http://www.w3.org/2000/svg\">\\n      <circle cx=\"24\" cy=\"23\" fill=\"#FFF\" r=\"22\"/>\\n      <path d=\"M33.76 34.26c2.75-2.56 4.49-6.37 4.49-11.26 0-.89-.08-1.84-.29-3H24.01v5.99h8.03c-.4 2.02-1.5 3.56-3.07 4.56v.75l3.91 2.97h.88z\" fill=\"#4285F4\"/>\\n      <path d=\"M15.58 25.77A8.845 8.845 0 0 0 24 31.86c1.92 0 3.62-.46 4.97-1.31l4.79 3.71C31.14 36.7 27.65 38 24 38c-5.93 0-11.01-3.4-13.45-8.36l.17-1.01 4.06-2.85h.8z\" fill=\"#34A853\"/>\\n      <path d=\"M15.59 20.21a8.864 8.864 0 0 0 0 5.58l-5.03 3.86c-.98-2-1.53-4.25-1.53-6.64 0-2.39.55-4.64 1.53-6.64l1-.22 3.81 2.98.22 1.08z\" fill=\"#FBBC05\"/>\\n      <path d=\"M24 14.14c2.11 0 4.02.75 5.52 1.98l4.36-4.36C31.22 9.43 27.81 8 24 8c-5.93 0-11.01 3.4-13.45 8.36l5.03 3.85A8.86 8.86 0 0 1 24 14.14z\" fill=\"#EA4335\"/>\\n    </svg>\\n    <div class=\"gradient-container\"><div class=\"gradient\"></div></div>\\n  </div>\\n  <div class=\"carousel\">\\n    <a class=\"chip\" href=\"https://vertexaisearch.cloud.google.com/grounding-api-redirect/AbF9wXHuyp_C2lRBGdt-KmlGNTd06YwHeamanZEKkPTRZ8B9QlUozVl7BHT2Drhwx1uGjiWFNP0DQ8oKZCbiIpDjRIT3Bg8LnJ5bt_lugpH1UGSuPtm62xi5jZzFppcS_c6u0z7TknbtzcP0q4GdUXpve_8vOXOtPXIEdERMZCQQ6Uev3tu9qmRaBBY-ytNmNQ9BR-E_eFjZUfl_hTUGd3Gxd2c4sjTMtKxOoQTnMzOFGy9xo0CD1RKD06qpqKkZVW-TMj2ZHVxS093XN1V9L1fTVKQUkcb-2kqJbTdY2EpQwS-_Hybn0HMw70X-1vP1Vi4z0bdb-f2QZ-4zly9VKg==\">高田馬場 カレー 子供 おすすめ</a>\\n    <a class=\"chip\" href=\"https://vertexaisearch.cloud.google.com/grounding-api-redirect/AbF9wXHdDIOXaAhvB_0mlPSB5Csxyp3J_dFYrHT4Ort0xgMlgtlUz_3uSTa2WCuVXNwvvTLNZWyON9Xfu2UwuNuhGLZTAGQq9MO2R5SYaypEYvImRnBHKTRDDXUYzxnKzGWJymaRelYUUoRbY1_FsuEsOZ5EJnLDiMX6S6b19tH6rRI1-J9UsFxozDRGtJqtX0gTsDFINmyig2SxO_XMiuR56Gz910pN_sBI87Vl5_t4M33zeW4f4pZ-t92-nJD5TdrALatonCey8EhGeiwvER4e2Bp8qcOuwZyQWVziJV6trQpNWUvEYf5yp8BM\">高田馬場 カレー 家族連れ</a>\\n    <a class=\"chip\" href=\"https://vertexaisearch.cloud.google.com/grounding-api-redirect/AbF9wXFvrljfLhGg5PaRxzQZLdzWFFtKkq1y7eABFAFAfoGIGsNbHPsCNwws8qmVqUniEWy96y34_ooQ_GmlV1Z2L8mKJxF678WhwGCKODZX_usmpI5_Oj1lLJJmr8yIjce9D5d2dfwGSia-QzKGxKVeTvkEsyiY3AvU7-i48DhQNq__PcHBw9ZJe7HWFg_POjXE1rIJOvICDI6ZR8WWSoNS_ebjwMkytumrKSto3_1TEEf75GAKSoyXNUEOZ3r8rdi-f4L4pi8K3830cE0uscCbeATdd95m3HkbvivOxOhbGW4r\">高田馬場 カレー 子連れ</a>\\n  </div>\\n</div>\\n', sdk_blob=None), web_search_queries=['高田馬場 カレー 家族連れ', '高田馬場 カレー 子供 おすすめ', '高田馬場 カレー 子連れ']), partial=None, turn_complete=None, error_code=None, error_message=None, interrupted=None, custom_metadata=None, invocation_id='e-af6a7d1c-cc7d-4c4a-98ec-05e0497ceb34', author='search_agent', actions=EventActions(skip_summarization=None, state_delta={}, artifact_delta={}, transfer_to_agent=None, escalate=None, requested_auth_configs={}), long_running_tool_ids=None, branch=None, id='9RwBRwU6', timestamp=1747325650.554543)], last_update_time=1747325650.554543)"
      ]
     },
     "execution_count": 9,
     "metadata": {},
     "output_type": "execute_result"
    }
   ],
   "source": [
    "session = client._runner.session_service.get_session(\n",
    "    app_name = app_name,\n",
    "    user_id = user_id,\n",
    "    session_id = session_id,\n",
    ")\n",
    "\n",
    "session"
   ]
  },
  {
   "cell_type": "code",
   "execution_count": 10,
   "id": "d0152f2c-6ae9-42fa-a637-bcc0031d213d",
   "metadata": {
    "tags": []
   },
   "outputs": [
    {
     "name": "stdout",
     "output_type": "stream",
     "text": [
      "2025-05-15 16:14:06.914193 user\n",
      "2025-05-15 16:14:06.915814 search_agent\n",
      "2025-05-15 16:14:10.553314 user\n",
      "2025-05-15 16:14:10.554543 search_agent\n"
     ]
    }
   ],
   "source": [
    "for event in session.events:\n",
    "    print(format_timestamp(event.timestamp), event.author)"
   ]
  },
  {
   "cell_type": "markdown",
   "id": "e2a70f99-4d13-4b5d-b001-53feeefa9f80",
   "metadata": {
    "tags": []
   },
   "source": [
    "## システムインストラクションの確認"
   ]
  },
  {
   "cell_type": "markdown",
   "id": "5bfac680-ef89-45e8-b2c1-33e7142a128b",
   "metadata": {},
   "source": [
    "ちょっとした裏技を使って、LlmAgent オブジェクトが Gemini API に送っている生の情報を覗いてみます。"
   ]
  },
  {
   "cell_type": "code",
   "execution_count": 11,
   "id": "be3cb571-7668-4e52-a391-f5fd566219c8",
   "metadata": {
    "tags": []
   },
   "outputs": [],
   "source": [
    "import pprint\n",
    "from google.adk.agents.invocation_context import InvocationContext\n",
    "from typing import AsyncGenerator\n",
    "from google.adk.events.event import Event\n",
    "from google.adk.models.llm_request import LlmRequest\n",
    "\n",
    "async def _run_one_step_async2(\n",
    "      self,\n",
    "      invocation_context: InvocationContext,\n",
    "  ) -> AsyncGenerator[Event, None]:\n",
    "    \"\"\"One step means one LLM call.\"\"\"\n",
    "    llm_request = LlmRequest()\n",
    "\n",
    "    # Preprocess before calling the LLM.\n",
    "    async for event in self._preprocess_async(invocation_context, llm_request):\n",
    "        yield event\n",
    "    if invocation_context.end_invocation:\n",
    "        return\n",
    "\n",
    "    # Calls the LLM.\n",
    "    model_response_event = Event(\n",
    "        id=Event.new_id(),\n",
    "        invocation_id=invocation_context.invocation_id,\n",
    "        author=invocation_context.agent.name,\n",
    "        branch=invocation_context.branch,\n",
    "    )\n",
    "\n",
    "    ## DEBUG output\n",
    "    if DEBUG:\n",
    "        print('## Prompt contents ##')\n",
    "        pprint.pp(llm_request.contents)\n",
    "        print('----')\n",
    "        print('## System instruction ##')\n",
    "        print(llm_request.config.system_instruction)\n",
    "        print('----')\n",
    "        print('## Tools config ##')\n",
    "        pprint.pp(llm_request.config.tools)\n",
    "        print('----')\n",
    "    ####\n",
    "\n",
    "    async for llm_response in self._call_llm_async(\n",
    "        invocation_context, llm_request, model_response_event\n",
    "    ):\n",
    "        # Postprocess after calling the LLM.\n",
    "        async for event in self._postprocess_async(\n",
    "            invocation_context, llm_request, llm_response, model_response_event\n",
    "        ):\n",
    "            yield event\n",
    "\n",
    "from google.adk.flows.llm_flows.base_llm_flow import BaseLlmFlow\n",
    "BaseLlmFlow._run_one_step_async = _run_one_step_async2"
   ]
  },
  {
   "cell_type": "code",
   "execution_count": 12,
   "id": "a8229c70-8171-4c92-81c4-04cc8ec0fb38",
   "metadata": {
    "tags": []
   },
   "outputs": [
    {
     "name": "stdout",
     "output_type": "stream",
     "text": [
      "## Prompt contents ##\n",
      "[UserContent(parts=[Part(video_metadata=None, thought=None, inline_data=None, code_execution_result=None, executable_code=None, file_data=None, function_call=None, function_response=None, text='\\n高田馬場のおすすめのカレー屋は？\\n')], role='user')]\n",
      "----\n",
      "## System instruction ##\n",
      "\n",
      "You are a friendly AI assistant that answers your queries.\n",
      "Use google_search to give answers based on the latest and objective information.\n",
      "\n",
      "\n",
      "You are an agent. Your internal name is \"search_agent\".\n",
      "\n",
      " The description about you is \"Agent to answer questions using Google Search.\"\n",
      "----\n",
      "## Tools config ##\n",
      "[Tool(retrieval=None, google_search=GoogleSearch(), google_search_retrieval=None, enterprise_web_search=None, google_maps=None, code_execution=None, function_declarations=None)]\n",
      "----\n",
      " 高田馬場でおすすめのカレー屋について調べてみました。\n",
      "\n",
      "\n",
      " 高田馬場にはたくさんのカレー屋さんがあり、それぞれに特色があります。おすすめのカレー店をいくつかご紹介します.\n",
      "\n",
      "*   **カレーライス専門店ブラザー:** 鯖キーマカレーが人気のお店です。\n",
      "*   **横浜ボンベイ 高田馬場店:** ボンベイカレーやカシミールカレーが人気で、特にカシミールカレーは激辛ながらも野菜の甘みとスパイスの爽快感が味わえることで有名です。\n",
      "*   **プネウマカレー:** チキンカレーが人気で、食べログのカレーTOKYO百名店にも選出されています。\n",
      "*   **エチオピア 高田馬場店:** 野菜カレーが人気で、トロトロに煮込まれた野菜が美味しいと評判です。\n",
      "*   **白カレーの店 1/f ゆらぎ:** その名の通り、白いカレーが楽しめるお店です。\n",
      "\n",
      "他にも、マイカリー食堂、Curry Kitchen CACA、サンライズ アジアンダイニング&バーなど、様々なカレー店があります。\n",
      "\n"
     ]
    }
   ],
   "source": [
    "client = LocalApp(search_agent, 'Search Agent App', 'user00')\n",
    "\n",
    "DEBUG = True\n",
    "query = '''\n",
    "高田馬場のおすすめのカレー屋は？\n",
    "'''\n",
    "_ = await client.stream(query)"
   ]
  },
  {
   "cell_type": "code",
   "execution_count": 13,
   "id": "36702715-d78d-42e5-a205-24a592265b6e",
   "metadata": {
    "tags": []
   },
   "outputs": [
    {
     "name": "stdout",
     "output_type": "stream",
     "text": [
      "## Prompt contents ##\n",
      "[UserContent(parts=[Part(video_metadata=None, thought=None, inline_data=None, code_execution_result=None, executable_code=None, file_data=None, function_call=None, function_response=None, text='\\n高田馬場のおすすめのカレー屋は？\\n')], role='user'),\n",
      " Content(parts=[Part(video_metadata=None, thought=None, inline_data=None, code_execution_result=None, executable_code=None, file_data=None, function_call=None, function_response=None, text=' 高田馬場でおすすめのカレー屋について調べてみました。\\n\\n'), Part(video_metadata=None, thought=None, inline_data=None, code_execution_result=None, executable_code=None, file_data=None, function_call=None, function_response=None, text=' 高田馬場にはたくさんのカレー屋さんがあり、それぞれに特色があります。おすすめのカレー店をいくつかご紹介します.\\n\\n*   **カレーライス専門店ブラザー:** 鯖キーマカレーが人気のお店です。\\n*   **横浜ボンベイ 高田馬場店:** ボンベイカレーやカシミールカレーが人気で、特にカシミールカレーは激辛ながらも野菜の甘みとスパイスの爽快感が味わえることで有名です。\\n*   **プネウマカレー:** チキンカレーが人気で、食べログのカレーTOKYO百名店にも選出されています。\\n*   **エチオピア 高田馬場店:** 野菜カレーが人気で、トロトロに煮込まれた野菜が美味しいと評判です。\\n*   **白カレーの店 1/f ゆらぎ:** その名の通り、白いカレーが楽しめるお店です。\\n\\n他にも、マイカリー食堂、Curry Kitchen CACA、サンライズ アジアンダイニング&バーなど、様々なカレー店があります。\\n')], role='model'),\n",
      " UserContent(parts=[Part(video_metadata=None, thought=None, inline_data=None, code_execution_result=None, executable_code=None, file_data=None, function_call=None, function_response=None, text='\\n特に家族連れにおすすめなのは？\\n')], role='user')]\n",
      "----\n",
      "## System instruction ##\n",
      "\n",
      "You are a friendly AI assistant that answers your queries.\n",
      "Use google_search to give answers based on the latest and objective information.\n",
      "\n",
      "\n",
      "You are an agent. Your internal name is \"search_agent\".\n",
      "\n",
      " The description about you is \"Agent to answer questions using Google Search.\"\n",
      "----\n",
      "## Tools config ##\n",
      "[Tool(retrieval=None, google_search=GoogleSearch(), google_search_retrieval=None, enterprise_web_search=None, google_maps=None, code_execution=None, function_declarations=None)]\n",
      "----\n",
      "家族連れにおすすめの高田馬場のカレー屋について調べてみます。\n",
      "\n",
      "\n",
      " 家族連れにおすすめのカレー屋さんとして、以下の情報が見つかりました。\n",
      "\n",
      "*   **プネウマカレー**：高田馬場駅から徒歩1分に位置し、スパイシーでコクのあるチキンカレーが人気です。サイズが4種類あり、子供とシェアしたり、子供用に小盛を注文できるのが嬉しいポイントです。店内はカウンター席のみですが、空間が広々としているためベビーカーを置くことができます。離乳食の持ち込みも可能で、土曜日には子供連れも来店するそうです。\n",
      "*   **大戸屋ごはん処 高田馬場駅前店**: お子様野菜カレーがあります。小学生以下のお子様のみ注文可能です。\n",
      "\n",
      "食べログでは、高田馬場で子連れで行けるカレーのお店が多数掲載されています。\n",
      "\n"
     ]
    }
   ],
   "source": [
    "query = '''\n",
    "特に家族連れにおすすめなのは？\n",
    "'''\n",
    "_ = await client.stream(query)"
   ]
  },
  {
   "cell_type": "markdown",
   "id": "3da96ad4-1a1f-4a96-bf1c-006412202401",
   "metadata": {},
   "source": [
    "`## Prompt contents ##` の部分を見ると、セッションに記録されたイベントをすべてプロンプトに含めるのではなく、コンテキスト（これまでの会話の流れ）を把握するのに必要な情報が選択されていることがわかります。"
   ]
  },
  {
   "cell_type": "markdown",
   "id": "1af5ce4f-ad07-4ff1-8b5a-a692c72136ad",
   "metadata": {},
   "source": [
    "## AgentEngine へのデプロイ"
   ]
  },
  {
   "cell_type": "code",
   "execution_count": 22,
   "id": "a70d1459-4afd-4d07-b25e-21b32c708396",
   "metadata": {
    "tags": []
   },
   "outputs": [
    {
     "name": "stdout",
     "output_type": "stream",
     "text": [
      "Deploying google.adk.agents.Agent as an application.\n",
      "Identified the following requirements: {'cloudpickle': '3.1.1', 'google-cloud-aiplatform': '1.88.0'}\n",
      "The following requirements are missing: {'cloudpickle'}\n",
      "The following requirements are appended: {'cloudpickle==3.1.1'}\n",
      "The final list of requirements: ['google-cloud-aiplatform[adk,agent_engines]', 'cloudpickle==3.1.1']\n",
      "Using bucket etsuji-15pro-poc\n",
      "Wrote to gs://etsuji-15pro-poc/agent_engine/agent_engine.pkl\n",
      "Writing to gs://etsuji-15pro-poc/agent_engine/requirements.txt\n",
      "Creating in-memory tarfile of extra_packages\n",
      "Writing to gs://etsuji-15pro-poc/agent_engine/dependencies.tar.gz\n",
      "Creating AgentEngine\n",
      "Create AgentEngine backing LRO: projects/879055303739/locations/us-central1/reasoningEngines/193311736349065216/operations/7049101365024391168\n",
      "View progress and logs at https://console.cloud.google.com/logs/query?project=etsuji-15pro-poc\n",
      "AgentEngine created. Resource name: projects/879055303739/locations/us-central1/reasoningEngines/193311736349065216\n",
      "To use this AgentEngine in another session:\n",
      "agent_engine = vertexai.agent_engines.get('projects/879055303739/locations/us-central1/reasoningEngines/193311736349065216')\n"
     ]
    }
   ],
   "source": [
    "from vertexai import agent_engines\n",
    "\n",
    "remote_agent = agent_engines.create(\n",
    "    agent_engine=search_agent,\n",
    "    requirements=[\n",
    "        'google-cloud-aiplatform[adk,agent_engines]',\n",
    "    ]\n",
    ")"
   ]
  },
  {
   "cell_type": "code",
   "execution_count": 23,
   "id": "932a6534-189a-467b-8fe0-b43572d3007c",
   "metadata": {
    "tags": []
   },
   "outputs": [],
   "source": [
    "class RemoteApp:\n",
    "    def __init__(self, remote_agent, user_id):\n",
    "        self._remote_agent = remote_agent\n",
    "        self._user_id = user_id\n",
    "        self._session = remote_agent.create_session(user_id=self._user_id)\n",
    "    \n",
    "    def _stream(self, query):\n",
    "        events = self._remote_agent.stream_query(\n",
    "            user_id=self._user_id,\n",
    "            session_id=self._session['id'],\n",
    "            message=query,\n",
    "        )\n",
    "        result = []\n",
    "        for event in events:\n",
    "            if DEBUG:\n",
    "                print(f'----\\n{event}\\n----')\n",
    "            if ('content' in event and 'parts' in event['content']):\n",
    "                response = '\\n'.join(\n",
    "                    [p['text'] for p in event['content']['parts'] if 'text' in p]\n",
    "                )\n",
    "                if response:\n",
    "                    print(response)\n",
    "                    result.append(response)\n",
    "        return result\n",
    "\n",
    "    def stream(self, query):\n",
    "        # Retry 4 times in case of resource exhaustion \n",
    "        for c in range(4):\n",
    "            if c > 0:\n",
    "                time.sleep(2**(c-1))\n",
    "            result = self._stream(query)\n",
    "            if result:\n",
    "                return result\n",
    "            if DEBUG:\n",
    "                print('----\\nRetrying...\\n----')\n",
    "        return None # Permanent error"
   ]
  },
  {
   "cell_type": "code",
   "execution_count": 24,
   "id": "d614f2fb-2d9d-4e2b-9175-f603677aefbc",
   "metadata": {
    "tags": []
   },
   "outputs": [
    {
     "name": "stdout",
     "output_type": "stream",
     "text": [
      "今年のゴールデンウィークがカレンダー通りだとすると、何連休になるか調べてみます。\n",
      "\n",
      "\n",
      " 2025年のゴールデンウィークは、カレンダー通りだと以下のようになります:\n",
      "\n",
      "*   4月26日(土)～29日(火・祝)で4連休。\n",
      "*   5月3日(土・祝)～6日(火・振休)で4連休。\n",
      "\n",
      "カレンダー通りにお休みの場合、飛び石連休となり、4連休が2回となります。4月30日(水)、5月1日(木)、2日(金)の3日間を休むことができれば、4月29日(火・祝)から5月7日(火・振休)まで、8連休にすることも可能です。\n",
      "\n"
     ]
    }
   ],
   "source": [
    "remote_client = RemoteApp(remote_agent, 'user00')\n",
    "DEBUG=False\n",
    "\n",
    "query = '''\n",
    "今年のゴールデンウィークは、カレンダー通りで何連休でしょうか？\n",
    "'''\n",
    "_ = remote_client.stream(query)"
   ]
  },
  {
   "cell_type": "code",
   "execution_count": 25,
   "id": "c8856714-e948-4d0c-b7c5-47a41d1ecfe3",
   "metadata": {
    "tags": []
   },
   "outputs": [
    {
     "name": "stdout",
     "output_type": "stream",
     "text": [
      "来年、2026年のゴールデンウィークがカレンダー通りだと何連休になるか調べてみます。\n",
      "\n",
      "\n",
      " 来年2026年のゴールデンウィークは、カレンダー通りだと5連休になります.\n",
      "\n",
      "*   5月2日(土)～5月6日(水・振替休日)まで.\n",
      "\n",
      "4月30日(木)と5月1日(金)に有給休暇を取得すると、4月29日(水)の昭和の日から5月6日(水)まで、8連休にすることも可能です.\n",
      "\n"
     ]
    }
   ],
   "source": [
    "query = '''\n",
    "来年はどうなりますか？\n",
    "'''\n",
    "_ = remote_client.stream(query)"
   ]
  },
  {
   "cell_type": "markdown",
   "id": "100af7ef-31da-4685-9983-39586cd3c2cf",
   "metadata": {
    "tags": []
   },
   "source": [
    "セッション情報を参照する際は、`VertexAiSessionService` を使用します。"
   ]
  },
  {
   "cell_type": "code",
   "execution_count": 26,
   "id": "c2a7a06e-3c28-4962-8e0f-6068d895b897",
   "metadata": {
    "tags": []
   },
   "outputs": [
    {
     "data": {
      "text/plain": [
       "('193311736349065216', 'user00', '1378572626707873792')"
      ]
     },
     "execution_count": 26,
     "metadata": {},
     "output_type": "execute_result"
    }
   ],
   "source": [
    "app_name = remote_client._session['app_name']\n",
    "user_id = remote_client._session['user_id']\n",
    "session_id = remote_client._session['id']\n",
    "\n",
    "app_name, user_id, session_id"
   ]
  },
  {
   "cell_type": "code",
   "execution_count": 27,
   "id": "702e04e8-469d-409f-a3de-9847f624bd7a",
   "metadata": {
    "tags": []
   },
   "outputs": [
    {
     "data": {
      "text/plain": [
       "Session(id='1378572626707873792', app_name='193311736349065216', user_id='user00', state={}, events=[Event(content=Content(parts=[Part(video_metadata=None, thought=None, inline_data=None, code_execution_result=None, executable_code=None, file_data=None, function_call=None, function_response=None, text='\\n今年のゴールデンウィークは、カレンダー通りで何連休でしょうか？\\n')], role='user'), grounding_metadata=None, partial=None, turn_complete=None, error_code=None, error_message=None, interrupted=None, custom_metadata=None, invocation_id='e-96f830d4-83d4-4d68-b354-681072162b53', author='user', actions=EventActions(skip_summarization=None, state_delta={}, artifact_delta={}, transfer_to_agent=None, escalate=None, requested_auth_configs={}), long_running_tool_ids=None, branch=None, id='6962737097484533760', timestamp=1747326181.287548), Event(content=Content(parts=[Part(video_metadata=None, thought=None, inline_data=None, code_execution_result=None, executable_code=None, file_data=None, function_call=None, function_response=None, text='今年のゴールデンウィークがカレンダー通りだとすると、何連休になるか調べてみます。\\n\\n'), Part(video_metadata=None, thought=None, inline_data=None, code_execution_result=None, executable_code=None, file_data=None, function_call=None, function_response=None, text=' 2025年のゴールデンウィークは、カレンダー通りだと以下のようになります:\\n\\n*   4月26日(土)～29日(火・祝)で4連休。\\n*   5月3日(土・祝)～6日(火・振休)で4連休。\\n\\nカレンダー通りにお休みの場合、飛び石連休となり、4連休が2回となります。4月30日(水)、5月1日(木)、2日(金)の3日間を休むことができれば、4月29日(火・祝)から5月7日(火・振休)まで、8連休にすることも可能です。\\n')], role='model'), grounding_metadata={'webSearchQueries': ['今年のゴールデンウィーク カレンダー通り 何連休'], 'searchEntryPoint': {'renderedContent': '<style>\\n.container {\\n  align-items: center;\\n  border-radius: 8px;\\n  display: flex;\\n  font-family: Google Sans, Roboto, sans-serif;\\n  font-size: 14px;\\n  line-height: 20px;\\n  padding: 8px 12px;\\n}\\n.chip {\\n  display: inline-block;\\n  border: solid 1px;\\n  border-radius: 16px;\\n  min-width: 14px;\\n  padding: 5px 16px;\\n  text-align: center;\\n  user-select: none;\\n  margin: 0 8px;\\n  -webkit-tap-highlight-color: transparent;\\n}\\n.carousel {\\n  overflow: auto;\\n  scrollbar-width: none;\\n  white-space: nowrap;\\n  margin-right: -12px;\\n}\\n.headline {\\n  display: flex;\\n  margin-right: 4px;\\n}\\n.gradient-container {\\n  position: relative;\\n}\\n.gradient {\\n  position: absolute;\\n  transform: translate(3px, -9px);\\n  height: 36px;\\n  width: 9px;\\n}\\n@media (prefers-color-scheme: light) {\\n  .container {\\n    background-color: #fafafa;\\n    box-shadow: 0 0 0 1px #0000000f;\\n  }\\n  .headline-label {\\n    color: #1f1f1f;\\n  }\\n  .chip {\\n    background-color: #ffffff;\\n    border-color: #d2d2d2;\\n    color: #5e5e5e;\\n    text-decoration: none;\\n  }\\n  .chip:hover {\\n    background-color: #f2f2f2;\\n  }\\n  .chip:focus {\\n    background-color: #f2f2f2;\\n  }\\n  .chip:active {\\n    background-color: #d8d8d8;\\n    border-color: #b6b6b6;\\n  }\\n  .logo-dark {\\n    display: none;\\n  }\\n  .gradient {\\n    background: linear-gradient(90deg, #fafafa 15%, #fafafa00 100%);\\n  }\\n}\\n@media (prefers-color-scheme: dark) {\\n  .container {\\n    background-color: #1f1f1f;\\n    box-shadow: 0 0 0 1px #ffffff26;\\n  }\\n  .headline-label {\\n    color: #fff;\\n  }\\n  .chip {\\n    background-color: #2c2c2c;\\n    border-color: #3c4043;\\n    color: #fff;\\n    text-decoration: none;\\n  }\\n  .chip:hover {\\n    background-color: #353536;\\n  }\\n  .chip:focus {\\n    background-color: #353536;\\n  }\\n  .chip:active {\\n    background-color: #464849;\\n    border-color: #53575b;\\n  }\\n  .logo-light {\\n    display: none;\\n  }\\n  .gradient {\\n    background: linear-gradient(90deg, #1f1f1f 15%, #1f1f1f00 100%);\\n  }\\n}\\n</style>\\n<div class=\"container\">\\n  <div class=\"headline\">\\n    <svg class=\"logo-light\" width=\"18\" height=\"18\" viewBox=\"9 9 35 35\" fill=\"none\" xmlns=\"http://www.w3.org/2000/svg\">\\n      <path fill-rule=\"evenodd\" clip-rule=\"evenodd\" d=\"M42.8622 27.0064C42.8622 25.7839 42.7525 24.6084 42.5487 23.4799H26.3109V30.1568H35.5897C35.1821 32.3041 33.9596 34.1222 32.1258 35.3448V39.6864H37.7213C40.9814 36.677 42.8622 32.2571 42.8622 27.0064V27.0064Z\" fill=\"#4285F4\"/>\\n      <path fill-rule=\"evenodd\" clip-rule=\"evenodd\" d=\"M26.3109 43.8555C30.9659 43.8555 34.8687 42.3195 37.7213 39.6863L32.1258 35.3447C30.5898 36.3792 28.6306 37.0061 26.3109 37.0061C21.8282 37.0061 18.0195 33.9811 16.6559 29.906H10.9194V34.3573C13.7563 39.9841 19.5712 43.8555 26.3109 43.8555V43.8555Z\" fill=\"#34A853\"/>\\n      <path fill-rule=\"evenodd\" clip-rule=\"evenodd\" d=\"M16.6559 29.8904C16.3111 28.8559 16.1074 27.7588 16.1074 26.6146C16.1074 25.4704 16.3111 24.3733 16.6559 23.3388V18.8875H10.9194C9.74388 21.2072 9.06992 23.8247 9.06992 26.6146C9.06992 29.4045 9.74388 32.022 10.9194 34.3417L15.3864 30.8621L16.6559 29.8904V29.8904Z\" fill=\"#FBBC05\"/>\\n      <path fill-rule=\"evenodd\" clip-rule=\"evenodd\" d=\"M26.3109 16.2386C28.85 16.2386 31.107 17.1164 32.9095 18.8091L37.8466 13.8719C34.853 11.082 30.9659 9.3736 26.3109 9.3736C19.5712 9.3736 13.7563 13.245 10.9194 18.8875L16.6559 23.3388C18.0195 19.2636 21.8282 16.2386 26.3109 16.2386V16.2386Z\" fill=\"#EA4335\"/>\\n    </svg>\\n    <svg class=\"logo-dark\" width=\"18\" height=\"18\" viewBox=\"0 0 48 48\" xmlns=\"http://www.w3.org/2000/svg\">\\n      <circle cx=\"24\" cy=\"23\" fill=\"#FFF\" r=\"22\"/>\\n      <path d=\"M33.76 34.26c2.75-2.56 4.49-6.37 4.49-11.26 0-.89-.08-1.84-.29-3H24.01v5.99h8.03c-.4 2.02-1.5 3.56-3.07 4.56v.75l3.91 2.97h.88z\" fill=\"#4285F4\"/>\\n      <path d=\"M15.58 25.77A8.845 8.845 0 0 0 24 31.86c1.92 0 3.62-.46 4.97-1.31l4.79 3.71C31.14 36.7 27.65 38 24 38c-5.93 0-11.01-3.4-13.45-8.36l.17-1.01 4.06-2.85h.8z\" fill=\"#34A853\"/>\\n      <path d=\"M15.59 20.21a8.864 8.864 0 0 0 0 5.58l-5.03 3.86c-.98-2-1.53-4.25-1.53-6.64 0-2.39.55-4.64 1.53-6.64l1-.22 3.81 2.98.22 1.08z\" fill=\"#FBBC05\"/>\\n      <path d=\"M24 14.14c2.11 0 4.02.75 5.52 1.98l4.36-4.36C31.22 9.43 27.81 8 24 8c-5.93 0-11.01 3.4-13.45 8.36l5.03 3.85A8.86 8.86 0 0 1 24 14.14z\" fill=\"#EA4335\"/>\\n    </svg>\\n    <div class=\"gradient-container\"><div class=\"gradient\"></div></div>\\n  </div>\\n  <div class=\"carousel\">\\n    <a class=\"chip\" href=\"https://vertexaisearch.cloud.google.com/grounding-api-redirect/AbF9wXHVTDYQJRkB8D4tPMlJJK86D3mGZHK52dgq4XbXc4ZdS_A1wdVBc6bjRO3edcl_-u-W9pTc_14-lQSNQ21Kl4fY0lwUsM1EM7t9aDMSxCqWCnnmWeKtU3UTelhjLsEuK8FWnPD8sp4dn3Tkx7QEvz-QgOYKFI67CxbVkc31KM90wg4Pd0EHMcLY6Co7jEtPz7i9CqMcIr8zf37vaXhg91sfOe9lReU3D9mGRULZrtqXRnH5NM-O-l-4D3mdr8sMmo3MIyo97SrT1NA4yt47CO9IcRlgw-xydzegVoE3prD97krqxTzMs3VAAU52NOOIkG8ONSTO5NyOod9mODJ_QG77yAR2ouX_nBnftgqNdD6TW_4MRLC4v2a-vYwQiJnLqgmbehI3YNnAbz4Zo3Z8lugo0vwIcwNSIVjqzWThZ0bJP7ZpC9u9PgR03IitGw==\">今年のゴールデンウィーク カレンダー通り 何連休</a>\\n  </div>\\n</div>\\n'}, 'groundingChunks': [{'web': {'uri': 'https://vertexaisearch.cloud.google.com/grounding-api-redirect/AbF9wXFhv26fcNbRKGeCzCQ5fFZklY744Zt-fWrWW2mNq9Z2HUcRzRoQZCz5pFKui9PSJqNG9lSsJhpJrFKVBO3jy13MXJRGL5SSzO0h8uME-Q0O5IG7bwA3kuHQEpI0agkMuvG1ee5r4tStJEd3Fl_Uxtk0Ucse', 'title': 'walkerplus.com', 'domain': 'walkerplus.com'}}, {'web': {'uri': 'https://vertexaisearch.cloud.google.com/grounding-api-redirect/AbF9wXG76obXA_zw1nshnGHxkGFBOySUgzoc6aL4KyBdj2Zq6SA6KU_YvuWC9X207loOSyB45TardygHyP1U0z2kUANSRLVgtOgz79YDkPVGInBniN0IQgzcmQK0MQ0WgZTYog==', 'title': 'allabout.co.jp', 'domain': 'allabout.co.jp'}}, {'web': {'uri': 'https://vertexaisearch.cloud.google.com/grounding-api-redirect/AbF9wXE9ruIk5UJXwvYe78vYYPmdl6cQwus9BMZ3q4W1VcCVtGYmYa_-9YR56oc0zwF7f9muEQaZ7T4Hp_2IEqjWL-KaXJtesV_Pi_T8yw2VGxJ5ncgIgZI-a3ukeZdsJur__DmWJfdf41kDClpbSpWB0KM=', 'title': 'baitoru.com', 'domain': 'baitoru.com'}}], 'groundingSupports': [{'segment': {'startIndex': 123, 'endIndex': 223, 'text': '2025年のゴールデンウィークは、カレンダー通りだと以下のようになります'}, 'groundingChunkIndices': [0, 1, 2]}, {'segment': {'startIndex': 336, 'endIndex': 437, 'text': 'カレンダー通りにお休みの場合、飛び石連休となり、4連休が2回となります'}, 'groundingChunkIndices': [0, 1, 2]}, {'segment': {'startIndex': 440, 'endIndex': 619, 'text': '4月30日(水)、5月1日(木)、2日(金)の3日間を休むことができれば、4月29日(火・祝)から5月7日(火・振休)まで、8連休にすることも可能です'}, 'groundingChunkIndices': [0]}], 'retrievalMetadata': {}}, partial=None, turn_complete=None, error_code=None, error_message=None, interrupted=None, custom_metadata=None, invocation_id='e-96f830d4-83d4-4d68-b354-681072162b53', author='search_agent', actions=EventActions(skip_summarization=None, state_delta={}, artifact_delta={}, transfer_to_agent=None, escalate=None, requested_auth_configs={}), long_running_tool_ids=None, branch=None, id='8151687399110344704', timestamp=1747326181.355285), Event(content=Content(parts=[Part(video_metadata=None, thought=None, inline_data=None, code_execution_result=None, executable_code=None, file_data=None, function_call=None, function_response=None, text='\\n来年はどうなりますか？\\n')], role='user'), grounding_metadata=None, partial=None, turn_complete=None, error_code=None, error_message=None, interrupted=None, custom_metadata=None, invocation_id='e-4570ffaf-2cbb-4876-9b5d-af0b455ae302', author='user', actions=EventActions(skip_summarization=None, state_delta={}, artifact_delta={}, transfer_to_agent=None, escalate=None, requested_auth_configs={}), long_running_tool_ids=None, branch=None, id='6332233149652664320', timestamp=1747326184.341686), Event(content=Content(parts=[Part(video_metadata=None, thought=None, inline_data=None, code_execution_result=None, executable_code=None, file_data=None, function_call=None, function_response=None, text='来年、2026年のゴールデンウィークがカレンダー通りだと何連休になるか調べてみます。\\n\\n'), Part(video_metadata=None, thought=None, inline_data=None, code_execution_result=None, executable_code=None, file_data=None, function_call=None, function_response=None, text=' 来年2026年のゴールデンウィークは、カレンダー通りだと5連休になります.\\n\\n*   5月2日(土)～5月6日(水・振替休日)まで.\\n\\n4月30日(木)と5月1日(金)に有給休暇を取得すると、4月29日(水)の昭和の日から5月6日(水)まで、8連休にすることも可能です.\\n')], role='model'), grounding_metadata={'webSearchQueries': ['2026 ゴールデンウィーク 休み カレンダー通り', '2026年5月カレンダー'], 'searchEntryPoint': {'renderedContent': '<style>\\n.container {\\n  align-items: center;\\n  border-radius: 8px;\\n  display: flex;\\n  font-family: Google Sans, Roboto, sans-serif;\\n  font-size: 14px;\\n  line-height: 20px;\\n  padding: 8px 12px;\\n}\\n.chip {\\n  display: inline-block;\\n  border: solid 1px;\\n  border-radius: 16px;\\n  min-width: 14px;\\n  padding: 5px 16px;\\n  text-align: center;\\n  user-select: none;\\n  margin: 0 8px;\\n  -webkit-tap-highlight-color: transparent;\\n}\\n.carousel {\\n  overflow: auto;\\n  scrollbar-width: none;\\n  white-space: nowrap;\\n  margin-right: -12px;\\n}\\n.headline {\\n  display: flex;\\n  margin-right: 4px;\\n}\\n.gradient-container {\\n  position: relative;\\n}\\n.gradient {\\n  position: absolute;\\n  transform: translate(3px, -9px);\\n  height: 36px;\\n  width: 9px;\\n}\\n@media (prefers-color-scheme: light) {\\n  .container {\\n    background-color: #fafafa;\\n    box-shadow: 0 0 0 1px #0000000f;\\n  }\\n  .headline-label {\\n    color: #1f1f1f;\\n  }\\n  .chip {\\n    background-color: #ffffff;\\n    border-color: #d2d2d2;\\n    color: #5e5e5e;\\n    text-decoration: none;\\n  }\\n  .chip:hover {\\n    background-color: #f2f2f2;\\n  }\\n  .chip:focus {\\n    background-color: #f2f2f2;\\n  }\\n  .chip:active {\\n    background-color: #d8d8d8;\\n    border-color: #b6b6b6;\\n  }\\n  .logo-dark {\\n    display: none;\\n  }\\n  .gradient {\\n    background: linear-gradient(90deg, #fafafa 15%, #fafafa00 100%);\\n  }\\n}\\n@media (prefers-color-scheme: dark) {\\n  .container {\\n    background-color: #1f1f1f;\\n    box-shadow: 0 0 0 1px #ffffff26;\\n  }\\n  .headline-label {\\n    color: #fff;\\n  }\\n  .chip {\\n    background-color: #2c2c2c;\\n    border-color: #3c4043;\\n    color: #fff;\\n    text-decoration: none;\\n  }\\n  .chip:hover {\\n    background-color: #353536;\\n  }\\n  .chip:focus {\\n    background-color: #353536;\\n  }\\n  .chip:active {\\n    background-color: #464849;\\n    border-color: #53575b;\\n  }\\n  .logo-light {\\n    display: none;\\n  }\\n  .gradient {\\n    background: linear-gradient(90deg, #1f1f1f 15%, #1f1f1f00 100%);\\n  }\\n}\\n</style>\\n<div class=\"container\">\\n  <div class=\"headline\">\\n    <svg class=\"logo-light\" width=\"18\" height=\"18\" viewBox=\"9 9 35 35\" fill=\"none\" xmlns=\"http://www.w3.org/2000/svg\">\\n      <path fill-rule=\"evenodd\" clip-rule=\"evenodd\" d=\"M42.8622 27.0064C42.8622 25.7839 42.7525 24.6084 42.5487 23.4799H26.3109V30.1568H35.5897C35.1821 32.3041 33.9596 34.1222 32.1258 35.3448V39.6864H37.7213C40.9814 36.677 42.8622 32.2571 42.8622 27.0064V27.0064Z\" fill=\"#4285F4\"/>\\n      <path fill-rule=\"evenodd\" clip-rule=\"evenodd\" d=\"M26.3109 43.8555C30.9659 43.8555 34.8687 42.3195 37.7213 39.6863L32.1258 35.3447C30.5898 36.3792 28.6306 37.0061 26.3109 37.0061C21.8282 37.0061 18.0195 33.9811 16.6559 29.906H10.9194V34.3573C13.7563 39.9841 19.5712 43.8555 26.3109 43.8555V43.8555Z\" fill=\"#34A853\"/>\\n      <path fill-rule=\"evenodd\" clip-rule=\"evenodd\" d=\"M16.6559 29.8904C16.3111 28.8559 16.1074 27.7588 16.1074 26.6146C16.1074 25.4704 16.3111 24.3733 16.6559 23.3388V18.8875H10.9194C9.74388 21.2072 9.06992 23.8247 9.06992 26.6146C9.06992 29.4045 9.74388 32.022 10.9194 34.3417L15.3864 30.8621L16.6559 29.8904V29.8904Z\" fill=\"#FBBC05\"/>\\n      <path fill-rule=\"evenodd\" clip-rule=\"evenodd\" d=\"M26.3109 16.2386C28.85 16.2386 31.107 17.1164 32.9095 18.8091L37.8466 13.8719C34.853 11.082 30.9659 9.3736 26.3109 9.3736C19.5712 9.3736 13.7563 13.245 10.9194 18.8875L16.6559 23.3388C18.0195 19.2636 21.8282 16.2386 26.3109 16.2386V16.2386Z\" fill=\"#EA4335\"/>\\n    </svg>\\n    <svg class=\"logo-dark\" width=\"18\" height=\"18\" viewBox=\"0 0 48 48\" xmlns=\"http://www.w3.org/2000/svg\">\\n      <circle cx=\"24\" cy=\"23\" fill=\"#FFF\" r=\"22\"/>\\n      <path d=\"M33.76 34.26c2.75-2.56 4.49-6.37 4.49-11.26 0-.89-.08-1.84-.29-3H24.01v5.99h8.03c-.4 2.02-1.5 3.56-3.07 4.56v.75l3.91 2.97h.88z\" fill=\"#4285F4\"/>\\n      <path d=\"M15.58 25.77A8.845 8.845 0 0 0 24 31.86c1.92 0 3.62-.46 4.97-1.31l4.79 3.71C31.14 36.7 27.65 38 24 38c-5.93 0-11.01-3.4-13.45-8.36l.17-1.01 4.06-2.85h.8z\" fill=\"#34A853\"/>\\n      <path d=\"M15.59 20.21a8.864 8.864 0 0 0 0 5.58l-5.03 3.86c-.98-2-1.53-4.25-1.53-6.64 0-2.39.55-4.64 1.53-6.64l1-.22 3.81 2.98.22 1.08z\" fill=\"#FBBC05\"/>\\n      <path d=\"M24 14.14c2.11 0 4.02.75 5.52 1.98l4.36-4.36C31.22 9.43 27.81 8 24 8c-5.93 0-11.01 3.4-13.45 8.36l5.03 3.85A8.86 8.86 0 0 1 24 14.14z\" fill=\"#EA4335\"/>\\n    </svg>\\n    <div class=\"gradient-container\"><div class=\"gradient\"></div></div>\\n  </div>\\n  <div class=\"carousel\">\\n    <a class=\"chip\" href=\"https://vertexaisearch.cloud.google.com/grounding-api-redirect/AbF9wXGc9gQnDLeaJ0j_OdIHBGUYkQrbZzq-8JAke69ygN5WLmDEm35ttdpnLtKI7eC43Tfe4Azp3z87w2irujJZzGVhHH-by9swH-ragUTpuc46EC1xLOMPg44vxBgGvbTslHk1XO1L3mVnjGjn0sR3G9jnxI36K4tMtHMHSU8LKCildNybQadH8rvNSHuBebEQJJ2bCXZCm6Fza9byXtaPgSsyp1oaF4mQkMS-zBJn6-gD5T44dRv12mZkkO5vYFGSPgpS6LlSyI4tEw==\">2026年5月カレンダー</a>\\n    <a class=\"chip\" href=\"https://vertexaisearch.cloud.google.com/grounding-api-redirect/AbF9wXEP1y3WM2nonurI7pdlmid25homQiuOZX9WNg2wgJye40vT_GkS50_7kEaRYbKVq_-UYdWuji79v7GP42iCKOyvdy_ARcC_FOkN04KBHAmZRu18htR9ejcNWkoc-6lHdy3sZcZjTXhOu1SF84_TOsZH59ezMhyTkXPMKEod4yZNR2olVplyRWJbZvN3I1ZFm8N-pSOSv4R2UsR01MaAYzwaZ7dQMDlsF7NKdNY7q4oEQTlnThZBpY6LrPs281LmqvxEqpiXd-aMs24pBUojfcAffc37Yca8bVMgkG-uAXutWqnilfOX7rWNSSKShp-RoMphEAHZtIkBnj6vjwF7e3qwPzhwsOkulMezfBde3VLkGBnASpZJbFheIbD_JSay9zAZBuigVnJ455arvRvh\">2026 ゴールデンウィーク 休み カレンダー通り</a>\\n  </div>\\n</div>\\n'}, 'groundingChunks': [{'web': {'uri': 'https://vertexaisearch.cloud.google.com/grounding-api-redirect/AbF9wXFfhM4_txNMyEvvLw7fkNMjg4TJMJAraStiBslLqr9tXARNNsqs3rJXJhGCTyQDf-WdvGd9VWR29lb37aHU13M18jn8ZwSR-7R0NB-6RhAAH2TQ5ztWOddoRmEUcNjw6eTdzlSIbyljHw4LMD3fCeUN13_Bl2qH', 'title': 'akala.ai', 'domain': 'akala.ai'}}, {'web': {'uri': 'https://vertexaisearch.cloud.google.com/grounding-api-redirect/AbF9wXFbKrMdtuz_mEt_PzXd2PeY27POqHt5-uTyRsfsxtxi5BGlhOHpMkimmQ3PKItof7KTtFn4VDZxO3BBvvwlyiNmgVeR2ocqqdkCUgNDb5KwGlWf0zTTF1DCc05ZyC3eqRHySbdndqicaZK0w5po', 'title': 'family-life.work', 'domain': 'family-life.work'}}, {'web': {'uri': 'https://vertexaisearch.cloud.google.com/grounding-api-redirect/AbF9wXHL6gsHIC5kSkyOyFZk4wltRzhUkhGV_06-bre_eKv7NkGqA0DlcYaSuMLk7GpV2K11M-0KtpDN4WzFuF2lvNmkM0yldufB9gZ5nu7DTJFLJ7NwQBFbWmb-lDZpHw1SiZbXvDd5KGaPZVPqb9ZGizjBUiEMlBEiV737', 'title': 'hatarako.net', 'domain': 'hatarako.net'}}], 'groundingSupports': [{'segment': {'startIndex': 121, 'endIndex': 219, 'text': '来年2026年のゴールデンウィークは、カレンダー通りだと5連休になります'}, 'groundingChunkIndices': [0, 1, 2]}, {'segment': {'startIndex': 222, 'endIndex': 276, 'text': '*   5月2日(土)～5月6日(水・振替休日)まで'}, 'groundingChunkIndices': [1, 2]}, {'segment': {'startIndex': 279, 'endIndex': 439, 'text': '4月30日(木)と5月1日(金)に有給休暇を取得すると、4月29日(水)の昭和の日から5月6日(水)まで、8連休にすることも可能です'}, 'groundingChunkIndices': [0]}], 'retrievalMetadata': {}}, partial=None, turn_complete=None, error_code=None, error_message=None, interrupted=None, custom_metadata=None, invocation_id='e-4570ffaf-2cbb-4876-9b5d-af0b455ae302', author='search_agent', actions=EventActions(skip_summarization=None, state_delta={}, artifact_delta={}, transfer_to_agent=None, escalate=None, requested_auth_configs={}), long_running_tool_ids=None, branch=None, id='1198129574450298880', timestamp=1747326184.407377)], last_update_time=1747326186.882893)"
      ]
     },
     "execution_count": 27,
     "metadata": {},
     "output_type": "execute_result"
    }
   ],
   "source": [
    "from google.adk.sessions import VertexAiSessionService\n",
    "\n",
    "session_service = VertexAiSessionService(\n",
    "    project = PROJECT_ID,\n",
    "    location = LOCATION,\n",
    ")\n",
    "\n",
    "session = session_service.get_session(\n",
    "    app_name=app_name,\n",
    "    user_id=user_id,\n",
    "    session_id=session_id,\n",
    ")\n",
    "\n",
    "session"
   ]
  },
  {
   "cell_type": "code",
   "execution_count": 28,
   "id": "f5ade0df-17fa-48a8-b705-b5ccea3295d4",
   "metadata": {
    "tags": []
   },
   "outputs": [
    {
     "name": "stdout",
     "output_type": "stream",
     "text": [
      "2025-05-15 16:23:01.287548 user\n",
      "2025-05-15 16:23:01.355285 search_agent\n",
      "2025-05-15 16:23:04.341686 user\n",
      "2025-05-15 16:23:04.407377 search_agent\n"
     ]
    }
   ],
   "source": [
    "for event in session.events:\n",
    "    print(format_timestamp(event.timestamp), event.author)"
   ]
  },
  {
   "cell_type": "markdown",
   "id": "a29d7333-a93c-4aa7-b1c5-c04e3b49dc12",
   "metadata": {},
   "source": [
    "## 後片付け"
   ]
  },
  {
   "cell_type": "markdown",
   "id": "f50a91bc-d0cd-4cc0-a112-26ab1ee10d14",
   "metadata": {
    "tags": []
   },
   "source": [
    "デプロイ済みのエージェントをまとめて削除します。"
   ]
  },
  {
   "cell_type": "code",
   "execution_count": 29,
   "id": "bea2da56-1078-4524-a439-39baf7f27b8a",
   "metadata": {
    "tags": []
   },
   "outputs": [
    {
     "name": "stdout",
     "output_type": "stream",
     "text": [
      "projects/879055303739/locations/us-central1/reasoningEngines/193311736349065216\n",
      "Delete Agent Engine backing LRO: projects/879055303739/locations/us-central1/operations/6509795309646774272\n",
      "Agent Engine deleted. Resource name: projects/879055303739/locations/us-central1/reasoningEngines/193311736349065216\n"
     ]
    }
   ],
   "source": [
    "for agent in agent_engines.list():\n",
    "    print(agent.gca_resource.name)\n",
    "    agent.delete(force=True)"
   ]
  }
 ],
 "metadata": {
  "environment": {
   "kernel": "conda-base-py",
   "name": "workbench-notebooks.m129",
   "type": "gcloud",
   "uri": "us-docker.pkg.dev/deeplearning-platform-release/gcr.io/workbench-notebooks:m129"
  },
  "kernelspec": {
   "display_name": "Python 3 (ipykernel)",
   "language": "python",
   "name": "conda-base-py"
  },
  "language_info": {
   "codemirror_mode": {
    "name": "ipython",
    "version": 3
   },
   "file_extension": ".py",
   "mimetype": "text/x-python",
   "name": "python",
   "nbconvert_exporter": "python",
   "pygments_lexer": "ipython3",
   "version": "3.10.16"
  }
 },
 "nbformat": 4,
 "nbformat_minor": 5
}
