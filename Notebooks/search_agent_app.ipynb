{
 "cells": [
  {
   "cell_type": "markdown",
   "id": "9c3cc4d8-742b-4421-b450-5f06e8f2a0c7",
   "metadata": {
    "tags": []
   },
   "source": [
    "## 事前準備"
   ]
  },
  {
   "cell_type": "markdown",
   "id": "c93ad445-56c7-4505-ae5a-4d5306efd689",
   "metadata": {},
   "source": [
    "1. Google Cloud の新しいプロジェクトを作成します。\n",
    "2. Cloud Shell を開いて、次のコマンドで API を有効化します。\n",
    "```\n",
    "gcloud services enable \\\n",
    "  aiplatform.googleapis.com \\\n",
    "  notebooks.googleapis.com \\\n",
    "  cloudresourcemanager.googleapis.com\n",
    "\n",
    "```\n",
    "3. 次のコマンドで Vertex AI Workbench のインスタンスを作成します。\n",
    "```\n",
    "PROJECT_ID=$(gcloud config list --format 'value(core.project)')\n",
    "gcloud workbench instances create agent-development \\\n",
    "  --project=$PROJECT_ID \\\n",
    "  --location=us-central1-a \\\n",
    "  --machine-type=e2-standard-2\n",
    "```\n",
    "\n",
    "4. クラウドコンソールのナビゲーションメニューから「Vertex AI」→「Workbench」を選択すると、作成したインスタンス agent-develpment があります。インスタンスの起動が完了するのを待って、「JUPYTERLAB を開く」をクリックしたら、「Python 3(ipykernel)」の新規ノートブックを作成します。\n",
    "\n",
    "5. この後は、ノートブック上で以下のコマンドを実行していきます。"
   ]
  },
  {
   "cell_type": "markdown",
   "id": "70ed77f6-8bb7-406f-8f91-e79370b32394",
   "metadata": {
    "tags": []
   },
   "source": [
    "## ADK パッケージのインストール"
   ]
  },
  {
   "cell_type": "code",
   "execution_count": null,
   "id": "c2a46ff3-934b-4d5d-bb0a-c887f296c01a",
   "metadata": {},
   "outputs": [],
   "source": [
    "%pip install --upgrade --user google-adk"
   ]
  },
  {
   "cell_type": "markdown",
   "id": "ec254a63-03f5-4973-aa23-03f2f8521f4a",
   "metadata": {},
   "source": [
    "インストールしたパッケージを利用可能にするために、次のコマンドでカーネルを再起動します。\n",
    "\n",
    "再起動を確認するポップアップが表示されるので [Ok] をクリックします。"
   ]
  },
  {
   "cell_type": "code",
   "execution_count": 2,
   "id": "915482d8-cff4-46e2-a826-94bf6cb8277d",
   "metadata": {},
   "outputs": [],
   "source": [
    "import IPython\n",
    "app = IPython.Application.instance()\n",
    "_ = app.kernel.do_shutdown(True)"
   ]
  },
  {
   "cell_type": "markdown",
   "id": "419007fb-f199-41e0-8410-d4d988179248",
   "metadata": {
    "tags": []
   },
   "source": [
    "## Serach Agent App の作成"
   ]
  },
  {
   "cell_type": "code",
   "execution_count": 1,
   "id": "8722e641-cd9a-4e73-9622-427ea35c8bde",
   "metadata": {
    "tags": []
   },
   "outputs": [],
   "source": [
    "import copy, datetime, json, os, pprint, time, uuid\n",
    "import vertexai\n",
    "from google.genai.types import Part, UserContent, ModelContent\n",
    "from google.adk.agents.llm_agent import LlmAgent\n",
    "from google.adk.artifacts import InMemoryArtifactService\n",
    "from google.adk.memory.in_memory_memory_service import InMemoryMemoryService\n",
    "from google.adk.sessions import InMemorySessionService\n",
    "from google.adk.runners import Runner\n",
    "from google.adk.tools import google_search\n",
    "\n",
    "[PROJECT_ID] = !gcloud config list --format 'value(core.project)'\n",
    "LOCATION = 'us-central1'\n",
    "\n",
    "vertexai.init(project=PROJECT_ID, location=LOCATION,\n",
    "              staging_bucket=f'gs://{PROJECT_ID}')\n",
    "\n",
    "os.environ['GOOGLE_CLOUD_PROJECT'] = PROJECT_ID\n",
    "os.environ['GOOGLE_CLOUD_LOCATION'] = LOCATION\n",
    "os.environ['GOOGLE_GENAI_USE_VERTEXAI'] = 'True'"
   ]
  },
  {
   "cell_type": "code",
   "execution_count": 2,
   "id": "1bd94203-da07-413e-9d85-94cfcfbaa8bc",
   "metadata": {
    "tags": []
   },
   "outputs": [],
   "source": [
    "instruction = '''\n",
    "You are a friendly AI assistant that answers user's queries.\n",
    "Use google_search to give answers based on the latest and objective information.\n",
    "'''\n",
    "\n",
    "search_agent = LlmAgent(\n",
    "    name='search_agent',\n",
    "    model='gemini-2.0-flash-001',\n",
    "    description='Agent to answer questions using Google Search.',\n",
    "    instruction=instruction,\n",
    "    tools=[google_search]\n",
    ")"
   ]
  },
  {
   "cell_type": "code",
   "execution_count": 3,
   "id": "d94ab67e-99e0-498d-8095-81ca07156c9e",
   "metadata": {
    "tags": []
   },
   "outputs": [],
   "source": [
    "class LocalApp:\n",
    "    def __init__(self, agent, app_name, user_id):\n",
    "        self._agent = agent\n",
    "        self._app_name = app_name\n",
    "        self._user_id = user_id\n",
    "        self._runner = Runner(\n",
    "            app_name=self._app_name,\n",
    "            agent=self._agent,\n",
    "            artifact_service=InMemoryArtifactService(),\n",
    "            session_service=InMemorySessionService(),\n",
    "            memory_service=InMemoryMemoryService(),\n",
    "        )\n",
    "        self._session = self._runner.session_service.create_session(\n",
    "            app_name=self._app_name,\n",
    "            user_id=self._user_id,\n",
    "            state={},\n",
    "            session_id=uuid.uuid4().hex,\n",
    "        )\n",
    "        \n",
    "    async def stream(self, query):\n",
    "        content = UserContent(parts=[Part.from_text(text=query)])\n",
    "        async_events = self._runner.run_async(\n",
    "            user_id=self._user_id,\n",
    "            session_id=self._session.id,\n",
    "            new_message=content,\n",
    "        )\n",
    "        result = []\n",
    "        async for event in async_events:\n",
    "            if (event.content and event.content.parts):\n",
    "                response = '\\n'.join([p.text for p in event.content.parts if p.text])\n",
    "                if response:\n",
    "                    print(response)\n",
    "                    result.append(response)\n",
    "        return result"
   ]
  },
  {
   "cell_type": "markdown",
   "id": "0fc6b082-b4ec-49e4-9e27-7292607ee741",
   "metadata": {
    "tags": []
   },
   "source": [
    "## 実行例"
   ]
  },
  {
   "cell_type": "code",
   "execution_count": 23,
   "id": "8fe01b19-76b3-4eac-a2a3-5796386d06cb",
   "metadata": {
    "tags": []
   },
   "outputs": [
    {
     "name": "stdout",
     "output_type": "stream",
     "text": [
      " 高田馬場でおすすめのカレー屋はたくさんありますが、いくつかご紹介します。\n",
      "\n",
      "\n",
      " 高田馬場にはたくさんのカレー屋さんがあり、それぞれに個性があっておすすめです。主なカレー店としては、以下のようなお店があります。\n",
      "\n",
      "*   **カレーライス専門店ブラザー**： 鯖キーマカレーが人気のお店です。\n",
      "*   **横浜ボンベイ 高田馬場店**： ボンベイカレーやカシミールカレーなど、独特なカレーが楽しめます。\n",
      "*   **プネウマカレー**： コスパの良いカレーとして知られています。\n",
      "*   **エチオピア 高田馬場店**： 野菜カレーが人気で、辛さが選べる本格的なカレー屋さんです。\n",
      "*   **白カレーの店 1/f ゆらぎ**： その名の通り、白いカレーが特徴のお店です。\n",
      "\n",
      "他にも、アプサラ、まっちゃんカレー、マイカリー食堂など、様々なカレー店が高田馬場にはあります。ぜひ色々試して、お好みのカレーを見つけてみてください。\n"
     ]
    }
   ],
   "source": [
    "client = LocalApp(search_agent, 'Search Agent App', 'user00')\n",
    "\n",
    "query = '''\n",
    "高田馬場のおすすめのカレー屋は？\n",
    "'''\n",
    "_ = await client.stream(query)"
   ]
  },
  {
   "cell_type": "markdown",
   "id": "938d0efc-b889-4ee4-bfc8-b0b6518af3ec",
   "metadata": {
    "tags": []
   },
   "source": [
    "SessionService が管理するセッション情報を確認します。\n",
    "\n",
    "セッションを特定するのに必要な、`app_name`、`user_id`、`session_id` を確認します。"
   ]
  },
  {
   "cell_type": "code",
   "execution_count": 24,
   "id": "a4ef5e8c-cc52-4dd6-8c5d-e9ceb054b31e",
   "metadata": {
    "tags": []
   },
   "outputs": [
    {
     "data": {
      "text/plain": [
       "('Search Agent App', 'user00', '9888fd325f424ca7972e04235037b4a7')"
      ]
     },
     "execution_count": 24,
     "metadata": {},
     "output_type": "execute_result"
    }
   ],
   "source": [
    "app_name = client._session.app_name\n",
    "user_id = client._session.user_id\n",
    "session_id = client._session.id\n",
    "\n",
    "app_name, user_id, session_id"
   ]
  },
  {
   "cell_type": "markdown",
   "id": "d49b47f0-70e7-4447-bc59-b693a8a73491",
   "metadata": {},
   "source": [
    "確認した情報を使って、セッションに保存された情報を確認します。\n",
    "\n",
    "2 つのイベント（ユーザーの質問とエージェントの回答）が記録されています。\n",
    "\n",
    "エージェントの回答を生成する際に用いた Google Serch の情報なども確認できます。"
   ]
  },
  {
   "cell_type": "code",
   "execution_count": 25,
   "id": "df2c86b9-1a1e-43b2-9968-0f44f2d44831",
   "metadata": {
    "tags": []
   },
   "outputs": [
    {
     "data": {
      "text/plain": [
       "Session(id='9888fd325f424ca7972e04235037b4a7', app_name='Search Agent App', user_id='user00', state={}, events=[Event(content=UserContent(parts=[Part(video_metadata=None, thought=None, inline_data=None, code_execution_result=None, executable_code=None, file_data=None, function_call=None, function_response=None, text='\\n高田馬場のおすすめのカレー屋は？\\n')], role='user'), grounding_metadata=None, partial=None, turn_complete=None, error_code=None, error_message=None, interrupted=None, custom_metadata=None, invocation_id='e-5f48e9d1-08a8-47b2-8830-2e277a22a7d5', author='user', actions=EventActions(skip_summarization=None, state_delta={}, artifact_delta={}, transfer_to_agent=None, escalate=None, requested_auth_configs={}), long_running_tool_ids=None, branch=None, id='05DJgw0i', timestamp=1747344623.65059), Event(content=Content(parts=[Part(video_metadata=None, thought=None, inline_data=None, code_execution_result=None, executable_code=None, file_data=None, function_call=None, function_response=None, text=' 高田馬場でおすすめのカレー屋はたくさんありますが、いくつかご紹介します。\\n\\n'), Part(video_metadata=None, thought=None, inline_data=None, code_execution_result=None, executable_code=None, file_data=None, function_call=None, function_response=None, text=' 高田馬場にはたくさんのカレー屋さんがあり、それぞれに個性があっておすすめです。主なカレー店としては、以下のようなお店があります。\\n\\n*   **カレーライス専門店ブラザー**： 鯖キーマカレーが人気のお店です。\\n*   **横浜ボンベイ 高田馬場店**： ボンベイカレーやカシミールカレーなど、独特なカレーが楽しめます。\\n*   **プネウマカレー**： コスパの良いカレーとして知られています。\\n*   **エチオピア 高田馬場店**： 野菜カレーが人気で、辛さが選べる本格的なカレー屋さんです。\\n*   **白カレーの店 1/f ゆらぎ**： その名の通り、白いカレーが特徴のお店です。\\n\\n他にも、アプサラ、まっちゃんカレー、マイカリー食堂など、様々なカレー店が高田馬場にはあります。ぜひ色々試して、お好みのカレーを見つけてみてください。')], role='model'), grounding_metadata=GroundingMetadata(grounding_chunks=[GroundingChunk(retrieved_context=None, web=GroundingChunkWeb(domain='aumo.jp', title='aumo.jp', uri='https://vertexaisearch.cloud.google.com/grounding-api-redirect/AbF9wXFCvKC8nwJ3kG_6DWa_lnKU3sRdbg6if8UgC8tSe15uBnXrwM4-3kuXm64e5-dIMgn6ANSflh_Ld8zjGX9tGDv8GNyg2pxCXYEc3JpA6VkMzhGvBwevtPqzAg==')), GroundingChunk(retrieved_context=None, web=GroundingChunkWeb(domain='macaro-ni.jp', title='macaro-ni.jp', uri='https://vertexaisearch.cloud.google.com/grounding-api-redirect/AbF9wXFKhKEckgh9x9pRmBZdCbqtVDKyX2enPwH2Nz_RApS3x72vVHVMxY3-GOfR9h32Bvp0a1soDd3jlQh2YZ38928igVXToikkxfEm7PYr5bjYd2XUDEC-')), GroundingChunk(retrieved_context=None, web=GroundingChunkWeb(domain='tabelog.com', title='tabelog.com', uri='https://vertexaisearch.cloud.google.com/grounding-api-redirect/AbF9wXFeUOhG1BomCbtJQgVbqmYQpm0zDR5mnyeYtWXgVy38FlcJxV6eHc4ZFjQ8hAIoZH8b2Hn9D9a9ZVMd6ebOrM5IVXtqf4TfPWMul5olfij20AgRIiZs_Leshh2qFzxWmXL7BjAgZn-okGtPzUEf-A==')), GroundingChunk(retrieved_context=None, web=GroundingChunkWeb(domain='tokyocurrymagazine.com', title='tokyocurrymagazine.com', uri='https://vertexaisearch.cloud.google.com/grounding-api-redirect/AbF9wXGd_YQSeQYJFWUweIOHuCGJpaaW2wM7hzYnpo0R3-CLqyK9-Sz2XqTJJ4vPnD7zglLZPIcl8CMmIr2bT_mygH5GVX9G4ovogzo28S2ui5rIc8GyhJuC_tiaapWBwdmyMsj04m8OTC3dgeTw5Yz3AxXMvRAOKeAelB0VCg==')), GroundingChunk(retrieved_context=None, web=GroundingChunkWeb(domain='retty.me', title='retty.me', uri='https://vertexaisearch.cloud.google.com/grounding-api-redirect/AbF9wXGGFPfZ0IMBtnVjUXS1tCOQAfExyq3QL65VXufw4GYs2pPIRGuqLlH-nR8mwSmjrko_g4dwFqMcOy3aCmY1j7__N0O67zl_I2hvZxY99iwWKpMmlXUzCVVmMO4nZVSLSni2anz2erJXPXYPPArtRXXBen_5')), GroundingChunk(retrieved_context=None, web=GroundingChunkWeb(domain='jalan.net', title='jalan.net', uri='https://vertexaisearch.cloud.google.com/grounding-api-redirect/AbF9wXEtbZqTBrszEV52XFHog2gzGAJzMcSJdvjHJDz29HvfQXrAcWbmWEeRlzQkROBily0apdEzD_F7k8mytoH4km4LWU9bqONxBed5gD6yQHbCWwWzCWHacFTxKQn6S-Y5IY4hMk46Zf1sB010cLuPuPWu')), GroundingChunk(retrieved_context=None, web=GroundingChunkWeb(domain='rtrp.jp', title='rtrp.jp', uri='https://vertexaisearch.cloud.google.com/grounding-api-redirect/AbF9wXGi4iOSWX1mFIWRjWGAX4Yfi3rcPxekydndduCKGxJqGEK3h2pLUHhyTf1yl4pNrE392jNncHcRalZdt29z4X3P8O-voNnT8REbcpnn1pKND9sNwkJMh5Orf-S6MpZfXvz23piWgBLrCQ=='))], grounding_supports=[GroundingSupport(confidence_scores=None, grounding_chunk_indices=[0, 1], segment=Segment(end_index=226, part_index=None, start_index=112, text='高田馬場にはたくさんのカレー屋さんがあり、それぞれに個性があっておすすめです')), GroundingSupport(confidence_scores=None, grounding_chunk_indices=[1], segment=Segment(end_index=402, part_index=None, start_index=306, text='*   **カレーライス専門店ブラザー**： 鯖キーマカレーが人気のお店です')), GroundingSupport(confidence_scores=None, grounding_chunk_indices=[0, 1], segment=Segment(end_index=545, part_index=None, start_index=406, text='*   **横浜ボンベイ 高田馬場店**： ボンベイカレーやカシミールカレーなど、独特なカレーが楽しめます')), GroundingSupport(confidence_scores=None, grounding_chunk_indices=[1, 2], segment=Segment(end_index=639, part_index=None, start_index=549, text='*   **プネウマカレー**： コスパの良いカレーとして知られています')), GroundingSupport(confidence_scores=None, grounding_chunk_indices=[0, 3], segment=Segment(end_index=770, part_index=None, start_index=643, text='*   **エチオピア 高田馬場店**： 野菜カレーが人気で、辛さが選べる本格的なカレー屋さんです')), GroundingSupport(confidence_scores=None, grounding_chunk_indices=[4, 2], segment=Segment(end_index=878, part_index=None, start_index=774, text='*   **白カレーの店 1/f ゆらぎ**： その名の通り、白いカレーが特徴のお店です')), GroundingSupport(confidence_scores=None, grounding_chunk_indices=[4, 1, 5, 6], segment=Segment(end_index=1021, part_index=None, start_index=883, text='他にも、アプサラ、まっちゃんカレー、マイカリー食堂など、様々なカレー店が高田馬場にはあります'))], retrieval_metadata=RetrievalMetadata(google_search_dynamic_retrieval_score=None), retrieval_queries=None, search_entry_point=SearchEntryPoint(rendered_content='<style>\\n.container {\\n  align-items: center;\\n  border-radius: 8px;\\n  display: flex;\\n  font-family: Google Sans, Roboto, sans-serif;\\n  font-size: 14px;\\n  line-height: 20px;\\n  padding: 8px 12px;\\n}\\n.chip {\\n  display: inline-block;\\n  border: solid 1px;\\n  border-radius: 16px;\\n  min-width: 14px;\\n  padding: 5px 16px;\\n  text-align: center;\\n  user-select: none;\\n  margin: 0 8px;\\n  -webkit-tap-highlight-color: transparent;\\n}\\n.carousel {\\n  overflow: auto;\\n  scrollbar-width: none;\\n  white-space: nowrap;\\n  margin-right: -12px;\\n}\\n.headline {\\n  display: flex;\\n  margin-right: 4px;\\n}\\n.gradient-container {\\n  position: relative;\\n}\\n.gradient {\\n  position: absolute;\\n  transform: translate(3px, -9px);\\n  height: 36px;\\n  width: 9px;\\n}\\n@media (prefers-color-scheme: light) {\\n  .container {\\n    background-color: #fafafa;\\n    box-shadow: 0 0 0 1px #0000000f;\\n  }\\n  .headline-label {\\n    color: #1f1f1f;\\n  }\\n  .chip {\\n    background-color: #ffffff;\\n    border-color: #d2d2d2;\\n    color: #5e5e5e;\\n    text-decoration: none;\\n  }\\n  .chip:hover {\\n    background-color: #f2f2f2;\\n  }\\n  .chip:focus {\\n    background-color: #f2f2f2;\\n  }\\n  .chip:active {\\n    background-color: #d8d8d8;\\n    border-color: #b6b6b6;\\n  }\\n  .logo-dark {\\n    display: none;\\n  }\\n  .gradient {\\n    background: linear-gradient(90deg, #fafafa 15%, #fafafa00 100%);\\n  }\\n}\\n@media (prefers-color-scheme: dark) {\\n  .container {\\n    background-color: #1f1f1f;\\n    box-shadow: 0 0 0 1px #ffffff26;\\n  }\\n  .headline-label {\\n    color: #fff;\\n  }\\n  .chip {\\n    background-color: #2c2c2c;\\n    border-color: #3c4043;\\n    color: #fff;\\n    text-decoration: none;\\n  }\\n  .chip:hover {\\n    background-color: #353536;\\n  }\\n  .chip:focus {\\n    background-color: #353536;\\n  }\\n  .chip:active {\\n    background-color: #464849;\\n    border-color: #53575b;\\n  }\\n  .logo-light {\\n    display: none;\\n  }\\n  .gradient {\\n    background: linear-gradient(90deg, #1f1f1f 15%, #1f1f1f00 100%);\\n  }\\n}\\n</style>\\n<div class=\"container\">\\n  <div class=\"headline\">\\n    <svg class=\"logo-light\" width=\"18\" height=\"18\" viewBox=\"9 9 35 35\" fill=\"none\" xmlns=\"http://www.w3.org/2000/svg\">\\n      <path fill-rule=\"evenodd\" clip-rule=\"evenodd\" d=\"M42.8622 27.0064C42.8622 25.7839 42.7525 24.6084 42.5487 23.4799H26.3109V30.1568H35.5897C35.1821 32.3041 33.9596 34.1222 32.1258 35.3448V39.6864H37.7213C40.9814 36.677 42.8622 32.2571 42.8622 27.0064V27.0064Z\" fill=\"#4285F4\"/>\\n      <path fill-rule=\"evenodd\" clip-rule=\"evenodd\" d=\"M26.3109 43.8555C30.9659 43.8555 34.8687 42.3195 37.7213 39.6863L32.1258 35.3447C30.5898 36.3792 28.6306 37.0061 26.3109 37.0061C21.8282 37.0061 18.0195 33.9811 16.6559 29.906H10.9194V34.3573C13.7563 39.9841 19.5712 43.8555 26.3109 43.8555V43.8555Z\" fill=\"#34A853\"/>\\n      <path fill-rule=\"evenodd\" clip-rule=\"evenodd\" d=\"M16.6559 29.8904C16.3111 28.8559 16.1074 27.7588 16.1074 26.6146C16.1074 25.4704 16.3111 24.3733 16.6559 23.3388V18.8875H10.9194C9.74388 21.2072 9.06992 23.8247 9.06992 26.6146C9.06992 29.4045 9.74388 32.022 10.9194 34.3417L15.3864 30.8621L16.6559 29.8904V29.8904Z\" fill=\"#FBBC05\"/>\\n      <path fill-rule=\"evenodd\" clip-rule=\"evenodd\" d=\"M26.3109 16.2386C28.85 16.2386 31.107 17.1164 32.9095 18.8091L37.8466 13.8719C34.853 11.082 30.9659 9.3736 26.3109 9.3736C19.5712 9.3736 13.7563 13.245 10.9194 18.8875L16.6559 23.3388C18.0195 19.2636 21.8282 16.2386 26.3109 16.2386V16.2386Z\" fill=\"#EA4335\"/>\\n    </svg>\\n    <svg class=\"logo-dark\" width=\"18\" height=\"18\" viewBox=\"0 0 48 48\" xmlns=\"http://www.w3.org/2000/svg\">\\n      <circle cx=\"24\" cy=\"23\" fill=\"#FFF\" r=\"22\"/>\\n      <path d=\"M33.76 34.26c2.75-2.56 4.49-6.37 4.49-11.26 0-.89-.08-1.84-.29-3H24.01v5.99h8.03c-.4 2.02-1.5 3.56-3.07 4.56v.75l3.91 2.97h.88z\" fill=\"#4285F4\"/>\\n      <path d=\"M15.58 25.77A8.845 8.845 0 0 0 24 31.86c1.92 0 3.62-.46 4.97-1.31l4.79 3.71C31.14 36.7 27.65 38 24 38c-5.93 0-11.01-3.4-13.45-8.36l.17-1.01 4.06-2.85h.8z\" fill=\"#34A853\"/>\\n      <path d=\"M15.59 20.21a8.864 8.864 0 0 0 0 5.58l-5.03 3.86c-.98-2-1.53-4.25-1.53-6.64 0-2.39.55-4.64 1.53-6.64l1-.22 3.81 2.98.22 1.08z\" fill=\"#FBBC05\"/>\\n      <path d=\"M24 14.14c2.11 0 4.02.75 5.52 1.98l4.36-4.36C31.22 9.43 27.81 8 24 8c-5.93 0-11.01 3.4-13.45 8.36l5.03 3.85A8.86 8.86 0 0 1 24 14.14z\" fill=\"#EA4335\"/>\\n    </svg>\\n    <div class=\"gradient-container\"><div class=\"gradient\"></div></div>\\n  </div>\\n  <div class=\"carousel\">\\n    <a class=\"chip\" href=\"https://vertexaisearch.cloud.google.com/grounding-api-redirect/AbF9wXG-AJZ0K0MSsK-Y30sM4yG5jA9XvvYuiWWD6yepEI8QL5_bn6f-O4VnPStc8aP0zM2rnuyhDe2vyHzYFl6AcmKLULi3MVlUfcEuYno9uL7ZUPmfLSiIK6Hq7EsWAfMxzjSDdDOLgVhc1j0-_XRB86vaxWiqtbIQ3xYHg5Ni_PWuVG8MG7kBmU_k-epqO_AdCNzMux9Vo0XWsT20P2ZKTxWigyp6sQSmXDdKZ9a3i2W40AKqWksU5Md-ttC2SaxU6rFVdFbAJGlEqP0x4XMtVZlbkEWoATtzTP32AjWuRVOcauGC_eM9aBkGKNCsU2yLwhR6EQ==\">高田馬場 カレー 美味しい店</a>\\n    <a class=\"chip\" href=\"https://vertexaisearch.cloud.google.com/grounding-api-redirect/AbF9wXFadJ655uKNYVZ6NdXO2eyEwhsRhXtDZIbFUTgZS1GoPD_5Pnwk_JRiURIuSaW3N7Tf561RcAL3GqO6hmunQulIYs8DVPXADujE2Nhd0w_MXoQZDvi1NVePuaGmh9jDAUUd1r5JUw6LJAV8ulSvcWoePYFeqh2Lyfp6KclEKOSgYX3QYdB61u64VE6t3XGiJbrG0auMfcDvGGpGuB8B9DpkElV8omJaGPNzYd9Ec1LhN6J7_6nDM7ERIDaZIPiv2t1YsLvOe07SvrC515v6UJIL-0M0gZcm3GY_y2KScFniVnqbHpPOQV--xw==\">高田馬場 おすすめ カレー</a>\\n    <a class=\"chip\" href=\"https://vertexaisearch.cloud.google.com/grounding-api-redirect/AbF9wXH9QWBWhZwrSHVnKnwcbc-g76O4Iu3Xdyyz3wQJn4sKDHA6HGjwALe3FR0K1Ci6VpRaMzB2UdQ7hlPBRLupSWLVHwknHqiDv_BjeX3oGpEDh-WcmfyBSYG8JqpzwFcVqsoal9muaxIvEgM3AX-jPzn8oFWqj7CgUxBDvyl7LhefVKp-9L2iJbgKon5s_bcswCEmpohEMxSG3NzxFfJIfdGJjHWDZztj38jKXgxN_EzBMLmdChWZsOq1NSs-Qt84Wu4ZiqX6shQspb57uFN-rJsyQtznqffJTQ==\">高田馬場 カレー 人気</a>\\n  </div>\\n</div>\\n', sdk_blob=None), web_search_queries=['高田馬場 カレー 人気', '高田馬場 おすすめ カレー', '高田馬場 カレー 美味しい店']), partial=None, turn_complete=None, error_code=None, error_message=None, interrupted=None, custom_metadata=None, invocation_id='e-5f48e9d1-08a8-47b2-8830-2e277a22a7d5', author='search_agent', actions=EventActions(skip_summarization=None, state_delta={}, artifact_delta={}, transfer_to_agent=None, escalate=None, requested_auth_configs={}), long_running_tool_ids=None, branch=None, id='O8IvuQ5O', timestamp=1747344623.651104)], last_update_time=1747344623.651104)"
      ]
     },
     "execution_count": 25,
     "metadata": {},
     "output_type": "execute_result"
    }
   ],
   "source": [
    "session = client._runner.session_service.get_session(\n",
    "    app_name = app_name,\n",
    "    user_id = user_id,\n",
    "    session_id = session_id,\n",
    ")\n",
    "\n",
    "session"
   ]
  },
  {
   "cell_type": "code",
   "execution_count": 26,
   "id": "fec8f046-e2d0-4b02-ac0d-a4f848bf1f00",
   "metadata": {
    "tags": []
   },
   "outputs": [
    {
     "name": "stdout",
     "output_type": "stream",
     "text": [
      "2025-05-15 21:30:23.650590 user\n",
      "2025-05-15 21:30:23.651104 search_agent\n"
     ]
    }
   ],
   "source": [
    "def format_timestamp(ts):\n",
    "    return datetime.datetime.fromtimestamp(ts).strftime('%Y-%m-%d %H:%M:%S.%f')\n",
    "\n",
    "for event in session.events:\n",
    "    print(format_timestamp(event.timestamp), event.author)"
   ]
  },
  {
   "cell_type": "markdown",
   "id": "1ee87ca8-6cbe-4aad-a0ec-8bae7a2405ba",
   "metadata": {},
   "source": [
    "続けて質問すると、セッション情報を踏まえた回答が得られます。"
   ]
  },
  {
   "cell_type": "code",
   "execution_count": 27,
   "id": "490a39f2-3da9-49a6-bba2-530de530919b",
   "metadata": {
    "tags": []
   },
   "outputs": [
    {
     "name": "stdout",
     "output_type": "stream",
     "text": [
      " 家族連れにおすすめのカレー店としては、以下の点が考慮されるかと思います。\n",
      "\n",
      "*   **プネウマカレー**：子供向けのサイズ展開があり、小盛もあるため、子供とシェアしやすいです。離乳食の持ち込みも可能で、土曜日には子供連れも来店するそうです。ただし、カウンター席のみなので、ある程度1人で座れる子供に向いています。テイクアウトも可能なので、家でゆっくり食べることもできます。\n",
      "*   **アプサラ**：子供連れも歓迎しており、バナナリーフ包みカレーは混ぜて食べるのが子供の頃のカレーを思い出すという口コミもあります。\n",
      "*   **フードウェイ 高田馬場店**：家族連れの利用が多く、子供も楽しめる雰囲気です。\n",
      "*   **大戸屋ごはん処 高田馬場駅前店**：お子様野菜カレーがあり、小学生以下のお子様のみ注文できます。\n",
      "\n",
      "食べログなどのグルメサイトでは、子連れで利用しやすいカレー店が多数紹介されています。これらのサイトを参考に、席の種類（テーブル席、ソファ席など）、子供向けメニューの有無、アレルギー対応などを考慮して選ぶと良いでしょう。\n"
     ]
    }
   ],
   "source": [
    "query = '''\n",
    "特に家族連れにおすすめなのは？\n",
    "'''\n",
    "_ = await client.stream(query)"
   ]
  },
  {
   "cell_type": "markdown",
   "id": "adb7736d-f47d-4f07-bd3a-9a14e938213f",
   "metadata": {},
   "source": [
    "先ほどと同様にセッションに記録されたイベントを確認すると、新しい質問と回答のイベントが追加されています。"
   ]
  },
  {
   "cell_type": "code",
   "execution_count": 28,
   "id": "eb02055d-2920-49ea-9f21-ad1995e97e6e",
   "metadata": {
    "tags": []
   },
   "outputs": [
    {
     "data": {
      "text/plain": [
       "Session(id='9888fd325f424ca7972e04235037b4a7', app_name='Search Agent App', user_id='user00', state={}, events=[Event(content=UserContent(parts=[Part(video_metadata=None, thought=None, inline_data=None, code_execution_result=None, executable_code=None, file_data=None, function_call=None, function_response=None, text='\\n高田馬場のおすすめのカレー屋は？\\n')], role='user'), grounding_metadata=None, partial=None, turn_complete=None, error_code=None, error_message=None, interrupted=None, custom_metadata=None, invocation_id='e-5f48e9d1-08a8-47b2-8830-2e277a22a7d5', author='user', actions=EventActions(skip_summarization=None, state_delta={}, artifact_delta={}, transfer_to_agent=None, escalate=None, requested_auth_configs={}), long_running_tool_ids=None, branch=None, id='05DJgw0i', timestamp=1747344623.65059), Event(content=Content(parts=[Part(video_metadata=None, thought=None, inline_data=None, code_execution_result=None, executable_code=None, file_data=None, function_call=None, function_response=None, text=' 高田馬場でおすすめのカレー屋はたくさんありますが、いくつかご紹介します。\\n\\n'), Part(video_metadata=None, thought=None, inline_data=None, code_execution_result=None, executable_code=None, file_data=None, function_call=None, function_response=None, text=' 高田馬場にはたくさんのカレー屋さんがあり、それぞれに個性があっておすすめです。主なカレー店としては、以下のようなお店があります。\\n\\n*   **カレーライス専門店ブラザー**： 鯖キーマカレーが人気のお店です。\\n*   **横浜ボンベイ 高田馬場店**： ボンベイカレーやカシミールカレーなど、独特なカレーが楽しめます。\\n*   **プネウマカレー**： コスパの良いカレーとして知られています。\\n*   **エチオピア 高田馬場店**： 野菜カレーが人気で、辛さが選べる本格的なカレー屋さんです。\\n*   **白カレーの店 1/f ゆらぎ**： その名の通り、白いカレーが特徴のお店です。\\n\\n他にも、アプサラ、まっちゃんカレー、マイカリー食堂など、様々なカレー店が高田馬場にはあります。ぜひ色々試して、お好みのカレーを見つけてみてください。')], role='model'), grounding_metadata=GroundingMetadata(grounding_chunks=[GroundingChunk(retrieved_context=None, web=GroundingChunkWeb(domain='aumo.jp', title='aumo.jp', uri='https://vertexaisearch.cloud.google.com/grounding-api-redirect/AbF9wXFCvKC8nwJ3kG_6DWa_lnKU3sRdbg6if8UgC8tSe15uBnXrwM4-3kuXm64e5-dIMgn6ANSflh_Ld8zjGX9tGDv8GNyg2pxCXYEc3JpA6VkMzhGvBwevtPqzAg==')), GroundingChunk(retrieved_context=None, web=GroundingChunkWeb(domain='macaro-ni.jp', title='macaro-ni.jp', uri='https://vertexaisearch.cloud.google.com/grounding-api-redirect/AbF9wXFKhKEckgh9x9pRmBZdCbqtVDKyX2enPwH2Nz_RApS3x72vVHVMxY3-GOfR9h32Bvp0a1soDd3jlQh2YZ38928igVXToikkxfEm7PYr5bjYd2XUDEC-')), GroundingChunk(retrieved_context=None, web=GroundingChunkWeb(domain='tabelog.com', title='tabelog.com', uri='https://vertexaisearch.cloud.google.com/grounding-api-redirect/AbF9wXFeUOhG1BomCbtJQgVbqmYQpm0zDR5mnyeYtWXgVy38FlcJxV6eHc4ZFjQ8hAIoZH8b2Hn9D9a9ZVMd6ebOrM5IVXtqf4TfPWMul5olfij20AgRIiZs_Leshh2qFzxWmXL7BjAgZn-okGtPzUEf-A==')), GroundingChunk(retrieved_context=None, web=GroundingChunkWeb(domain='tokyocurrymagazine.com', title='tokyocurrymagazine.com', uri='https://vertexaisearch.cloud.google.com/grounding-api-redirect/AbF9wXGd_YQSeQYJFWUweIOHuCGJpaaW2wM7hzYnpo0R3-CLqyK9-Sz2XqTJJ4vPnD7zglLZPIcl8CMmIr2bT_mygH5GVX9G4ovogzo28S2ui5rIc8GyhJuC_tiaapWBwdmyMsj04m8OTC3dgeTw5Yz3AxXMvRAOKeAelB0VCg==')), GroundingChunk(retrieved_context=None, web=GroundingChunkWeb(domain='retty.me', title='retty.me', uri='https://vertexaisearch.cloud.google.com/grounding-api-redirect/AbF9wXGGFPfZ0IMBtnVjUXS1tCOQAfExyq3QL65VXufw4GYs2pPIRGuqLlH-nR8mwSmjrko_g4dwFqMcOy3aCmY1j7__N0O67zl_I2hvZxY99iwWKpMmlXUzCVVmMO4nZVSLSni2anz2erJXPXYPPArtRXXBen_5')), GroundingChunk(retrieved_context=None, web=GroundingChunkWeb(domain='jalan.net', title='jalan.net', uri='https://vertexaisearch.cloud.google.com/grounding-api-redirect/AbF9wXEtbZqTBrszEV52XFHog2gzGAJzMcSJdvjHJDz29HvfQXrAcWbmWEeRlzQkROBily0apdEzD_F7k8mytoH4km4LWU9bqONxBed5gD6yQHbCWwWzCWHacFTxKQn6S-Y5IY4hMk46Zf1sB010cLuPuPWu')), GroundingChunk(retrieved_context=None, web=GroundingChunkWeb(domain='rtrp.jp', title='rtrp.jp', uri='https://vertexaisearch.cloud.google.com/grounding-api-redirect/AbF9wXGi4iOSWX1mFIWRjWGAX4Yfi3rcPxekydndduCKGxJqGEK3h2pLUHhyTf1yl4pNrE392jNncHcRalZdt29z4X3P8O-voNnT8REbcpnn1pKND9sNwkJMh5Orf-S6MpZfXvz23piWgBLrCQ=='))], grounding_supports=[GroundingSupport(confidence_scores=None, grounding_chunk_indices=[0, 1], segment=Segment(end_index=226, part_index=None, start_index=112, text='高田馬場にはたくさんのカレー屋さんがあり、それぞれに個性があっておすすめです')), GroundingSupport(confidence_scores=None, grounding_chunk_indices=[1], segment=Segment(end_index=402, part_index=None, start_index=306, text='*   **カレーライス専門店ブラザー**： 鯖キーマカレーが人気のお店です')), GroundingSupport(confidence_scores=None, grounding_chunk_indices=[0, 1], segment=Segment(end_index=545, part_index=None, start_index=406, text='*   **横浜ボンベイ 高田馬場店**： ボンベイカレーやカシミールカレーなど、独特なカレーが楽しめます')), GroundingSupport(confidence_scores=None, grounding_chunk_indices=[1, 2], segment=Segment(end_index=639, part_index=None, start_index=549, text='*   **プネウマカレー**： コスパの良いカレーとして知られています')), GroundingSupport(confidence_scores=None, grounding_chunk_indices=[0, 3], segment=Segment(end_index=770, part_index=None, start_index=643, text='*   **エチオピア 高田馬場店**： 野菜カレーが人気で、辛さが選べる本格的なカレー屋さんです')), GroundingSupport(confidence_scores=None, grounding_chunk_indices=[4, 2], segment=Segment(end_index=878, part_index=None, start_index=774, text='*   **白カレーの店 1/f ゆらぎ**： その名の通り、白いカレーが特徴のお店です')), GroundingSupport(confidence_scores=None, grounding_chunk_indices=[4, 1, 5, 6], segment=Segment(end_index=1021, part_index=None, start_index=883, text='他にも、アプサラ、まっちゃんカレー、マイカリー食堂など、様々なカレー店が高田馬場にはあります'))], retrieval_metadata=RetrievalMetadata(google_search_dynamic_retrieval_score=None), retrieval_queries=None, search_entry_point=SearchEntryPoint(rendered_content='<style>\\n.container {\\n  align-items: center;\\n  border-radius: 8px;\\n  display: flex;\\n  font-family: Google Sans, Roboto, sans-serif;\\n  font-size: 14px;\\n  line-height: 20px;\\n  padding: 8px 12px;\\n}\\n.chip {\\n  display: inline-block;\\n  border: solid 1px;\\n  border-radius: 16px;\\n  min-width: 14px;\\n  padding: 5px 16px;\\n  text-align: center;\\n  user-select: none;\\n  margin: 0 8px;\\n  -webkit-tap-highlight-color: transparent;\\n}\\n.carousel {\\n  overflow: auto;\\n  scrollbar-width: none;\\n  white-space: nowrap;\\n  margin-right: -12px;\\n}\\n.headline {\\n  display: flex;\\n  margin-right: 4px;\\n}\\n.gradient-container {\\n  position: relative;\\n}\\n.gradient {\\n  position: absolute;\\n  transform: translate(3px, -9px);\\n  height: 36px;\\n  width: 9px;\\n}\\n@media (prefers-color-scheme: light) {\\n  .container {\\n    background-color: #fafafa;\\n    box-shadow: 0 0 0 1px #0000000f;\\n  }\\n  .headline-label {\\n    color: #1f1f1f;\\n  }\\n  .chip {\\n    background-color: #ffffff;\\n    border-color: #d2d2d2;\\n    color: #5e5e5e;\\n    text-decoration: none;\\n  }\\n  .chip:hover {\\n    background-color: #f2f2f2;\\n  }\\n  .chip:focus {\\n    background-color: #f2f2f2;\\n  }\\n  .chip:active {\\n    background-color: #d8d8d8;\\n    border-color: #b6b6b6;\\n  }\\n  .logo-dark {\\n    display: none;\\n  }\\n  .gradient {\\n    background: linear-gradient(90deg, #fafafa 15%, #fafafa00 100%);\\n  }\\n}\\n@media (prefers-color-scheme: dark) {\\n  .container {\\n    background-color: #1f1f1f;\\n    box-shadow: 0 0 0 1px #ffffff26;\\n  }\\n  .headline-label {\\n    color: #fff;\\n  }\\n  .chip {\\n    background-color: #2c2c2c;\\n    border-color: #3c4043;\\n    color: #fff;\\n    text-decoration: none;\\n  }\\n  .chip:hover {\\n    background-color: #353536;\\n  }\\n  .chip:focus {\\n    background-color: #353536;\\n  }\\n  .chip:active {\\n    background-color: #464849;\\n    border-color: #53575b;\\n  }\\n  .logo-light {\\n    display: none;\\n  }\\n  .gradient {\\n    background: linear-gradient(90deg, #1f1f1f 15%, #1f1f1f00 100%);\\n  }\\n}\\n</style>\\n<div class=\"container\">\\n  <div class=\"headline\">\\n    <svg class=\"logo-light\" width=\"18\" height=\"18\" viewBox=\"9 9 35 35\" fill=\"none\" xmlns=\"http://www.w3.org/2000/svg\">\\n      <path fill-rule=\"evenodd\" clip-rule=\"evenodd\" d=\"M42.8622 27.0064C42.8622 25.7839 42.7525 24.6084 42.5487 23.4799H26.3109V30.1568H35.5897C35.1821 32.3041 33.9596 34.1222 32.1258 35.3448V39.6864H37.7213C40.9814 36.677 42.8622 32.2571 42.8622 27.0064V27.0064Z\" fill=\"#4285F4\"/>\\n      <path fill-rule=\"evenodd\" clip-rule=\"evenodd\" d=\"M26.3109 43.8555C30.9659 43.8555 34.8687 42.3195 37.7213 39.6863L32.1258 35.3447C30.5898 36.3792 28.6306 37.0061 26.3109 37.0061C21.8282 37.0061 18.0195 33.9811 16.6559 29.906H10.9194V34.3573C13.7563 39.9841 19.5712 43.8555 26.3109 43.8555V43.8555Z\" fill=\"#34A853\"/>\\n      <path fill-rule=\"evenodd\" clip-rule=\"evenodd\" d=\"M16.6559 29.8904C16.3111 28.8559 16.1074 27.7588 16.1074 26.6146C16.1074 25.4704 16.3111 24.3733 16.6559 23.3388V18.8875H10.9194C9.74388 21.2072 9.06992 23.8247 9.06992 26.6146C9.06992 29.4045 9.74388 32.022 10.9194 34.3417L15.3864 30.8621L16.6559 29.8904V29.8904Z\" fill=\"#FBBC05\"/>\\n      <path fill-rule=\"evenodd\" clip-rule=\"evenodd\" d=\"M26.3109 16.2386C28.85 16.2386 31.107 17.1164 32.9095 18.8091L37.8466 13.8719C34.853 11.082 30.9659 9.3736 26.3109 9.3736C19.5712 9.3736 13.7563 13.245 10.9194 18.8875L16.6559 23.3388C18.0195 19.2636 21.8282 16.2386 26.3109 16.2386V16.2386Z\" fill=\"#EA4335\"/>\\n    </svg>\\n    <svg class=\"logo-dark\" width=\"18\" height=\"18\" viewBox=\"0 0 48 48\" xmlns=\"http://www.w3.org/2000/svg\">\\n      <circle cx=\"24\" cy=\"23\" fill=\"#FFF\" r=\"22\"/>\\n      <path d=\"M33.76 34.26c2.75-2.56 4.49-6.37 4.49-11.26 0-.89-.08-1.84-.29-3H24.01v5.99h8.03c-.4 2.02-1.5 3.56-3.07 4.56v.75l3.91 2.97h.88z\" fill=\"#4285F4\"/>\\n      <path d=\"M15.58 25.77A8.845 8.845 0 0 0 24 31.86c1.92 0 3.62-.46 4.97-1.31l4.79 3.71C31.14 36.7 27.65 38 24 38c-5.93 0-11.01-3.4-13.45-8.36l.17-1.01 4.06-2.85h.8z\" fill=\"#34A853\"/>\\n      <path d=\"M15.59 20.21a8.864 8.864 0 0 0 0 5.58l-5.03 3.86c-.98-2-1.53-4.25-1.53-6.64 0-2.39.55-4.64 1.53-6.64l1-.22 3.81 2.98.22 1.08z\" fill=\"#FBBC05\"/>\\n      <path d=\"M24 14.14c2.11 0 4.02.75 5.52 1.98l4.36-4.36C31.22 9.43 27.81 8 24 8c-5.93 0-11.01 3.4-13.45 8.36l5.03 3.85A8.86 8.86 0 0 1 24 14.14z\" fill=\"#EA4335\"/>\\n    </svg>\\n    <div class=\"gradient-container\"><div class=\"gradient\"></div></div>\\n  </div>\\n  <div class=\"carousel\">\\n    <a class=\"chip\" href=\"https://vertexaisearch.cloud.google.com/grounding-api-redirect/AbF9wXG-AJZ0K0MSsK-Y30sM4yG5jA9XvvYuiWWD6yepEI8QL5_bn6f-O4VnPStc8aP0zM2rnuyhDe2vyHzYFl6AcmKLULi3MVlUfcEuYno9uL7ZUPmfLSiIK6Hq7EsWAfMxzjSDdDOLgVhc1j0-_XRB86vaxWiqtbIQ3xYHg5Ni_PWuVG8MG7kBmU_k-epqO_AdCNzMux9Vo0XWsT20P2ZKTxWigyp6sQSmXDdKZ9a3i2W40AKqWksU5Md-ttC2SaxU6rFVdFbAJGlEqP0x4XMtVZlbkEWoATtzTP32AjWuRVOcauGC_eM9aBkGKNCsU2yLwhR6EQ==\">高田馬場 カレー 美味しい店</a>\\n    <a class=\"chip\" href=\"https://vertexaisearch.cloud.google.com/grounding-api-redirect/AbF9wXFadJ655uKNYVZ6NdXO2eyEwhsRhXtDZIbFUTgZS1GoPD_5Pnwk_JRiURIuSaW3N7Tf561RcAL3GqO6hmunQulIYs8DVPXADujE2Nhd0w_MXoQZDvi1NVePuaGmh9jDAUUd1r5JUw6LJAV8ulSvcWoePYFeqh2Lyfp6KclEKOSgYX3QYdB61u64VE6t3XGiJbrG0auMfcDvGGpGuB8B9DpkElV8omJaGPNzYd9Ec1LhN6J7_6nDM7ERIDaZIPiv2t1YsLvOe07SvrC515v6UJIL-0M0gZcm3GY_y2KScFniVnqbHpPOQV--xw==\">高田馬場 おすすめ カレー</a>\\n    <a class=\"chip\" href=\"https://vertexaisearch.cloud.google.com/grounding-api-redirect/AbF9wXH9QWBWhZwrSHVnKnwcbc-g76O4Iu3Xdyyz3wQJn4sKDHA6HGjwALe3FR0K1Ci6VpRaMzB2UdQ7hlPBRLupSWLVHwknHqiDv_BjeX3oGpEDh-WcmfyBSYG8JqpzwFcVqsoal9muaxIvEgM3AX-jPzn8oFWqj7CgUxBDvyl7LhefVKp-9L2iJbgKon5s_bcswCEmpohEMxSG3NzxFfJIfdGJjHWDZztj38jKXgxN_EzBMLmdChWZsOq1NSs-Qt84Wu4ZiqX6shQspb57uFN-rJsyQtznqffJTQ==\">高田馬場 カレー 人気</a>\\n  </div>\\n</div>\\n', sdk_blob=None), web_search_queries=['高田馬場 カレー 人気', '高田馬場 おすすめ カレー', '高田馬場 カレー 美味しい店']), partial=None, turn_complete=None, error_code=None, error_message=None, interrupted=None, custom_metadata=None, invocation_id='e-5f48e9d1-08a8-47b2-8830-2e277a22a7d5', author='search_agent', actions=EventActions(skip_summarization=None, state_delta={}, artifact_delta={}, transfer_to_agent=None, escalate=None, requested_auth_configs={}), long_running_tool_ids=None, branch=None, id='O8IvuQ5O', timestamp=1747344623.651104), Event(content=UserContent(parts=[Part(video_metadata=None, thought=None, inline_data=None, code_execution_result=None, executable_code=None, file_data=None, function_call=None, function_response=None, text='\\n特に家族連れにおすすめなのは？\\n')], role='user'), grounding_metadata=None, partial=None, turn_complete=None, error_code=None, error_message=None, interrupted=None, custom_metadata=None, invocation_id='e-6de3c390-bc9b-420f-bf14-e248be6f336e', author='user', actions=EventActions(skip_summarization=None, state_delta={}, artifact_delta={}, transfer_to_agent=None, escalate=None, requested_auth_configs={}), long_running_tool_ids=None, branch=None, id='mb1hfxbw', timestamp=1747344649.771242), Event(content=Content(parts=[Part(video_metadata=None, thought=None, inline_data=None, code_execution_result=None, executable_code=None, file_data=None, function_call=None, function_response=None, text=' 家族連れにおすすめのカレー店としては、以下の点が考慮されるかと思います。\\n\\n*   **プネウマカレー**：子供向けのサイズ展開があり、小盛もあるため、子供とシェアしやすいです。離乳食の持ち込みも可能で、土曜日には子供連れも来店するそうです。ただし、カウンター席のみなので、ある程度1人で座れる子供に向いています。テイクアウトも可能なので、家でゆっくり食べることもできます。\\n*   **アプサラ**：子供連れも歓迎しており、バナナリーフ包みカレーは混ぜて食べるのが子供の頃のカレーを思い出すという口コミもあります。\\n*   **フードウェイ 高田馬場店**：家族連れの利用が多く、子供も楽しめる雰囲気です。\\n*   **大戸屋ごはん処 高田馬場駅前店**：お子様野菜カレーがあり、小学生以下のお子様のみ注文できます。\\n\\n食べログなどのグルメサイトでは、子連れで利用しやすいカレー店が多数紹介されています。これらのサイトを参考に、席の種類（テーブル席、ソファ席など）、子供向けメニューの有無、アレルギー対応などを考慮して選ぶと良いでしょう。')], role='model'), grounding_metadata=GroundingMetadata(grounding_chunks=[GroundingChunk(retrieved_context=None, web=GroundingChunkWeb(domain='mamaco.jp', title='mamaco.jp', uri='https://vertexaisearch.cloud.google.com/grounding-api-redirect/AbF9wXH3hKanG3SFHGeddwDRNXoQ743MRD_ubGoWBt-eubSNFA6p5wG_oDoiAUXB-FbdnhAcNlhk8IrGUnKEF99UwvZbxlGwMNEjrouAl0MVoMCkMce66HprSYIn5WlR1U8=')), GroundingChunk(retrieved_context=None, web=GroundingChunkWeb(domain='tabelog.com', title='tabelog.com', uri='https://vertexaisearch.cloud.google.com/grounding-api-redirect/AbF9wXGUM2VaA5IphSo_RX8a-BBkS8OJoKhuKL1dnWjqhimuKvTJeVeNMOiGYpm5x159i-7RlGtPXxtFVCyKnMTZ45Jl1rtRk8NJyMqLvx-dUNkb6lNjnupPiaPxSOyDHWk8nDVEAEMKS9Dg5Dwv9RwMhyXhfhoXzeGEpjb2i-DoQNA=')), GroundingChunk(retrieved_context=None, web=GroundingChunkWeb(domain='tabelog.com', title='tabelog.com', uri='https://vertexaisearch.cloud.google.com/grounding-api-redirect/AbF9wXHZhI7Y65woI0cKmD0HzxIvAvVeHUSRN-qSunkNebztB490FmmZP2KphcwfhVBUDLm8HhRkDxIFDdkjckIb0Oud65u55qOe5Ugzskg7C708rG1CM_QGUYHjIcX-K4gEGI3N16RWW6faVT9REGi5Pev6L-bk2ftsG6x89q5xhQ==')), GroundingChunk(retrieved_context=None, web=GroundingChunkWeb(domain='ameblo.jp', title='ameblo.jp', uri='https://vertexaisearch.cloud.google.com/grounding-api-redirect/AbF9wXHL8CqgTi6evFjIEtqXDqiYZlFuyC1-KiEQcWXRwdQ21POl-gZh0W9TlPLAHXOc86KoR8JB7z1bljLBXIUvxaE8kqC-ceoUFAqPxafJpuOPQNuh32TWHm4kwI_yup1aUVs0ur3v4M-HYXfDGR3w2SLS')), GroundingChunk(retrieved_context=None, web=GroundingChunkWeb(domain='hotpepper.jp', title='hotpepper.jp', uri='https://vertexaisearch.cloud.google.com/grounding-api-redirect/AbF9wXEn32rkrWK-XPOVSTQdz1wn7kmwYaGhWNLnHq5RwX6WwS3_BN9H2QPttoCLjYhrZOQBMItYXzlsxXV4osDp3kGDwF77Dsvjdr8L3CZvGYqihQ3h943Kt1BT15j4kLZ9slELHQ==')), GroundingChunk(retrieved_context=None, web=GroundingChunkWeb(domain='ootoya.com', title='ootoya.com', uri='https://vertexaisearch.cloud.google.com/grounding-api-redirect/AbF9wXE8iV3Y6g0jyPX7gvXtJ20T-Sj-yzxMyraNEh1ETuTEE_0AZo3CH-ib097rDTvvug4uu3haVVYtgOa_-XieLTDsAvtKrfigAraGMO74E_sHhsYVIBJSf1uzPKqLslDmS49ZiwY97-wspYQ='))], grounding_supports=[GroundingSupport(confidence_scores=None, grounding_chunk_indices=[0], segment=Segment(end_index=245, part_index=None, start_index=111, text='*   **プネウマカレー**：子供向けのサイズ展開があり、小盛もあるため、子供とシェアしやすいです')), GroundingSupport(confidence_scores=None, grounding_chunk_indices=[0], segment=Segment(end_index=341, part_index=None, start_index=248, text='離乳食の持ち込みも可能で、土曜日には子供連れも来店するそうです')), GroundingSupport(confidence_scores=None, grounding_chunk_indices=[0], segment=Segment(end_index=447, part_index=None, start_index=344, text='ただし、カウンター席のみなので、ある程度1人で座れる子供に向いています')), GroundingSupport(confidence_scores=None, grounding_chunk_indices=[0], segment=Segment(end_index=537, part_index=None, start_index=450, text='テイクアウトも可能なので、家でゆっくり食べることもできます')), GroundingSupport(confidence_scores=None, grounding_chunk_indices=[1, 2], segment=Segment(end_index=597, part_index=None, start_index=541, text='*   **アプサラ**：子供連れも歓迎しており')), GroundingSupport(confidence_scores=None, grounding_chunk_indices=[3], segment=Segment(end_index=732, part_index=None, start_index=597, text='、バナナリーフ包みカレーは混ぜて食べるのが子供の頃のカレーを思い出すという口コミもあります')), GroundingSupport(confidence_scores=None, grounding_chunk_indices=[4], segment=Segment(end_index=850, part_index=None, start_index=736, text='*   **フードウェイ 高田馬場店**：家族連れの利用が多く、子供も楽しめる雰囲気です')), GroundingSupport(confidence_scores=None, grounding_chunk_indices=[5], segment=Segment(end_index=995, part_index=None, start_index=854, text='*   **大戸屋ごはん処 高田馬場駅前店**：お子様野菜カレーがあり、小学生以下のお子様のみ注文できます')), GroundingSupport(confidence_scores=None, grounding_chunk_indices=[1, 2], segment=Segment(end_index=1123, part_index=None, start_index=1000, text='食べログなどのグルメサイトでは、子連れで利用しやすいカレー店が多数紹介されています'))], retrieval_metadata=RetrievalMetadata(google_search_dynamic_retrieval_score=None), retrieval_queries=None, search_entry_point=SearchEntryPoint(rendered_content='<style>\\n.container {\\n  align-items: center;\\n  border-radius: 8px;\\n  display: flex;\\n  font-family: Google Sans, Roboto, sans-serif;\\n  font-size: 14px;\\n  line-height: 20px;\\n  padding: 8px 12px;\\n}\\n.chip {\\n  display: inline-block;\\n  border: solid 1px;\\n  border-radius: 16px;\\n  min-width: 14px;\\n  padding: 5px 16px;\\n  text-align: center;\\n  user-select: none;\\n  margin: 0 8px;\\n  -webkit-tap-highlight-color: transparent;\\n}\\n.carousel {\\n  overflow: auto;\\n  scrollbar-width: none;\\n  white-space: nowrap;\\n  margin-right: -12px;\\n}\\n.headline {\\n  display: flex;\\n  margin-right: 4px;\\n}\\n.gradient-container {\\n  position: relative;\\n}\\n.gradient {\\n  position: absolute;\\n  transform: translate(3px, -9px);\\n  height: 36px;\\n  width: 9px;\\n}\\n@media (prefers-color-scheme: light) {\\n  .container {\\n    background-color: #fafafa;\\n    box-shadow: 0 0 0 1px #0000000f;\\n  }\\n  .headline-label {\\n    color: #1f1f1f;\\n  }\\n  .chip {\\n    background-color: #ffffff;\\n    border-color: #d2d2d2;\\n    color: #5e5e5e;\\n    text-decoration: none;\\n  }\\n  .chip:hover {\\n    background-color: #f2f2f2;\\n  }\\n  .chip:focus {\\n    background-color: #f2f2f2;\\n  }\\n  .chip:active {\\n    background-color: #d8d8d8;\\n    border-color: #b6b6b6;\\n  }\\n  .logo-dark {\\n    display: none;\\n  }\\n  .gradient {\\n    background: linear-gradient(90deg, #fafafa 15%, #fafafa00 100%);\\n  }\\n}\\n@media (prefers-color-scheme: dark) {\\n  .container {\\n    background-color: #1f1f1f;\\n    box-shadow: 0 0 0 1px #ffffff26;\\n  }\\n  .headline-label {\\n    color: #fff;\\n  }\\n  .chip {\\n    background-color: #2c2c2c;\\n    border-color: #3c4043;\\n    color: #fff;\\n    text-decoration: none;\\n  }\\n  .chip:hover {\\n    background-color: #353536;\\n  }\\n  .chip:focus {\\n    background-color: #353536;\\n  }\\n  .chip:active {\\n    background-color: #464849;\\n    border-color: #53575b;\\n  }\\n  .logo-light {\\n    display: none;\\n  }\\n  .gradient {\\n    background: linear-gradient(90deg, #1f1f1f 15%, #1f1f1f00 100%);\\n  }\\n}\\n</style>\\n<div class=\"container\">\\n  <div class=\"headline\">\\n    <svg class=\"logo-light\" width=\"18\" height=\"18\" viewBox=\"9 9 35 35\" fill=\"none\" xmlns=\"http://www.w3.org/2000/svg\">\\n      <path fill-rule=\"evenodd\" clip-rule=\"evenodd\" d=\"M42.8622 27.0064C42.8622 25.7839 42.7525 24.6084 42.5487 23.4799H26.3109V30.1568H35.5897C35.1821 32.3041 33.9596 34.1222 32.1258 35.3448V39.6864H37.7213C40.9814 36.677 42.8622 32.2571 42.8622 27.0064V27.0064Z\" fill=\"#4285F4\"/>\\n      <path fill-rule=\"evenodd\" clip-rule=\"evenodd\" d=\"M26.3109 43.8555C30.9659 43.8555 34.8687 42.3195 37.7213 39.6863L32.1258 35.3447C30.5898 36.3792 28.6306 37.0061 26.3109 37.0061C21.8282 37.0061 18.0195 33.9811 16.6559 29.906H10.9194V34.3573C13.7563 39.9841 19.5712 43.8555 26.3109 43.8555V43.8555Z\" fill=\"#34A853\"/>\\n      <path fill-rule=\"evenodd\" clip-rule=\"evenodd\" d=\"M16.6559 29.8904C16.3111 28.8559 16.1074 27.7588 16.1074 26.6146C16.1074 25.4704 16.3111 24.3733 16.6559 23.3388V18.8875H10.9194C9.74388 21.2072 9.06992 23.8247 9.06992 26.6146C9.06992 29.4045 9.74388 32.022 10.9194 34.3417L15.3864 30.8621L16.6559 29.8904V29.8904Z\" fill=\"#FBBC05\"/>\\n      <path fill-rule=\"evenodd\" clip-rule=\"evenodd\" d=\"M26.3109 16.2386C28.85 16.2386 31.107 17.1164 32.9095 18.8091L37.8466 13.8719C34.853 11.082 30.9659 9.3736 26.3109 9.3736C19.5712 9.3736 13.7563 13.245 10.9194 18.8875L16.6559 23.3388C18.0195 19.2636 21.8282 16.2386 26.3109 16.2386V16.2386Z\" fill=\"#EA4335\"/>\\n    </svg>\\n    <svg class=\"logo-dark\" width=\"18\" height=\"18\" viewBox=\"0 0 48 48\" xmlns=\"http://www.w3.org/2000/svg\">\\n      <circle cx=\"24\" cy=\"23\" fill=\"#FFF\" r=\"22\"/>\\n      <path d=\"M33.76 34.26c2.75-2.56 4.49-6.37 4.49-11.26 0-.89-.08-1.84-.29-3H24.01v5.99h8.03c-.4 2.02-1.5 3.56-3.07 4.56v.75l3.91 2.97h.88z\" fill=\"#4285F4\"/>\\n      <path d=\"M15.58 25.77A8.845 8.845 0 0 0 24 31.86c1.92 0 3.62-.46 4.97-1.31l4.79 3.71C31.14 36.7 27.65 38 24 38c-5.93 0-11.01-3.4-13.45-8.36l.17-1.01 4.06-2.85h.8z\" fill=\"#34A853\"/>\\n      <path d=\"M15.59 20.21a8.864 8.864 0 0 0 0 5.58l-5.03 3.86c-.98-2-1.53-4.25-1.53-6.64 0-2.39.55-4.64 1.53-6.64l1-.22 3.81 2.98.22 1.08z\" fill=\"#FBBC05\"/>\\n      <path d=\"M24 14.14c2.11 0 4.02.75 5.52 1.98l4.36-4.36C31.22 9.43 27.81 8 24 8c-5.93 0-11.01 3.4-13.45 8.36l5.03 3.85A8.86 8.86 0 0 1 24 14.14z\" fill=\"#EA4335\"/>\\n    </svg>\\n    <div class=\"gradient-container\"><div class=\"gradient\"></div></div>\\n  </div>\\n  <div class=\"carousel\">\\n    <a class=\"chip\" href=\"https://vertexaisearch.cloud.google.com/grounding-api-redirect/AbF9wXFncne-9LVwRWkTjVRzTQ5bnjtiq19J0Js-L5Yib-hGa1dtne7MUU8CY9NzPE1VwKSXi_ilZl8Q6TNjuf4AQB3MKTgUyh2pu-weG4u6W0k2gqEeGcnODcxoyFspJWYyDJTv40Jx1beLb4oEKwW3XzvXBZI1ANCHwyYk0dGahBHWorOACbd1fPeC38KTiQQjNBVuNE1TsgMX1I_I4bfKyBQqELpA90oIRGrDzNvCqRoYEXqYdLbIPGlVyTGvY3lJcx_IN3ZioVbrAfCjCcL-PleUsn-WdsPtnn2qbLPPVoIQ5Q==\">高田馬場 カレー 子連れ</a>\\n    <a class=\"chip\" href=\"https://vertexaisearch.cloud.google.com/grounding-api-redirect/AbF9wXHJqLyr35Y6oPUrUnsBcHb878Po81lx_WoRv_8QZR4o5ZDDu7nBuFCTls0NzWfoNwc_R-swhB7qrGbSJbG5teeEuFG4tCx9Xlj4e7g6GE8SNZL5OwyScuYlyYzf_enFlhxHET-ww9ACRV998Ej2PbH8457C38fBV8fd56efG2BGsc25TDjvK3pasr7TLzjyCOd0A_1R64qdOJzMw3lAc2VU4AAhXwgtwmlBRhfQQZbMg_ZhuM5Vlbkhx0yX7Ujs8DLPM00k45IdcOyrS4ol8yYQujR57O6JY_jlMbBRy6XfwKLXtd-aqQUa4w==\">高田馬場 カレー 家族連れ</a>\\n    <a class=\"chip\" href=\"https://vertexaisearch.cloud.google.com/grounding-api-redirect/AbF9wXGT93beeW7Y9worUpO3Z9bzBIZNFUQnFN1t6ovvKhKpWv-GB8NkD1yucMNxBIFGg-LZ2mvioZN6J_YDvu1G5fUIIT1y-I6HXq9WYd4XXmwcbMuLODHvSUFiXNKbDueRtm6bW4ogMF5_nJpPsLeezniFG9FXcObuhzU-vIgCg97bucGjjAl2oz8NPY9KhrQaP_8TzJXP0sSnjyvbjaC39TL0ja2vIpaNDGqT5l-2kEAqeQWSIkfDEBGNey0bW8-4GrbIQlkQd58Te-5DuZ7_HX9DdYxygxA4T46buNGzru11EQHTtG1TTRkuEY0Ga3e39d9lbZFdWIqLhvKrhx0=\">高田馬場 カレー 子供 おすすめ</a>\\n  </div>\\n</div>\\n', sdk_blob=None), web_search_queries=['高田馬場 カレー 子連れ', '高田馬場 カレー 子供 おすすめ', '高田馬場 カレー 家族連れ']), partial=None, turn_complete=None, error_code=None, error_message=None, interrupted=None, custom_metadata=None, invocation_id='e-6de3c390-bc9b-420f-bf14-e248be6f336e', author='search_agent', actions=EventActions(skip_summarization=None, state_delta={}, artifact_delta={}, transfer_to_agent=None, escalate=None, requested_auth_configs={}), long_running_tool_ids=None, branch=None, id='RJObkt9V', timestamp=1747344649.771849)], last_update_time=1747344649.771849)"
      ]
     },
     "execution_count": 28,
     "metadata": {},
     "output_type": "execute_result"
    }
   ],
   "source": [
    "session = client._runner.session_service.get_session(\n",
    "    app_name = app_name,\n",
    "    user_id = user_id,\n",
    "    session_id = session_id,\n",
    ")\n",
    "\n",
    "session"
   ]
  },
  {
   "cell_type": "code",
   "execution_count": 29,
   "id": "d0152f2c-6ae9-42fa-a637-bcc0031d213d",
   "metadata": {
    "tags": []
   },
   "outputs": [
    {
     "name": "stdout",
     "output_type": "stream",
     "text": [
      "2025-05-15 21:30:23.650590 user\n",
      "2025-05-15 21:30:23.651104 search_agent\n",
      "2025-05-15 21:30:49.771242 user\n",
      "2025-05-15 21:30:49.771849 search_agent\n"
     ]
    }
   ],
   "source": [
    "for event in session.events:\n",
    "    print(format_timestamp(event.timestamp), event.author)"
   ]
  },
  {
   "cell_type": "markdown",
   "id": "e2a70f99-4d13-4b5d-b001-53feeefa9f80",
   "metadata": {
    "tags": []
   },
   "source": [
    "## システムインストラクションの確認"
   ]
  },
  {
   "cell_type": "markdown",
   "id": "5bfac680-ef89-45e8-b2c1-33e7142a128b",
   "metadata": {},
   "source": [
    "ちょっとした裏技を使って、LlmAgent オブジェクトが Gemini API に送っている生の情報を覗いてみます。"
   ]
  },
  {
   "cell_type": "code",
   "execution_count": 30,
   "id": "be3cb571-7668-4e52-a391-f5fd566219c8",
   "metadata": {
    "tags": []
   },
   "outputs": [],
   "source": [
    "import pprint\n",
    "from google.adk.agents.invocation_context import InvocationContext\n",
    "from typing import AsyncGenerator\n",
    "from google.adk.events.event import Event\n",
    "from google.adk.models.llm_request import LlmRequest\n",
    "\n",
    "async def _run_one_step_async(\n",
    "      self,\n",
    "      invocation_context: InvocationContext,\n",
    "  ) -> AsyncGenerator[Event, None]:\n",
    "    \"\"\"One step means one LLM call.\"\"\"\n",
    "    llm_request = LlmRequest()\n",
    "\n",
    "    # Preprocess before calling the LLM.\n",
    "    async for event in self._preprocess_async(invocation_context, llm_request):\n",
    "        yield event\n",
    "    if invocation_context.end_invocation:\n",
    "        return\n",
    "\n",
    "    # Calls the LLM.\n",
    "    model_response_event = Event(\n",
    "        id=Event.new_id(),\n",
    "        invocation_id=invocation_context.invocation_id,\n",
    "        author=invocation_context.agent.name,\n",
    "        branch=invocation_context.branch,\n",
    "    )\n",
    "\n",
    "    ## DEBUG output\n",
    "    if DEBUG:\n",
    "        print('## Prompt contents ##')\n",
    "        pprint.pp(llm_request.contents)\n",
    "        print('----')\n",
    "        print('## System instruction ##')\n",
    "        print(llm_request.config.system_instruction)\n",
    "        print('----')\n",
    "        print('## Tools config ##')\n",
    "        pprint.pp(llm_request.config.tools)\n",
    "        print('----')\n",
    "    ####\n",
    "\n",
    "    async for llm_response in self._call_llm_async(\n",
    "        invocation_context, llm_request, model_response_event\n",
    "    ):\n",
    "        # Postprocess after calling the LLM.\n",
    "        async for event in self._postprocess_async(\n",
    "            invocation_context, llm_request, llm_response, model_response_event\n",
    "        ):\n",
    "            yield event\n",
    "\n",
    "from google.adk.flows.llm_flows.base_llm_flow import BaseLlmFlow\n",
    "_run_one_step_async_original = copy.deepcopy(BaseLlmFlow._run_one_step_async)\n",
    "BaseLlmFlow._run_one_step_async = _run_one_step_async"
   ]
  },
  {
   "cell_type": "code",
   "execution_count": 32,
   "id": "a8229c70-8171-4c92-81c4-04cc8ec0fb38",
   "metadata": {
    "tags": []
   },
   "outputs": [
    {
     "name": "stdout",
     "output_type": "stream",
     "text": [
      "## Prompt contents ##\n",
      "[UserContent(parts=[Part(video_metadata=None, thought=None, inline_data=None, code_execution_result=None, executable_code=None, file_data=None, function_call=None, function_response=None, text='\\n高田馬場のおすすめのカレー屋は？\\n')], role='user')]\n",
      "----\n",
      "## System instruction ##\n",
      "\n",
      "You are a friendly AI assistant that answers user's queries.\n",
      "Use google_search to give answers based on the latest and objective information.\n",
      "\n",
      "\n",
      "You are an agent. Your internal name is \"search_agent\".\n",
      "\n",
      " The description about you is \"Agent to answer questions using Google Search.\"\n",
      "----\n",
      "## Tools config ##\n",
      "[Tool(retrieval=None, google_search=GoogleSearch(), google_search_retrieval=None, enterprise_web_search=None, google_maps=None, code_execution=None, function_declarations=None)]\n",
      "----\n",
      "高田馬場でおすすめのカレー屋について調べてみました。\n",
      "\n",
      "\n",
      " 高田馬場にはたくさんのカレー屋さんがありますね！おすすめのカレー屋さんをいくつかご紹介します。\n",
      "\n",
      "*   **カレーライス専門店ブラザー:** 鯖キーマカレーが人気のお店です。\n",
      "*   **エチオピアカリーキッチン 高田馬場店:** 長時間煮込んだ野菜が美味しいトロトロカレーが味わえます。\n",
      "*   **横浜ボンベイ 高田馬場店:** サラッとしたルーが特徴で、カシミールカレーが人気です。\n",
      "*   **プネウマカレー:** コスパ最強の人気店で、チキンカレーがおすすめです。\n",
      "*   **白カレーの店 1/f ゆらぎ:** その名の通り、白いカレーが楽しめるお店です。\n",
      "*   **マイカリー食堂 高田馬場店:** 様々な種類のカレーが楽しめるお店です。\n",
      "*   **ゴーゴーカレー 高田馬場駅前店。**\n",
      "\n",
      "これらの他にも、Rettyや食べログなどのサイトでおすすめのカレー屋さんが紹介されていますので、ぜひ参考にしてみてください。\n",
      "\n"
     ]
    }
   ],
   "source": [
    "client = LocalApp(search_agent, 'Search Agent App', 'user00')\n",
    "\n",
    "DEBUG = True\n",
    "query = '''\n",
    "高田馬場のおすすめのカレー屋は？\n",
    "'''\n",
    "_ = await client.stream(query)"
   ]
  },
  {
   "cell_type": "code",
   "execution_count": 33,
   "id": "36702715-d78d-42e5-a205-24a592265b6e",
   "metadata": {
    "tags": []
   },
   "outputs": [
    {
     "name": "stdout",
     "output_type": "stream",
     "text": [
      "## Prompt contents ##\n",
      "[UserContent(parts=[Part(video_metadata=None, thought=None, inline_data=None, code_execution_result=None, executable_code=None, file_data=None, function_call=None, function_response=None, text='\\n高田馬場のおすすめのカレー屋は？\\n')], role='user'),\n",
      " Content(parts=[Part(video_metadata=None, thought=None, inline_data=None, code_execution_result=None, executable_code=None, file_data=None, function_call=None, function_response=None, text='高田馬場でおすすめのカレー屋について調べてみました。\\n\\n'), Part(video_metadata=None, thought=None, inline_data=None, code_execution_result=None, executable_code=None, file_data=None, function_call=None, function_response=None, text=' 高田馬場にはたくさんのカレー屋さんがありますね！おすすめのカレー屋さんをいくつかご紹介します。\\n\\n*   **カレーライス専門店ブラザー:** 鯖キーマカレーが人気のお店です。\\n*   **エチオピアカリーキッチン 高田馬場店:** 長時間煮込んだ野菜が美味しいトロトロカレーが味わえます。\\n*   **横浜ボンベイ 高田馬場店:** サラッとしたルーが特徴で、カシミールカレーが人気です。\\n*   **プネウマカレー:** コスパ最強の人気店で、チキンカレーがおすすめです。\\n*   **白カレーの店 1/f ゆらぎ:** その名の通り、白いカレーが楽しめるお店です。\\n*   **マイカリー食堂 高田馬場店:** 様々な種類のカレーが楽しめるお店です。\\n*   **ゴーゴーカレー 高田馬場駅前店。**\\n\\nこれらの他にも、Rettyや食べログなどのサイトでおすすめのカレー屋さんが紹介されていますので、ぜひ参考にしてみてください。\\n')], role='model'),\n",
      " UserContent(parts=[Part(video_metadata=None, thought=None, inline_data=None, code_execution_result=None, executable_code=None, file_data=None, function_call=None, function_response=None, text='\\n特に家族連れにおすすめなのは？\\n')], role='user')]\n",
      "----\n",
      "## System instruction ##\n",
      "\n",
      "You are a friendly AI assistant that answers user's queries.\n",
      "Use google_search to give answers based on the latest and objective information.\n",
      "\n",
      "\n",
      "You are an agent. Your internal name is \"search_agent\".\n",
      "\n",
      " The description about you is \"Agent to answer questions using Google Search.\"\n",
      "----\n",
      "## Tools config ##\n",
      "[Tool(retrieval=None, google_search=GoogleSearch(), google_search_retrieval=None, enterprise_web_search=None, google_maps=None, code_execution=None, function_declarations=None)]\n",
      "----\n",
      "家族連れにおすすめの高田馬場のカレー屋さんについて調べてみます。\n",
      "\n",
      "\n",
      " 家族連れにおすすめの高田馬場のカレー屋さんとしては、以下の点が考慮されるかと思います。\n",
      "\n",
      "*   **子供向けメニューの有無**: 子供が食べやすい辛さ控えめのメニューや、お子様ランチのようなセットがあるか。\n",
      "*   **座席**: テーブル席があるか、ベビーカーを置けるスペースがあるか。\n",
      "*   **雰囲気**: 子連れでも気兼ねなく入れる雰囲気か。\n",
      "*   **その他**: 離乳食の持ち込みが可能か、アレルギー対応が可能かなど。\n",
      "\n",
      "これらの点を考慮すると、以下のお店が候補として挙げられます。\n",
      "\n",
      "*   **プネウマカレー:** チキンカレーがあり、サイズが4種類あるため、子供とシェアしたり、子供用に小盛を頼むことができます。店内はカウンター席のみですが、空間が広々としているため、空いているスペースにベビーカーを置くことができます。離乳食の持ち込みも可能で、土曜日には子連れのお客さんも来店するそうです。\n",
      "*   **マイカリー食堂 高田馬場店:** 様々な種類のカレーが楽しめるので、家族それぞれが好きなカレーを選べます。\n",
      "*   **大戸屋ごはん処 高田馬場駅前店:** お子様野菜カレーがあり、小学生以下のお子様のみ注文できます。\n",
      "*   **カレーハウスCoCo壱番屋 新宿高田馬場:** メニューが豊富で、子供が好きなメニューを選びやすい。\n",
      "*   **フードウェイ 高田馬場店:** テーブル席があり、子供連れでも利用しやすい。\n",
      "\n",
      "食べログなどのサイトでは、子連れで利用しやすいカレー屋さんの情報や口コミが掲載されているので、そちらも参考にされると良いでしょう。\n",
      "\n"
     ]
    }
   ],
   "source": [
    "query = '''\n",
    "特に家族連れにおすすめなのは？\n",
    "'''\n",
    "_ = await client.stream(query)"
   ]
  },
  {
   "cell_type": "markdown",
   "id": "3da96ad4-1a1f-4a96-bf1c-006412202401",
   "metadata": {},
   "source": [
    "`## Prompt contents ##` の部分を見ると、セッションに記録されたイベントをすべてプロンプトに含めるのではなく、コンテキスト（これまでの会話の流れ）を把握するのに必要な情報が選択されていることがわかります。"
   ]
  },
  {
   "cell_type": "markdown",
   "id": "2dcf2f5a-01cc-48e7-b914-a5d2cfdd992f",
   "metadata": {},
   "source": [
    "裏技で変更した内部関数を元に戻しておきます。"
   ]
  },
  {
   "cell_type": "code",
   "execution_count": 35,
   "id": "4ec8b08e-6fd1-4b85-a71f-225ad93eddab",
   "metadata": {
    "tags": []
   },
   "outputs": [],
   "source": [
    "DEBUG = False\n",
    "BaseLlmFlow._run_one_step_async = _run_one_step_async_original"
   ]
  },
  {
   "cell_type": "markdown",
   "id": "1af5ce4f-ad07-4ff1-8b5a-a692c72136ad",
   "metadata": {},
   "source": [
    "## AgentEngine へのデプロイ"
   ]
  },
  {
   "cell_type": "code",
   "execution_count": 15,
   "id": "a70d1459-4afd-4d07-b25e-21b32c708396",
   "metadata": {
    "tags": []
   },
   "outputs": [
    {
     "name": "stdout",
     "output_type": "stream",
     "text": [
      "Deploying google.adk.agents.Agent as an application.\n",
      "Identified the following requirements: {'cloudpickle': '3.1.1', 'google-cloud-aiplatform': '1.88.0'}\n",
      "The following requirements are missing: {'cloudpickle'}\n",
      "The following requirements are appended: {'cloudpickle==3.1.1'}\n",
      "The final list of requirements: ['google-cloud-aiplatform[adk,agent_engines]', 'cloudpickle==3.1.1']\n",
      "Using bucket etsuji-15pro-poc\n",
      "Wrote to gs://etsuji-15pro-poc/agent_engine/agent_engine.pkl\n",
      "Writing to gs://etsuji-15pro-poc/agent_engine/requirements.txt\n",
      "Creating in-memory tarfile of extra_packages\n",
      "Writing to gs://etsuji-15pro-poc/agent_engine/dependencies.tar.gz\n",
      "Creating AgentEngine\n",
      "Create AgentEngine backing LRO: projects/879055303739/locations/us-central1/reasoningEngines/3271240606680088576/operations/3308747525283905536\n",
      "View progress and logs at https://console.cloud.google.com/logs/query?project=etsuji-15pro-poc\n",
      "AgentEngine created. Resource name: projects/879055303739/locations/us-central1/reasoningEngines/3271240606680088576\n",
      "To use this AgentEngine in another session:\n",
      "agent_engine = vertexai.agent_engines.get('projects/879055303739/locations/us-central1/reasoningEngines/3271240606680088576')\n"
     ]
    }
   ],
   "source": [
    "from vertexai import agent_engines\n",
    "\n",
    "remote_agent = agent_engines.create(\n",
    "    agent_engine=search_agent,\n",
    "    requirements=[\n",
    "        'google-cloud-aiplatform[adk,agent_engines]',\n",
    "    ]\n",
    ")"
   ]
  },
  {
   "cell_type": "code",
   "execution_count": 16,
   "id": "932a6534-189a-467b-8fe0-b43572d3007c",
   "metadata": {
    "tags": []
   },
   "outputs": [],
   "source": [
    "class RemoteApp:\n",
    "    def __init__(self, remote_agent, user_id):\n",
    "        self._remote_agent = remote_agent\n",
    "        self._user_id = user_id\n",
    "        self._session = remote_agent.create_session(user_id=self._user_id)\n",
    "    \n",
    "    def _stream(self, query):\n",
    "        events = self._remote_agent.stream_query(\n",
    "            user_id=self._user_id,\n",
    "            session_id=self._session['id'],\n",
    "            message=query,\n",
    "        )\n",
    "        result = []\n",
    "        for event in events:\n",
    "            if ('content' in event and 'parts' in event['content']):\n",
    "                response = '\\n'.join(\n",
    "                    [p['text'] for p in event['content']['parts'] if 'text' in p]\n",
    "                )\n",
    "                if response:\n",
    "                    print(response)\n",
    "                    result.append(response)\n",
    "        return result\n",
    "\n",
    "    def stream(self, query):\n",
    "        # Retry 4 times in case of resource exhaustion \n",
    "        for c in range(4):\n",
    "            if c > 0:\n",
    "                time.sleep(2**(c-1))\n",
    "            result = self._stream(query)\n",
    "            if result:\n",
    "                return result\n",
    "            if DEBUG:\n",
    "                print('----\\nRetrying...\\n----')\n",
    "        return None # Permanent error"
   ]
  },
  {
   "cell_type": "code",
   "execution_count": 17,
   "id": "d614f2fb-2d9d-4e2b-9175-f603677aefbc",
   "metadata": {
    "tags": []
   },
   "outputs": [
    {
     "name": "stdout",
     "output_type": "stream",
     "text": [
      " 今年のゴールデンウィークがカレンダー通りだとすると何連休になるか調べてみます。\n",
      "\n",
      "\n",
      " 2025年のゴールデンウィークは、カレンダー通りの場合、5月3日（土）から5月6日（火・振替休日）までの4連休となります。ただし、4月29日（昭和の日）と5月3日～6日の間に平日が3日あります。これらの平日に休みを取ると、最大で11連休にすることも可能です.\n",
      "\n"
     ]
    }
   ],
   "source": [
    "remote_client = RemoteApp(remote_agent, 'user00')\n",
    "\n",
    "query = '''\n",
    "今年のゴールデンウィークは、カレンダー通りで何連休でしょうか？\n",
    "'''\n",
    "_ = remote_client.stream(query)"
   ]
  },
  {
   "cell_type": "code",
   "execution_count": 18,
   "id": "c8856714-e948-4d0c-b7c5-47a41d1ecfe3",
   "metadata": {
    "tags": []
   },
   "outputs": [
    {
     "name": "stdout",
     "output_type": "stream",
     "text": [
      " 来年のゴールデンウィークがカレンダー通りだとすると何連休になるか調べてみます。\n",
      "\n",
      " 2026年のゴールデンウィークについてですが、カレンダー通りだと5連休になる見込みです. 具体的には、5月2日（土）から5月6日（水・振替休日）までが5連休となります.\n",
      "\n",
      "ただし、4月29日（昭和の日）が水曜日で、その前後の平日を休むかどうかで、連休の日数は変わってきます. 例えば、4月30日（木）と5月1日（金）を休むと8連休、さらに4月27日と28日も休むと12連休も可能です.\n",
      "\n"
     ]
    }
   ],
   "source": [
    "query = '''\n",
    "来年はどうなりますか？\n",
    "'''\n",
    "_ = remote_client.stream(query)"
   ]
  },
  {
   "cell_type": "markdown",
   "id": "100af7ef-31da-4685-9983-39586cd3c2cf",
   "metadata": {
    "tags": []
   },
   "source": [
    "セッション情報を参照する際は、`VertexAiSessionService` を使用します。"
   ]
  },
  {
   "cell_type": "code",
   "execution_count": 19,
   "id": "c2a7a06e-3c28-4962-8e0f-6068d895b897",
   "metadata": {
    "tags": []
   },
   "outputs": [
    {
     "data": {
      "text/plain": [
       "('3271240606680088576', 'user00', '1446126621118431232')"
      ]
     },
     "execution_count": 19,
     "metadata": {},
     "output_type": "execute_result"
    }
   ],
   "source": [
    "app_name = remote_client._session['app_name']\n",
    "user_id = remote_client._session['user_id']\n",
    "session_id = remote_client._session['id']\n",
    "\n",
    "app_name, user_id, session_id"
   ]
  },
  {
   "cell_type": "code",
   "execution_count": 20,
   "id": "702e04e8-469d-409f-a3de-9847f624bd7a",
   "metadata": {
    "tags": []
   },
   "outputs": [
    {
     "data": {
      "text/plain": [
       "Session(id='1446126621118431232', app_name='3271240606680088576', user_id='user00', state={}, events=[Event(content=Content(parts=[Part(video_metadata=None, thought=None, inline_data=None, code_execution_result=None, executable_code=None, file_data=None, function_call=None, function_response=None, text='\\n今年のゴールデンウィークは、カレンダー通りで何連休でしょうか？\\n')], role='user'), grounding_metadata=None, partial=None, turn_complete=None, error_code=None, error_message=None, interrupted=None, custom_metadata=None, invocation_id='e-d8189206-a65e-4cb5-9463-32145651420c', author='user', actions=EventActions(skip_summarization=None, state_delta={}, artifact_delta={}, transfer_to_agent=None, escalate=None, requested_auth_configs={}), long_running_tool_ids=None, branch=None, id='6146459665023631360', timestamp=1747344505.152209), Event(content=Content(parts=[Part(video_metadata=None, thought=None, inline_data=None, code_execution_result=None, executable_code=None, file_data=None, function_call=None, function_response=None, text=' 今年のゴールデンウィークがカレンダー通りだとすると何連休になるか調べてみます。\\n\\n'), Part(video_metadata=None, thought=None, inline_data=None, code_execution_result=None, executable_code=None, file_data=None, function_call=None, function_response=None, text=' 2025年のゴールデンウィークは、カレンダー通りの場合、5月3日（土）から5月6日（火・振替休日）までの4連休となります。ただし、4月29日（昭和の日）と5月3日～6日の間に平日が3日あります。これらの平日に休みを取ると、最大で11連休にすることも可能です.\\n')], role='model'), grounding_metadata={'webSearchQueries': ['2025年 ゴールデンウィーク カレンダー通り 何連休', '2025年5月カレンダー'], 'searchEntryPoint': {'renderedContent': '<style>\\n.container {\\n  align-items: center;\\n  border-radius: 8px;\\n  display: flex;\\n  font-family: Google Sans, Roboto, sans-serif;\\n  font-size: 14px;\\n  line-height: 20px;\\n  padding: 8px 12px;\\n}\\n.chip {\\n  display: inline-block;\\n  border: solid 1px;\\n  border-radius: 16px;\\n  min-width: 14px;\\n  padding: 5px 16px;\\n  text-align: center;\\n  user-select: none;\\n  margin: 0 8px;\\n  -webkit-tap-highlight-color: transparent;\\n}\\n.carousel {\\n  overflow: auto;\\n  scrollbar-width: none;\\n  white-space: nowrap;\\n  margin-right: -12px;\\n}\\n.headline {\\n  display: flex;\\n  margin-right: 4px;\\n}\\n.gradient-container {\\n  position: relative;\\n}\\n.gradient {\\n  position: absolute;\\n  transform: translate(3px, -9px);\\n  height: 36px;\\n  width: 9px;\\n}\\n@media (prefers-color-scheme: light) {\\n  .container {\\n    background-color: #fafafa;\\n    box-shadow: 0 0 0 1px #0000000f;\\n  }\\n  .headline-label {\\n    color: #1f1f1f;\\n  }\\n  .chip {\\n    background-color: #ffffff;\\n    border-color: #d2d2d2;\\n    color: #5e5e5e;\\n    text-decoration: none;\\n  }\\n  .chip:hover {\\n    background-color: #f2f2f2;\\n  }\\n  .chip:focus {\\n    background-color: #f2f2f2;\\n  }\\n  .chip:active {\\n    background-color: #d8d8d8;\\n    border-color: #b6b6b6;\\n  }\\n  .logo-dark {\\n    display: none;\\n  }\\n  .gradient {\\n    background: linear-gradient(90deg, #fafafa 15%, #fafafa00 100%);\\n  }\\n}\\n@media (prefers-color-scheme: dark) {\\n  .container {\\n    background-color: #1f1f1f;\\n    box-shadow: 0 0 0 1px #ffffff26;\\n  }\\n  .headline-label {\\n    color: #fff;\\n  }\\n  .chip {\\n    background-color: #2c2c2c;\\n    border-color: #3c4043;\\n    color: #fff;\\n    text-decoration: none;\\n  }\\n  .chip:hover {\\n    background-color: #353536;\\n  }\\n  .chip:focus {\\n    background-color: #353536;\\n  }\\n  .chip:active {\\n    background-color: #464849;\\n    border-color: #53575b;\\n  }\\n  .logo-light {\\n    display: none;\\n  }\\n  .gradient {\\n    background: linear-gradient(90deg, #1f1f1f 15%, #1f1f1f00 100%);\\n  }\\n}\\n</style>\\n<div class=\"container\">\\n  <div class=\"headline\">\\n    <svg class=\"logo-light\" width=\"18\" height=\"18\" viewBox=\"9 9 35 35\" fill=\"none\" xmlns=\"http://www.w3.org/2000/svg\">\\n      <path fill-rule=\"evenodd\" clip-rule=\"evenodd\" d=\"M42.8622 27.0064C42.8622 25.7839 42.7525 24.6084 42.5487 23.4799H26.3109V30.1568H35.5897C35.1821 32.3041 33.9596 34.1222 32.1258 35.3448V39.6864H37.7213C40.9814 36.677 42.8622 32.2571 42.8622 27.0064V27.0064Z\" fill=\"#4285F4\"/>\\n      <path fill-rule=\"evenodd\" clip-rule=\"evenodd\" d=\"M26.3109 43.8555C30.9659 43.8555 34.8687 42.3195 37.7213 39.6863L32.1258 35.3447C30.5898 36.3792 28.6306 37.0061 26.3109 37.0061C21.8282 37.0061 18.0195 33.9811 16.6559 29.906H10.9194V34.3573C13.7563 39.9841 19.5712 43.8555 26.3109 43.8555V43.8555Z\" fill=\"#34A853\"/>\\n      <path fill-rule=\"evenodd\" clip-rule=\"evenodd\" d=\"M16.6559 29.8904C16.3111 28.8559 16.1074 27.7588 16.1074 26.6146C16.1074 25.4704 16.3111 24.3733 16.6559 23.3388V18.8875H10.9194C9.74388 21.2072 9.06992 23.8247 9.06992 26.6146C9.06992 29.4045 9.74388 32.022 10.9194 34.3417L15.3864 30.8621L16.6559 29.8904V29.8904Z\" fill=\"#FBBC05\"/>\\n      <path fill-rule=\"evenodd\" clip-rule=\"evenodd\" d=\"M26.3109 16.2386C28.85 16.2386 31.107 17.1164 32.9095 18.8091L37.8466 13.8719C34.853 11.082 30.9659 9.3736 26.3109 9.3736C19.5712 9.3736 13.7563 13.245 10.9194 18.8875L16.6559 23.3388C18.0195 19.2636 21.8282 16.2386 26.3109 16.2386V16.2386Z\" fill=\"#EA4335\"/>\\n    </svg>\\n    <svg class=\"logo-dark\" width=\"18\" height=\"18\" viewBox=\"0 0 48 48\" xmlns=\"http://www.w3.org/2000/svg\">\\n      <circle cx=\"24\" cy=\"23\" fill=\"#FFF\" r=\"22\"/>\\n      <path d=\"M33.76 34.26c2.75-2.56 4.49-6.37 4.49-11.26 0-.89-.08-1.84-.29-3H24.01v5.99h8.03c-.4 2.02-1.5 3.56-3.07 4.56v.75l3.91 2.97h.88z\" fill=\"#4285F4\"/>\\n      <path d=\"M15.58 25.77A8.845 8.845 0 0 0 24 31.86c1.92 0 3.62-.46 4.97-1.31l4.79 3.71C31.14 36.7 27.65 38 24 38c-5.93 0-11.01-3.4-13.45-8.36l.17-1.01 4.06-2.85h.8z\" fill=\"#34A853\"/>\\n      <path d=\"M15.59 20.21a8.864 8.864 0 0 0 0 5.58l-5.03 3.86c-.98-2-1.53-4.25-1.53-6.64 0-2.39.55-4.64 1.53-6.64l1-.22 3.81 2.98.22 1.08z\" fill=\"#FBBC05\"/>\\n      <path d=\"M24 14.14c2.11 0 4.02.75 5.52 1.98l4.36-4.36C31.22 9.43 27.81 8 24 8c-5.93 0-11.01 3.4-13.45 8.36l5.03 3.85A8.86 8.86 0 0 1 24 14.14z\" fill=\"#EA4335\"/>\\n    </svg>\\n    <div class=\"gradient-container\"><div class=\"gradient\"></div></div>\\n  </div>\\n  <div class=\"carousel\">\\n    <a class=\"chip\" href=\"https://vertexaisearch.cloud.google.com/grounding-api-redirect/AbF9wXGPollCSee2fZHfAQ2KgoUl98rC1xvdo-zgm6UeqEWEpViu5K7m9DRN7UCrEDn1I3AmT5qQ9WriYhXKZ12P6eruaIsZxVEb9GEIF3P3HCokxWaTAlkgiCDkf99Pk26Vfp332KkTGRfc7xptOv221y9xdDdNN7hJJsfRk0wE4zOGmwueZVQ27F1g5L9m65UnnSRd0nwOwsxsEsdAOmYBi9yJNuZMLAm01_5zm0wYM-3lvlbPytW4JR1AOCKu9bZcePGtNXMWyQtiXg==\">2025年5月カレンダー</a>\\n    <a class=\"chip\" href=\"https://vertexaisearch.cloud.google.com/grounding-api-redirect/AbF9wXFL0cIdculSHBadTLpkcZs8DPZLFEFxT4bGUWIhdLsT-TzzHntW2MFtnpIn9UGw6PeJ04ihLG6Pt-nS-H5L9Oly2EsX5_7oa7bRQPK3Mr9boGWnyDetsnTcDvAi4jAVbZ5Yq0rJDFqgVqANkYMS5yEuqy8vN7oYul1D1qJR-Y__lF7x3DMpyY-90pqrqJlaAP4lSE-sZJG9LC3aZxZXxZeoGbzZyT-5RKMBPjQOzhHP3mXYX0Vg4um3HrYSqY1RlnJOZAtCsIOEAiZ_j2unCWvL4AAEGhlosY_QaKIlpe8tYFDhuTiXGmfjwwxha7igjy48r70x2-YdwSqIq6bGIrlkJc7JnMqCErSbQehEwIzC6LZy_PIZ3YJzCKiha43zdc2J6NNCZ6ZFWI841p4vEUkzZLdDXahpfA7DTeghHVfR\">2025年 ゴールデンウィーク カレンダー通り 何連休</a>\\n  </div>\\n</div>\\n'}, 'groundingChunks': [{'web': {'uri': 'https://vertexaisearch.cloud.google.com/grounding-api-redirect/AbF9wXEb7Qsn3vjoECUNJojhaJt_BivKTnm3lcBK2hCLjs6Tl9gNTNQhTIQyU3epbFkBe-xnvOPWqqyqhwqNbmFGA_L7aAJGImA-Ba6gPWMYeyple0q8nnUE4OMSpXvh16VMv4Q-HgAI', 'title': 'jre-travel.com', 'domain': 'jre-travel.com'}}, {'web': {'uri': 'https://vertexaisearch.cloud.google.com/grounding-api-redirect/AbF9wXE16F9gPy9FXDqtS91wjFa6grRq-6V0DwtSw0hBY_MtoEL5rkIWIWOeHhMBvMVBe_1sD_ihPLYZ3mAXuT6-l-AG7ycyGimo94JPk8DrXycnzeWGS42KTmIzRJ4CkJwoRcMuCL9aDIXvY4EW-Zhf', 'title': 'family-life.work', 'domain': 'family-life.work'}}, {'web': {'uri': 'https://vertexaisearch.cloud.google.com/grounding-api-redirect/AbF9wXE7IHnlIRY0xoqjebPZCU0XTQQZUm3wxO3k46tBw428Qxd4eJ-DtKFTF7r2JL6F3zXD0XLMyGVBBkRVInj407gCiDxw6lWgFP_kUeHs1cwNjWMi87-2Gij-o9_u--VoztzdXAs_wtP1PMxooRXdE0bSOJbD', 'title': 'walkerplus.com', 'domain': 'walkerplus.com'}}, {'web': {'uri': 'https://vertexaisearch.cloud.google.com/grounding-api-redirect/AbF9wXEsYeod0egdp0BCt6f0vqcE7O33M4nSb7cIfxh0It9vrjV2E1EaJj13lrAQUnSYl5AVkR4Vz2bXJDwQrnsz5PQWb3OFAZa80woqIXXsrpnWX9OeRxfH8ZqZ4HKuVzn4S0YujaA4X68LGMPyGzQNHyo=', 'title': 'baitoru.com', 'domain': 'baitoru.com'}}], 'groundingSupports': [{'segment': {'startIndex': 121, 'endIndex': 283, 'text': '2025年のゴールデンウィークは、カレンダー通りの場合、5月3日（土）から5月6日（火・振替休日）までの4連休となります'}, 'groundingChunkIndices': [0, 1]}, {'segment': {'startIndex': 380, 'endIndex': 469, 'text': 'これらの平日に休みを取ると、最大で11連休にすることも可能です'}, 'groundingChunkIndices': [2, 3]}], 'retrievalMetadata': {}}, partial=None, turn_complete=None, error_code=None, error_message=None, interrupted=None, custom_metadata=None, invocation_id='e-d8189206-a65e-4cb5-9463-32145651420c', author='search_agent', actions=EventActions(skip_summarization=None, state_delta={}, artifact_delta={}, transfer_to_agent=None, escalate=None, requested_auth_configs={}), long_running_tool_ids=None, branch=None, id='1618090239702597632', timestamp=1747344505.215643), Event(content=Content(parts=[Part(video_metadata=None, thought=None, inline_data=None, code_execution_result=None, executable_code=None, file_data=None, function_call=None, function_response=None, text='\\n来年はどうなりますか？\\n')], role='user'), grounding_metadata=None, partial=None, turn_complete=None, error_code=None, error_message=None, interrupted=None, custom_metadata=None, invocation_id='e-22b64a5b-241f-4979-b75d-1cf14f8da147', author='user', actions=EventActions(skip_summarization=None, state_delta={}, artifact_delta={}, transfer_to_agent=None, escalate=None, requested_auth_configs={}), long_running_tool_ids=None, branch=None, id='6229776258129985536', timestamp=1747344507.724802), Event(content=Content(parts=[Part(video_metadata=None, thought=None, inline_data=None, code_execution_result=None, executable_code=None, file_data=None, function_call=None, function_response=None, text=' 来年のゴールデンウィークがカレンダー通りだとすると何連休になるか調べてみます。\\n'), Part(video_metadata=None, thought=None, inline_data=None, code_execution_result=None, executable_code=None, file_data=None, function_call=None, function_response=None, text=' 2026年のゴールデンウィークについてですが、カレンダー通りだと5連休になる見込みです. 具体的には、5月2日（土）から5月6日（水・振替休日）までが5連休となります.\\n\\nただし、4月29日（昭和の日）が水曜日で、その前後の平日を休むかどうかで、連休の日数は変わってきます. 例えば、4月30日（木）と5月1日（金）を休むと8連休、さらに4月27日と28日も休むと12連休も可能です.\\n')], role='model'), grounding_metadata={'webSearchQueries': ['2026年の祝日', '2026 ゴールデンウィーク カレンダー通り 何連休'], 'searchEntryPoint': {'renderedContent': '<style>\\n.container {\\n  align-items: center;\\n  border-radius: 8px;\\n  display: flex;\\n  font-family: Google Sans, Roboto, sans-serif;\\n  font-size: 14px;\\n  line-height: 20px;\\n  padding: 8px 12px;\\n}\\n.chip {\\n  display: inline-block;\\n  border: solid 1px;\\n  border-radius: 16px;\\n  min-width: 14px;\\n  padding: 5px 16px;\\n  text-align: center;\\n  user-select: none;\\n  margin: 0 8px;\\n  -webkit-tap-highlight-color: transparent;\\n}\\n.carousel {\\n  overflow: auto;\\n  scrollbar-width: none;\\n  white-space: nowrap;\\n  margin-right: -12px;\\n}\\n.headline {\\n  display: flex;\\n  margin-right: 4px;\\n}\\n.gradient-container {\\n  position: relative;\\n}\\n.gradient {\\n  position: absolute;\\n  transform: translate(3px, -9px);\\n  height: 36px;\\n  width: 9px;\\n}\\n@media (prefers-color-scheme: light) {\\n  .container {\\n    background-color: #fafafa;\\n    box-shadow: 0 0 0 1px #0000000f;\\n  }\\n  .headline-label {\\n    color: #1f1f1f;\\n  }\\n  .chip {\\n    background-color: #ffffff;\\n    border-color: #d2d2d2;\\n    color: #5e5e5e;\\n    text-decoration: none;\\n  }\\n  .chip:hover {\\n    background-color: #f2f2f2;\\n  }\\n  .chip:focus {\\n    background-color: #f2f2f2;\\n  }\\n  .chip:active {\\n    background-color: #d8d8d8;\\n    border-color: #b6b6b6;\\n  }\\n  .logo-dark {\\n    display: none;\\n  }\\n  .gradient {\\n    background: linear-gradient(90deg, #fafafa 15%, #fafafa00 100%);\\n  }\\n}\\n@media (prefers-color-scheme: dark) {\\n  .container {\\n    background-color: #1f1f1f;\\n    box-shadow: 0 0 0 1px #ffffff26;\\n  }\\n  .headline-label {\\n    color: #fff;\\n  }\\n  .chip {\\n    background-color: #2c2c2c;\\n    border-color: #3c4043;\\n    color: #fff;\\n    text-decoration: none;\\n  }\\n  .chip:hover {\\n    background-color: #353536;\\n  }\\n  .chip:focus {\\n    background-color: #353536;\\n  }\\n  .chip:active {\\n    background-color: #464849;\\n    border-color: #53575b;\\n  }\\n  .logo-light {\\n    display: none;\\n  }\\n  .gradient {\\n    background: linear-gradient(90deg, #1f1f1f 15%, #1f1f1f00 100%);\\n  }\\n}\\n</style>\\n<div class=\"container\">\\n  <div class=\"headline\">\\n    <svg class=\"logo-light\" width=\"18\" height=\"18\" viewBox=\"9 9 35 35\" fill=\"none\" xmlns=\"http://www.w3.org/2000/svg\">\\n      <path fill-rule=\"evenodd\" clip-rule=\"evenodd\" d=\"M42.8622 27.0064C42.8622 25.7839 42.7525 24.6084 42.5487 23.4799H26.3109V30.1568H35.5897C35.1821 32.3041 33.9596 34.1222 32.1258 35.3448V39.6864H37.7213C40.9814 36.677 42.8622 32.2571 42.8622 27.0064V27.0064Z\" fill=\"#4285F4\"/>\\n      <path fill-rule=\"evenodd\" clip-rule=\"evenodd\" d=\"M26.3109 43.8555C30.9659 43.8555 34.8687 42.3195 37.7213 39.6863L32.1258 35.3447C30.5898 36.3792 28.6306 37.0061 26.3109 37.0061C21.8282 37.0061 18.0195 33.9811 16.6559 29.906H10.9194V34.3573C13.7563 39.9841 19.5712 43.8555 26.3109 43.8555V43.8555Z\" fill=\"#34A853\"/>\\n      <path fill-rule=\"evenodd\" clip-rule=\"evenodd\" d=\"M16.6559 29.8904C16.3111 28.8559 16.1074 27.7588 16.1074 26.6146C16.1074 25.4704 16.3111 24.3733 16.6559 23.3388V18.8875H10.9194C9.74388 21.2072 9.06992 23.8247 9.06992 26.6146C9.06992 29.4045 9.74388 32.022 10.9194 34.3417L15.3864 30.8621L16.6559 29.8904V29.8904Z\" fill=\"#FBBC05\"/>\\n      <path fill-rule=\"evenodd\" clip-rule=\"evenodd\" d=\"M26.3109 16.2386C28.85 16.2386 31.107 17.1164 32.9095 18.8091L37.8466 13.8719C34.853 11.082 30.9659 9.3736 26.3109 9.3736C19.5712 9.3736 13.7563 13.245 10.9194 18.8875L16.6559 23.3388C18.0195 19.2636 21.8282 16.2386 26.3109 16.2386V16.2386Z\" fill=\"#EA4335\"/>\\n    </svg>\\n    <svg class=\"logo-dark\" width=\"18\" height=\"18\" viewBox=\"0 0 48 48\" xmlns=\"http://www.w3.org/2000/svg\">\\n      <circle cx=\"24\" cy=\"23\" fill=\"#FFF\" r=\"22\"/>\\n      <path d=\"M33.76 34.26c2.75-2.56 4.49-6.37 4.49-11.26 0-.89-.08-1.84-.29-3H24.01v5.99h8.03c-.4 2.02-1.5 3.56-3.07 4.56v.75l3.91 2.97h.88z\" fill=\"#4285F4\"/>\\n      <path d=\"M15.58 25.77A8.845 8.845 0 0 0 24 31.86c1.92 0 3.62-.46 4.97-1.31l4.79 3.71C31.14 36.7 27.65 38 24 38c-5.93 0-11.01-3.4-13.45-8.36l.17-1.01 4.06-2.85h.8z\" fill=\"#34A853\"/>\\n      <path d=\"M15.59 20.21a8.864 8.864 0 0 0 0 5.58l-5.03 3.86c-.98-2-1.53-4.25-1.53-6.64 0-2.39.55-4.64 1.53-6.64l1-.22 3.81 2.98.22 1.08z\" fill=\"#FBBC05\"/>\\n      <path d=\"M24 14.14c2.11 0 4.02.75 5.52 1.98l4.36-4.36C31.22 9.43 27.81 8 24 8c-5.93 0-11.01 3.4-13.45 8.36l5.03 3.85A8.86 8.86 0 0 1 24 14.14z\" fill=\"#EA4335\"/>\\n    </svg>\\n    <div class=\"gradient-container\"><div class=\"gradient\"></div></div>\\n  </div>\\n  <div class=\"carousel\">\\n    <a class=\"chip\" href=\"https://vertexaisearch.cloud.google.com/grounding-api-redirect/AbF9wXE5SC-pcPer2hCBRgCiXlSEy5YZVsl5UZpAcyUTmOFd0AdaTc3PkeH6XTr7lJlQJ5U3BGp-LHqUx9PqMs4AACTct7gN4wlWKGTPAUdH-diXx7GdXKtERiyh2K4OZhZHByUG4PKD56wav5AvfoBLx_w6z-I1ZzBXO-h9DZ3_0bvh6xAjLCeoHF9ntkIsKohePbAziOG5ybg8JePGWBH_kGIX-EuabApowh2Nm_at3PdUeLjggfY09hHoerC33PvZ4ho-BVuOF6t0dnTfzUjAh_XpAP1feyLrp4_sAxYK8b0lQBWTKpRo3YCMr0kGO-HU6F2V8SJjI0Yv9799lXfiG9K25bJuKxgwcu5Etn9QSWQnYZEVk7w3vEC3e5S47mRWgON8ur6sRT1oCnxwxHbcqIxFHYmnkIc=\">2026 ゴールデンウィーク カレンダー通り 何連休</a>\\n    <a class=\"chip\" href=\"https://vertexaisearch.cloud.google.com/grounding-api-redirect/AbF9wXF4wVD7jOoFIeM4wNtbh8OjUaQA6JkOv5_9abJ-PrB3-P-seKx7DSofWaFAAbJvC3aqlcalIsczfKVlY-IYJOqpDRLJ9GeDxpgwqAWTxdHBASPQ9VpijZ3wQE8uoPYb8_Tydx88zgWCOgw0gEvezSHbS8YE7iPLZ10471O88w19Nj8M1eez8yLPSW7extua7mgPIJH8ycjxR0k5V0zaHW6udN3UfD18KsUErg==\">2026年の祝日</a>\\n  </div>\\n</div>\\n'}, 'groundingChunks': [{'web': {'uri': 'https://vertexaisearch.cloud.google.com/grounding-api-redirect/AbF9wXHclzQIzendc5NsQDY5jlOUFbXjdugy6MMn6UsCYBrRO5cy4SI_h00_etUkumwUCGcCOl81o31MK3EvpFYKHGa0HXuCw075mfvS6jsXimQI5oEOD-ufr2VjmGGkr_MxKND1mxlT2B15fnNW8vo=', 'title': 'family-life.work', 'domain': 'family-life.work'}}, {'web': {'uri': 'https://vertexaisearch.cloud.google.com/grounding-api-redirect/AbF9wXF1-f4iJdAX4m1fqtZ87t6-JsU34tUsM2OCJdXi2EmKCxBo5QpDznNexV9gWES3dTlLqaGwJjuymFyj2aAhiR93YDdUKHa-Sxtuz3nBceTC-em2oaQbsqhc1ri2c8iyMG089JmzyMn7A7fKP1iRz7JaO7WUKLo=', 'title': 'akala.ai', 'domain': 'akala.ai'}}, {'web': {'uri': 'https://vertexaisearch.cloud.google.com/grounding-api-redirect/AbF9wXEMxR53-rFiaxM3ZXYloKguFRNqTsDg0nB0N2m-aB750roc0ImaxneQoWcikTibPVdCpyAFNS4TQLqfG8-jd7WY45BKqLb4SjmxBbP41RCG-gzLtyij55JZkFb1_ZWICdFOtp_wJIC5yw==', 'title': 'fragment-database.com', 'domain': 'fragment-database.com'}}, {'web': {'uri': 'https://vertexaisearch.cloud.google.com/grounding-api-redirect/AbF9wXHFzk0cAl0p9U6jbdhzsoxtdqdUcUDq4HLRMSpgIlAY0ijNMjjy1zq56VckXzDAur3a3QIPG_ujsy9k7bSHhnXSH86S65gX8MBBjyWKjCQZboD8-nqEjskgA36NGPfTkesx3s4njE0=', 'title': 'nippon.com', 'domain': 'nippon.com'}}], 'groundingSupports': [{'segment': {'startIndex': 120, 'endIndex': 239, 'text': '2026年のゴールデンウィークについてですが、カレンダー通りだと5連休になる見込みです'}, 'groundingChunkIndices': [0, 1, 2]}, {'segment': {'startIndex': 241, 'endIndex': 345, 'text': '具体的には、5月2日（土）から5月6日（水・振替休日）までが5連休となります'}, 'groundingChunkIndices': [0, 1]}, {'segment': {'startIndex': 348, 'endIndex': 492, 'text': 'ただし、4月29日（昭和の日）が水曜日で、その前後の平日を休むかどうかで、連休の日数は変わってきます'}, 'groundingChunkIndices': [1, 3]}, {'segment': {'startIndex': 494, 'endIndex': 627, 'text': '例えば、4月30日（木）と5月1日（金）を休むと8連休、さらに4月27日と28日も休むと12連休も可能です'}, 'groundingChunkIndices': [1, 3]}], 'retrievalMetadata': {}}, partial=None, turn_complete=None, error_code=None, error_message=None, interrupted=None, custom_metadata=None, invocation_id='e-22b64a5b-241f-4979-b75d-1cf14f8da147', author='search_agent', actions=EventActions(skip_summarization=None, state_delta={}, artifact_delta={}, transfer_to_agent=None, escalate=None, requested_auth_configs={}), long_running_tool_ids=None, branch=None, id='3840616655809937408', timestamp=1747344507.788258)], last_update_time=1747344510.557337)"
      ]
     },
     "execution_count": 20,
     "metadata": {},
     "output_type": "execute_result"
    }
   ],
   "source": [
    "from google.adk.sessions import VertexAiSessionService\n",
    "\n",
    "session_service = VertexAiSessionService(\n",
    "    project = PROJECT_ID,\n",
    "    location = LOCATION,\n",
    ")\n",
    "\n",
    "session = session_service.get_session(\n",
    "    app_name=app_name,\n",
    "    user_id=user_id,\n",
    "    session_id=session_id,\n",
    ")\n",
    "\n",
    "session"
   ]
  },
  {
   "cell_type": "code",
   "execution_count": 21,
   "id": "f5ade0df-17fa-48a8-b705-b5ccea3295d4",
   "metadata": {
    "tags": []
   },
   "outputs": [
    {
     "name": "stdout",
     "output_type": "stream",
     "text": [
      "2025-05-15 21:28:25.152209 user\n",
      "2025-05-15 21:28:25.215643 search_agent\n",
      "2025-05-15 21:28:27.724802 user\n",
      "2025-05-15 21:28:27.788258 search_agent\n"
     ]
    }
   ],
   "source": [
    "for event in session.events:\n",
    "    print(format_timestamp(event.timestamp), event.author)"
   ]
  },
  {
   "cell_type": "markdown",
   "id": "a29d7333-a93c-4aa7-b1c5-c04e3b49dc12",
   "metadata": {},
   "source": [
    "## 後片付け"
   ]
  },
  {
   "cell_type": "markdown",
   "id": "f50a91bc-d0cd-4cc0-a112-26ab1ee10d14",
   "metadata": {
    "tags": []
   },
   "source": [
    "デプロイ済みのエージェントをまとめて削除します。"
   ]
  },
  {
   "cell_type": "code",
   "execution_count": 37,
   "id": "bea2da56-1078-4524-a439-39baf7f27b8a",
   "metadata": {
    "tags": []
   },
   "outputs": [
    {
     "name": "stdout",
     "output_type": "stream",
     "text": [
      "projects/879055303739/locations/us-central1/reasoningEngines/3271240606680088576\n",
      "Delete Agent Engine backing LRO: projects/879055303739/locations/us-central1/operations/4073233562030047232\n",
      "Agent Engine deleted. Resource name: projects/879055303739/locations/us-central1/reasoningEngines/3271240606680088576\n"
     ]
    }
   ],
   "source": [
    "for agent in agent_engines.list():\n",
    "    print(agent.gca_resource.name)\n",
    "    agent.delete(force=True)"
   ]
  }
 ],
 "metadata": {
  "environment": {
   "kernel": "conda-base-py",
   "name": "workbench-notebooks.m129",
   "type": "gcloud",
   "uri": "us-docker.pkg.dev/deeplearning-platform-release/gcr.io/workbench-notebooks:m129"
  },
  "kernelspec": {
   "display_name": "Python 3 (ipykernel)",
   "language": "python",
   "name": "conda-base-py"
  },
  "language_info": {
   "codemirror_mode": {
    "name": "ipython",
    "version": 3
   },
   "file_extension": ".py",
   "mimetype": "text/x-python",
   "name": "python",
   "nbconvert_exporter": "python",
   "pygments_lexer": "ipython3",
   "version": "3.10.16"
  }
 },
 "nbformat": 4,
 "nbformat_minor": 5
}
