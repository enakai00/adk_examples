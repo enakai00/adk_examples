{
 "cells": [
  {
   "cell_type": "markdown",
   "id": "c4e6503a-c9b5-497c-84a0-3d787409e684",
   "metadata": {
    "tags": []
   },
   "source": [
    "# Agent Engine に ADK のエージェントをデプロイして Trace Explorer でトレースを確認"
   ]
  },
  {
   "cell_type": "markdown",
   "id": "9c3cc4d8-742b-4421-b450-5f06e8f2a0c7",
   "metadata": {
    "tags": []
   },
   "source": [
    "## 事前準備"
   ]
  },
  {
   "cell_type": "markdown",
   "id": "c93ad445-56c7-4505-ae5a-4d5306efd689",
   "metadata": {},
   "source": [
    "1. Google Cloud の新しいプロジェクトを作成します。\n",
    "2. Cloud Shell を開いて、次のコマンドで API を有効化します。\n",
    "```\n",
    "gcloud services enable \\\n",
    "  aiplatform.googleapis.com \\\n",
    "  notebooks.googleapis.com \\\n",
    "  cloudresourcemanager.googleapis.com\n",
    "\n",
    "```\n",
    "3. 次のコマンドで Vertex AI Workbench のインスタンスを作成します。\n",
    "```\n",
    "PROJECT_ID=$(gcloud config list --format 'value(core.project)')\n",
    "gcloud workbench instances create agent-development \\\n",
    "  --project=$PROJECT_ID \\\n",
    "  --location=us-central1-a \\\n",
    "  --machine-type=e2-standard-2\n",
    "```\n",
    "\n",
    "4. クラウドコンソールのナビゲーションメニューから「Vertex AI」→「Workbench」を選択すると、作成したインスタンス agent-develpment があります。インスタンスの起動が完了するのを待って、「JUPYTERLAB を開く」をクリックしたら、「Python 3(ipykernel)」の新規ノートブックを作成します。\n",
    "\n",
    "5. この後は、ノートブック上で以下のコマンドを実行していきます。"
   ]
  },
  {
   "cell_type": "markdown",
   "id": "70ed77f6-8bb7-406f-8f91-e79370b32394",
   "metadata": {
    "tags": []
   },
   "source": [
    "## ADK パッケージのインストール"
   ]
  },
  {
   "cell_type": "code",
   "execution_count": null,
   "id": "c2a46ff3-934b-4d5d-bb0a-c887f296c01a",
   "metadata": {},
   "outputs": [],
   "source": [
    "%pip install --upgrade --user \\\n",
    "    google-adk==1.2.1 \\\n",
    "    google-cloud-aiplatform==1.96.0"
   ]
  },
  {
   "cell_type": "markdown",
   "id": "ec254a63-03f5-4973-aa23-03f2f8521f4a",
   "metadata": {},
   "source": [
    "インストールしたパッケージを利用可能にするために、次のコマンドでカーネルを再起動します。\n",
    "\n",
    "再起動を確認するポップアップが表示されるので [Ok] をクリックします。"
   ]
  },
  {
   "cell_type": "code",
   "execution_count": 2,
   "id": "915482d8-cff4-46e2-a826-94bf6cb8277d",
   "metadata": {},
   "outputs": [],
   "source": [
    "import IPython\n",
    "app = IPython.Application.instance()\n",
    "_ = app.kernel.do_shutdown(True)"
   ]
  },
  {
   "cell_type": "markdown",
   "id": "419007fb-f199-41e0-8410-d4d988179248",
   "metadata": {
    "tags": []
   },
   "source": [
    "## Search Agent App の作成"
   ]
  },
  {
   "cell_type": "code",
   "execution_count": 2,
   "id": "8722e641-cd9a-4e73-9622-427ea35c8bde",
   "metadata": {
    "tags": []
   },
   "outputs": [],
   "source": [
    "import copy, datetime, json, os, pprint, time, uuid\n",
    "import vertexai\n",
    "from vertexai import agent_engines\n",
    "\n",
    "from google.genai.types import Part, Content\n",
    "from google.adk.agents.llm_agent import LlmAgent\n",
    "from google.adk.artifacts import InMemoryArtifactService\n",
    "from google.adk.memory.in_memory_memory_service import InMemoryMemoryService\n",
    "from google.adk.sessions import InMemorySessionService\n",
    "from google.adk.runners import Runner\n",
    "from google.adk.tools import google_search\n",
    "\n",
    "[PROJECT_ID] = !gcloud config list --format 'value(core.project)'\n",
    "LOCATION = 'us-central1'\n",
    "\n",
    "vertexai.init(\n",
    "    project=PROJECT_ID, location=LOCATION,\n",
    "    staging_bucket=f'gs://{PROJECT_ID}'\n",
    ")\n",
    "os.environ['GOOGLE_CLOUD_PROJECT'] = PROJECT_ID\n",
    "os.environ['GOOGLE_CLOUD_LOCATION'] = LOCATION\n",
    "os.environ['GOOGLE_GENAI_USE_VERTEXAI'] = 'True'"
   ]
  },
  {
   "cell_type": "code",
   "execution_count": 3,
   "id": "1bd94203-da07-413e-9d85-94cfcfbaa8bc",
   "metadata": {
    "tags": []
   },
   "outputs": [],
   "source": [
    "instruction = '''\n",
    "You are a friendly AI assistant that answers user's queries.\n",
    "Use google_search to give answers based on the latest and objective information.\n",
    "\n",
    "[Format instruction]\n",
    "Output in Japanese, in plain text only.\n",
    "Avoid adding citation marks such as [1][2].\n",
    "'''\n",
    "\n",
    "search_agent = LlmAgent(\n",
    "    name='search_agent',\n",
    "    model='gemini-2.0-flash-001',\n",
    "    description='Agent to answer questions using Google Search.',\n",
    "    instruction=instruction,\n",
    "    tools=[google_search]\n",
    ")"
   ]
  },
  {
   "cell_type": "code",
   "execution_count": 10,
   "id": "d94ab67e-99e0-498d-8095-81ca07156c9e",
   "metadata": {
    "tags": []
   },
   "outputs": [],
   "source": [
    "class LocalApp:\n",
    "    def __init__(self, agent, app_name='default_app', user_id='default_user'):\n",
    "        self._agent = agent\n",
    "        self._app_name = app_name\n",
    "        self._user_id = user_id\n",
    "        self._runner = Runner(\n",
    "            app_name=self._app_name,\n",
    "            agent=self._agent,\n",
    "            artifact_service=InMemoryArtifactService(),\n",
    "            session_service=InMemorySessionService(),\n",
    "            memory_service=InMemoryMemoryService(),\n",
    "        )\n",
    "        self._session = None\n",
    "        \n",
    "    async def stream(self, query):\n",
    "        if not self._session:\n",
    "            self._session = await self._runner.session_service.create_session(\n",
    "                app_name=self._app_name,\n",
    "                user_id=self._user_id,\n",
    "                session_id=uuid.uuid4().hex,\n",
    "            )\n",
    "        content = Content(role='user', parts=[Part.from_text(text=query)])\n",
    "        async_events = self._runner.run_async(\n",
    "            user_id=self._user_id,\n",
    "            session_id=self._session.id,\n",
    "            new_message=content,\n",
    "        )\n",
    "        result = []\n",
    "        async for event in async_events:\n",
    "            if (event.content and event.content.parts):\n",
    "                response = '\\n'.join([p.text for p in event.content.parts if p.text])\n",
    "                if response:\n",
    "                    print(response)\n",
    "                    result.append(response)\n",
    "        return result"
   ]
  },
  {
   "cell_type": "markdown",
   "id": "0fc6b082-b4ec-49e4-9e27-7292607ee741",
   "metadata": {
    "tags": []
   },
   "source": [
    "## 実行例"
   ]
  },
  {
   "cell_type": "code",
   "execution_count": 11,
   "id": "8fe01b19-76b3-4eac-a2a3-5796386d06cb",
   "metadata": {
    "tags": []
   },
   "outputs": [
    {
     "name": "stdout",
     "output_type": "stream",
     "text": [
      "高田馬場のおすすめカレー店について調べてみます。\n",
      "\n",
      "\n",
      " 高田馬場には美味しいカレー屋がたくさんありますね！ おすすめのお店をいくつかご紹介します。\n",
      "\n",
      "*   **カレーハウス 横浜ボンベイ:** サラッとしたルーが特徴で、特に「カシミールカレー」が人気です。野菜の甘みと20種類のスパイスが絶妙にマッチした極辛口カレーです。\n",
      "*   **カリーライス専門店 エチオピア:** 長時間煮込んだ野菜が美味しいトロトロカレーが楽しめます。平日限定の「ポーク野菜カリー」もおすすめです。\n",
      "*   **カレーライス専門店ブラザー:** 鯖キーマカレーが人気のお店です。\n",
      "*   **プネウマカレー:** コスパが良いと評判のお店です。\n",
      "*   **カレーハウス リオ 高田馬場店:** 2025年6月12日にオープンしたばかりのお店で、三元豚カツカレーや半スパカレー（ナポリタン）がおすすめです。\n",
      "\n",
      "他にも、Rettyの記事では以下のカレー店がおすすめとして紹介されています。\n",
      "\n",
      "*   **アプサラ:** スリランカカレーが人気です。\n",
      "*   **まっちゃんカレー:** ロックなキーマカレーが楽しめます。\n",
      "\n",
      "食べログでは、以下のカレー店がランキング上位に入っています。\n",
      "\n",
      "1.  カレーライス専門店 ブラザー\n",
      "2.  エチオピアカリーキッチン 高田馬場店\n",
      "3.  プネウマカレー\n",
      "4.  横浜ボンベイ 高田馬場店\n",
      "5.  白カレーの店 1/f ゆらぎ\n",
      "\n",
      "これらの情報を参考に、ぜひ高田馬場でカレー屋さん巡りを楽しんでみてください。\n",
      "\n"
     ]
    }
   ],
   "source": [
    "client = LocalApp(search_agent)\n",
    "query = '''\n",
    "高田馬場のおすすめのカレー屋は？\n",
    "'''\n",
    "_ = await client.stream(query)"
   ]
  },
  {
   "cell_type": "markdown",
   "id": "1af5ce4f-ad07-4ff1-8b5a-a692c72136ad",
   "metadata": {
    "tags": []
   },
   "source": [
    "## AgentEngine へのデプロイ"
   ]
  },
  {
   "cell_type": "markdown",
   "id": "85ef702a-956b-45f8-950c-28000418829a",
   "metadata": {},
   "source": [
    "作成したエージェント `search_agent` にトレーシング機能を付与して、Agent Engine にデプロイします。\n"
   ]
  },
  {
   "cell_type": "code",
   "execution_count": 6,
   "id": "a70d1459-4afd-4d07-b25e-21b32c708396",
   "metadata": {
    "tags": []
   },
   "outputs": [
    {
     "name": "stdout",
     "output_type": "stream",
     "text": [
      "Identified the following requirements: {'pydantic': '2.11.5', 'cloudpickle': '3.1.1', 'google-cloud-aiplatform': '1.96.0'}\n",
      "The following requirements are missing: {'pydantic', 'cloudpickle', 'google-cloud-aiplatform'}\n",
      "The following requirements are appended: {'pydantic==2.11.5', 'cloudpickle==3.1.1'}\n",
      "The final list of requirements: ['google-adk==1.2.1', 'pydantic==2.11.5', 'cloudpickle==3.1.1']\n",
      "Using bucket etsuji-15pro-poc\n",
      "Wrote to gs://etsuji-15pro-poc/agent_engine/agent_engine.pkl\n",
      "Writing to gs://etsuji-15pro-poc/agent_engine/requirements.txt\n",
      "Creating in-memory tarfile of extra_packages\n",
      "Writing to gs://etsuji-15pro-poc/agent_engine/dependencies.tar.gz\n",
      "Creating AgentEngine\n",
      "Create AgentEngine backing LRO: projects/879055303739/locations/us-central1/reasoningEngines/2504115742027284480/operations/4417645134070415360\n",
      "View progress and logs at https://console.cloud.google.com/logs/query?project=etsuji-15pro-poc\n",
      "AgentEngine created. Resource name: projects/879055303739/locations/us-central1/reasoningEngines/2504115742027284480\n",
      "To use this AgentEngine in another session:\n",
      "agent_engine = vertexai.agent_engines.get('projects/879055303739/locations/us-central1/reasoningEngines/2504115742027284480')\n"
     ]
    }
   ],
   "source": [
    "from vertexai import agent_engines\n",
    "from vertexai.preview.reasoning_engines import AdkApp\n",
    "\n",
    "app = AdkApp(\n",
    "    agent=search_agent,\n",
    "    enable_tracing=True,\n",
    ")  \n",
    "\n",
    "remote_agent = agent_engines.create(\n",
    "    agent_engine=app,\n",
    "    display_name='interactive_agent',\n",
    "    requirements=[\n",
    "        'google-adk==1.2.1'\n",
    "    ]\n",
    ")"
   ]
  },
  {
   "cell_type": "markdown",
   "id": "86b5feaf-4916-4253-b783-d4d30dcb8fd2",
   "metadata": {},
   "source": [
    "デプロイしたエージェントの ID を確認します。この ID は後ほど使用します。"
   ]
  },
  {
   "cell_type": "code",
   "execution_count": 7,
   "id": "febb3641-bd6b-4bff-a41d-f026d2f08661",
   "metadata": {
    "tags": []
   },
   "outputs": [
    {
     "name": "stdout",
     "output_type": "stream",
     "text": [
      "2504115742027284480\n"
     ]
    }
   ],
   "source": [
    "print(remote_agent.name)"
   ]
  },
  {
   "cell_type": "markdown",
   "id": "6c1aa15a-854b-40ab-a6e2-4fffb7816d58",
   "metadata": {},
   "source": [
    "## 実行例"
   ]
  },
  {
   "cell_type": "markdown",
   "id": "c1f9a4dc-bdd8-49f9-8dfa-79d6600ba3c6",
   "metadata": {},
   "source": [
    "### ノートブック上で試す場合"
   ]
  },
  {
   "cell_type": "code",
   "execution_count": 8,
   "id": "932a6534-189a-467b-8fe0-b43572d3007c",
   "metadata": {
    "tags": []
   },
   "outputs": [],
   "source": [
    "class RemoteApp:\n",
    "    def __init__(self, remote_agent, user_id='default_user'):\n",
    "        self._remote_agent = remote_agent\n",
    "        self._user_id = user_id\n",
    "        self._session = remote_agent.create_session(user_id=self._user_id)\n",
    "    \n",
    "    def _stream(self, query):\n",
    "        events = self._remote_agent.stream_query(\n",
    "            user_id=self._user_id,\n",
    "            session_id=self._session['id'],\n",
    "            message=query,\n",
    "        )\n",
    "        result = []\n",
    "        for event in events:\n",
    "            if ('content' in event and 'parts' in event['content']):\n",
    "                response = '\\n'.join(\n",
    "                    [p['text'] for p in event['content']['parts'] if 'text' in p]\n",
    "                )\n",
    "                if response:\n",
    "                    print(response)\n",
    "                    result.append(response)\n",
    "        return result\n",
    "\n",
    "    def stream(self, query):\n",
    "        # Retry 4 times in case of resource exhaustion \n",
    "        for c in range(4):\n",
    "            if c > 0:\n",
    "                time.sleep(2**(c-1))\n",
    "            result = self._stream(query)\n",
    "            if result:\n",
    "                return result\n",
    "            if DEBUG:\n",
    "                print('----\\nRetrying...\\n----')\n",
    "        return None # Permanent error"
   ]
  },
  {
   "cell_type": "code",
   "execution_count": 12,
   "id": "d614f2fb-2d9d-4e2b-9175-f603677aefbc",
   "metadata": {
    "tags": []
   },
   "outputs": [
    {
     "name": "stdout",
     "output_type": "stream",
     "text": [
      " 今年のゴールデンウィーク（2025年）は、祝日の並びがあまり良くありません。\n",
      "\n",
      "*   **カレンダー通りの場合:** 5月3日（憲法記念日）～6日（みどりの日の振替休日）の4連休がメインとなります。\n",
      "*   **最大:** 4月28日(月)と、4月30日(水)～5月2日（金）に休みを取ると、最大11連休にすることも可能です。\n",
      "*   **8連休:** 4月30日(水)、5月1日(木)・2日(金)に休みを取れば、4月29日(火・祝)から5月7日(火・振休)まで8連休にできます。\n",
      "*   **前半・後半に分かれた4連休:** 4月28日(月)だけでも休めれば、4月26日(土)～29日(火・昭和の日)と、5月3日(土・憲法記念日)～6日(火・振替休日)にそれぞれ4連休を取れます。\n"
     ]
    }
   ],
   "source": [
    "remote_client = RemoteApp(remote_agent)\n",
    "query = '''\n",
    "今年のゴールデンウィークは、何連休でしょうか？\n",
    "'''\n",
    "_ = remote_client.stream(query)"
   ]
  },
  {
   "cell_type": "code",
   "execution_count": 13,
   "id": "c8856714-e948-4d0c-b7c5-47a41d1ecfe3",
   "metadata": {
    "tags": []
   },
   "outputs": [
    {
     "name": "stdout",
     "output_type": "stream",
     "text": [
      " 来年（2026年）のゴールデンウィークは、5月2日（土）から5月6日（水）までの5連休です。\n",
      "\n"
     ]
    }
   ],
   "source": [
    "query = '''\n",
    "来年はどうなりますか？\n",
    "'''\n",
    "_ = remote_client.stream(query)"
   ]
  },
  {
   "cell_type": "markdown",
   "id": "5f5f769b-713a-4e90-b752-07227fa06afe",
   "metadata": {},
   "source": [
    "### ADK web の UI を使用する場合"
   ]
  },
  {
   "cell_type": "markdown",
   "id": "a529694a-d1a4-438f-85bf-ce6c164d9194",
   "metadata": {},
   "source": [
    "GUI のチャット画面（ADK web）を試したい場合は、Cloud Shell から次の手順で試す事ができます。\n",
    "\n",
    "※ あくまでお試し用の手順なので、ADK web のすべての機能は使用できません。簡易的な動作確認として利用してください。"
   ]
  },
  {
   "cell_type": "markdown",
   "id": "ca487815-90a7-40ab-970a-25e06f8589f8",
   "metadata": {},
   "source": [
    "1. 作業用ディレクトリ `workdir` を作成して、カレントディレクトリに変更します。\n",
    "\n",
    "```\n",
    "mkdir workdir\n",
    "cd workdir\n",
    "```\n",
    "\n",
    "2. `google-adk` のパッケージをインストールします。\n",
    "\n",
    "```\n",
    "python -m venv .venv\n",
    "source .venv/bin/activate\n",
    "pip install google-adk==1.2.1\n",
    "```\n",
    "\n",
    "3. リモートエージェントに接続するコードを用意します。\n",
    "\n",
    "```\n",
    "mkdir agent\n",
    "cat <<EOF >agent/agent.py\n",
    "import os\n",
    "from uuid import uuid4\n",
    "from dotenv import load_dotenv\n",
    "from google.adk.agents.callback_context import CallbackContext\n",
    "from google.adk.models import LlmResponse, LlmRequest\n",
    "from google.adk.agents.llm_agent import LlmAgent\n",
    "from google.genai.types import Content, Part\n",
    "\n",
    "import vertexai\n",
    "from vertexai import agent_engines\n",
    "\n",
    "load_dotenv('.env')\n",
    "PROJECT_ID = os.environ['PROJECT_ID']\n",
    "AGENT_ID = os.environ['AGENT_ID']\n",
    "LOCATION = 'us-central1'\n",
    "\n",
    "vertexai.init(project=PROJECT_ID, location=LOCATION)\n",
    "remote_agent = agent_engines.get(AGENT_ID)\n",
    "\n",
    "async def call_remote_agent(\n",
    "    callback_context: CallbackContext, llm_request: LlmRequest\n",
    ") -> LlmResponse:\n",
    "    session = remote_agent.create_session(user_id='default_user')\n",
    "    events = remote_agent.stream_query(\n",
    "                user_id='default_user',\n",
    "                session_id=session['id'],\n",
    "                message=str(llm_request.contents)\n",
    "             )\n",
    "    content = list(events)[-1]['content']\n",
    "    remote_agent.delete_session(\n",
    "        user_id='default_user',\n",
    "        session_id=session['id'],\n",
    "    )\n",
    "    return LlmResponse(content=content)\n",
    "\n",
    "root_agent = LlmAgent(\n",
    "    name='remote_agent_proxy',\n",
    "    model='gemini-2.0-flash', # not used\n",
    "    description='Interactive agent',\n",
    "    before_model_callback=call_remote_agent,\n",
    ")\n",
    "EOF\n",
    "```\n",
    "\n",
    "4. 設定ファイル `agent/.env` を次の内容で作成します。（`your project ID` と `your agent ID` は実際のプロジェクト ID と先ほど確認したエージェントの ID を記入します。）\n",
    "\n",
    "```\n",
    "PROJECT_ID=\"your project ID\"\n",
    "AGENT_ID=\"your agent ID\"\n",
    "```\n",
    "\n",
    "5. チャットアプリ（ADK web）を起動します。\n",
    "\n",
    "```\n",
    "adk web\n",
    "```\n",
    "\n",
    "6. Cloud Shell の「Web でプレビュー」ボタンからポート 8000 に接続して使用します。"
   ]
  },
  {
   "cell_type": "markdown",
   "id": "6fba8855-27eb-42c1-8e46-b7673135efc3",
   "metadata": {},
   "source": [
    "## トレースの確認"
   ]
  },
  {
   "cell_type": "markdown",
   "id": "af8b5de1-96d2-47f2-a244-839378d60993",
   "metadata": {},
   "source": [
    "Cloud Console の [Trace Explorer](https://console.cloud.google.com/traces/list) から Agent Engine 上で実行されたエージェントのトレースが確認できます。"
   ]
  },
  {
   "cell_type": "markdown",
   "id": "a29d7333-a93c-4aa7-b1c5-c04e3b49dc12",
   "metadata": {
    "tags": []
   },
   "source": [
    "## 後片付け"
   ]
  },
  {
   "cell_type": "markdown",
   "id": "0532da30-86e5-4e65-a766-4e2ff497c0d8",
   "metadata": {},
   "source": [
    "デプロイしたエージェントを削除します。"
   ]
  },
  {
   "cell_type": "code",
   "execution_count": 14,
   "id": "662cff41-1860-47e9-ae44-4e092ebc2659",
   "metadata": {
    "tags": []
   },
   "outputs": [
    {
     "name": "stdout",
     "output_type": "stream",
     "text": [
      "Delete Agent Engine backing LRO: projects/879055303739/locations/us-central1/operations/2578769111219699712\n",
      "Agent Engine deleted. Resource name: projects/879055303739/locations/us-central1/reasoningEngines/2504115742027284480\n"
     ]
    }
   ],
   "source": [
    "remote_agent.delete(force=True)"
   ]
  },
  {
   "cell_type": "markdown",
   "id": "f50a91bc-d0cd-4cc0-a112-26ab1ee10d14",
   "metadata": {
    "tags": []
   },
   "source": [
    "デプロイ済みのエージェントをまとめて削除する場合は、次を実行します。"
   ]
  },
  {
   "cell_type": "code",
   "execution_count": null,
   "id": "bea2da56-1078-4524-a439-39baf7f27b8a",
   "metadata": {
    "tags": []
   },
   "outputs": [],
   "source": [
    "from vertexai import agent_engines\n",
    "for agent in agent_engines.list():\n",
    "    print(f'{agent.display_name}, {agent.gca_resource.name}')\n",
    "    agent.delete(force=True)"
   ]
  }
 ],
 "metadata": {
  "environment": {
   "kernel": "conda-base-py",
   "name": "workbench-notebooks.m129",
   "type": "gcloud",
   "uri": "us-docker.pkg.dev/deeplearning-platform-release/gcr.io/workbench-notebooks:m129"
  },
  "kernelspec": {
   "display_name": "Python 3 (ipykernel)",
   "language": "python",
   "name": "conda-base-py"
  },
  "language_info": {
   "codemirror_mode": {
    "name": "ipython",
    "version": 3
   },
   "file_extension": ".py",
   "mimetype": "text/x-python",
   "name": "python",
   "nbconvert_exporter": "python",
   "pygments_lexer": "ipython3",
   "version": "3.10.16"
  }
 },
 "nbformat": 4,
 "nbformat_minor": 5
}
