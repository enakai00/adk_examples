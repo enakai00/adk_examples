{
 "cells": [
  {
   "cell_type": "markdown",
   "id": "e45929bb-6ef2-4025-9dc0-af720c63d545",
   "metadata": {
    "tags": []
   },
   "source": [
    "# Agent Development Kit integration with Google Login"
   ]
  },
  {
   "cell_type": "markdown",
   "id": "801105cf-81f2-407e-b205-ecff2c699d52",
   "metadata": {},
   "source": [
    "This notebook demonstrates a working ADK agent with integrated Google login.\n",
    "\n",
    "**Key highlights**:\n",
    "- The agent proactively requests authentication when necessary, directing the application to the Google login screen.\n",
    "- An encrypted token is stored in the session state and reused by the agent.\n",
    "- Client secrets and the encryption key are securely managed within Secret Manager.\n",
    "\n",
    "The implementation follows the official guide.\n",
    "- [Authenticating with Tools](https://google.github.io/adk-docs/tools/authentication/)\n",
    "\n",
    "**Note**:\n",
    "The client secrets shown within this notebook belong to a non-existent project and cannot actually be used."
   ]
  },
  {
   "cell_type": "markdown",
   "id": "96467633-2254-424d-bd82-184d9afcb998",
   "metadata": {
    "jp-MarkdownHeadingCollapsed": true,
    "tags": []
   },
   "source": [
    "## Preparation"
   ]
  },
  {
   "cell_type": "markdown",
   "id": "ba0a7fde-8826-4e96-8a97-0649dd5bf4f8",
   "metadata": {},
   "source": [
    "1. Enable APIs (Run on Cloud Shell)\n",
    "```bash\n",
    "gcloud services enable \\\n",
    "  aiplatform.googleapis.com \\\n",
    "  notebooks.googleapis.com \\\n",
    "  cloudresourcemanager.googleapis.com \\\n",
    "  calendar-json.googleapis.com \\\n",
    "  secretmanager.googleapis.com\n",
    "```\n",
    "\n",
    "2. Add `secretmanager.secretAccessor` role to Compute Engine default service account. (Run on Cloud Shell)\n",
    "```bash\n",
    "PROJECT_ID=$(gcloud config list --format 'value(core.project)')\n",
    "PROJECT_NUMBER=$(gcloud projects describe $PROJECT_ID --format='value(projectNumber)')\n",
    "gcloud projects add-iam-policy-binding $PROJECT_ID \\\n",
    "    --member=\"serviceAccount:$PROJECT_NUMBER-compute@developer.gserviceaccount.com\" \\\n",
    "    --role='roles/secretmanager.secretAccessor'\n",
    "```\n",
    "\n",
    "3. Create Vertex AI Workbench instance (Run on Cloud Shell)\n",
    "```bash\n",
    "PROJECT_ID=$(gcloud config list --format 'value(core.project)')\n",
    "gcloud workbench instances create agent-development \\\n",
    "  --project=$PROJECT_ID \\\n",
    "  --location=us-central1-a \\\n",
    "  --machine-type=e2-standard-2\n",
    "```\n",
    "\n",
    "4. [Configure the OAuth consent screen and choose scopes](https://developers.google.com/workspace/guides/configure-oauth-consent)\n",
    "  - Select Internal user type.\n",
    " \n",
    "5. [Configure OAuth client ID credentials](https://developers.google.com/workspace/guides/create-credentials#oauth-client-id)\n",
    "  - Create \"Web application\" client and add `https://www.example.com` to the authorized redirect URI.\n",
    "  - Download the client secret JSON file as `credentials.json`\n",
    "\n",
    "6. Navigate to [Workbench Instances](https://console.cloud.google.com/vertex-ai/workbench/instances) on Cloud Console and open [JupyterLab].\n",
    "  - Open a new \"Python 3(ipykernel)\" notebook.\n",
    "  - Upload `credentials.json` to the current directory.\n",
    "  \n",
    "Now you can follow the notebook contents below."
   ]
  },
  {
   "cell_type": "code",
   "execution_count": null,
   "id": "a8d23c2e-b30f-4d1d-8df4-818d0c7bcd8e",
   "metadata": {
    "tags": []
   },
   "outputs": [],
   "source": [
    "%pip install --upgrade --user google-adk"
   ]
  },
  {
   "cell_type": "code",
   "execution_count": 4,
   "id": "bde4f8ee-be8b-48da-9461-d1081b882620",
   "metadata": {
    "tags": []
   },
   "outputs": [],
   "source": [
    "import IPython\n",
    "app = IPython.Application.instance()\n",
    "_ = app.kernel.do_shutdown(True)"
   ]
  },
  {
   "cell_type": "markdown",
   "id": "2046d382-d590-4763-8de9-9e60adc4c1c6",
   "metadata": {
    "jp-MarkdownHeadingCollapsed": true,
    "tags": []
   },
   "source": [
    "## Configure secret manager"
   ]
  },
  {
   "cell_type": "markdown",
   "id": "06548716-c2bb-4e98-8966-11abf9464174",
   "metadata": {},
   "source": [
    "Import modules and set environment variables."
   ]
  },
  {
   "cell_type": "code",
   "execution_count": 1,
   "id": "a30da185-fd3c-4875-b42c-2cf0d41c1b69",
   "metadata": {
    "tags": []
   },
   "outputs": [],
   "source": [
    "import json, os\n",
    "import vertexai\n",
    "from cryptography.fernet import Fernet\n",
    "from google.cloud import secretmanager\n",
    "\n",
    "[PROJECT_ID] = !gcloud config list --format 'value(core.project)'\n",
    "LOCATION = 'us-central1'\n",
    "\n",
    "vertexai.init(\n",
    "    project=PROJECT_ID,\n",
    "    location=LOCATION,\n",
    "    staging_bucket=f'gs://{PROJECT_ID}'\n",
    ")\n",
    "\n",
    "os.environ['GOOGLE_CLOUD_PROJECT'] = PROJECT_ID\n",
    "os.environ['GOOGLE_CLOUD_LOCATION'] = LOCATION\n",
    "os.environ['GOOGLE_GENAI_USE_VERTEXAI'] = 'True'"
   ]
  },
  {
   "cell_type": "markdown",
   "id": "a5b3090e-e87c-41ad-ad42-32841a6b1f8d",
   "metadata": {
    "tags": []
   },
   "source": [
    "Helper functions to use secret manager."
   ]
  },
  {
   "cell_type": "code",
   "execution_count": 2,
   "id": "ccc63b20-a5ef-441b-956f-fca90b6f2dfd",
   "metadata": {
    "tags": []
   },
   "outputs": [],
   "source": [
    "def create_serect(secret_id):\n",
    "    client = secretmanager.SecretManagerServiceClient()\n",
    "    response = client.create_secret(\n",
    "        request={\n",
    "            'parent': f'projects/{PROJECT_ID}',\n",
    "            'secret_id': secret_id,\n",
    "            'secret': {'replication': {'automatic': {}}},\n",
    "        }\n",
    "    )\n",
    "    return response.name\n",
    "\n",
    "def add_secret_version(secret_name, secret_value):\n",
    "    client = secretmanager.SecretManagerServiceClient()\n",
    "    if isinstance(secret_value, str):\n",
    "        payload = secret_value.encode('utf-8')\n",
    "    else:\n",
    "        payload = secret_value\n",
    "    response = client.add_secret_version(\n",
    "        request={'parent': secret_name, 'payload': {'data': payload}}\n",
    "    )\n",
    "    return response.name"
   ]
  },
  {
   "cell_type": "markdown",
   "id": "626ad715-73fe-49af-8c08-f1d677947665",
   "metadata": {
    "tags": []
   },
   "source": [
    "Create a secret `client_credentials` to store client credentials (`credentials.json`)."
   ]
  },
  {
   "cell_type": "code",
   "execution_count": 3,
   "id": "c9635b5a-d9d6-4c34-b464-5060ff233431",
   "metadata": {
    "tags": []
   },
   "outputs": [
    {
     "data": {
      "text/plain": [
       "'projects/362574666120/secrets/client_credentials'"
      ]
     },
     "execution_count": 3,
     "metadata": {},
     "output_type": "execute_result"
    }
   ],
   "source": [
    "client_credentials_name = create_serect('client_credentials')\n",
    "client_credentials_name"
   ]
  },
  {
   "cell_type": "markdown",
   "id": "c3591cf2-f6a0-4de5-b8cf-bd36c948e7ec",
   "metadata": {
    "tags": []
   },
   "source": [
    "Create a secret `token_encryption_key` to store an encryption key\n",
    "that will be used to encrypt / decrypt access tokens."
   ]
  },
  {
   "cell_type": "code",
   "execution_count": 4,
   "id": "90825349-da48-4b0d-95f7-67f7f368fc5d",
   "metadata": {
    "tags": []
   },
   "outputs": [
    {
     "data": {
      "text/plain": [
       "'projects/362574666120/secrets/token_encryption_key'"
      ]
     },
     "execution_count": 4,
     "metadata": {},
     "output_type": "execute_result"
    }
   ],
   "source": [
    "token_encryption_key_name = create_serect('token_encryption_key')\n",
    "token_encryption_key_name"
   ]
  },
  {
   "cell_type": "markdown",
   "id": "dbe43704-d474-4a3f-a458-b33f2ccb7e2a",
   "metadata": {},
   "source": [
    "Store `credentials.json` in `client_credentials` secret."
   ]
  },
  {
   "cell_type": "code",
   "execution_count": 5,
   "id": "63c3e1de-da1d-4b00-8c22-32e1e5517cc2",
   "metadata": {
    "tags": []
   },
   "outputs": [
    {
     "data": {
      "text/plain": [
       "'projects/362574666120/secrets/client_credentials/versions/1'"
      ]
     },
     "execution_count": 5,
     "metadata": {},
     "output_type": "execute_result"
    }
   ],
   "source": [
    "with open('credentials.json', 'rt') as f:\n",
    "    client_credentials = f.read()\n",
    "add_secret_version(client_credentials_name, client_credentials)"
   ]
  },
  {
   "cell_type": "markdown",
   "id": "a360c59a-a692-434e-8bb5-ea4d90411672",
   "metadata": {},
   "source": [
    "Create and store an encryption key in `token_encryption_key` secret."
   ]
  },
  {
   "cell_type": "code",
   "execution_count": 6,
   "id": "4a232131-ee98-4b66-99e9-29a2e1826e9a",
   "metadata": {
    "tags": []
   },
   "outputs": [
    {
     "data": {
      "text/plain": [
       "'projects/362574666120/secrets/token_encryption_key/versions/1'"
      ]
     },
     "execution_count": 6,
     "metadata": {},
     "output_type": "execute_result"
    }
   ],
   "source": [
    "key = Fernet.generate_key()\n",
    "add_secret_version(token_encryption_key_name, key)"
   ]
  },
  {
   "cell_type": "markdown",
   "id": "ddcd3400-a23c-45b7-bbfb-b9e1d70c4627",
   "metadata": {
    "tags": []
   },
   "source": [
    "Define helper functions to use secrets."
   ]
  },
  {
   "cell_type": "code",
   "execution_count": 7,
   "id": "16a26743-95c4-4563-9235-e573527b2208",
   "metadata": {
    "tags": []
   },
   "outputs": [],
   "source": [
    "def get_client_credentials():\n",
    "    client = secretmanager.SecretManagerServiceClient()\n",
    "    name = f'projects/{PROJECT_ID}/secrets/client_credentials/versions/latest'\n",
    "    response = client.access_secret_version(name=name)\n",
    "    return json.loads(response.payload.data.decode('utf-8'))\n",
    "\n",
    "def get_encryption_key():\n",
    "    client = secretmanager.SecretManagerServiceClient()\n",
    "    name = f'projects/{PROJECT_ID}/secrets/token_encryption_key/versions/latest'\n",
    "    response = client.access_secret_version(name=name)\n",
    "    return response.payload.data\n",
    "\n",
    "def encrypt_token(token: str) -> str:\n",
    "    f = Fernet(get_encryption_key())\n",
    "    encrypted_token = f.encrypt(token.encode()).decode()\n",
    "    return encrypted_token\n",
    "\n",
    "def decrypt_token(encrypted_token: str) -> str:\n",
    "    f = Fernet(get_encryption_key())\n",
    "    decrypted_token = f.decrypt(encrypted_token.encode()).decode()\n",
    "    return decrypted_token"
   ]
  },
  {
   "cell_type": "code",
   "execution_count": 8,
   "id": "cf20e597-2514-4f48-9679-7962e3143c81",
   "metadata": {
    "tags": []
   },
   "outputs": [
    {
     "data": {
      "text/plain": [
       "{'client_id': '__masked__.apps.googleusercontent.com',\n",
       " 'project_id': '__masked__',\n",
       " 'auth_uri': 'https://accounts.google.com/o/oauth2/auth',\n",
       " 'token_uri': 'https://oauth2.googleapis.com/token',\n",
       " 'auth_provider_x509_cert_url': 'https://www.googleapis.com/oauth2/v1/certs',\n",
       " 'client_secret': '__masked__',\n",
       " 'redirect_uris': ['https://www.example.com']}"
      ]
     },
     "execution_count": 8,
     "metadata": {},
     "output_type": "execute_result"
    }
   ],
   "source": [
    "get_client_credentials()['web']"
   ]
  },
  {
   "cell_type": "markdown",
   "id": "59531046-a74f-42c1-a77a-e18c81df19ce",
   "metadata": {
    "jp-MarkdownHeadingCollapsed": true,
    "tags": []
   },
   "source": [
    "## Helper functions to handle authentication during a session"
   ]
  },
  {
   "cell_type": "code",
   "execution_count": 9,
   "id": "276103b1-35a3-4b51-a7f2-b8835163228d",
   "metadata": {
    "tags": []
   },
   "outputs": [],
   "source": [
    "from fastapi.openapi.models import (\n",
    "    OAuth2, OAuthFlowAuthorizationCode, OAuthFlows\n",
    ")\n",
    "from google.oauth2.credentials import Credentials\n",
    "from google.auth.transport.requests import Request\n",
    "from google.adk.auth import (\n",
    "    AuthCredential, AuthCredentialTypes,\n",
    "    OAuth2Auth, AuthConfig\n",
    ")\n",
    "\n",
    "from google.genai.types import (\n",
    "    FunctionResponse, Part, UserContent\n",
    ")\n",
    "from google.adk.events import Event, EventActions\n",
    "from google.adk.tools import ToolContext\n",
    "from google.adk.agents.llm_agent import LlmAgent\n",
    "from google.adk.runners import Runner\n",
    "from google.adk.artifacts import InMemoryArtifactService\n",
    "from google.adk.memory.in_memory_memory_service import InMemoryMemoryService\n",
    "from google.adk.sessions import InMemorySessionService"
   ]
  },
  {
   "cell_type": "code",
   "execution_count": 10,
   "id": "7655ca27-27a0-4602-8928-cec3560b1462",
   "metadata": {
    "tags": []
   },
   "outputs": [],
   "source": [
    "client_creds = get_client_credentials()['web']\n",
    "\n",
    "auth_scheme = OAuth2(\n",
    "    flows=OAuthFlows(\n",
    "        authorizationCode=OAuthFlowAuthorizationCode(\n",
    "            authorizationUrl='https://accounts.google.com/o/oauth2/auth',\n",
    "            tokenUrl='https://oauth2.googleapis.com/token',\n",
    "            scopes={\n",
    "                'https://www.googleapis.com/auth/calendar': 'calendar scope'\n",
    "            },\n",
    "        )\n",
    "    )\n",
    ")\n",
    "\n",
    "auth_credential = AuthCredential(\n",
    "    auth_type=AuthCredentialTypes.OAUTH2,\n",
    "    oauth2=OAuth2Auth(\n",
    "        client_id=client_creds['client_id'],\n",
    "        client_secret=client_creds['client_secret'],\n",
    "    ),\n",
    ")"
   ]
  },
  {
   "cell_type": "markdown",
   "id": "3348af7a-975d-4f1c-8d26-2f7565f0d72e",
   "metadata": {},
   "source": [
    "Function to get a credential using the token stored in the session state."
   ]
  },
  {
   "cell_type": "code",
   "execution_count": 37,
   "id": "9fdf02ab-4304-4450-8246-2aafdebece35",
   "metadata": {
    "tags": []
   },
   "outputs": [],
   "source": [
    "def get_credential(tool_context, scopes):\n",
    "    TOKEN_CACHE_KEY = 'encripted_token'\n",
    "    creds = None\n",
    "    cached_encripted_token = tool_context.state.get(TOKEN_CACHE_KEY)\n",
    "    \n",
    "    if cached_encripted_token: # Token is stored in the session state.\n",
    "        token_info = json.loads(decrypt_token(cached_encripted_token))\n",
    "        # Construct a credential from the token, and refresh the token if necessary.\n",
    "        try:\n",
    "            creds = Credentials.from_authorized_user_info(token_info, scopes)\n",
    "            if not creds.valid:\n",
    "                if creds.expired and creds.refresh_token:\n",
    "                    print('## Refresh token')\n",
    "                    creds.refresh(Request())\n",
    "                    tool_context.state[TOKEN_CACHE_KEY] = encrypt_token(creds.to_json())\n",
    "                else:\n",
    "                    creds = None\n",
    "                    tool_context.state[TOKEN_CACHE_KEY] = None\n",
    "\n",
    "        except Exception as e:\n",
    "            print(f'## Error loading/refreshing cached creds: {e}')\n",
    "            creds = None\n",
    "            tool_context.state[TOKEN_CACHE_KEY] = None\n",
    "\n",
    "    # If a credential is not available...,\n",
    "    if not (creds and creds.valid): \n",
    "        # Check if the user has sent an auth response to the agent.\n",
    "        exchanged_credential = tool_context.get_auth_response(AuthConfig(\n",
    "          auth_scheme=auth_scheme,\n",
    "          raw_auth_credential=auth_credential,\n",
    "        ))\n",
    "        # If not, retrun 'adk_request_credential' message as a function call.\n",
    "        if not exchanged_credential:\n",
    "            tool_context.request_credential(AuthConfig(\n",
    "                auth_scheme=auth_scheme,\n",
    "                raw_auth_credential=auth_credential,\n",
    "            ))\n",
    "            return None\n",
    "    \n",
    "        # Receive a new token using exchanged_credential that the user has sent.\n",
    "        access_token = exchanged_credential.oauth2.access_token\n",
    "        refresh_token = exchanged_credential.oauth2.refresh_token\n",
    "        creds = Credentials(\n",
    "            token=access_token,\n",
    "            refresh_token=refresh_token,\n",
    "            token_uri=auth_scheme.flows.authorizationCode.tokenUrl,\n",
    "            client_id=auth_credential.oauth2.client_id,\n",
    "            client_secret=auth_credential.oauth2.client_secret,\n",
    "            scopes=list(auth_scheme.flows.authorizationCode.scopes.keys()),\n",
    "        )        \n",
    "        tool_context.state[TOKEN_CACHE_KEY] = encrypt_token(creds.to_json())\n",
    "\n",
    "    # Now the token is stored in the session state.\n",
    "    # Recreate a credential with specified scopes.\n",
    "    cached_encripted_token = tool_context.state.get(TOKEN_CACHE_KEY)\n",
    "    token_info = json.loads(decrypt_token(cached_encripted_token))\n",
    "    creds = Credentials.from_authorized_user_info(token_info, scopes)  \n",
    "    return creds"
   ]
  },
  {
   "cell_type": "markdown",
   "id": "06dc593a-81d1-400b-a735-be5d62466caf",
   "metadata": {},
   "source": [
    "Function to check the 'adk_request_credential' message in events from an agent."
   ]
  },
  {
   "cell_type": "code",
   "execution_count": 38,
   "id": "04803472-9bda-4aa6-8e1a-7f923b1c9f5f",
   "metadata": {
    "tags": []
   },
   "outputs": [],
   "source": [
    "def check_pending_auth_event(event: Event) -> (str, AuthConfig):\n",
    "    if not (event.content and event.content.parts):\n",
    "        return None, None\n",
    "    for part in event.content.parts:\n",
    "        if not part.function_call:\n",
    "            continue\n",
    "        if part.function_call.name == 'adk_request_credential':\n",
    "            function_call_id = part.function_call.id\n",
    "            auth_config = AuthConfig(\n",
    "                **part.function_call.args.get('auth_config')\n",
    "            )\n",
    "            return function_call_id, auth_config\n",
    "    return None, None"
   ]
  },
  {
   "cell_type": "markdown",
   "id": "a7c31627-7835-479a-81e6-30b297deab18",
   "metadata": {
    "jp-MarkdownHeadingCollapsed": true,
    "tags": []
   },
   "source": [
    "## Tool function example that requries Google authentication"
   ]
  },
  {
   "cell_type": "code",
   "execution_count": 39,
   "id": "658f1d9c-c0db-478a-ba32-e0fd0601f85a",
   "metadata": {
    "tags": []
   },
   "outputs": [],
   "source": [
    "import datetime\n",
    "from googleapiclient.discovery import build\n",
    "from googleapiclient.errors import HttpError\n",
    "\n",
    "def my_authenticated_tool_function(tool_context: ToolContext) -> dict:\n",
    "    ''' Get upcoming events from Google Calendar '''\n",
    "\n",
    "    scopes = ['https://www.googleapis.com/auth/calendar']\n",
    "    # Get a credential using the helper function\n",
    "    creds = get_credential(tool_context, scopes) \n",
    "    # If a credential is not available, retrun a pending messsage.\n",
    "    if not creds:\n",
    "        return {'pending': True, 'message': 'Awaiting user authentication.'}\n",
    "    \n",
    "    try:\n",
    "        service = build('calendar', 'v3', credentials=creds)\n",
    "        now = datetime.datetime.now(datetime.timezone.utc).strftime('%Y-%m-%dT%H:%M:%S%z')\n",
    "        now = now[:-2] + ':' + now[-2:] # Format to include colon in timezone offset\n",
    "        events_result = (\n",
    "            service.events().list(\n",
    "                calendarId='primary',\n",
    "                timeMin=now,\n",
    "                maxResults=10,\n",
    "                singleEvents=True,\n",
    "                orderBy='startTime',\n",
    "            ).execute()\n",
    "        )\n",
    "        events = events_result.get('items', [])\n",
    "        return {'events': events}\n",
    "\n",
    "    except HttpError as error:\n",
    "        return {'error': error}"
   ]
  },
  {
   "cell_type": "markdown",
   "id": "af707542-c743-49fd-aac2-4f5b5a3f7fee",
   "metadata": {
    "jp-MarkdownHeadingCollapsed": true,
    "tags": []
   },
   "source": [
    "## Example use of an agent with the tool function"
   ]
  },
  {
   "cell_type": "markdown",
   "id": "e29bb242-862e-402a-84ae-7523b873bc90",
   "metadata": {},
   "source": [
    "Define an agent with my_authenticated_tool_function."
   ]
  },
  {
   "cell_type": "code",
   "execution_count": 40,
   "id": "28db9aa2-d518-4c0c-abbc-a411c2e47053",
   "metadata": {
    "tags": []
   },
   "outputs": [],
   "source": [
    "agent = LlmAgent(\n",
    "    model='gemini-2.0-flash-001',\n",
    "    name='upcoming_events',\n",
    "    description=(\n",
    "        'This agent gets upcoming events.'\n",
    "    ),\n",
    "    instruction='''\n",
    "If the user asks to get upcoming events, use my_authenticated_tool_function()\n",
    "Show the result in a human readable format using an ascii table.\n",
    "Headers are Summary, Start Time, End Time\n",
    "''',\n",
    "    tools=[\n",
    "        my_authenticated_tool_function\n",
    "    ],\n",
    ")"
   ]
  },
  {
   "cell_type": "markdown",
   "id": "fb310bdc-b986-4123-8519-a32c1032eb80",
   "metadata": {},
   "source": [
    "Function to emulate google login on the notebook."
   ]
  },
  {
   "cell_type": "code",
   "execution_count": 41,
   "id": "fa77bc21-0bc9-41f9-b313-70d7f2438cee",
   "metadata": {
    "tags": []
   },
   "outputs": [],
   "source": [
    "import asyncio\n",
    "\n",
    "async def auth_request(auth_request_event_id, auth_config):\n",
    "    redirect_uri = 'https://www.example.com'\n",
    "    auth_request_uri = (\n",
    "        auth_config.exchanged_auth_credential.oauth2.auth_uri\n",
    "        + f'&redirect_uri={redirect_uri}'\n",
    "    )\n",
    "    print('\\n--- User Action Required ---')\n",
    "    prompt = (\n",
    "      f'1. Please open this URL in your browser to log in:\\n   {auth_request_uri}\\n\\n'\n",
    "      f'2. After successful login and authorization, your browser will be redirected.\\n'\n",
    "      f'   Copy the *entire* URL from the browser\\'s address bar.\\n\\n'\n",
    "      f'3. Paste the copied URL here and press Enter:\\n\\n> '\n",
    "    )\n",
    "    loop = asyncio.get_event_loop()\n",
    "    auth_response_uri = await loop.run_in_executor(None, input, prompt)\n",
    "    auth_config.exchanged_auth_credential.oauth2.auth_response_uri = auth_response_uri\n",
    "    auth_config.exchanged_auth_credential.oauth2.redirect_uri = redirect_uri\n",
    "    auth_content = UserContent(\n",
    "      parts=[\n",
    "          Part(\n",
    "              function_response=FunctionResponse(\n",
    "                  id=auth_request_event_id,\n",
    "                  name='adk_request_credential',\n",
    "                  response=auth_config.model_dump(),\n",
    "              )\n",
    "          )\n",
    "      ],\n",
    "    )\n",
    "    return auth_content"
   ]
  },
  {
   "cell_type": "markdown",
   "id": "093eb018-eb11-4e4c-b92c-3543e1bf499a",
   "metadata": {},
   "source": [
    "Local chat application with a google login feature."
   ]
  },
  {
   "cell_type": "code",
   "execution_count": 42,
   "id": "0d9ad8e2-172d-4747-b224-ae3d24166182",
   "metadata": {
    "tags": []
   },
   "outputs": [],
   "source": [
    "async def local_app(user_id='user'):\n",
    "    runner = Runner(\n",
    "      app_name='my_app',\n",
    "      agent=agent,\n",
    "      artifact_service=InMemoryArtifactService(),\n",
    "      session_service=session_service,\n",
    "    )\n",
    "    \n",
    "    query = 'Get upcoming events.'\n",
    "    print(f'[user]\\n{query}')\n",
    "    content = UserContent(parts=[Part.from_text(text=query)])\n",
    "    \n",
    "    while content:\n",
    "        events_async = runner.run_async(\n",
    "            session_id=session.id, user_id=user_id, new_message=content\n",
    "        )\n",
    "        content = None\n",
    "        auth_request_event_id = None\n",
    "        async for event in events_async:\n",
    "            print(f'----\\n{event}\\n----')\n",
    "            if (event.content and event.content.parts):\n",
    "                response = '\\n'.join([p.text for p in event.content.parts if p.text])\n",
    "                if response:\n",
    "                    print(f'[agent]\\n{response}')\n",
    "            if not auth_request_event_id:\n",
    "                auth_request_event_id, auth_config = check_pending_auth_event(event)\n",
    "        \n",
    "        if auth_request_event_id:\n",
    "            print('--> Authentication required by agent.')\n",
    "            content = await auth_request(auth_request_event_id, auth_config)"
   ]
  },
  {
   "cell_type": "markdown",
   "id": "5f3db878-9c30-4f64-a169-6889b451a95c",
   "metadata": {
    "tags": []
   },
   "source": [
    "Store a session service in a global variable so that we can check the state contents before / after agent execution."
   ]
  },
  {
   "cell_type": "code",
   "execution_count": 45,
   "id": "7d96308b-051e-4ece-b804-80bcc3eea3fc",
   "metadata": {
    "tags": []
   },
   "outputs": [
    {
     "data": {
      "text/plain": [
       "{}"
      ]
     },
     "execution_count": 45,
     "metadata": {},
     "output_type": "execute_result"
    }
   ],
   "source": [
    "session_service = InMemorySessionService()\n",
    "session = session_service.create_session(\n",
    "    state={},\n",
    "    app_name='my_app',\n",
    "    user_id='user',\n",
    "    session_id='1'\n",
    ")\n",
    "\n",
    "# Confirm that the state is empty.\n",
    "session_service.get_session(\n",
    "    session_id='1', app_name='my_app', user_id='user'\n",
    ").state"
   ]
  },
  {
   "cell_type": "markdown",
   "id": "dcca6dbf-2238-4056-8266-5ac6ad1589fe",
   "metadata": {},
   "source": [
    "For the first run, authentication is required."
   ]
  },
  {
   "cell_type": "code",
   "execution_count": 46,
   "id": "d7be4512-fa46-454c-a175-97ebc1986084",
   "metadata": {
    "tags": []
   },
   "outputs": [
    {
     "name": "stdout",
     "output_type": "stream",
     "text": [
      "[user]\n",
      "Get upcoming events.\n"
     ]
    },
    {
     "name": "stderr",
     "output_type": "stream",
     "text": [
      "Warning: there are non-text parts in the response: ['function_call'],returning concatenated text result from text parts,check out the non text parts for full response from model.\n"
     ]
    },
    {
     "name": "stdout",
     "output_type": "stream",
     "text": [
      "----\n",
      "content=Content(parts=[Part(video_metadata=None, thought=None, code_execution_result=None, executable_code=None, file_data=None, function_call=FunctionCall(id='adk-66117524-10e4-4ef6-8ff2-10ddf9e59869', args={}, name='my_authenticated_tool_function'), function_response=None, inline_data=None, text=None)], role='model') grounding_metadata=None partial=None turn_complete=None error_code=None error_message=None interrupted=None custom_metadata=None invocation_id='e-139e0889-e49e-4b6f-90ae-42e3b771de37' author='upcoming_events' actions=EventActions(skip_summarization=None, state_delta={}, artifact_delta={}, transfer_to_agent=None, escalate=None, requested_auth_configs={}) long_running_tool_ids=set() branch=None id='a9uJ4jfM' timestamp=1745968093.572497\n",
      "----\n",
      "----\n",
      "content=Content(parts=[Part(video_metadata=None, thought=None, code_execution_result=None, executable_code=None, file_data=None, function_call=FunctionCall(id='adk-6f06a044-77e9-420d-a2cc-5e3df81b0ad0', args={'function_call_id': 'adk-66117524-10e4-4ef6-8ff2-10ddf9e59869', 'auth_config': {'auth_scheme': {'type_': <SecuritySchemeType.oauth2: 'oauth2'>, 'flows': {'authorizationCode': {'scopes': {'https://www.googleapis.com/auth/calendar': 'calendar scope'}, 'authorizationUrl': 'https://accounts.google.com/o/oauth2/auth', 'tokenUrl': 'https://oauth2.googleapis.com/token'}}}, 'raw_auth_credential': {'auth_type': <AuthCredentialTypes.OAUTH2: 'oauth2'>, 'oauth2': {'client_id': '__masked__.apps.googleusercontent.com', 'client_secret': '__masked__'}}, 'exchanged_auth_credential': {'auth_type': <AuthCredentialTypes.OAUTH2: 'oauth2'>, 'oauth2': {'client_id': '__masked__.apps.googleusercontent.com', 'client_secret': '__masked__', 'auth_uri': 'https://accounts.google.com/o/oauth2/auth?response_type=code&client_id=__masked__.apps.googleusercontent.com&scope=https%3A%2F%2Fwww.googleapis.com%2Fauth%2Fcalendar&state=yyXm3I7N7NudEPnfebQ7Nv99aCOWPe&access_type=offline&prompt=consent', 'state': 'yyXm3I7N7NudEPnfebQ7Nv99aCOWPe'}}}}, name='adk_request_credential'), function_response=None, inline_data=None, text=None)], role='user') grounding_metadata=None partial=None turn_complete=None error_code=None error_message=None interrupted=None custom_metadata=None invocation_id='e-139e0889-e49e-4b6f-90ae-42e3b771de37' author='upcoming_events' actions=EventActions(skip_summarization=None, state_delta={}, artifact_delta={}, transfer_to_agent=None, escalate=None, requested_auth_configs={}) long_running_tool_ids={'adk-6f06a044-77e9-420d-a2cc-5e3df81b0ad0'} branch=None id='JrXU1dkp' timestamp=1745968094.016995\n",
      "----\n",
      "----\n",
      "content=Content(parts=[Part(video_metadata=None, thought=None, code_execution_result=None, executable_code=None, file_data=None, function_call=None, function_response=FunctionResponse(id='adk-66117524-10e4-4ef6-8ff2-10ddf9e59869', name='my_authenticated_tool_function', response={'pending': True, 'message': 'Awaiting user authentication.'}), inline_data=None, text=None)], role='user') grounding_metadata=None partial=None turn_complete=None error_code=None error_message=None interrupted=None custom_metadata=None invocation_id='e-139e0889-e49e-4b6f-90ae-42e3b771de37' author='upcoming_events' actions=EventActions(skip_summarization=None, state_delta={}, artifact_delta={}, transfer_to_agent=None, escalate=None, requested_auth_configs={'adk-66117524-10e4-4ef6-8ff2-10ddf9e59869': AuthConfig(auth_scheme=OAuth2(type_=<SecuritySchemeType.oauth2: 'oauth2'>, description=None, flows=OAuthFlows(implicit=None, password=None, clientCredentials=None, authorizationCode=OAuthFlowAuthorizationCode(refreshUrl=None, scopes={'https://www.googleapis.com/auth/calendar': 'calendar scope'}, authorizationUrl='https://accounts.google.com/o/oauth2/auth', tokenUrl='https://oauth2.googleapis.com/token'))), raw_auth_credential=AuthCredential(auth_type=<AuthCredentialTypes.OAUTH2: 'oauth2'>, resource_ref=None, api_key=None, http=None, service_account=None, oauth2=OAuth2Auth(client_id='__masked__.apps.googleusercontent.com', client_secret='__masked__', auth_uri=None, state=None, redirect_uri=None, auth_response_uri=None, auth_code=None, access_token=None, refresh_token=None)), exchanged_auth_credential=AuthCredential(auth_type=<AuthCredentialTypes.OAUTH2: 'oauth2'>, resource_ref=None, api_key=None, http=None, service_account=None, oauth2=OAuth2Auth(client_id='__masked__.apps.googleusercontent.com', client_secret='__masked__', auth_uri='https://accounts.google.com/o/oauth2/auth?response_type=code&client_id=__masked__.apps.googleusercontent.com&scope=https%3A%2F%2Fwww.googleapis.com%2Fauth%2Fcalendar&state=yyXm3I7N7NudEPnfebQ7Nv99aCOWPe&access_type=offline&prompt=consent', state='yyXm3I7N7NudEPnfebQ7Nv99aCOWPe', redirect_uri=None, auth_response_uri=None, auth_code=None, access_token=None, refresh_token=None)))}) long_running_tool_ids=None branch=None id='VaEJKmA0' timestamp=1745968094.016724\n",
      "----\n",
      "----\n",
      "content=Content(parts=[Part(video_metadata=None, thought=None, code_execution_result=None, executable_code=None, file_data=None, function_call=None, function_response=None, inline_data=None, text='I need to authenticate to get your upcoming events. Please authenticate.\\n')], role='model') grounding_metadata=None partial=None turn_complete=None error_code=None error_message=None interrupted=None custom_metadata=None invocation_id='e-139e0889-e49e-4b6f-90ae-42e3b771de37' author='upcoming_events' actions=EventActions(skip_summarization=None, state_delta={}, artifact_delta={}, transfer_to_agent=None, escalate=None, requested_auth_configs={}) long_running_tool_ids=None branch=None id='y1EQCPa7' timestamp=1745968094.020476\n",
      "----\n",
      "[agent]\n",
      "I need to authenticate to get your upcoming events. Please authenticate.\n",
      "\n",
      "--> Authentication required by agent.\n",
      "\n",
      "--- User Action Required ---\n"
     ]
    },
    {
     "name": "stdin",
     "output_type": "stream",
     "text": [
      "1. Please open this URL in your browser to log in:\n",
      "   https://accounts.google.com/o/oauth2/auth?response_type=code&client_id=__masked__.apps.googleusercontent.com&scope=https%3A%2F%2Fwww.googleapis.com%2Fauth%2Fcalendar&state=yyXm3I7N7NudEPnfebQ7Nv99aCOWPe&access_type=offline&prompt=consent&redirect_uri=https://www.example.com\n",
      "\n",
      "2. After successful login and authorization, your browser will be redirected.\n",
      "   Copy the *entire* URL from the browser's address bar.\n",
      "\n",
      "3. Paste the copied URL here and press Enter:\n",
      "\n",
      ">  https://www.example.com/?state=yyXm3I7N7NudEPnfebQ7Nv99aCOWPe&code=4/0Ab_5qlkgPbsoTQlKqJ74MvAowVy7RlVWy_-Lo4uv8KqpHf7-Qb4sEiHbKPpFhWhSjRpHHw&scope=https://www.googleapis.com/auth/calendar\n"
     ]
    },
    {
     "name": "stdout",
     "output_type": "stream",
     "text": [
      "----\n",
      "content=Content(parts=[Part(video_metadata=None, thought=None, code_execution_result=None, executable_code=None, file_data=None, function_call=None, function_response=FunctionResponse(id='adk-66117524-10e4-4ef6-8ff2-10ddf9e59869', name='my_authenticated_tool_function', response={'events': [{'kind': 'calendar#event', 'etag': '\"3491933258751198\"', 'id': '6tug384egghr21dscl5q57uttc', 'status': 'confirmed', 'htmlLink': 'https://www.google.com/calendar/event?eid=NnR1ZzM4NGVnZ2hyMjFkc2NsNXE1N3V0dGMgYWRtaW5AZW5ha2FpLmFsdG9zdHJhdC5jb20', 'created': '2025-04-27T03:00:09.000Z', 'updated': '2025-04-29T22:43:49.375Z', 'summary': 'Lunch meeting with hiroki', 'creator': {'email': 'admin@enakai.altostrat.com', 'self': True}, 'organizer': {'email': 'admin@enakai.altostrat.com', 'self': True}, 'start': {'dateTime': '2025-05-01T12:00:00+09:00', 'timeZone': 'Asia/Tokyo'}, 'end': {'dateTime': '2025-05-01T14:00:00+09:00', 'timeZone': 'Asia/Tokyo'}, 'iCalUID': '6tug384egghr21dscl5q57uttc@google.com', 'sequence': 1, 'attendees': [{'email': 'admin@enakai.altostrat.com', 'organizer': True, 'self': True, 'responseStatus': 'accepted'}, {'email': 'hiroki@example.com', 'responseStatus': 'needsAction'}], 'hangoutLink': 'https://meet.google.com/abb-gase-mav', 'conferenceData': {'entryPoints': [{'entryPointType': 'video', 'uri': 'https://meet.google.com/abb-gase-mav', 'label': 'meet.google.com/abb-gase-mav'}, {'entryPointType': 'more', 'uri': 'https://tel.meet/abb-gase-mav?pin=5174342645520', 'pin': '5174342645520'}, {'regionCode': 'JP', 'entryPointType': 'phone', 'uri': 'tel:+81-3-4545-0450', 'label': '+81 3-4545-0450', 'pin': '5174342645520'}], 'conferenceSolution': {'key': {'type': 'hangoutsMeet'}, 'name': 'Google Meet', 'iconUri': 'https://fonts.gstatic.com/s/i/productlogos/meet_2020q4/v6/web-512dp/logo_meet_2020q4_color_2x_web_512dp.png'}, 'conferenceId': 'abb-gase-mav'}, 'reminders': {'useDefault': True}, 'eventType': 'default'}, {'kind': 'calendar#event', 'etag': '\"3491933291343550\"', 'id': '46doeerdnovm9anq1vt77hnl9k', 'status': 'confirmed', 'htmlLink': 'https://www.google.com/calendar/event?eid=NDZkb2VlcmRub3ZtOWFucTF2dDc3aG5sOWsgYWRtaW5AZW5ha2FpLmFsdG9zdHJhdC5jb20', 'created': '2025-04-28T03:57:27.000Z', 'updated': '2025-04-29T22:44:05.671Z', 'summary': 'quick sync on agentspace', 'creator': {'email': 'admin@enakai.altostrat.com', 'self': True}, 'organizer': {'email': 'admin@enakai.altostrat.com', 'self': True}, 'start': {'dateTime': '2025-05-02T16:00:00+09:00', 'timeZone': 'Asia/Tokyo'}, 'end': {'dateTime': '2025-05-02T16:30:00+09:00', 'timeZone': 'Asia/Tokyo'}, 'iCalUID': '46doeerdnovm9anq1vt77hnl9k@google.com', 'sequence': 1, 'attendees': [{'email': 'tanaka@example.com', 'responseStatus': 'needsAction'}], 'reminders': {'useDefault': True}, 'eventType': 'default'}, {'kind': 'calendar#event', 'etag': '\"3491933311566750\"', 'id': '03iadvdnn6p4austpdfubfs282', 'status': 'confirmed', 'htmlLink': 'https://www.google.com/calendar/event?eid=MDNpYWR2ZG5uNnA0YXVzdHBkZnViZnMyODIgYWRtaW5AZW5ha2FpLmFsdG9zdHJhdC5jb20', 'created': '2025-04-27T03:01:23.000Z', 'updated': '2025-04-29T22:44:15.783Z', 'summary': 'Family dinner', 'creator': {'email': 'admin@enakai.altostrat.com', 'self': True}, 'organizer': {'email': 'admin@enakai.altostrat.com', 'self': True}, 'start': {'dateTime': '2025-05-02T19:00:00+09:00', 'timeZone': 'Asia/Tokyo'}, 'end': {'dateTime': '2025-05-02T22:15:00+09:00', 'timeZone': 'Asia/Tokyo'}, 'iCalUID': '03iadvdnn6p4austpdfubfs282@google.com', 'sequence': 1, 'attendees': [{'email': 'admin@enakai.altostrat.com', 'organizer': True, 'self': True, 'responseStatus': 'accepted'}, {'email': 'alice@example.com', 'responseStatus': 'needsAction'}], 'hangoutLink': 'https://meet.google.com/qgu-stfe-qgm', 'conferenceData': {'entryPoints': [{'entryPointType': 'video', 'uri': 'https://meet.google.com/qgu-stfe-qgm', 'label': 'meet.google.com/qgu-stfe-qgm'}, {'entryPointType': 'more', 'uri': 'https://tel.meet/qgu-stfe-qgm?pin=8146367439608', 'pin': '8146367439608'}, {'regionCode': 'JP', 'entryPointType': 'phone', 'uri': 'tel:+81-3-4545-0450', 'label': '+81 3-4545-0450', 'pin': '8146367439608'}], 'conferenceSolution': {'key': {'type': 'hangoutsMeet'}, 'name': 'Google Meet', 'iconUri': 'https://fonts.gstatic.com/s/i/productlogos/meet_2020q4/v6/web-512dp/logo_meet_2020q4_color_2x_web_512dp.png'}, 'conferenceId': 'qgu-stfe-qgm'}, 'reminders': {'useDefault': True}, 'eventType': 'default'}]}), inline_data=None, text=None)], role='user') grounding_metadata=None partial=None turn_complete=None error_code=None error_message=None interrupted=None custom_metadata=None invocation_id='e-e79c68b0-d63c-4091-8844-888b1b78851c' author='upcoming_events' actions=EventActions(skip_summarization=None, state_delta={'encripted_token': 'gAAAAABoEVvvRCHqfPc_TEygrV2pG4CEdveKURAOQF0e9JBUqCxbL0CCOChLklfsvN8t31fnMOkk4pHwBOHVr0uRsxqvk9iwNPrwkFK9at03bma8ZpNQuPDk_NQhwKeWYSh2lFONa2egaTZkuxMV5Iyz46p1hAwR2FhGDqC7AMQ8AIgSPHPju54rGFUb2vC77PpyZHQ9dQ65zlUBXvL_nQ1jBC8zFHttR5urUu34YIn8HKiZOkPK50YB5Rxke5V3-JFX-9CGwqk7qURxtwVmEcC0T7WbmYS5UpXjpKQ0wsL_a2GRyUKgGJAb4vP8RHYzZNQRoBUQp6o5-H3f6rBHBc9tpwQozFyF8GehRLzZNjoYWE_eGv-EcXosy2rutlgXvdjSnRlqhHtAUNoIywGVML9_T2_ZoaNHPC0xseav1lbvffycNyYeMt9mt7l6BZgNIP1P_mM9_05ReI_xq2wMQ26gn8uHkY2joa93Ozq5cxBls9q8XVK2r5tXon2MLM7eag6hr6tbse0bpbskywdNN-ZwVhtQYsghC3mBXaufgmLlbl8flTck6xuECvlmYm2fmkdQjPDH3VnJoNjNkaf4RV9bVZsXpUY7yNMosdZJcT0USF7c7JFrhT2Xdepm3xNF4LKVjftWovUKq04dQpcSGWeVt3ZtzNs9Ta4Uu-XZSZz_DMY-3P_KTXNgCKcos2PglVFkWnuXmFxJMtqmwmLsSTqvL3r2H01HxY7weX1n4cNehX8VN1VUsFQCIRS5ex1v8Z7hZ14ri_YY-EC_TC5CYRF6HKOpblbZNFBxm0Mn85mGWxfUv6Ta-qXrQnT1WhxVWEaASlA_f1ZudiMZ-555g6j9phyhbuthk1niKBQke7nTzigSMAsrhZMMhW6_TamZpFOWamHVgVRuNm1Q2463F7dLt3v6D1xXkSugRbmBR11hh-NZh-H6-VY-GLXwJlliiOvIdmieEHIx'}, artifact_delta={}, transfer_to_agent=None, escalate=None, requested_auth_configs={}) long_running_tool_ids=None branch=None id='lSYLApaU' timestamp=1745968111.747011\n",
      "----\n",
      "----\n",
      "content=Content(parts=[Part(video_metadata=None, thought=None, code_execution_result=None, executable_code=None, file_data=None, function_call=None, function_response=None, inline_data=None, text='Upcoming Events:\\n\\n| Summary                   | Start Time                 | End Time                   |\\n| ------------------------- | -------------------------- | -------------------------- |\\n| Lunch meeting with hiroki | 2025-05-01T12:00:00+09:00 | 2025-05-01T14:00:00+09:00 |\\n| quick sync on agentspace  | 2025-05-02T16:00:00+09:00 | 2025-05-02T16:30:00+09:00 |\\n| Family dinner             | 2025-05-02T19:00:00+09:00 | 2025-05-02T22:15:00+09:00 |')], role='model') grounding_metadata=None partial=None turn_complete=None error_code=None error_message=None interrupted=None custom_metadata=None invocation_id='e-e79c68b0-d63c-4091-8844-888b1b78851c' author='upcoming_events' actions=EventActions(skip_summarization=None, state_delta={}, artifact_delta={}, transfer_to_agent=None, escalate=None, requested_auth_configs={}) long_running_tool_ids=None branch=None id='0DEzva2J' timestamp=1745968111.748519\n",
      "----\n",
      "[agent]\n",
      "Upcoming Events:\n",
      "\n",
      "| Summary                   | Start Time                 | End Time                   |\n",
      "| ------------------------- | -------------------------- | -------------------------- |\n",
      "| Lunch meeting with hiroki | 2025-05-01T12:00:00+09:00 | 2025-05-01T14:00:00+09:00 |\n",
      "| quick sync on agentspace  | 2025-05-02T16:00:00+09:00 | 2025-05-02T16:30:00+09:00 |\n",
      "| Family dinner             | 2025-05-02T19:00:00+09:00 | 2025-05-02T22:15:00+09:00 |\n"
     ]
    }
   ],
   "source": [
    "await local_app()"
   ]
  },
  {
   "cell_type": "markdown",
   "id": "6ba4a449-1ba3-4253-8272-ab319fed2965",
   "metadata": {},
   "source": [
    "Ecnrypted token is stored in the session state."
   ]
  },
  {
   "cell_type": "code",
   "execution_count": 47,
   "id": "a91c7b49-713b-43aa-bc0b-899afac82fce",
   "metadata": {
    "tags": []
   },
   "outputs": [
    {
     "data": {
      "text/plain": [
       "{'encripted_token': 'gAAAAABoEVvvRCHqfPc_TEygrV2pG4CEdveKURAOQF0e9JBUqCxbL0CCOChLklfsvN8t31fnMOkk4pHwBOHVr0uRsxqvk9iwNPrwkFK9at03bma8ZpNQuPDk_NQhwKeWYSh2lFONa2egaTZkuxMV5Iyz46p1hAwR2FhGDqC7AMQ8AIgSPHPju54rGFUb2vC77PpyZHQ9dQ65zlUBXvL_nQ1jBC8zFHttR5urUu34YIn8HKiZOkPK50YB5Rxke5V3-JFX-9CGwqk7qURxtwVmEcC0T7WbmYS5UpXjpKQ0wsL_a2GRyUKgGJAb4vP8RHYzZNQRoBUQp6o5-H3f6rBHBc9tpwQozFyF8GehRLzZNjoYWE_eGv-EcXosy2rutlgXvdjSnRlqhHtAUNoIywGVML9_T2_ZoaNHPC0xseav1lbvffycNyYeMt9mt7l6BZgNIP1P_mM9_05ReI_xq2wMQ26gn8uHkY2joa93Ozq5cxBls9q8XVK2r5tXon2MLM7eag6hr6tbse0bpbskywdNN-ZwVhtQYsghC3mBXaufgmLlbl8flTck6xuECvlmYm2fmkdQjPDH3VnJoNjNkaf4RV9bVZsXpUY7yNMosdZJcT0USF7c7JFrhT2Xdepm3xNF4LKVjftWovUKq04dQpcSGWeVt3ZtzNs9Ta4Uu-XZSZz_DMY-3P_KTXNgCKcos2PglVFkWnuXmFxJMtqmwmLsSTqvL3r2H01HxY7weX1n4cNehX8VN1VUsFQCIRS5ex1v8Z7hZ14ri_YY-EC_TC5CYRF6HKOpblbZNFBxm0Mn85mGWxfUv6Ta-qXrQnT1WhxVWEaASlA_f1ZudiMZ-555g6j9phyhbuthk1niKBQke7nTzigSMAsrhZMMhW6_TamZpFOWamHVgVRuNm1Q2463F7dLt3v6D1xXkSugRbmBR11hh-NZh-H6-VY-GLXwJlliiOvIdmieEHIx'}"
      ]
     },
     "execution_count": 47,
     "metadata": {},
     "output_type": "execute_result"
    }
   ],
   "source": [
    "session_service.get_session(\n",
    "    session_id='1', app_name='my_app', user_id='user'\n",
    ").state"
   ]
  },
  {
   "cell_type": "markdown",
   "id": "f5eae38c-c4d1-4a3c-887a-43af52968090",
   "metadata": {},
   "source": [
    "For the second run, no authtication is required."
   ]
  },
  {
   "cell_type": "code",
   "execution_count": 48,
   "id": "58ec0966-4eeb-48c8-8884-635e98d23af3",
   "metadata": {
    "tags": []
   },
   "outputs": [
    {
     "name": "stdout",
     "output_type": "stream",
     "text": [
      "[user]\n",
      "Get upcoming events.\n"
     ]
    },
    {
     "name": "stderr",
     "output_type": "stream",
     "text": [
      "Warning: there are non-text parts in the response: ['function_call'],returning concatenated text result from text parts,check out the non text parts for full response from model.\n"
     ]
    },
    {
     "name": "stdout",
     "output_type": "stream",
     "text": [
      "----\n",
      "content=Content(parts=[Part(video_metadata=None, thought=None, code_execution_result=None, executable_code=None, file_data=None, function_call=FunctionCall(id='adk-40a413f0-e0d2-4821-83b9-e5fd26b3e71f', args={}, name='my_authenticated_tool_function'), function_response=None, inline_data=None, text=None)], role='model') grounding_metadata=None partial=None turn_complete=None error_code=None error_message=None interrupted=None custom_metadata=None invocation_id='e-5475ad72-b2e7-4a28-b7c0-f5409a67af5e' author='upcoming_events' actions=EventActions(skip_summarization=None, state_delta={}, artifact_delta={}, transfer_to_agent=None, escalate=None, requested_auth_configs={}) long_running_tool_ids=set() branch=None id='3ZATM76s' timestamp=1745968118.039159\n",
      "----\n",
      "## Refresh token\n",
      "----\n",
      "content=Content(parts=[Part(video_metadata=None, thought=None, code_execution_result=None, executable_code=None, file_data=None, function_call=None, function_response=FunctionResponse(id='adk-40a413f0-e0d2-4821-83b9-e5fd26b3e71f', name='my_authenticated_tool_function', response={'events': [{'kind': 'calendar#event', 'etag': '\"3491933258751198\"', 'id': '6tug384egghr21dscl5q57uttc', 'status': 'confirmed', 'htmlLink': 'https://www.google.com/calendar/event?eid=NnR1ZzM4NGVnZ2hyMjFkc2NsNXE1N3V0dGMgYWRtaW5AZW5ha2FpLmFsdG9zdHJhdC5jb20', 'created': '2025-04-27T03:00:09.000Z', 'updated': '2025-04-29T22:43:49.375Z', 'summary': 'Lunch meeting with hiroki', 'creator': {'email': 'admin@enakai.altostrat.com', 'self': True}, 'organizer': {'email': 'admin@enakai.altostrat.com', 'self': True}, 'start': {'dateTime': '2025-05-01T12:00:00+09:00', 'timeZone': 'Asia/Tokyo'}, 'end': {'dateTime': '2025-05-01T14:00:00+09:00', 'timeZone': 'Asia/Tokyo'}, 'iCalUID': '6tug384egghr21dscl5q57uttc@google.com', 'sequence': 1, 'attendees': [{'email': 'admin@enakai.altostrat.com', 'organizer': True, 'self': True, 'responseStatus': 'accepted'}, {'email': 'hiroki@example.com', 'responseStatus': 'needsAction'}], 'hangoutLink': 'https://meet.google.com/abb-gase-mav', 'conferenceData': {'entryPoints': [{'entryPointType': 'video', 'uri': 'https://meet.google.com/abb-gase-mav', 'label': 'meet.google.com/abb-gase-mav'}, {'entryPointType': 'more', 'uri': 'https://tel.meet/abb-gase-mav?pin=5174342645520', 'pin': '5174342645520'}, {'regionCode': 'JP', 'entryPointType': 'phone', 'uri': 'tel:+81-3-4545-0450', 'label': '+81 3-4545-0450', 'pin': '5174342645520'}], 'conferenceSolution': {'key': {'type': 'hangoutsMeet'}, 'name': 'Google Meet', 'iconUri': 'https://fonts.gstatic.com/s/i/productlogos/meet_2020q4/v6/web-512dp/logo_meet_2020q4_color_2x_web_512dp.png'}, 'conferenceId': 'abb-gase-mav'}, 'reminders': {'useDefault': True}, 'eventType': 'default'}, {'kind': 'calendar#event', 'etag': '\"3491933291343550\"', 'id': '46doeerdnovm9anq1vt77hnl9k', 'status': 'confirmed', 'htmlLink': 'https://www.google.com/calendar/event?eid=NDZkb2VlcmRub3ZtOWFucTF2dDc3aG5sOWsgYWRtaW5AZW5ha2FpLmFsdG9zdHJhdC5jb20', 'created': '2025-04-28T03:57:27.000Z', 'updated': '2025-04-29T22:44:05.671Z', 'summary': 'quick sync on agentspace', 'creator': {'email': 'admin@enakai.altostrat.com', 'self': True}, 'organizer': {'email': 'admin@enakai.altostrat.com', 'self': True}, 'start': {'dateTime': '2025-05-02T16:00:00+09:00', 'timeZone': 'Asia/Tokyo'}, 'end': {'dateTime': '2025-05-02T16:30:00+09:00', 'timeZone': 'Asia/Tokyo'}, 'iCalUID': '46doeerdnovm9anq1vt77hnl9k@google.com', 'sequence': 1, 'attendees': [{'email': 'tanaka@example.com', 'responseStatus': 'needsAction'}], 'reminders': {'useDefault': True}, 'eventType': 'default'}, {'kind': 'calendar#event', 'etag': '\"3491933311566750\"', 'id': '03iadvdnn6p4austpdfubfs282', 'status': 'confirmed', 'htmlLink': 'https://www.google.com/calendar/event?eid=MDNpYWR2ZG5uNnA0YXVzdHBkZnViZnMyODIgYWRtaW5AZW5ha2FpLmFsdG9zdHJhdC5jb20', 'created': '2025-04-27T03:01:23.000Z', 'updated': '2025-04-29T22:44:15.783Z', 'summary': 'Family dinner', 'creator': {'email': 'admin@enakai.altostrat.com', 'self': True}, 'organizer': {'email': 'admin@enakai.altostrat.com', 'self': True}, 'start': {'dateTime': '2025-05-02T19:00:00+09:00', 'timeZone': 'Asia/Tokyo'}, 'end': {'dateTime': '2025-05-02T22:15:00+09:00', 'timeZone': 'Asia/Tokyo'}, 'iCalUID': '03iadvdnn6p4austpdfubfs282@google.com', 'sequence': 1, 'attendees': [{'email': 'admin@enakai.altostrat.com', 'organizer': True, 'self': True, 'responseStatus': 'accepted'}, {'email': 'alice@example.com', 'responseStatus': 'needsAction'}], 'hangoutLink': 'https://meet.google.com/qgu-stfe-qgm', 'conferenceData': {'entryPoints': [{'entryPointType': 'video', 'uri': 'https://meet.google.com/qgu-stfe-qgm', 'label': 'meet.google.com/qgu-stfe-qgm'}, {'entryPointType': 'more', 'uri': 'https://tel.meet/qgu-stfe-qgm?pin=8146367439608', 'pin': '8146367439608'}, {'regionCode': 'JP', 'entryPointType': 'phone', 'uri': 'tel:+81-3-4545-0450', 'label': '+81 3-4545-0450', 'pin': '8146367439608'}], 'conferenceSolution': {'key': {'type': 'hangoutsMeet'}, 'name': 'Google Meet', 'iconUri': 'https://fonts.gstatic.com/s/i/productlogos/meet_2020q4/v6/web-512dp/logo_meet_2020q4_color_2x_web_512dp.png'}, 'conferenceId': 'qgu-stfe-qgm'}, 'reminders': {'useDefault': True}, 'eventType': 'default'}]}), inline_data=None, text=None)], role='user') grounding_metadata=None partial=None turn_complete=None error_code=None error_message=None interrupted=None custom_metadata=None invocation_id='e-5475ad72-b2e7-4a28-b7c0-f5409a67af5e' author='upcoming_events' actions=EventActions(skip_summarization=None, state_delta={'encripted_token': 'gAAAAABoEVv2fUQzI3t8WvhWHgvMCH4b0rt_32RFB_rA-9aqcciGATqprDAK6UTtiEBS6SC-ECu_wBTy9zbv-laHL3CXvgBlLFUfeI4foMtO6cQic2fYx7GWiqNs7H3-F1eyT2zn1hdlXvsblpLJy3YqUX9HphQ-0HPYq8yaZnSh6JUrTDQTfUjt3T_WSdMDTw2xYuq62vd5DWqoDcc_NLIZW7ABuOhFjNywOssTy53e-5vMlLCEnn6ze1O2NzArsCTTa0HiCmQPMTF4DVlSqRfA2IG9zI97AhDUtqQF8qEo7EEn-z31LuyzX7mpUVDNF4HRFMLqImiAucysJwcVmZkrFOBYFw6qxbEjTxy_tZQRkiUyQnB79JxNaFypvk13w7id9XVzwYHbiasHswy6AshkhKe_JhFSw21PJs5q03bFet0T78scWyctRiGd3QkJXcqYtD_jLqypKVcP2skH4_OB-2fW3w50tIPHogFIU_0wJpGePlKgQnIPjibPRaZO9WSb9VMQ-w_Pa0MauZHdCKxkRYlHAkSUpShShRAc9YeMlZiBbshkv5dkB5oogvBIl8Ugsc2Baz1lWnDBQZRygPk79t6df_6owTqCpfpyIXNlzBKJV5cty_YEM9RmUWcxNME5115TclFlJ1H56ykegIhcrPxLtA9N6stnLHx4Mmgid-qYzu4QXfL1Oo_PvIH_9xa5zJg27l6Us92xPduVZxygnvqpaNtCYI1A6UT67lI21QeWqq63DklEz9_InEgosz1AVgNCCCG9YvFWl7uB79LI1JQmGygmT-REuzmK1vIfiJlWpFB_HvUzC_eBxw47cPBBeaJgoZsSvlI_0aHRdEMq8H5HJFL2TBMZ6SwD9UBLUHwKOnwJdtcGnNyJRwd6MTEIzsCfY8V5mEaMb__whQ0IrvRlq39K8PwGg_2TTvEeX-fwkVudj5Zn39OpHYKWzVP-S40pKP4KxqCC1HCzSOyL_NbgIbkoiLe6zt7sNoP7OO56OigCmJT83dJiB6hy2ArCZUyTgrpl'}, artifact_delta={}, transfer_to_agent=None, escalate=None, requested_auth_configs={}) long_running_tool_ids=None branch=None id='I3yTnWQN' timestamp=1745968119.002225\n",
      "----\n",
      "----\n",
      "content=Content(parts=[Part(video_metadata=None, thought=None, code_execution_result=None, executable_code=None, file_data=None, function_call=None, function_response=None, inline_data=None, text='Here are your upcoming events:\\n\\n| Summary                   | Start Time                 | End Time                   |\\n| ------------------------- | -------------------------- | -------------------------- |\\n| Lunch meeting with hiroki | 2025-05-01T12:00:00+09:00 | 2025-05-01T14:00:00+09:00 |\\n| quick sync on agentspace  | 2025-05-02T16:00:00+09:00 | 2025-05-02T16:30:00+09:00 |\\n| Family dinner             | 2025-05-02T19:00:00+09:00 | 2025-05-02T22:15:00+09:00 |')], role='model') grounding_metadata=None partial=None turn_complete=None error_code=None error_message=None interrupted=None custom_metadata=None invocation_id='e-5475ad72-b2e7-4a28-b7c0-f5409a67af5e' author='upcoming_events' actions=EventActions(skip_summarization=None, state_delta={}, artifact_delta={}, transfer_to_agent=None, escalate=None, requested_auth_configs={}) long_running_tool_ids=None branch=None id='xCeicDnD' timestamp=1745968119.005175\n",
      "----\n",
      "[agent]\n",
      "Here are your upcoming events:\n",
      "\n",
      "| Summary                   | Start Time                 | End Time                   |\n",
      "| ------------------------- | -------------------------- | -------------------------- |\n",
      "| Lunch meeting with hiroki | 2025-05-01T12:00:00+09:00 | 2025-05-01T14:00:00+09:00 |\n",
      "| quick sync on agentspace  | 2025-05-02T16:00:00+09:00 | 2025-05-02T16:30:00+09:00 |\n",
      "| Family dinner             | 2025-05-02T19:00:00+09:00 | 2025-05-02T22:15:00+09:00 |\n"
     ]
    }
   ],
   "source": [
    "await local_app()"
   ]
  }
 ],
 "metadata": {
  "environment": {
   "kernel": "conda-base-py",
   "name": "workbench-notebooks.m129",
   "type": "gcloud",
   "uri": "us-docker.pkg.dev/deeplearning-platform-release/gcr.io/workbench-notebooks:m129"
  },
  "kernelspec": {
   "display_name": "Python 3 (ipykernel) (Local) (Local)",
   "language": "python",
   "name": "conda-base-py"
  },
  "language_info": {
   "codemirror_mode": {
    "name": "ipython",
    "version": 3
   },
   "file_extension": ".py",
   "mimetype": "text/x-python",
   "name": "python",
   "nbconvert_exporter": "python",
   "pygments_lexer": "ipython3",
   "version": "3.10.16"
  }
 },
 "nbformat": 4,
 "nbformat_minor": 5
}
